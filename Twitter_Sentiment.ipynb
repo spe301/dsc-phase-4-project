{
  "nbformat": 4,
  "nbformat_minor": 0,
  "metadata": {
    "accelerator": "GPU",
    "colab": {
      "name": "Twitter_Sentiment.ipynb",
      "provenance": [],
      "collapsed_sections": [],
      "toc_visible": true,
      "include_colab_link": true
    },
    "kernelspec": {
      "display_name": "Python 3",
      "name": "python3"
    }
  },
  "cells": [
    {
      "cell_type": "markdown",
      "metadata": {
        "id": "view-in-github",
        "colab_type": "text"
      },
      "source": [
        "<a href=\"https://colab.research.google.com/github/spe301/dsc-phase-4-project/blob/main/Twitter_Sentiment.ipynb\" target=\"_parent\"><img src=\"https://colab.research.google.com/assets/colab-badge.svg\" alt=\"Open In Colab\"/></a>"
      ]
    },
    {
      "cell_type": "markdown",
      "metadata": {
        "id": "K-SayP3GrV4H"
      },
      "source": [
        "# Overview\n"
      ]
    },
    {
      "cell_type": "markdown",
      "metadata": {
        "id": "SLDVlwu3J4Rx"
      },
      "source": [
        "When Apple and other tech companies release products such as the IPhone and IPad, it is important for their product development teams are aware of the public opinion. Understanding the public opinion is valuable because it can help these companies understand what the public thinks of certain features of their products or their entire product as a whole. Smartphones are a great example of when general public understanding is valuable because they are bought by the general public rather than a niche market. Sentiment Analysis is a great way to apply Machine Learning to this situation. In Sentiment Analysis a computer is able to classify text such as a comment, tweet, or customer review as having a positive, negative, or neutral sentiment towards the topic the text has been written about. For this project I used a dataset of 9,000 tweets mostly about iphones, ipads, and google.\r\n",
        "\r\n"
      ]
    },
    {
      "cell_type": "markdown",
      "metadata": {
        "id": "AM7zUYHSogT-"
      },
      "source": [
        "\n",
        "- Spencer Holley\n",
        "- aacjpw@gmail.com\n",
        "- https://github.com/spe301/dsc-phase-4-project\n"
      ]
    },
    {
      "cell_type": "markdown",
      "metadata": {
        "id": "1IYQ0WGOn99f"
      },
      "source": [
        "# Use cases for Twitter Sentiment Analysis"
      ]
    },
    {
      "cell_type": "markdown",
      "metadata": {
        "id": "kvXEi27qoAtA"
      },
      "source": [
        "\n",
        "*  Assesing public opinions on a company's products  \n",
        "*  Assesing public opinions on an event\n",
        "\n"
      ]
    },
    {
      "cell_type": "markdown",
      "metadata": {
        "id": "fW9AyJiiomeG"
      },
      "source": [
        "# OBTAIN"
      ]
    },
    {
      "cell_type": "markdown",
      "metadata": {
        "id": "qVfcUfv7oqQF"
      },
      "source": [
        "Data is available directly from the repo."
      ]
    },
    {
      "cell_type": "code",
      "metadata": {
        "id": "thNMHllJDeii"
      },
      "source": [
        "import pandas as pd\n",
        "df = pd.read_csv('https://raw.githubusercontent.com/spe301/dsc-phase-4-project/main/data/judge-1377884607_tweet_product_company.csv',\n",
        "                 engine='python',encoding='latin-1')"
      ],
      "execution_count": 1,
      "outputs": []
    },
    {
      "cell_type": "code",
      "metadata": {
        "id": "lO-Wvb-IEhFT"
      },
      "source": [
        "#dropping row 6 as there's no tweet in that row and dropping all rows where sentiment is \"I can't tell\"\n",
        "df = df.drop(6)\n",
        "df = df.loc[df['is_there_an_emotion_directed_at_a_brand_or_product'] != \"I can't tell\"]"
      ],
      "execution_count": 2,
      "outputs": []
    },
    {
      "cell_type": "markdown",
      "metadata": {
        "id": "Fhdiwz9SovJI"
      },
      "source": [
        "# Scrubbing/Preprocessing"
      ]
    },
    {
      "cell_type": "code",
      "metadata": {
        "id": "xe0Nsr0WTAeS"
      },
      "source": [
        "#stripping punctuation\r\n",
        "ix = list(df.index)\r\n",
        "clean = []\r\n",
        "for i in range(len(ix)):\r\n",
        "  clean.append(df['tweet_text'][ix[i]].replace('.@', '').replace('.', '').replace('!', '').replace('@', '').replace('?', '').replace(':', '')\r\n",
        "  .replace(',', '').replace(';', '').lower())\r\n",
        "\r\n",
        "df['tweet'] = clean"
      ],
      "execution_count": 3,
      "outputs": []
    },
    {
      "cell_type": "markdown",
      "metadata": {
        "id": "9INvEo05o0JF"
      },
      "source": [
        "## classes `DataHelper` and `DeepLearning`"
      ]
    },
    {
      "cell_type": "code",
      "metadata": {
        "id": "0jfMSv1qEjI3",
        "colab": {
          "base_uri": "https://localhost:8080/"
        },
        "outputId": "f2f11f2c-9948-4538-c2fa-4ad2bee11107"
      },
      "source": [
        "from keras.preprocessing.text import Tokenizer\n",
        "from keras.preprocessing.sequence import pad_sequences\n",
        "from keras import models, layers\n",
        "from sklearn.preprocessing import OneHotEncoder\n",
        "import numpy as np\n",
        "from matplotlib import pyplot as plt\n",
        "from math import log\n",
        "from keras.regularizers import  L2, l1\n",
        "from keras.callbacks import EarlyStopping, ModelCheckpoint\n",
        "from keras.wrappers.scikit_learn import KerasClassifier, KerasRegressor\n",
        "from sklearn.model_selection import train_test_split\n",
        "from sklearn.model_selection import GridSearchCV\n",
        "import pandas as pd\n",
        "import numpy as np\n",
        "from sklearn.svm import SVC, SVR\n",
        "from sklearn.linear_model import LogisticRegression, LinearRegression\n",
        "from sklearn.neighbors import  KNeighborsClassifier, KNeighborsRegressor\n",
        "from sklearn.naive_bayes import GaussianNB, MultinomialNB\n",
        "from sklearn.tree import DecisionTreeClassifier, DecisionTreeRegressor, plot_tree\n",
        "from sklearn.ensemble import RandomForestClassifier, RandomForestRegressor, AdaBoostClassifier, AdaBoostRegressor, GradientBoostingClassifier, GradientBoostingRegressor\n",
        "from sklearn.model_selection import GridSearchCV, train_test_split\n",
        "from sklearn.metrics import confusion_matrix, roc_curve, auc, plot_confusion_matrix\n",
        "from sklearn.preprocessing import StandardScaler, MinMaxScaler\n",
        "from imblearn.over_sampling import SMOTE\n",
        "from sklearn.pipeline import Pipeline\n",
        "from sklearn.datasets import load_iris\n",
        "from xgboost import XGBClassifier, XGBRegressor\n",
        "from matplotlib import pyplot as plt\n",
        "from sklearn.feature_selection import SelectKBest\n",
        "from statsmodels.stats.outliers_influence import variance_inflation_factor\n",
        "from sklearn.metrics import  confusion_matrix\n",
        "import seaborn as sns\n",
        "\n",
        "class MachineLearning:\n",
        "    \n",
        "    def CompareClassifiers(self, X, y):\n",
        "        '''Compares the accuracy all sklearn classification algorithims'''\n",
        "        X_train, X_test, y_train, y_test = train_test_split(X, y, test_size=0.25)\n",
        "        n = len(np.unique(y))\n",
        "        if n == 2:\n",
        "            methods = [KNeighborsClassifier(), GaussianNB(), DecisionTreeClassifier(), RandomForestClassifier(),\n",
        "                      AdaBoostClassifier(), GradientBoostingClassifier(), XGBClassifier(), LogisticRegression(),\n",
        "                      SVC()]\n",
        "            strs = ['KNN', 'NB', 'DT', 'RF', 'AB', 'GB', 'XGB', 'Log', 'SVM']\n",
        "        else:\n",
        "            methods = [KNeighborsClassifier(), DecisionTreeClassifier(), RandomForestClassifier(),\n",
        "                       AdaBoostClassifier(), GradientBoostingClassifier(), XGBClassifier(), SVC()]\n",
        "            strs = ['KNN', 'DT', 'RF', 'AB', 'GB', 'XGB', 'SVM']\n",
        "        train_acc = []\n",
        "        test_acc = []\n",
        "        for i in range(len(methods)):\n",
        "            clf = methods[i].fit(X_train, y_train)\n",
        "            train_acc.append(clf.score(X_train, y_train))\n",
        "            test_acc.append(clf.score(X_test, y_test))\n",
        "        c1 = pd.DataFrame(strs)\n",
        "        c2 = pd.DataFrame(train_acc)\n",
        "        c3 = pd.DataFrame(test_acc)\n",
        "        results = pd.concat([c1, c2, c3], axis='columns')\n",
        "        results.columns = ['Model', 'train_acc', 'test_acc']\n",
        "        return results\n",
        "    \n",
        "    def CompareRegressors(self, X, y):\n",
        "        '''Compares the accuracy all sklearn regression algorithims'''\n",
        "        X_train, X_test, y_train, y_test = train_test_split(X, y, test_size=0.25)\n",
        "        n = len(np.unique(y))\n",
        "        methods = [LinearRegression(), KNeighborsRegressor(), DecisionTreeRegressor(), RandomForestRegressor(),\n",
        "                       AdaBoostRegressor(), GradientBoostingRegressor(), XGBRegressor(), SVR()]\n",
        "        strs = ['Lin', 'KNN', 'DT', 'RF', 'AB', 'GB', 'XGB', 'SVM']\n",
        "        train_acc = []\n",
        "        test_acc = []\n",
        "        for i in range(len(methods)):\n",
        "            reg = methods[i].fit(X_train, y_train)\n",
        "            train_acc.append(reg.score(X_train, y_train))\n",
        "            test_acc.append(reg.score(X_test, y_test))\n",
        "        c1 = pd.DataFrame(strs)\n",
        "        c2 = pd.DataFrame(train_acc)\n",
        "        c3 = pd.DataFrame(test_acc)\n",
        "        results = pd.concat([c1, c2, c3], axis='columns')\n",
        "        results.columns = ['Model', 'train_acc', 'test_acc']\n",
        "        return results\n",
        "    \n",
        "    def Optimize(self, model, parameters, X, y, metric='accuracy'):\n",
        "        '''wraps the GridSearchCV into a simple one liner, one line plus the parameter grid'''\n",
        "        try:\n",
        "            X_train, X_test, y_train, y_test = train_test_split(X, y, test_size=0.25)\n",
        "            return GridSearchCV(model, parameters, cv=5, scoring=metric, n_jobs=-1, verbose=2).fit(X_train, y_train).best_estimator_\n",
        "        except:\n",
        "            return GridSearchCV(model, parameters, cv=5, n_jobs=-1, verbose=2).fit(X_train, y_train).best_estimator_\n",
        "        \n",
        "    def PipeIt(self, scaler, model, X, y):\n",
        "        '''simplified version of sklearn's pipeline function'''\n",
        "        X_train, X_test, y_train, y_test = train_test_split(X, y, test_size=0.25)\n",
        "        pipe = Pipeline([('scaler', scaler), ('model', model)]).fit(X_train, y_train)\n",
        "        return \"Training: {}, Validation: {}\".format(pipe.score(X_train, y_train), pipe.score(X_test, y_test))\n",
        "   \n",
        "class Evaluater:\n",
        "    \n",
        "    def ScoreModel(self, model, X, y):\n",
        "        '''scores a sklearn model'''\n",
        "        X_train, X_test, y_train, y_test = train_test_split(X, y, test_size=0.25)\n",
        "        algo = model.fit(X_train, y_train)\n",
        "        return 'Training: {}, Validation: {}'.format(algo.score(X_train, y_train), algo.score(X_test, y_test))\n",
        "    \n",
        "    def BuildConfusion(self, fitted_model,  Xval, yval, cmap='plasma', normalize=\"true\"):\n",
        "        '''spits out a confusion matrix'''\n",
        "        cm = plot_confusion_matrix(fitted_model, Xval, yval, cmap=cmap, normalize=normalize)\n",
        "        return cm\n",
        "\n",
        "    def BuildTree(self, tree):\n",
        "        '''visulization for decision trees'''\n",
        "        try:\n",
        "            return plot_tree(tree)\n",
        "        except:\n",
        "            return 'Please pass a tree class'\n",
        "    \n",
        "    def GetCoefficients(self, model, X, y):\n",
        "        try:\n",
        "            X_train, X_test, y_train, y_test = train_test_split(X, y, test_size=0.25)\n",
        "            model.fit(X_train, y_train)\n",
        "            return 'coefficients: {}'.format(model.coef_)\n",
        "        except:\n",
        "            return 'Please pass LinearRegression, LogisticRegression, or an SVM with a linear kernel'\n",
        "        \n",
        "    def GetImportance(self, model, X, y):\n",
        "        X_train, X_test, y_train, y_test = train_test_split(X, y, test_size=0.25)\n",
        "        model.fit(X_train, y_train)\n",
        "        try:\n",
        "            FI = model.feature_importances_\n",
        "            n_features = X_train.shape[1]\n",
        "            plt.figure(figsize=(8,8))\n",
        "            plt.barh(range(n_features), FI, align='center') \n",
        "            plt.yticks(np.arange(n_features), X_train.columns.values) \n",
        "            plt.xlabel('Feature importance')\n",
        "            plt.ylabel('Feature')\n",
        "        except:\n",
        "            return 'Please pass an ensemble class'\n",
        "        \n",
        "    def AUC(self, model, Xval, yval):\n",
        "        pred = model.predict(Xval)\n",
        "        fpr, tpr, threshold = roc_curve(yval, pred)\n",
        "        return auc(fpr, tpr)\n",
        "\n",
        "    def BuildConfusionDL(model, X, y, normalize='true'):\n",
        "      yhat = []\n",
        "      yreal = []\n",
        "      for i in range(len(X)):\n",
        "        pred = model.predict(X[i])\n",
        "        prediction = int(pred.argmax()/len(pred))\n",
        "        yhat.append(prediction)\n",
        "      yreal.append(y[i].argmax())\n",
        "      cm = confusion_matrix(yreal, yhat, normalize=normalize)\n",
        "      plot = sns.heatmap(cm, annot=True);\n",
        "      return plot\n",
        "\n",
        "class DataHelper:\n",
        "\n",
        "    def ScaleData(self, strategy, y_var, data):\n",
        "        X = data.drop([y_var], axis='columns')\n",
        "        if strategy == 'minmax':\n",
        "            return MinMaxScaler().fit(X).transform(X)\n",
        "        if strategy == 'standard':\n",
        "            return StandardScaler().fit(X).transform(X)\n",
        "        if strategy == 'mean':\n",
        "            for col in X.columns:\n",
        "                X[col] = (X[col] - min(X[col]))/ (max(X[col]) - min(X[col]))\n",
        "            return X\n",
        "        \n",
        "    def HoldOut(self, data):\n",
        "        train, test = train_test_split(data, test_size=0.1)\n",
        "        return train, test\n",
        "    \n",
        "    def MakeNewDF(self, X, y, k):\n",
        "        selector = SelectKBest(k=k).fit(X, y)\n",
        "        mask = selector.get_support()\n",
        "        selected = []\n",
        "        for i in range(len(mask)):\n",
        "            if mask[i] == True:\n",
        "                selected.append(X.columns[i])\n",
        "        df = pd.DataFrame(selector.transform(X))\n",
        "        df.columns = selected\n",
        "        return df\n",
        "    \n",
        "    def VifIt(self, X):\n",
        "        vif = pd.Series([variance_inflation_factor(X.values, i) \n",
        "               for i in range(X.shape[1])], \n",
        "              index=X.columns)\n",
        "        return vif\n",
        "\n",
        "    def MulticlassOutput(self, df, col):\n",
        "      '''output preprocessing'''\n",
        "      enc = OneHotEncoder()\n",
        "      y = np.array(df[col]).reshape(-1, 1)\n",
        "      oh = enc.fit_transform(y).toarray()\n",
        "      return oh\n",
        "\n",
        "\n",
        "    def ModelReadyText1(self, df, Xcol, ycol, pad):\n",
        "      '''converts tweets into tokenized sequences'''\n",
        "      text = list(df[Xcol])\n",
        "      t = Tokenizer()\n",
        "      t.fit_on_texts(text)\n",
        "      tokens = t.texts_to_sequences(text)\n",
        "      tokens2 = pad_sequences(tokens, maxlen=pad)\n",
        "      dh = DataHelper()\n",
        "      y = dh.MulticlassOutput(df, ycol)\n",
        "      return tokens2, y\n",
        "\n",
        "    def ModelReadyText2(self, df, Xcol, ycol, num_words):\n",
        "      '''converts tweets into one-hot-encoded vectors'''\n",
        "      dh = DataHelper()\n",
        "      text = list(df[Xcol])\n",
        "      t = Tokenizer(num_words=num_words)\n",
        "      t.fit_on_texts(text)\n",
        "      oh = t.texts_to_matrix(text)\n",
        "      y = dh.MulticlassOutput(df, ycol)\n",
        "      return oh, y\n",
        "\n",
        "    def ViewAccuracy(self, history, epochs):\n",
        "      '''plots a model's accuracy throughout training'''\n",
        "      plt.plot(range(epochs), history.history['accuracy'], label='train');\n",
        "      plt.plot(range(epochs), history.history['val_accuracy'], label='val');\n",
        "      plt.legend(loc='best')\n",
        "      plt.xlabel('epochs')\n",
        "      plt.ylabel('accuracy')\n",
        "      return None\n",
        "\n",
        "\n",
        "    def ViewLoss(self, history, epochs):\n",
        "      '''plots a model's loss throughout training'''\n",
        "      plt.plot(range(epochs), history.history['loss'], label='train');\n",
        "      plt.plot(range(epochs), history.history['val_loss'], label='val');\n",
        "      plt.legend(loc='best')\n",
        "      plt.xlabel('epochs')\n",
        "      plt.ylabel('loss')\n",
        "      return None\n",
        "\n",
        "    def BuildConfusionDL(self, model, X, y, normalize='true'):\n",
        "      yhat = []\n",
        "      yreal = []\n",
        "      for i in range(len(X)):\n",
        "        pred = model.predict(X[i])\n",
        "        prediction = int(pred.argmax()/len(pred))\n",
        "        yhat.append(prediction)\n",
        "      yreal.append(y[i].argmax())\n",
        "      cm = confusion_matrix(yreal, yhat, normalize=normalize)\n",
        "      plot = sns.heatmap(cm, annot=True);\n",
        "      return plot\n",
        "\n",
        "class DeepLearning:\n",
        "\n",
        "  def Powers(self, n):\n",
        "    '''help the model building functions determine nlayers'''\n",
        "    k = int(log(n, 2))\n",
        "    return k\n",
        "\n",
        "  def Sparsity(self, x):\n",
        "    '''help the model building function know when to use 'sparse_categorical_crossentropy' as loss function'''\n",
        "    df = pd.DataFrame(x[0])\n",
        "    df.columns = ['val']\n",
        "    df2 = df.loc[df['val'] == 0]\n",
        "    return len(df)*0.9 <= len(df2)\n",
        "\n",
        "  def FeedForward(self, nodes, activation, optimizer, dropout, regularizer, inp, nclasses):\n",
        "    '''builds a simple neural net with only Dense Layers'''\n",
        "    dl = DeepLearning()\n",
        "    if nclasses > 16:\n",
        "      pen = nclasses*2\n",
        "    else:\n",
        "      pen = 16\n",
        "    if nclasses == 2:\n",
        "      oa = 'sigmoid'\n",
        "      loss = 'binary_crossentropy'\n",
        "    else:\n",
        "      oa = 'softmax'\n",
        "      if dl.Sparsity(X) == False:\n",
        "        loss = 'categorical_crossentropy'\n",
        "      else:\n",
        "        loss = 'sparse_categorical_crossentropy'\n",
        "    model = models.Sequential()\n",
        "    if regularizer == None:\n",
        "      model.add(layers.Dense(nodes, activation=activation, input_shape=(inp,)))\n",
        "    if regularizer == 'L1':\n",
        "      model.add(layers.Dense(nodes, activation=activation, input_shape=(inp,), kernel_regularizer=l1(0.005)))\n",
        "    if regularizer == 'L2':\n",
        "      model.add(layers.Dense(nodes, activation=activation, input_shape=(inp,), kernel_regularizer=L2(0.005)))\n",
        "    if dropout == True:\n",
        "      model.add(layers.Dropout(0.5))\n",
        "    p = dl.Powers(nodes)\n",
        "    for i in range(p):\n",
        "      nodes /= 2\n",
        "      nodes = int(nodes)\n",
        "      if nodes > 16:\n",
        "        if nodes > nclasses:\n",
        "          model.add(layers.Dense(nodes, activation=activation))\n",
        "    model.add(layers.Dense(pen, activation=activation))\n",
        "    model.add(layers.Dense(nclasses, activation=oa))\n",
        "    model.compile(optimizer=optimizer, loss=loss, metrics=['accuracy'])\n",
        "    return model\n",
        "\n",
        "  def RNN(self, nodes, activation, optimizer, dropout, regularizer, method, stacking, inp, nclasses):\n",
        "    '''builds a neural network with LSTM or GRU layer(s)'''\n",
        "    dl = DeepLearning()\n",
        "    if nclasses > 16:\n",
        "      pen = nclasses*2\n",
        "    else:\n",
        "      pen = 16\n",
        "    if nclasses == 2:\n",
        "      oa = 'sigmoid'\n",
        "      loss = 'binary_crossentropy'\n",
        "    else:\n",
        "      oa = 'softmax'\n",
        "      if dl.Sparsity(X) == False:\n",
        "        loss = 'categorical_crossentropy'\n",
        "      else:\n",
        "        loss = 'sparse_categorical_crossentropy'  \n",
        "    model = models.Sequential()\n",
        "    model.add(layers.Embedding(inp, nodes))\n",
        "    if method == 'LSTM':\n",
        "      if regularizer == None:\n",
        "        model.add(layers.LSTM(nodes, activation=activation, return_sequences=stacking))\n",
        "      if regularizer == 'L1':\n",
        "        model.add(layers.LSTM(nodes, activation=activation, kernel_regularizer=l1(0.005), return_sequences=stacking))\n",
        "      if regularizer == 'L2':\n",
        "        model.add(layers.LSTM(nodes, activation=activation, kernel_regularizer=L2(0.005), return_sequences=stacking))\n",
        "    if method == 'GRU':\n",
        "      if regularizer == None:\n",
        "        model.add(layers.GRU(nodes, activation=activation, return_sequences=stacking))\n",
        "      if regularizer == 'L1':\n",
        "        model.add(layers.GRU(nodes, activation=activation, kernel_regularizer=l1(0.005), return_sequences=stacking))\n",
        "      if regularizer == 'L2':\n",
        "        model.add(layers.GRU(nodes, activation=activation, kernel_regularizer=L2(0.005), return_sequences=stacking))\n",
        "    if dropout == True:\n",
        "      model.add(layers.Dropout(0.5))\n",
        "    dl = DeepLearning()\n",
        "    if stacking == True:\n",
        "      nodes = nodes//2\n",
        "      if method == 'LSTM':\n",
        "        model.add(layers.LSTM(nodes, activation=activation))\n",
        "      else:\n",
        "        model.add(layers.GRU(nodes, activation=activation))\n",
        "    p = dl.Powers(nodes)\n",
        "    for i in range(p):\n",
        "      nodes /= 2\n",
        "      nodes = int(nodes)\n",
        "      if nodes > 16:\n",
        "        if nodes > nclasses:\n",
        "          model.add(layers.Dense(nodes, activation=activation))\n",
        "    model.add(layers.Dense(pen, activation=activation))\n",
        "    model.add(layers.Dense(nclasses, activation=oa))\n",
        "    model.compile(optimizer=optimizer, loss=loss, metrics=['accuracy'])\n",
        "    return model\n",
        "\n",
        "  def TestDL(self, params, func, task, X, y, X_val=None, y_val=None, batch_size=64, epochs=50):\n",
        "    '''wraps the keras wrapper functions and GridSearchCV into a simple one liner, one line plus the parameter grid'''\n",
        "    early_stopping = [EarlyStopping(patience=10), ModelCheckpoint(filepath='model.{epoch:02d}-{val_loss:.2f}.h5')]\n",
        "    if task == 'classification':\n",
        "      k = KerasClassifier(func)\n",
        "    if task == 'regression':\n",
        "      k = KerasRegressor(func)\n",
        "    grid = GridSearchCV(k, params, cv=3)\n",
        "    if type(X_val) != np.ndarray:\n",
        "      grid.fit(X, y, batch_size=batch_size, epochs=epochs, validation_split=0.2)\n",
        "    else:\n",
        "      grid.fit(X, y, batch_size=batch_size, epochs=epochs, validation_data=(X_val, y_val), callbacks=early_stopping)\n",
        "    return grid"
      ],
      "execution_count": 4,
      "outputs": [
        {
          "output_type": "stream",
          "text": [
            "/usr/local/lib/python3.6/dist-packages/sklearn/externals/six.py:31: FutureWarning: The module is deprecated in version 0.21 and will be removed in version 0.23 since we've dropped support for Python 2.7. Please rely on the official version of six (https://pypi.org/project/six/).\n",
            "  \"(https://pypi.org/project/six/).\", FutureWarning)\n",
            "/usr/local/lib/python3.6/dist-packages/sklearn/utils/deprecation.py:144: FutureWarning: The sklearn.neighbors.base module is  deprecated in version 0.22 and will be removed in version 0.24. The corresponding classes / functions should instead be imported from sklearn.neighbors. Anything that cannot be imported from sklearn.neighbors is now part of the private API.\n",
            "  warnings.warn(message, FutureWarning)\n",
            "/usr/local/lib/python3.6/dist-packages/statsmodels/tools/_testing.py:19: FutureWarning: pandas.util.testing is deprecated. Use the functions in the public API at pandas.testing instead.\n",
            "  import pandas.util.testing as tm\n"
          ],
          "name": "stderr"
        }
      ]
    },
    {
      "cell_type": "code",
      "metadata": {
        "id": "8ySZL71-vP-Q"
      },
      "source": [
        "def BuildConfusionDL(model, X, y, normalize='true'):\r\n",
        "  yhat = []\r\n",
        "  yreal = []\r\n",
        "  for i in range(len(X)):\r\n",
        "    pred = model.predict(X[i])\r\n",
        "    prediction = int(pred.argmax()/len(pred))\r\n",
        "    yhat.append(prediction)\r\n",
        "    yreal.append(y[i].argmax())\r\n",
        "  cm = confusion_matrix(yreal, yhat, normalize=normalize)\r\n",
        "  plot = sns.heatmap(cm, annot=True);\r\n",
        "  return plot"
      ],
      "execution_count": 5,
      "outputs": []
    },
    {
      "cell_type": "code",
      "metadata": {
        "id": "A-YJyFvW1bbX"
      },
      "source": [
        "dh = DataHelper()\n",
        "dl = DeepLearning()\n",
        "ml = MachineLearning()\n",
        "ev = Evaluater()\n",
        "\n",
        "X, y = dh.ModelReadyText1(df, 'tweet', 'is_there_an_emotion_directed_at_a_brand_or_product', pad=33)\n",
        "X_train, X_test, y_train, y_test = train_test_split(X, y, test_size=0.1)"
      ],
      "execution_count": 6,
      "outputs": []
    },
    {
      "cell_type": "markdown",
      "metadata": {
        "id": "B12DNBFio37c"
      },
      "source": [
        "# MODELING"
      ]
    },
    {
      "cell_type": "markdown",
      "metadata": {
        "id": "tH7UUYUno4zF"
      },
      "source": [
        "## Bidirectional LSTM"
      ]
    },
    {
      "cell_type": "code",
      "metadata": {
        "colab": {
          "base_uri": "https://localhost:8080/"
        },
        "id": "q5sxxQwpAJic",
        "outputId": "5d3b0d6d-5c7f-4a9a-a13d-6a32ebad9b87"
      },
      "source": [
        "def Bidirectional(vocab, nodes, output, optimizer, metrics, activation):\r\n",
        "  if output == 1:\r\n",
        "    oa = 'linear'\r\n",
        "    loss = 'mse'\r\n",
        "  if output == 2:\r\n",
        "    oa = 'sigmoid'\r\n",
        "    loss = 'binary_crossentropy'\r\n",
        "  else:\r\n",
        "    oa = 'softmax'\r\n",
        "    loss = 'categorical_crossentropy'\r\n",
        "  model = models.Sequential()\r\n",
        "  model.add(layers.Embedding(vocab, nodes)) \r\n",
        "  model.add(layers.Bidirectional(layers.LSTM(nodes))) \r\n",
        "  model.add(layers.Dense(nodes/2, activation=activation))\r\n",
        "  model.add(layers.Dense(nodes/4, activation=activation))\r\n",
        "  model.add(layers.Dense(output, activation=oa))\r\n",
        "  model.compile(optimizer=optimizer, loss=loss, metrics=metrics)\r\n",
        "  return model\r\n",
        "\r\n",
        "B = Bidirectional(12500, 64, 3, 'adam', ['accuracy'], 'relu')\r\n",
        "early_stopping = [EarlyStopping(patience=10), ModelCheckpoint(filepath='model.{epoch:02d}-{val_loss:.2f}.h5')]\r\n",
        "B.summary()\r\n",
        "history = B.fit(X_train, y_train, batch_size=64, epochs=50, callbacks=early_stopping, validation_split=0.2)"
      ],
      "execution_count": 7,
      "outputs": [
        {
          "output_type": "stream",
          "text": [
            "Model: \"sequential\"\n",
            "_________________________________________________________________\n",
            "Layer (type)                 Output Shape              Param #   \n",
            "=================================================================\n",
            "embedding (Embedding)        (None, None, 64)          800000    \n",
            "_________________________________________________________________\n",
            "bidirectional (Bidirectional (None, 128)               66048     \n",
            "_________________________________________________________________\n",
            "dense (Dense)                (None, 32)                4128      \n",
            "_________________________________________________________________\n",
            "dense_1 (Dense)              (None, 16)                528       \n",
            "_________________________________________________________________\n",
            "dense_2 (Dense)              (None, 3)                 51        \n",
            "=================================================================\n",
            "Total params: 870,755\n",
            "Trainable params: 870,755\n",
            "Non-trainable params: 0\n",
            "_________________________________________________________________\n",
            "Epoch 1/50\n",
            "101/101 [==============================] - 7s 25ms/step - loss: 0.9406 - accuracy: 0.5735 - val_loss: 0.7707 - val_accuracy: 0.6352\n",
            "Epoch 2/50\n",
            "101/101 [==============================] - 2s 16ms/step - loss: 0.6917 - accuracy: 0.6866 - val_loss: 0.7536 - val_accuracy: 0.6582\n",
            "Epoch 3/50\n",
            "101/101 [==============================] - 2s 16ms/step - loss: 0.4943 - accuracy: 0.8004 - val_loss: 0.8054 - val_accuracy: 0.6663\n",
            "Epoch 4/50\n",
            "101/101 [==============================] - 2s 16ms/step - loss: 0.3375 - accuracy: 0.8693 - val_loss: 0.8828 - val_accuracy: 0.6395\n",
            "Epoch 5/50\n",
            "101/101 [==============================] - 2s 16ms/step - loss: 0.2554 - accuracy: 0.8995 - val_loss: 0.9319 - val_accuracy: 0.6538\n",
            "Epoch 6/50\n",
            "101/101 [==============================] - 2s 16ms/step - loss: 0.2070 - accuracy: 0.9157 - val_loss: 0.9731 - val_accuracy: 0.6414\n",
            "Epoch 7/50\n",
            "101/101 [==============================] - 2s 18ms/step - loss: 0.1831 - accuracy: 0.9239 - val_loss: 0.9788 - val_accuracy: 0.6507\n",
            "Epoch 8/50\n",
            "101/101 [==============================] - 2s 16ms/step - loss: 0.1793 - accuracy: 0.9317 - val_loss: 1.1760 - val_accuracy: 0.6495\n",
            "Epoch 9/50\n",
            "101/101 [==============================] - 2s 16ms/step - loss: 0.1440 - accuracy: 0.9405 - val_loss: 1.2107 - val_accuracy: 0.6513\n",
            "Epoch 10/50\n",
            "101/101 [==============================] - 2s 16ms/step - loss: 0.1355 - accuracy: 0.9423 - val_loss: 1.3460 - val_accuracy: 0.6457\n",
            "Epoch 11/50\n",
            "101/101 [==============================] - 2s 16ms/step - loss: 0.1271 - accuracy: 0.9418 - val_loss: 1.2958 - val_accuracy: 0.6588\n",
            "Epoch 12/50\n",
            "101/101 [==============================] - 2s 16ms/step - loss: 0.1241 - accuracy: 0.9427 - val_loss: 1.5006 - val_accuracy: 0.6401\n"
          ],
          "name": "stdout"
        }
      ]
    },
    {
      "cell_type": "code",
      "metadata": {
        "colab": {
          "base_uri": "https://localhost:8080/",
          "height": 281
        },
        "id": "hX3qu1FTu2gJ",
        "outputId": "a10bf850-d258-4794-f64d-0f9ad7d8e50c"
      },
      "source": [
        "dh.ViewAccuracy(history, 12)"
      ],
      "execution_count": 8,
      "outputs": [
        {
          "output_type": "display_data",
          "data": {
            "image/png": "[encoded data removed]",
            "text/plain": [
              "<Figure size 432x288 with 1 Axes>"
            ]
          },
          "metadata": {
            "tags": [],
            "needs_background": "light"
          }
        }
      ]
    },
    {
      "cell_type": "code",
      "metadata": {
        "colab": {
          "base_uri": "https://localhost:8080/",
          "height": 279
        },
        "id": "I3IcSvhavI57",
        "outputId": "8c1ac005-9821-43dd-b4a5-18401bf4d06c"
      },
      "source": [
        "dh.ViewLoss(history, 12)"
      ],
      "execution_count": 9,
      "outputs": [
        {
          "output_type": "display_data",
          "data": {
            "image/png": "[encoded data removed]",
            "text/plain": [
              "<Figure size 432x288 with 1 Axes>"
            ]
          },
          "metadata": {
            "tags": [],
            "needs_background": "light"
          }
        }
      ]
    },
    {
      "cell_type": "code",
      "metadata": {
        "colab": {
          "base_uri": "https://localhost:8080/",
          "height": 284
        },
        "id": "6VG979PE4AIh",
        "outputId": "809aa854-53de-42d3-fec1-8900478eae95"
      },
      "source": [
        "BuildConfusionDL(B, X_test, y_test)"
      ],
      "execution_count": 10,
      "outputs": [
        {
          "output_type": "execute_result",
          "data": {
            "text/plain": [
              "<matplotlib.axes._subplots.AxesSubplot at 0x7f590a8c05c0>"
            ]
          },
          "metadata": {
            "tags": []
          },
          "execution_count": 10
        },
        {
          "output_type": "display_data",
          "data": {
            "image/png": "[encoded data removed]",
            "text/plain": [
              "<Figure size 432x288 with 2 Axes>"
            ]
          },
          "metadata": {
            "tags": [],
            "needs_background": "light"
          }
        }
      ]
    },
    {
      "cell_type": "markdown",
      "metadata": {
        "id": "gQICiMvVrjL4"
      },
      "source": [
        "### Bidirectional LSTM Gridsearch"
      ]
    },
    {
      "cell_type": "code",
      "metadata": {
        "colab": {
          "base_uri": "https://localhost:8080/"
        },
        "id": "NOBN48GwDYBC",
        "outputId": "02c7cde2-4356-4b75-abe4-23a24f0de22a"
      },
      "source": [
        "params = {'nodes': [50, 64, 128, 256], 'activation': ['relu', 'tanh'], 'optimizer': ['rmsprop', 'adam'], 'metrics': ['accuracy'], 'vocab': [12500], 'output': [3]}\r\n",
        "\r\n",
        "X_t, X_val, y_t, y_val = train_test_split(X_train, y_train, test_size=0.2)\r\n",
        "grid = dl.TestDL(params, Bidirectional, 'classification', X_train, y_train, X_val=X_val, y_val=y_val)"
      ],
      "execution_count": 11,
      "outputs": [
        {
          "output_type": "stream",
          "text": [
            "Epoch 1/50\n",
            "84/84 [==============================] - 5s 21ms/step - loss: 0.9503 - accuracy: 0.5693 - val_loss: 0.8087 - val_accuracy: 0.5991\n",
            "Epoch 2/50\n",
            "84/84 [==============================] - 1s 13ms/step - loss: 0.7739 - accuracy: 0.6404 - val_loss: 0.7032 - val_accuracy: 0.6955\n",
            "Epoch 3/50\n",
            "84/84 [==============================] - 1s 13ms/step - loss: 0.6553 - accuracy: 0.7103 - val_loss: 0.6349 - val_accuracy: 0.7265\n",
            "Epoch 4/50\n",
            "84/84 [==============================] - 1s 13ms/step - loss: 0.5337 - accuracy: 0.7722 - val_loss: 0.5605 - val_accuracy: 0.7620\n",
            "Epoch 5/50\n",
            "84/84 [==============================] - 1s 13ms/step - loss: 0.4659 - accuracy: 0.8212 - val_loss: 0.5289 - val_accuracy: 0.7912\n",
            "Epoch 6/50\n",
            "84/84 [==============================] - 1s 14ms/step - loss: 0.3933 - accuracy: 0.8439 - val_loss: 0.5241 - val_accuracy: 0.7850\n",
            "Epoch 7/50\n",
            "84/84 [==============================] - 1s 13ms/step - loss: 0.3376 - accuracy: 0.8690 - val_loss: 0.5097 - val_accuracy: 0.7862\n",
            "Epoch 8/50\n",
            "84/84 [==============================] - 1s 13ms/step - loss: 0.3164 - accuracy: 0.8814 - val_loss: 0.5214 - val_accuracy: 0.8235\n",
            "Epoch 9/50\n",
            "84/84 [==============================] - 1s 13ms/step - loss: 0.3081 - accuracy: 0.8798 - val_loss: 0.4698 - val_accuracy: 0.8191\n",
            "Epoch 10/50\n",
            "84/84 [==============================] - 1s 13ms/step - loss: 0.2661 - accuracy: 0.8970 - val_loss: 0.4977 - val_accuracy: 0.8191\n",
            "Epoch 11/50\n",
            "84/84 [==============================] - 1s 13ms/step - loss: 0.2588 - accuracy: 0.9007 - val_loss: 0.4611 - val_accuracy: 0.8235\n",
            "Epoch 12/50\n",
            "84/84 [==============================] - 1s 13ms/step - loss: 0.2327 - accuracy: 0.9133 - val_loss: 0.4863 - val_accuracy: 0.8241\n",
            "Epoch 13/50\n",
            "84/84 [==============================] - 1s 13ms/step - loss: 0.2179 - accuracy: 0.9171 - val_loss: 0.4848 - val_accuracy: 0.8403\n",
            "Epoch 14/50\n",
            "84/84 [==============================] - 1s 13ms/step - loss: 0.2075 - accuracy: 0.9191 - val_loss: 0.5419 - val_accuracy: 0.8353\n",
            "Epoch 15/50\n",
            "84/84 [==============================] - 1s 13ms/step - loss: 0.2063 - accuracy: 0.9169 - val_loss: 0.5177 - val_accuracy: 0.8409\n",
            "Epoch 16/50\n",
            "84/84 [==============================] - 1s 13ms/step - loss: 0.2050 - accuracy: 0.9166 - val_loss: 0.5530 - val_accuracy: 0.8428\n",
            "Epoch 17/50\n",
            "84/84 [==============================] - 1s 13ms/step - loss: 0.1761 - accuracy: 0.9352 - val_loss: 0.6280 - val_accuracy: 0.8241\n",
            "Epoch 18/50\n",
            "84/84 [==============================] - 1s 13ms/step - loss: 0.1721 - accuracy: 0.9284 - val_loss: 0.5531 - val_accuracy: 0.8403\n",
            "Epoch 19/50\n",
            "84/84 [==============================] - 1s 13ms/step - loss: 0.1642 - accuracy: 0.9358 - val_loss: 0.5646 - val_accuracy: 0.8359\n",
            "Epoch 20/50\n",
            "84/84 [==============================] - 1s 13ms/step - loss: 0.1573 - accuracy: 0.9348 - val_loss: 0.5056 - val_accuracy: 0.8465\n",
            "Epoch 21/50\n",
            "84/84 [==============================] - 1s 13ms/step - loss: 0.1401 - accuracy: 0.9383 - val_loss: 0.5801 - val_accuracy: 0.8502\n",
            "84/84 [==============================] - 1s 5ms/step - loss: 1.4389 - accuracy: 0.6665\n",
            "Epoch 1/50\n",
            "84/84 [==============================] - 4s 21ms/step - loss: 0.8941 - accuracy: 0.5906 - val_loss: 0.7936 - val_accuracy: 0.5991\n",
            "Epoch 2/50\n",
            "84/84 [==============================] - 1s 13ms/step - loss: 0.7475 - accuracy: 0.6327 - val_loss: 0.7286 - val_accuracy: 0.6669\n",
            "Epoch 3/50\n",
            "84/84 [==============================] - 1s 13ms/step - loss: 0.6384 - accuracy: 0.7215 - val_loss: 0.6775 - val_accuracy: 0.7029\n",
            "Epoch 4/50\n",
            "84/84 [==============================] - 1s 13ms/step - loss: 0.5629 - accuracy: 0.7577 - val_loss: 0.6158 - val_accuracy: 0.7495\n",
            "Epoch 5/50\n",
            "84/84 [==============================] - 1s 13ms/step - loss: 0.4608 - accuracy: 0.8225 - val_loss: 0.6164 - val_accuracy: 0.7651\n",
            "Epoch 6/50\n",
            "84/84 [==============================] - 1s 13ms/step - loss: 0.3913 - accuracy: 0.8542 - val_loss: 0.6077 - val_accuracy: 0.7787\n",
            "Epoch 7/50\n",
            "84/84 [==============================] - 1s 14ms/step - loss: 0.3344 - accuracy: 0.8748 - val_loss: 0.5497 - val_accuracy: 0.7850\n",
            "Epoch 8/50\n",
            "84/84 [==============================] - 1s 13ms/step - loss: 0.3012 - accuracy: 0.8879 - val_loss: 0.5538 - val_accuracy: 0.8073\n",
            "Epoch 9/50\n",
            "84/84 [==============================] - 1s 13ms/step - loss: 0.2577 - accuracy: 0.9063 - val_loss: 0.5114 - val_accuracy: 0.8142\n",
            "Epoch 10/50\n",
            "84/84 [==============================] - 1s 13ms/step - loss: 0.2560 - accuracy: 0.9035 - val_loss: 0.5395 - val_accuracy: 0.7999\n",
            "Epoch 11/50\n",
            "84/84 [==============================] - 1s 17ms/step - loss: 0.2120 - accuracy: 0.9178 - val_loss: 0.5783 - val_accuracy: 0.8222\n",
            "Epoch 12/50\n",
            "84/84 [==============================] - 1s 13ms/step - loss: 0.1998 - accuracy: 0.9251 - val_loss: 0.6085 - val_accuracy: 0.8092\n",
            "Epoch 13/50\n",
            "84/84 [==============================] - 1s 13ms/step - loss: 0.1849 - accuracy: 0.9260 - val_loss: 0.5846 - val_accuracy: 0.8254\n",
            "Epoch 14/50\n",
            "84/84 [==============================] - 1s 13ms/step - loss: 0.1682 - accuracy: 0.9349 - val_loss: 0.5261 - val_accuracy: 0.8303\n",
            "Epoch 15/50\n",
            "84/84 [==============================] - 1s 13ms/step - loss: 0.1608 - accuracy: 0.9390 - val_loss: 0.5663 - val_accuracy: 0.8390\n",
            "Epoch 16/50\n",
            "84/84 [==============================] - 1s 13ms/step - loss: 0.1676 - accuracy: 0.9379 - val_loss: 0.5774 - val_accuracy: 0.8390\n",
            "Epoch 17/50\n",
            "84/84 [==============================] - 1s 14ms/step - loss: 0.1433 - accuracy: 0.9434 - val_loss: 0.5806 - val_accuracy: 0.8291\n",
            "Epoch 18/50\n",
            "84/84 [==============================] - 1s 13ms/step - loss: 0.1444 - accuracy: 0.9424 - val_loss: 0.6777 - val_accuracy: 0.8278\n",
            "Epoch 19/50\n",
            "84/84 [==============================] - 1s 14ms/step - loss: 0.1373 - accuracy: 0.9437 - val_loss: 0.6049 - val_accuracy: 0.8359\n",
            "84/84 [==============================] - 1s 5ms/step - loss: 1.4617 - accuracy: 0.6501\n",
            "Epoch 1/50\n",
            "84/84 [==============================] - 5s 25ms/step - loss: 0.8843 - accuracy: 0.5871 - val_loss: 0.7875 - val_accuracy: 0.6134\n",
            "Epoch 2/50\n",
            "84/84 [==============================] - 1s 13ms/step - loss: 0.7436 - accuracy: 0.6643 - val_loss: 0.7067 - val_accuracy: 0.6805\n",
            "Epoch 3/50\n",
            "84/84 [==============================] - 1s 13ms/step - loss: 0.6398 - accuracy: 0.7327 - val_loss: 0.6590 - val_accuracy: 0.7228\n",
            "Epoch 4/50\n",
            "84/84 [==============================] - 1s 13ms/step - loss: 0.5424 - accuracy: 0.7729 - val_loss: 0.5912 - val_accuracy: 0.7644\n",
            "Epoch 5/50\n",
            "84/84 [==============================] - 1s 13ms/step - loss: 0.4433 - accuracy: 0.8280 - val_loss: 0.5296 - val_accuracy: 0.7899\n",
            "Epoch 6/50\n",
            "84/84 [==============================] - 1s 13ms/step - loss: 0.3593 - accuracy: 0.8601 - val_loss: 0.5196 - val_accuracy: 0.8086\n",
            "Epoch 7/50\n",
            "84/84 [==============================] - 1s 13ms/step - loss: 0.3199 - accuracy: 0.8718 - val_loss: 0.5073 - val_accuracy: 0.8061\n",
            "Epoch 8/50\n",
            "84/84 [==============================] - 1s 13ms/step - loss: 0.2744 - accuracy: 0.8943 - val_loss: 0.4792 - val_accuracy: 0.8017\n",
            "Epoch 9/50\n",
            "84/84 [==============================] - 1s 13ms/step - loss: 0.2729 - accuracy: 0.8943 - val_loss: 0.5146 - val_accuracy: 0.8210\n",
            "Epoch 10/50\n",
            "84/84 [==============================] - 1s 13ms/step - loss: 0.2305 - accuracy: 0.9091 - val_loss: 0.4693 - val_accuracy: 0.8198\n",
            "Epoch 11/50\n",
            "84/84 [==============================] - 1s 13ms/step - loss: 0.2162 - accuracy: 0.9109 - val_loss: 0.4904 - val_accuracy: 0.8247\n",
            "Epoch 12/50\n",
            "84/84 [==============================] - 1s 13ms/step - loss: 0.1933 - accuracy: 0.9218 - val_loss: 0.5003 - val_accuracy: 0.8303\n",
            "Epoch 13/50\n",
            "84/84 [==============================] - 1s 13ms/step - loss: 0.1859 - accuracy: 0.9251 - val_loss: 0.5243 - val_accuracy: 0.8285\n",
            "Epoch 14/50\n",
            "84/84 [==============================] - 1s 13ms/step - loss: 0.1687 - accuracy: 0.9307 - val_loss: 0.4977 - val_accuracy: 0.8341\n",
            "Epoch 15/50\n",
            "84/84 [==============================] - 1s 13ms/step - loss: 0.1553 - accuracy: 0.9370 - val_loss: 0.5130 - val_accuracy: 0.8328\n",
            "Epoch 16/50\n",
            "84/84 [==============================] - 1s 13ms/step - loss: 0.1626 - accuracy: 0.9334 - val_loss: 0.5070 - val_accuracy: 0.8390\n",
            "Epoch 17/50\n",
            "84/84 [==============================] - 1s 13ms/step - loss: 0.1454 - accuracy: 0.9428 - val_loss: 0.5645 - val_accuracy: 0.8365\n",
            "Epoch 18/50\n",
            "84/84 [==============================] - 1s 13ms/step - loss: 0.1443 - accuracy: 0.9354 - val_loss: 0.5453 - val_accuracy: 0.8434\n",
            "Epoch 19/50\n",
            "84/84 [==============================] - 1s 13ms/step - loss: 0.1398 - accuracy: 0.9363 - val_loss: 0.5918 - val_accuracy: 0.8428\n",
            "Epoch 20/50\n",
            "84/84 [==============================] - 1s 13ms/step - loss: 0.1367 - accuracy: 0.9393 - val_loss: 0.5888 - val_accuracy: 0.8421\n",
            "84/84 [==============================] - 1s 5ms/step - loss: 1.4484 - accuracy: 0.6590\n",
            "Epoch 1/50\n",
            "84/84 [==============================] - 5s 24ms/step - loss: 0.9329 - accuracy: 0.6004 - val_loss: 0.8168 - val_accuracy: 0.5985\n",
            "Epoch 2/50\n",
            "84/84 [==============================] - 1s 16ms/step - loss: 0.7721 - accuracy: 0.6184 - val_loss: 0.6709 - val_accuracy: 0.6979\n",
            "Epoch 3/50\n",
            "84/84 [==============================] - 1s 15ms/step - loss: 0.5993 - accuracy: 0.7423 - val_loss: 0.5892 - val_accuracy: 0.7514\n",
            "Epoch 4/50\n",
            "84/84 [==============================] - 1s 16ms/step - loss: 0.4548 - accuracy: 0.8198 - val_loss: 0.5466 - val_accuracy: 0.7819\n",
            "Epoch 5/50\n",
            "84/84 [==============================] - 1s 15ms/step - loss: 0.3398 - accuracy: 0.8734 - val_loss: 0.4856 - val_accuracy: 0.8285\n",
            "Epoch 6/50\n",
            "84/84 [==============================] - 1s 16ms/step - loss: 0.2595 - accuracy: 0.9033 - val_loss: 0.4625 - val_accuracy: 0.8310\n",
            "Epoch 7/50\n",
            "84/84 [==============================] - 1s 15ms/step - loss: 0.1965 - accuracy: 0.9258 - val_loss: 0.4703 - val_accuracy: 0.8285\n",
            "Epoch 8/50\n",
            "84/84 [==============================] - 1s 16ms/step - loss: 0.1783 - accuracy: 0.9312 - val_loss: 0.4694 - val_accuracy: 0.8415\n",
            "Epoch 9/50\n",
            "84/84 [==============================] - 1s 16ms/step - loss: 0.1567 - accuracy: 0.9356 - val_loss: 0.4591 - val_accuracy: 0.8384\n",
            "Epoch 10/50\n",
            "84/84 [==============================] - 1s 16ms/step - loss: 0.1412 - accuracy: 0.9373 - val_loss: 0.5211 - val_accuracy: 0.8484\n",
            "Epoch 11/50\n",
            "84/84 [==============================] - 1s 15ms/step - loss: 0.1359 - accuracy: 0.9397 - val_loss: 0.5264 - val_accuracy: 0.8440\n",
            "Epoch 12/50\n",
            "84/84 [==============================] - 1s 15ms/step - loss: 0.1299 - accuracy: 0.9424 - val_loss: 0.5658 - val_accuracy: 0.8508\n",
            "Epoch 13/50\n",
            "84/84 [==============================] - 1s 16ms/step - loss: 0.1145 - accuracy: 0.9503 - val_loss: 0.5873 - val_accuracy: 0.8552\n",
            "Epoch 14/50\n",
            "84/84 [==============================] - 1s 16ms/step - loss: 0.1053 - accuracy: 0.9459 - val_loss: 0.5608 - val_accuracy: 0.8508\n",
            "Epoch 15/50\n",
            "84/84 [==============================] - 1s 16ms/step - loss: 0.1125 - accuracy: 0.9515 - val_loss: 0.6303 - val_accuracy: 0.8477\n",
            "Epoch 16/50\n",
            "84/84 [==============================] - 1s 16ms/step - loss: 0.1107 - accuracy: 0.9509 - val_loss: 0.5672 - val_accuracy: 0.8583\n",
            "Epoch 17/50\n",
            "84/84 [==============================] - 1s 16ms/step - loss: 0.0979 - accuracy: 0.9545 - val_loss: 0.5734 - val_accuracy: 0.8639\n",
            "Epoch 18/50\n",
            "84/84 [==============================] - 1s 16ms/step - loss: 0.0903 - accuracy: 0.9535 - val_loss: 0.6530 - val_accuracy: 0.8676\n",
            "Epoch 19/50\n",
            "84/84 [==============================] - 1s 18ms/step - loss: 0.0879 - accuracy: 0.9570 - val_loss: 0.7124 - val_accuracy: 0.8614\n",
            "84/84 [==============================] - 1s 5ms/step - loss: 2.0417 - accuracy: 0.6512\n",
            "Epoch 1/50\n",
            "84/84 [==============================] - 4s 23ms/step - loss: 0.9288 - accuracy: 0.5475 - val_loss: 0.8213 - val_accuracy: 0.5985\n",
            "Epoch 2/50\n",
            "84/84 [==============================] - 1s 16ms/step - loss: 0.7574 - accuracy: 0.6410 - val_loss: 0.6605 - val_accuracy: 0.7135\n",
            "Epoch 3/50\n",
            "84/84 [==============================] - 1s 16ms/step - loss: 0.5084 - accuracy: 0.7928 - val_loss: 0.5478 - val_accuracy: 0.7787\n",
            "Epoch 4/50\n",
            "84/84 [==============================] - 1s 15ms/step - loss: 0.3282 - accuracy: 0.8787 - val_loss: 0.4931 - val_accuracy: 0.8222\n",
            "Epoch 5/50\n",
            "84/84 [==============================] - 1s 16ms/step - loss: 0.2488 - accuracy: 0.9038 - val_loss: 0.4958 - val_accuracy: 0.8285\n",
            "Epoch 6/50\n",
            "84/84 [==============================] - 1s 16ms/step - loss: 0.2052 - accuracy: 0.9215 - val_loss: 0.5412 - val_accuracy: 0.8297\n",
            "Epoch 7/50\n",
            "84/84 [==============================] - 2s 20ms/step - loss: 0.1694 - accuracy: 0.9324 - val_loss: 0.5175 - val_accuracy: 0.8459\n",
            "Epoch 8/50\n",
            "84/84 [==============================] - 1s 16ms/step - loss: 0.1452 - accuracy: 0.9430 - val_loss: 0.5558 - val_accuracy: 0.8378\n",
            "Epoch 9/50\n",
            "84/84 [==============================] - 1s 16ms/step - loss: 0.1478 - accuracy: 0.9424 - val_loss: 0.5401 - val_accuracy: 0.8490\n",
            "Epoch 10/50\n",
            "84/84 [==============================] - 1s 16ms/step - loss: 0.1209 - accuracy: 0.9475 - val_loss: 0.5225 - val_accuracy: 0.8440\n",
            "Epoch 11/50\n",
            "84/84 [==============================] - 1s 16ms/step - loss: 0.1182 - accuracy: 0.9561 - val_loss: 0.5158 - val_accuracy: 0.8465\n",
            "Epoch 12/50\n",
            "84/84 [==============================] - 1s 15ms/step - loss: 0.1148 - accuracy: 0.9504 - val_loss: 0.6248 - val_accuracy: 0.8452\n",
            "Epoch 13/50\n",
            "84/84 [==============================] - 1s 16ms/step - loss: 0.1190 - accuracy: 0.9462 - val_loss: 0.5454 - val_accuracy: 0.8477\n",
            "Epoch 14/50\n",
            "84/84 [==============================] - 1s 16ms/step - loss: 0.1059 - accuracy: 0.9526 - val_loss: 0.6000 - val_accuracy: 0.8527\n",
            "84/84 [==============================] - 1s 5ms/step - loss: 1.5325 - accuracy: 0.6572\n",
            "Epoch 1/50\n",
            "84/84 [==============================] - 4s 23ms/step - loss: 0.9600 - accuracy: 0.4806 - val_loss: 0.8141 - val_accuracy: 0.5985\n",
            "Epoch 2/50\n",
            "84/84 [==============================] - 2s 19ms/step - loss: 0.7545 - accuracy: 0.6384 - val_loss: 0.6613 - val_accuracy: 0.7135\n",
            "Epoch 3/50\n",
            "84/84 [==============================] - 1s 15ms/step - loss: 0.5432 - accuracy: 0.7763 - val_loss: 0.5032 - val_accuracy: 0.7937\n",
            "Epoch 4/50\n",
            "84/84 [==============================] - 1s 16ms/step - loss: 0.3332 - accuracy: 0.8717 - val_loss: 0.4525 - val_accuracy: 0.8179\n",
            "Epoch 5/50\n",
            "84/84 [==============================] - 1s 15ms/step - loss: 0.2506 - accuracy: 0.9050 - val_loss: 0.4544 - val_accuracy: 0.8285\n",
            "Epoch 6/50\n",
            "84/84 [==============================] - 1s 16ms/step - loss: 0.2026 - accuracy: 0.9233 - val_loss: 0.4613 - val_accuracy: 0.8310\n",
            "Epoch 7/50\n",
            "84/84 [==============================] - 1s 16ms/step - loss: 0.1867 - accuracy: 0.9246 - val_loss: 0.5071 - val_accuracy: 0.8452\n",
            "Epoch 8/50\n",
            "84/84 [==============================] - 1s 16ms/step - loss: 0.1514 - accuracy: 0.9397 - val_loss: 0.5176 - val_accuracy: 0.8428\n",
            "Epoch 9/50\n",
            "84/84 [==============================] - 1s 16ms/step - loss: 0.1351 - accuracy: 0.9438 - val_loss: 0.5042 - val_accuracy: 0.8446\n",
            "Epoch 10/50\n",
            "84/84 [==============================] - 1s 16ms/step - loss: 0.1441 - accuracy: 0.9390 - val_loss: 0.4745 - val_accuracy: 0.8527\n",
            "Epoch 11/50\n",
            "84/84 [==============================] - 1s 16ms/step - loss: 0.1231 - accuracy: 0.9468 - val_loss: 0.4696 - val_accuracy: 0.8546\n",
            "Epoch 12/50\n",
            "84/84 [==============================] - 1s 16ms/step - loss: 0.1171 - accuracy: 0.9446 - val_loss: 0.5195 - val_accuracy: 0.8602\n",
            "Epoch 13/50\n",
            "84/84 [==============================] - 1s 16ms/step - loss: 0.0999 - accuracy: 0.9553 - val_loss: 0.5298 - val_accuracy: 0.8496\n",
            "Epoch 14/50\n",
            "84/84 [==============================] - 1s 16ms/step - loss: 0.1114 - accuracy: 0.9475 - val_loss: 0.5393 - val_accuracy: 0.8571\n",
            "84/84 [==============================] - 1s 5ms/step - loss: 1.3737 - accuracy: 0.6612\n",
            "Epoch 1/50\n",
            "84/84 [==============================] - 5s 23ms/step - loss: 0.8908 - accuracy: 0.5967 - val_loss: 0.8000 - val_accuracy: 0.6010\n",
            "Epoch 2/50\n",
            "84/84 [==============================] - 1s 15ms/step - loss: 0.7778 - accuracy: 0.6313 - val_loss: 0.7036 - val_accuracy: 0.6799\n",
            "Epoch 3/50\n",
            "84/84 [==============================] - 1s 15ms/step - loss: 0.6583 - accuracy: 0.7063 - val_loss: 0.6995 - val_accuracy: 0.6849\n",
            "Epoch 4/50\n",
            "84/84 [==============================] - 1s 14ms/step - loss: 0.5470 - accuracy: 0.7697 - val_loss: 0.5576 - val_accuracy: 0.7657\n",
            "Epoch 5/50\n",
            "84/84 [==============================] - 1s 13ms/step - loss: 0.4335 - accuracy: 0.8283 - val_loss: 0.5025 - val_accuracy: 0.7899\n",
            "Epoch 6/50\n",
            "84/84 [==============================] - 1s 14ms/step - loss: 0.3832 - accuracy: 0.8521 - val_loss: 0.4912 - val_accuracy: 0.8030\n",
            "Epoch 7/50\n",
            "84/84 [==============================] - 1s 13ms/step - loss: 0.3452 - accuracy: 0.8629 - val_loss: 0.4999 - val_accuracy: 0.8073\n",
            "Epoch 8/50\n",
            "84/84 [==============================] - 1s 14ms/step - loss: 0.2746 - accuracy: 0.8882 - val_loss: 0.4679 - val_accuracy: 0.8179\n",
            "Epoch 9/50\n",
            "84/84 [==============================] - 1s 13ms/step - loss: 0.2520 - accuracy: 0.9031 - val_loss: 0.4741 - val_accuracy: 0.8297\n",
            "Epoch 10/50\n",
            "84/84 [==============================] - 1s 14ms/step - loss: 0.2287 - accuracy: 0.9078 - val_loss: 0.5039 - val_accuracy: 0.8278\n",
            "Epoch 11/50\n",
            "84/84 [==============================] - 1s 14ms/step - loss: 0.2035 - accuracy: 0.9207 - val_loss: 0.4605 - val_accuracy: 0.8260\n",
            "Epoch 12/50\n",
            "84/84 [==============================] - 1s 13ms/step - loss: 0.1986 - accuracy: 0.9210 - val_loss: 0.4797 - val_accuracy: 0.8372\n",
            "Epoch 13/50\n",
            "84/84 [==============================] - 1s 14ms/step - loss: 0.1729 - accuracy: 0.9324 - val_loss: 0.4817 - val_accuracy: 0.8272\n",
            "Epoch 14/50\n",
            "84/84 [==============================] - 1s 13ms/step - loss: 0.1595 - accuracy: 0.9360 - val_loss: 0.5001 - val_accuracy: 0.8328\n",
            "Epoch 15/50\n",
            "84/84 [==============================] - 1s 14ms/step - loss: 0.1449 - accuracy: 0.9359 - val_loss: 0.5728 - val_accuracy: 0.8266\n",
            "Epoch 16/50\n",
            "84/84 [==============================] - 1s 13ms/step - loss: 0.1405 - accuracy: 0.9376 - val_loss: 0.6664 - val_accuracy: 0.8198\n",
            "Epoch 17/50\n",
            "84/84 [==============================] - 1s 13ms/step - loss: 0.1408 - accuracy: 0.9426 - val_loss: 0.5749 - val_accuracy: 0.8347\n",
            "Epoch 18/50\n",
            "84/84 [==============================] - 1s 14ms/step - loss: 0.1279 - accuracy: 0.9460 - val_loss: 0.7014 - val_accuracy: 0.8328\n",
            "Epoch 19/50\n",
            "84/84 [==============================] - 1s 14ms/step - loss: 0.1359 - accuracy: 0.9397 - val_loss: 0.6352 - val_accuracy: 0.8372\n",
            "Epoch 20/50\n",
            "84/84 [==============================] - 1s 13ms/step - loss: 0.1133 - accuracy: 0.9506 - val_loss: 0.5940 - val_accuracy: 0.8409\n",
            "Epoch 21/50\n",
            "84/84 [==============================] - 1s 13ms/step - loss: 0.1112 - accuracy: 0.9469 - val_loss: 0.6810 - val_accuracy: 0.8434\n",
            "84/84 [==============================] - 1s 5ms/step - loss: 1.8177 - accuracy: 0.6561\n",
            "Epoch 1/50\n",
            "84/84 [==============================] - 5s 22ms/step - loss: 0.9222 - accuracy: 0.5889 - val_loss: 0.8113 - val_accuracy: 0.6097\n",
            "Epoch 2/50\n",
            "84/84 [==============================] - 1s 13ms/step - loss: 0.7117 - accuracy: 0.6816 - val_loss: 0.7264 - val_accuracy: 0.6880\n",
            "Epoch 3/50\n",
            "84/84 [==============================] - 1s 14ms/step - loss: 0.5563 - accuracy: 0.7693 - val_loss: 0.6439 - val_accuracy: 0.7166\n",
            "Epoch 4/50\n",
            "84/84 [==============================] - 1s 13ms/step - loss: 0.4669 - accuracy: 0.8161 - val_loss: 0.5479 - val_accuracy: 0.7769\n",
            "Epoch 5/50\n",
            "84/84 [==============================] - 1s 14ms/step - loss: 0.4011 - accuracy: 0.8402 - val_loss: 0.5369 - val_accuracy: 0.7787\n",
            "Epoch 6/50\n",
            "84/84 [==============================] - 1s 13ms/step - loss: 0.3173 - accuracy: 0.8693 - val_loss: 0.5258 - val_accuracy: 0.7999\n",
            "Epoch 7/50\n",
            "84/84 [==============================] - 1s 13ms/step - loss: 0.2910 - accuracy: 0.8848 - val_loss: 0.5485 - val_accuracy: 0.7980\n",
            "Epoch 8/50\n",
            "84/84 [==============================] - 1s 14ms/step - loss: 0.2622 - accuracy: 0.8946 - val_loss: 0.5050 - val_accuracy: 0.8148\n",
            "Epoch 9/50\n",
            "84/84 [==============================] - 1s 13ms/step - loss: 0.2469 - accuracy: 0.9080 - val_loss: 0.5297 - val_accuracy: 0.8148\n",
            "Epoch 10/50\n",
            "84/84 [==============================] - 1s 14ms/step - loss: 0.2093 - accuracy: 0.9161 - val_loss: 0.5164 - val_accuracy: 0.8316\n",
            "Epoch 11/50\n",
            "84/84 [==============================] - 1s 13ms/step - loss: 0.1808 - accuracy: 0.9304 - val_loss: 0.5422 - val_accuracy: 0.8285\n",
            "Epoch 12/50\n",
            "84/84 [==============================] - 1s 13ms/step - loss: 0.1767 - accuracy: 0.9290 - val_loss: 0.5244 - val_accuracy: 0.8316\n",
            "Epoch 13/50\n",
            "84/84 [==============================] - 1s 17ms/step - loss: 0.1704 - accuracy: 0.9361 - val_loss: 0.5819 - val_accuracy: 0.8291\n",
            "Epoch 14/50\n",
            "84/84 [==============================] - 1s 13ms/step - loss: 0.1572 - accuracy: 0.9369 - val_loss: 0.5434 - val_accuracy: 0.8316\n",
            "Epoch 15/50\n",
            "84/84 [==============================] - 1s 14ms/step - loss: 0.1558 - accuracy: 0.9342 - val_loss: 0.5343 - val_accuracy: 0.8378\n",
            "Epoch 16/50\n",
            "84/84 [==============================] - 1s 13ms/step - loss: 0.1463 - accuracy: 0.9381 - val_loss: 0.6230 - val_accuracy: 0.8459\n",
            "Epoch 17/50\n",
            "84/84 [==============================] - 1s 14ms/step - loss: 0.1390 - accuracy: 0.9426 - val_loss: 0.5240 - val_accuracy: 0.8440\n",
            "Epoch 18/50\n",
            "84/84 [==============================] - 1s 13ms/step - loss: 0.1243 - accuracy: 0.9484 - val_loss: 0.5774 - val_accuracy: 0.8421\n",
            "84/84 [==============================] - 1s 5ms/step - loss: 1.4684 - accuracy: 0.6557\n",
            "Epoch 1/50\n",
            "84/84 [==============================] - 5s 21ms/step - loss: 0.8998 - accuracy: 0.5959 - val_loss: 0.7689 - val_accuracy: 0.6134\n",
            "Epoch 2/50\n",
            "84/84 [==============================] - 1s 17ms/step - loss: 0.7449 - accuracy: 0.6534 - val_loss: 0.6757 - val_accuracy: 0.7054\n",
            "Epoch 3/50\n",
            "84/84 [==============================] - 1s 13ms/step - loss: 0.6166 - accuracy: 0.7264 - val_loss: 0.6265 - val_accuracy: 0.7483\n",
            "Epoch 4/50\n",
            "84/84 [==============================] - 1s 13ms/step - loss: 0.5013 - accuracy: 0.8066 - val_loss: 0.5579 - val_accuracy: 0.7794\n",
            "Epoch 5/50\n",
            "84/84 [==============================] - 1s 13ms/step - loss: 0.4296 - accuracy: 0.8323 - val_loss: 0.5331 - val_accuracy: 0.7868\n",
            "Epoch 6/50\n",
            "84/84 [==============================] - 1s 13ms/step - loss: 0.3541 - accuracy: 0.8622 - val_loss: 0.5093 - val_accuracy: 0.7999\n",
            "Epoch 7/50\n",
            "84/84 [==============================] - 1s 13ms/step - loss: 0.3147 - accuracy: 0.8768 - val_loss: 0.5159 - val_accuracy: 0.8042\n",
            "Epoch 8/50\n",
            "84/84 [==============================] - 1s 14ms/step - loss: 0.2628 - accuracy: 0.8966 - val_loss: 0.5033 - val_accuracy: 0.8080\n",
            "Epoch 9/50\n",
            "84/84 [==============================] - 1s 13ms/step - loss: 0.2367 - accuracy: 0.9130 - val_loss: 0.5067 - val_accuracy: 0.8254\n",
            "Epoch 10/50\n",
            "84/84 [==============================] - 1s 14ms/step - loss: 0.1961 - accuracy: 0.9249 - val_loss: 0.5082 - val_accuracy: 0.8229\n",
            "Epoch 11/50\n",
            "84/84 [==============================] - 1s 13ms/step - loss: 0.1931 - accuracy: 0.9238 - val_loss: 0.4789 - val_accuracy: 0.8310\n",
            "Epoch 12/50\n",
            "84/84 [==============================] - 1s 13ms/step - loss: 0.1646 - accuracy: 0.9330 - val_loss: 0.5413 - val_accuracy: 0.8316\n",
            "Epoch 13/50\n",
            "84/84 [==============================] - 1s 13ms/step - loss: 0.1580 - accuracy: 0.9393 - val_loss: 0.5420 - val_accuracy: 0.8341\n",
            "Epoch 14/50\n",
            "84/84 [==============================] - 1s 13ms/step - loss: 0.1631 - accuracy: 0.9358 - val_loss: 0.5160 - val_accuracy: 0.8390\n",
            "Epoch 15/50\n",
            "84/84 [==============================] - 1s 14ms/step - loss: 0.1423 - accuracy: 0.9413 - val_loss: 0.6246 - val_accuracy: 0.8048\n",
            "Epoch 16/50\n",
            "84/84 [==============================] - 1s 13ms/step - loss: 0.1412 - accuracy: 0.9403 - val_loss: 0.5940 - val_accuracy: 0.8409\n",
            "Epoch 17/50\n",
            "84/84 [==============================] - 1s 14ms/step - loss: 0.1317 - accuracy: 0.9410 - val_loss: 0.5616 - val_accuracy: 0.8390\n",
            "Epoch 18/50\n",
            "84/84 [==============================] - 1s 14ms/step - loss: 0.1227 - accuracy: 0.9465 - val_loss: 0.7534 - val_accuracy: 0.8334\n",
            "Epoch 19/50\n",
            "84/84 [==============================] - 1s 14ms/step - loss: 0.1308 - accuracy: 0.9451 - val_loss: 0.7216 - val_accuracy: 0.8384\n",
            "Epoch 20/50\n",
            "84/84 [==============================] - 1s 14ms/step - loss: 0.1173 - accuracy: 0.9494 - val_loss: 0.6737 - val_accuracy: 0.8421\n",
            "Epoch 21/50\n",
            "84/84 [==============================] - 1s 13ms/step - loss: 0.1081 - accuracy: 0.9527 - val_loss: 0.7125 - val_accuracy: 0.8415\n",
            "84/84 [==============================] - 1s 5ms/step - loss: 1.8537 - accuracy: 0.6362\n",
            "Epoch 1/50\n",
            "84/84 [==============================] - 5s 26ms/step - loss: 0.9193 - accuracy: 0.5980 - val_loss: 0.7919 - val_accuracy: 0.6016\n",
            "Epoch 2/50\n",
            "84/84 [==============================] - 1s 17ms/step - loss: 0.7336 - accuracy: 0.6463 - val_loss: 0.6538 - val_accuracy: 0.7234\n",
            "Epoch 3/50\n",
            "84/84 [==============================] - 1s 17ms/step - loss: 0.5474 - accuracy: 0.7718 - val_loss: 0.5050 - val_accuracy: 0.7899\n",
            "Epoch 4/50\n",
            "84/84 [==============================] - 1s 17ms/step - loss: 0.3529 - accuracy: 0.8721 - val_loss: 0.4651 - val_accuracy: 0.8198\n",
            "Epoch 5/50\n",
            "84/84 [==============================] - 1s 17ms/step - loss: 0.2708 - accuracy: 0.9083 - val_loss: 0.4424 - val_accuracy: 0.8260\n",
            "Epoch 6/50\n",
            "84/84 [==============================] - 1s 17ms/step - loss: 0.2023 - accuracy: 0.9286 - val_loss: 0.4495 - val_accuracy: 0.8316\n",
            "Epoch 7/50\n",
            "84/84 [==============================] - 1s 17ms/step - loss: 0.1862 - accuracy: 0.9302 - val_loss: 0.4621 - val_accuracy: 0.8434\n",
            "Epoch 8/50\n",
            "84/84 [==============================] - 1s 18ms/step - loss: 0.1682 - accuracy: 0.9324 - val_loss: 0.4386 - val_accuracy: 0.8459\n",
            "Epoch 9/50\n",
            "84/84 [==============================] - 1s 18ms/step - loss: 0.1546 - accuracy: 0.9370 - val_loss: 0.4664 - val_accuracy: 0.8515\n",
            "Epoch 10/50\n",
            "84/84 [==============================] - 1s 17ms/step - loss: 0.1313 - accuracy: 0.9424 - val_loss: 0.4787 - val_accuracy: 0.8428\n",
            "Epoch 11/50\n",
            "84/84 [==============================] - 1s 17ms/step - loss: 0.1349 - accuracy: 0.9410 - val_loss: 0.4722 - val_accuracy: 0.8477\n",
            "Epoch 12/50\n",
            "84/84 [==============================] - 1s 17ms/step - loss: 0.1345 - accuracy: 0.9403 - val_loss: 0.4910 - val_accuracy: 0.8577\n",
            "Epoch 13/50\n",
            "84/84 [==============================] - 1s 17ms/step - loss: 0.1159 - accuracy: 0.9406 - val_loss: 0.5032 - val_accuracy: 0.8527\n",
            "Epoch 14/50\n",
            "84/84 [==============================] - 1s 17ms/step - loss: 0.1054 - accuracy: 0.9496 - val_loss: 0.5100 - val_accuracy: 0.8589\n",
            "Epoch 15/50\n",
            "84/84 [==============================] - 1s 17ms/step - loss: 0.1050 - accuracy: 0.9419 - val_loss: 0.5393 - val_accuracy: 0.8633\n",
            "Epoch 16/50\n",
            "84/84 [==============================] - 1s 17ms/step - loss: 0.0903 - accuracy: 0.9554 - val_loss: 0.5812 - val_accuracy: 0.8521\n",
            "Epoch 17/50\n",
            "84/84 [==============================] - 1s 17ms/step - loss: 0.0937 - accuracy: 0.9548 - val_loss: 0.6484 - val_accuracy: 0.8614\n",
            "Epoch 18/50\n",
            "84/84 [==============================] - 1s 17ms/step - loss: 0.0904 - accuracy: 0.9543 - val_loss: 0.6091 - val_accuracy: 0.8577\n",
            "84/84 [==============================] - 1s 5ms/step - loss: 1.6990 - accuracy: 0.6606\n",
            "Epoch 1/50\n",
            "84/84 [==============================] - 5s 25ms/step - loss: 0.9488 - accuracy: 0.4492 - val_loss: 0.8429 - val_accuracy: 0.5985\n",
            "Epoch 2/50\n",
            "84/84 [==============================] - 1s 17ms/step - loss: 0.8042 - accuracy: 0.6133 - val_loss: 0.7666 - val_accuracy: 0.6482\n",
            "Epoch 3/50\n",
            "84/84 [==============================] - 1s 17ms/step - loss: 0.6568 - accuracy: 0.7259 - val_loss: 0.6096 - val_accuracy: 0.7427\n",
            "Epoch 4/50\n",
            "84/84 [==============================] - 1s 17ms/step - loss: 0.4232 - accuracy: 0.8372 - val_loss: 0.5812 - val_accuracy: 0.7837\n",
            "Epoch 5/50\n",
            "84/84 [==============================] - 1s 17ms/step - loss: 0.2969 - accuracy: 0.8913 - val_loss: 0.5376 - val_accuracy: 0.8154\n",
            "Epoch 6/50\n",
            "84/84 [==============================] - 1s 18ms/step - loss: 0.2227 - accuracy: 0.9177 - val_loss: 0.5319 - val_accuracy: 0.8191\n",
            "Epoch 7/50\n",
            "84/84 [==============================] - 1s 17ms/step - loss: 0.1819 - accuracy: 0.9251 - val_loss: 0.4905 - val_accuracy: 0.8365\n",
            "Epoch 8/50\n",
            "84/84 [==============================] - 1s 17ms/step - loss: 0.1691 - accuracy: 0.9369 - val_loss: 0.5507 - val_accuracy: 0.8229\n",
            "Epoch 9/50\n",
            "84/84 [==============================] - 2s 21ms/step - loss: 0.1675 - accuracy: 0.9384 - val_loss: 0.5622 - val_accuracy: 0.8403\n",
            "Epoch 10/50\n",
            "84/84 [==============================] - 1s 17ms/step - loss: 0.1373 - accuracy: 0.9418 - val_loss: 0.5612 - val_accuracy: 0.8216\n",
            "Epoch 11/50\n",
            "84/84 [==============================] - 1s 17ms/step - loss: 0.1428 - accuracy: 0.9455 - val_loss: 0.5781 - val_accuracy: 0.8365\n",
            "Epoch 12/50\n",
            "84/84 [==============================] - 1s 18ms/step - loss: 0.1231 - accuracy: 0.9466 - val_loss: 0.6167 - val_accuracy: 0.8378\n",
            "Epoch 13/50\n",
            "84/84 [==============================] - 1s 18ms/step - loss: 0.1087 - accuracy: 0.9550 - val_loss: 0.6222 - val_accuracy: 0.8434\n",
            "Epoch 14/50\n",
            "84/84 [==============================] - 1s 18ms/step - loss: 0.1055 - accuracy: 0.9538 - val_loss: 0.7129 - val_accuracy: 0.8297\n",
            "Epoch 15/50\n",
            "84/84 [==============================] - 1s 17ms/step - loss: 0.1027 - accuracy: 0.9547 - val_loss: 0.6887 - val_accuracy: 0.8421\n",
            "Epoch 16/50\n",
            "84/84 [==============================] - 2s 18ms/step - loss: 0.0984 - accuracy: 0.9533 - val_loss: 0.6592 - val_accuracy: 0.8384\n",
            "Epoch 17/50\n",
            "84/84 [==============================] - 1s 17ms/step - loss: 0.0860 - accuracy: 0.9575 - val_loss: 0.6289 - val_accuracy: 0.8390\n",
            "84/84 [==============================] - 1s 5ms/step - loss: 1.5362 - accuracy: 0.6457\n",
            "Epoch 1/50\n",
            "84/84 [==============================] - 5s 29ms/step - loss: 0.9281 - accuracy: 0.5940 - val_loss: 0.7757 - val_accuracy: 0.6401\n",
            "Epoch 2/50\n",
            "84/84 [==============================] - 1s 17ms/step - loss: 0.7060 - accuracy: 0.6791 - val_loss: 0.6321 - val_accuracy: 0.7116\n",
            "Epoch 3/50\n",
            "84/84 [==============================] - 1s 17ms/step - loss: 0.4810 - accuracy: 0.8052 - val_loss: 0.5093 - val_accuracy: 0.8055\n",
            "Epoch 4/50\n",
            "84/84 [==============================] - 1s 18ms/step - loss: 0.3216 - accuracy: 0.8767 - val_loss: 0.4549 - val_accuracy: 0.8285\n",
            "Epoch 5/50\n",
            "84/84 [==============================] - 1s 17ms/step - loss: 0.2348 - accuracy: 0.9108 - val_loss: 0.4911 - val_accuracy: 0.8216\n",
            "Epoch 6/50\n",
            "84/84 [==============================] - 1s 18ms/step - loss: 0.1971 - accuracy: 0.9223 - val_loss: 0.5168 - val_accuracy: 0.8353\n",
            "Epoch 7/50\n",
            "84/84 [==============================] - 1s 17ms/step - loss: 0.1596 - accuracy: 0.9378 - val_loss: 0.5209 - val_accuracy: 0.8353\n",
            "Epoch 8/50\n",
            "84/84 [==============================] - 1s 18ms/step - loss: 0.1446 - accuracy: 0.9464 - val_loss: 0.5065 - val_accuracy: 0.8409\n",
            "Epoch 9/50\n",
            "84/84 [==============================] - 1s 18ms/step - loss: 0.1300 - accuracy: 0.9449 - val_loss: 0.5162 - val_accuracy: 0.8527\n",
            "Epoch 10/50\n",
            "84/84 [==============================] - 2s 18ms/step - loss: 0.1176 - accuracy: 0.9535 - val_loss: 0.5121 - val_accuracy: 0.8465\n",
            "Epoch 11/50\n",
            "84/84 [==============================] - 1s 18ms/step - loss: 0.1127 - accuracy: 0.9528 - val_loss: 0.5643 - val_accuracy: 0.8428\n",
            "Epoch 12/50\n",
            "84/84 [==============================] - 1s 18ms/step - loss: 0.1180 - accuracy: 0.9471 - val_loss: 0.5441 - val_accuracy: 0.8459\n",
            "Epoch 13/50\n",
            "84/84 [==============================] - 1s 18ms/step - loss: 0.1074 - accuracy: 0.9555 - val_loss: 0.5903 - val_accuracy: 0.8421\n",
            "Epoch 14/50\n",
            "84/84 [==============================] - 1s 18ms/step - loss: 0.1201 - accuracy: 0.9502 - val_loss: 0.5562 - val_accuracy: 0.8440\n",
            "84/84 [==============================] - 1s 5ms/step - loss: 1.3799 - accuracy: 0.6522\n",
            "Epoch 1/50\n",
            "84/84 [==============================] - 5s 26ms/step - loss: 0.8919 - accuracy: 0.5635 - val_loss: 0.7733 - val_accuracy: 0.6563\n",
            "Epoch 2/50\n",
            "84/84 [==============================] - 2s 18ms/step - loss: 0.7185 - accuracy: 0.6818 - val_loss: 0.6510 - val_accuracy: 0.7073\n",
            "Epoch 3/50\n",
            "84/84 [==============================] - 1s 17ms/step - loss: 0.5371 - accuracy: 0.7829 - val_loss: 0.5834 - val_accuracy: 0.7607\n",
            "Epoch 4/50\n",
            "84/84 [==============================] - 1s 18ms/step - loss: 0.4627 - accuracy: 0.8143 - val_loss: 0.4962 - val_accuracy: 0.7949\n",
            "Epoch 5/50\n",
            "84/84 [==============================] - 1s 17ms/step - loss: 0.3643 - accuracy: 0.8585 - val_loss: 0.4880 - val_accuracy: 0.8117\n",
            "Epoch 6/50\n",
            "84/84 [==============================] - 1s 18ms/step - loss: 0.3318 - accuracy: 0.8709 - val_loss: 0.4702 - val_accuracy: 0.8098\n",
            "Epoch 7/50\n",
            "84/84 [==============================] - 1s 17ms/step - loss: 0.2672 - accuracy: 0.8987 - val_loss: 0.4871 - val_accuracy: 0.8235\n",
            "Epoch 8/50\n",
            "84/84 [==============================] - 1s 18ms/step - loss: 0.2366 - accuracy: 0.9117 - val_loss: 0.4635 - val_accuracy: 0.8303\n",
            "Epoch 9/50\n",
            "84/84 [==============================] - 1s 17ms/step - loss: 0.2233 - accuracy: 0.9105 - val_loss: 0.4405 - val_accuracy: 0.8390\n",
            "Epoch 10/50\n",
            "84/84 [==============================] - 2s 18ms/step - loss: 0.1996 - accuracy: 0.9208 - val_loss: 0.4632 - val_accuracy: 0.8347\n",
            "Epoch 11/50\n",
            "84/84 [==============================] - 1s 17ms/step - loss: 0.2045 - accuracy: 0.9222 - val_loss: 0.4942 - val_accuracy: 0.8353\n",
            "Epoch 12/50\n",
            "84/84 [==============================] - 2s 18ms/step - loss: 0.1745 - accuracy: 0.9302 - val_loss: 0.4949 - val_accuracy: 0.8278\n",
            "Epoch 13/50\n",
            "84/84 [==============================] - 2s 18ms/step - loss: 0.1557 - accuracy: 0.9325 - val_loss: 0.4893 - val_accuracy: 0.8353\n",
            "Epoch 14/50\n",
            "84/84 [==============================] - 1s 18ms/step - loss: 0.1483 - accuracy: 0.9349 - val_loss: 0.5299 - val_accuracy: 0.8477\n",
            "Epoch 15/50\n",
            "84/84 [==============================] - 1s 17ms/step - loss: 0.1359 - accuracy: 0.9423 - val_loss: 0.5502 - val_accuracy: 0.8465\n",
            "Epoch 16/50\n",
            "84/84 [==============================] - 1s 17ms/step - loss: 0.1227 - accuracy: 0.9448 - val_loss: 0.5268 - val_accuracy: 0.8434\n",
            "Epoch 17/50\n",
            "84/84 [==============================] - 1s 16ms/step - loss: 0.1086 - accuracy: 0.9513 - val_loss: 0.5895 - val_accuracy: 0.8477\n",
            "Epoch 18/50\n",
            "84/84 [==============================] - 1s 17ms/step - loss: 0.1099 - accuracy: 0.9449 - val_loss: 0.6092 - val_accuracy: 0.8384\n",
            "Epoch 19/50\n",
            "84/84 [==============================] - 1s 17ms/step - loss: 0.1032 - accuracy: 0.9501 - val_loss: 0.6368 - val_accuracy: 0.8421\n",
            "84/84 [==============================] - 1s 6ms/step - loss: 1.5689 - accuracy: 0.6479\n",
            "Epoch 1/50\n",
            "84/84 [==============================] - 5s 25ms/step - loss: 0.8623 - accuracy: 0.6028 - val_loss: 0.7827 - val_accuracy: 0.6234\n",
            "Epoch 2/50\n",
            "84/84 [==============================] - 1s 17ms/step - loss: 0.7091 - accuracy: 0.6713 - val_loss: 0.6742 - val_accuracy: 0.6930\n",
            "Epoch 3/50\n",
            "84/84 [==============================] - 1s 17ms/step - loss: 0.5738 - accuracy: 0.7619 - val_loss: 0.6072 - val_accuracy: 0.7589\n",
            "Epoch 4/50\n",
            "84/84 [==============================] - 1s 17ms/step - loss: 0.4483 - accuracy: 0.8201 - val_loss: 0.5572 - val_accuracy: 0.7769\n",
            "Epoch 5/50\n",
            "84/84 [==============================] - 1s 17ms/step - loss: 0.3541 - accuracy: 0.8641 - val_loss: 0.5301 - val_accuracy: 0.7949\n",
            "Epoch 6/50\n",
            "84/84 [==============================] - 1s 17ms/step - loss: 0.2927 - accuracy: 0.8830 - val_loss: 0.5230 - val_accuracy: 0.7899\n",
            "Epoch 7/50\n",
            "84/84 [==============================] - 1s 16ms/step - loss: 0.2655 - accuracy: 0.8999 - val_loss: 0.4946 - val_accuracy: 0.8229\n",
            "Epoch 8/50\n",
            "84/84 [==============================] - 1s 17ms/step - loss: 0.2357 - accuracy: 0.9078 - val_loss: 0.5280 - val_accuracy: 0.8303\n",
            "Epoch 9/50\n",
            "84/84 [==============================] - 1s 16ms/step - loss: 0.2005 - accuracy: 0.9222 - val_loss: 0.5318 - val_accuracy: 0.8365\n",
            "Epoch 10/50\n",
            "84/84 [==============================] - 1s 17ms/step - loss: 0.1910 - accuracy: 0.9237 - val_loss: 0.4992 - val_accuracy: 0.8403\n",
            "Epoch 11/50\n",
            "84/84 [==============================] - 1s 17ms/step - loss: 0.1674 - accuracy: 0.9350 - val_loss: 0.5585 - val_accuracy: 0.8403\n",
            "Epoch 12/50\n",
            "84/84 [==============================] - 1s 17ms/step - loss: 0.1511 - accuracy: 0.9381 - val_loss: 0.5480 - val_accuracy: 0.8260\n",
            "Epoch 13/50\n",
            "84/84 [==============================] - 1s 16ms/step - loss: 0.1387 - accuracy: 0.9466 - val_loss: 0.5338 - val_accuracy: 0.8428\n",
            "Epoch 14/50\n",
            "84/84 [==============================] - 2s 21ms/step - loss: 0.1317 - accuracy: 0.9427 - val_loss: 0.6773 - val_accuracy: 0.8446\n",
            "Epoch 15/50\n",
            "84/84 [==============================] - 1s 16ms/step - loss: 0.1271 - accuracy: 0.9454 - val_loss: 0.5484 - val_accuracy: 0.8403\n",
            "Epoch 16/50\n",
            "84/84 [==============================] - 1s 17ms/step - loss: 0.1142 - accuracy: 0.9499 - val_loss: 0.7049 - val_accuracy: 0.8465\n",
            "Epoch 17/50\n",
            "84/84 [==============================] - 1s 17ms/step - loss: 0.1145 - accuracy: 0.9504 - val_loss: 0.7097 - val_accuracy: 0.8365\n",
            "84/84 [==============================] - 1s 6ms/step - loss: 1.7407 - accuracy: 0.6408\n",
            "Epoch 1/50\n",
            "84/84 [==============================] - 5s 25ms/step - loss: 0.9020 - accuracy: 0.5710 - val_loss: 0.7803 - val_accuracy: 0.6060\n",
            "Epoch 2/50\n",
            "84/84 [==============================] - 1s 16ms/step - loss: 0.7338 - accuracy: 0.6575 - val_loss: 0.6570 - val_accuracy: 0.7247\n",
            "Epoch 3/50\n",
            "84/84 [==============================] - 1s 16ms/step - loss: 0.5842 - accuracy: 0.7617 - val_loss: 0.7087 - val_accuracy: 0.7427\n",
            "Epoch 4/50\n",
            "84/84 [==============================] - 1s 17ms/step - loss: 0.4579 - accuracy: 0.8264 - val_loss: 0.5558 - val_accuracy: 0.7756\n",
            "Epoch 5/50\n",
            "84/84 [==============================] - 2s 21ms/step - loss: 0.3901 - accuracy: 0.8470 - val_loss: 0.5138 - val_accuracy: 0.7999\n",
            "Epoch 6/50\n",
            "84/84 [==============================] - 1s 18ms/step - loss: 0.3318 - accuracy: 0.8768 - val_loss: 0.4882 - val_accuracy: 0.8173\n",
            "Epoch 7/50\n",
            "84/84 [==============================] - 1s 17ms/step - loss: 0.2719 - accuracy: 0.8968 - val_loss: 0.4753 - val_accuracy: 0.8216\n",
            "Epoch 8/50\n",
            "84/84 [==============================] - 1s 17ms/step - loss: 0.2414 - accuracy: 0.9017 - val_loss: 0.6048 - val_accuracy: 0.8229\n",
            "Epoch 9/50\n",
            "84/84 [==============================] - 1s 17ms/step - loss: 0.2316 - accuracy: 0.9116 - val_loss: 0.5440 - val_accuracy: 0.8229\n",
            "Epoch 10/50\n",
            "84/84 [==============================] - 2s 19ms/step - loss: 0.2057 - accuracy: 0.9212 - val_loss: 0.5362 - val_accuracy: 0.8247\n",
            "Epoch 11/50\n",
            "84/84 [==============================] - 2s 18ms/step - loss: 0.1860 - accuracy: 0.9189 - val_loss: 0.5112 - val_accuracy: 0.8142\n",
            "Epoch 12/50\n",
            "84/84 [==============================] - 1s 18ms/step - loss: 0.1702 - accuracy: 0.9237 - val_loss: 0.6693 - val_accuracy: 0.8297\n",
            "Epoch 13/50\n",
            "84/84 [==============================] - 1s 18ms/step - loss: 0.1700 - accuracy: 0.9302 - val_loss: 0.5084 - val_accuracy: 0.8285\n",
            "Epoch 14/50\n",
            "84/84 [==============================] - 1s 18ms/step - loss: 0.1447 - accuracy: 0.9375 - val_loss: 0.6375 - val_accuracy: 0.8390\n",
            "Epoch 15/50\n",
            "84/84 [==============================] - 2s 18ms/step - loss: 0.1442 - accuracy: 0.9355 - val_loss: 0.6160 - val_accuracy: 0.8378\n",
            "Epoch 16/50\n",
            "84/84 [==============================] - 1s 17ms/step - loss: 0.1367 - accuracy: 0.9393 - val_loss: 0.5909 - val_accuracy: 0.8415\n",
            "Epoch 17/50\n",
            "84/84 [==============================] - 2s 19ms/step - loss: 0.1372 - accuracy: 0.9313 - val_loss: 0.5005 - val_accuracy: 0.8297\n",
            "84/84 [==============================] - 1s 6ms/step - loss: 1.0786 - accuracy: 0.6593\n",
            "Epoch 1/50\n",
            "84/84 [==============================] - 6s 34ms/step - loss: 0.9059 - accuracy: 0.5855 - val_loss: 0.7788 - val_accuracy: 0.6010\n",
            "Epoch 2/50\n",
            "84/84 [==============================] - 2s 26ms/step - loss: 0.7270 - accuracy: 0.6496 - val_loss: 0.6670 - val_accuracy: 0.6930\n",
            "Epoch 3/50\n",
            "84/84 [==============================] - 2s 26ms/step - loss: 0.5490 - accuracy: 0.7623 - val_loss: 0.4925 - val_accuracy: 0.7974\n",
            "Epoch 4/50\n",
            "84/84 [==============================] - 2s 26ms/step - loss: 0.3463 - accuracy: 0.8758 - val_loss: 0.4528 - val_accuracy: 0.8291\n",
            "Epoch 5/50\n",
            "84/84 [==============================] - 2s 26ms/step - loss: 0.2618 - accuracy: 0.9030 - val_loss: 0.4487 - val_accuracy: 0.8384\n",
            "Epoch 6/50\n",
            "84/84 [==============================] - 2s 26ms/step - loss: 0.2053 - accuracy: 0.9239 - val_loss: 0.4571 - val_accuracy: 0.8372\n",
            "Epoch 7/50\n",
            "84/84 [==============================] - 2s 26ms/step - loss: 0.1703 - accuracy: 0.9338 - val_loss: 0.4992 - val_accuracy: 0.8359\n",
            "Epoch 8/50\n",
            "84/84 [==============================] - 2s 26ms/step - loss: 0.1506 - accuracy: 0.9375 - val_loss: 0.5017 - val_accuracy: 0.8459\n",
            "Epoch 9/50\n",
            "84/84 [==============================] - 2s 26ms/step - loss: 0.1287 - accuracy: 0.9410 - val_loss: 0.5053 - val_accuracy: 0.8459\n",
            "Epoch 10/50\n",
            "84/84 [==============================] - 2s 27ms/step - loss: 0.1248 - accuracy: 0.9402 - val_loss: 0.5620 - val_accuracy: 0.8533\n",
            "Epoch 11/50\n",
            "84/84 [==============================] - 2s 26ms/step - loss: 0.1089 - accuracy: 0.9510 - val_loss: 0.5245 - val_accuracy: 0.8571\n",
            "Epoch 12/50\n",
            "84/84 [==============================] - 2s 26ms/step - loss: 0.0999 - accuracy: 0.9537 - val_loss: 0.5348 - val_accuracy: 0.8583\n",
            "Epoch 13/50\n",
            "84/84 [==============================] - 2s 26ms/step - loss: 0.0918 - accuracy: 0.9529 - val_loss: 0.5539 - val_accuracy: 0.8471\n",
            "Epoch 14/50\n",
            "84/84 [==============================] - 2s 26ms/step - loss: 0.1082 - accuracy: 0.9459 - val_loss: 0.6216 - val_accuracy: 0.8595\n",
            "Epoch 15/50\n",
            "84/84 [==============================] - 2s 26ms/step - loss: 0.0847 - accuracy: 0.9557 - val_loss: 0.6274 - val_accuracy: 0.8539\n",
            "84/84 [==============================] - 1s 6ms/step - loss: 1.6551 - accuracy: 0.6524\n",
            "Epoch 1/50\n",
            "84/84 [==============================] - 6s 35ms/step - loss: 0.9133 - accuracy: 0.5727 - val_loss: 0.7917 - val_accuracy: 0.6172\n",
            "Epoch 2/50\n",
            "84/84 [==============================] - 2s 28ms/step - loss: 0.6997 - accuracy: 0.6828 - val_loss: 0.6101 - val_accuracy: 0.7346\n",
            "Epoch 3/50\n",
            "84/84 [==============================] - 2s 26ms/step - loss: 0.4311 - accuracy: 0.8266 - val_loss: 0.5223 - val_accuracy: 0.7949\n",
            "Epoch 4/50\n",
            "84/84 [==============================] - 2s 26ms/step - loss: 0.2681 - accuracy: 0.8978 - val_loss: 0.4922 - val_accuracy: 0.8191\n",
            "Epoch 5/50\n",
            "84/84 [==============================] - 2s 26ms/step - loss: 0.2117 - accuracy: 0.9157 - val_loss: 0.5260 - val_accuracy: 0.8222\n",
            "Epoch 6/50\n",
            "84/84 [==============================] - 2s 26ms/step - loss: 0.1913 - accuracy: 0.9255 - val_loss: 0.4740 - val_accuracy: 0.8459\n",
            "Epoch 7/50\n",
            "84/84 [==============================] - 2s 27ms/step - loss: 0.1465 - accuracy: 0.9411 - val_loss: 0.4884 - val_accuracy: 0.8452\n",
            "Epoch 8/50\n",
            "84/84 [==============================] - 2s 26ms/step - loss: 0.1384 - accuracy: 0.9384 - val_loss: 0.5008 - val_accuracy: 0.8515\n",
            "Epoch 9/50\n",
            "84/84 [==============================] - 2s 26ms/step - loss: 0.1143 - accuracy: 0.9486 - val_loss: 0.5329 - val_accuracy: 0.8484\n",
            "Epoch 10/50\n",
            "84/84 [==============================] - 2s 26ms/step - loss: 0.1001 - accuracy: 0.9567 - val_loss: 0.5802 - val_accuracy: 0.8539\n",
            "Epoch 11/50\n",
            "84/84 [==============================] - 2s 27ms/step - loss: 0.1078 - accuracy: 0.9526 - val_loss: 0.7177 - val_accuracy: 0.8421\n",
            "Epoch 12/50\n",
            "84/84 [==============================] - 2s 26ms/step - loss: 0.0924 - accuracy: 0.9536 - val_loss: 0.7159 - val_accuracy: 0.8533\n",
            "Epoch 13/50\n",
            "84/84 [==============================] - 2s 26ms/step - loss: 0.0907 - accuracy: 0.9598 - val_loss: 0.7091 - val_accuracy: 0.8508\n",
            "Epoch 14/50\n",
            "84/84 [==============================] - 2s 26ms/step - loss: 0.0784 - accuracy: 0.9572 - val_loss: 0.7064 - val_accuracy: 0.8533\n",
            "Epoch 15/50\n",
            "84/84 [==============================] - 2s 27ms/step - loss: 0.0850 - accuracy: 0.9564 - val_loss: 0.6686 - val_accuracy: 0.8471\n",
            "Epoch 16/50\n",
            "84/84 [==============================] - 2s 27ms/step - loss: 0.0814 - accuracy: 0.9571 - val_loss: 0.6255 - val_accuracy: 0.8508\n",
            "84/84 [==============================] - 1s 6ms/step - loss: 1.6615 - accuracy: 0.6546\n",
            "Epoch 1/50\n",
            "84/84 [==============================] - 5s 35ms/step - loss: 0.9192 - accuracy: 0.6054 - val_loss: 0.7681 - val_accuracy: 0.6184\n",
            "Epoch 2/50\n",
            "84/84 [==============================] - 2s 27ms/step - loss: 0.7243 - accuracy: 0.6567 - val_loss: 0.6200 - val_accuracy: 0.7328\n",
            "Epoch 3/50\n",
            "84/84 [==============================] - 2s 26ms/step - loss: 0.5084 - accuracy: 0.7961 - val_loss: 0.5371 - val_accuracy: 0.7912\n",
            "Epoch 4/50\n",
            "84/84 [==============================] - 2s 27ms/step - loss: 0.3790 - accuracy: 0.8604 - val_loss: 0.4950 - val_accuracy: 0.8104\n",
            "Epoch 5/50\n",
            "84/84 [==============================] - 2s 26ms/step - loss: 0.2598 - accuracy: 0.9008 - val_loss: 0.5310 - val_accuracy: 0.8291\n",
            "Epoch 6/50\n",
            "84/84 [==============================] - 2s 27ms/step - loss: 0.1917 - accuracy: 0.9263 - val_loss: 0.5016 - val_accuracy: 0.8285\n",
            "Epoch 7/50\n",
            "84/84 [==============================] - 3s 30ms/step - loss: 0.1555 - accuracy: 0.9398 - val_loss: 0.5597 - val_accuracy: 0.8285\n",
            "Epoch 8/50\n",
            "84/84 [==============================] - 2s 26ms/step - loss: 0.1407 - accuracy: 0.9377 - val_loss: 0.5916 - val_accuracy: 0.8459\n",
            "Epoch 9/50\n",
            "84/84 [==============================] - 2s 26ms/step - loss: 0.1230 - accuracy: 0.9444 - val_loss: 0.5857 - val_accuracy: 0.8409\n",
            "Epoch 10/50\n",
            "84/84 [==============================] - 2s 27ms/step - loss: 0.1194 - accuracy: 0.9505 - val_loss: 0.6214 - val_accuracy: 0.8428\n",
            "Epoch 11/50\n",
            "84/84 [==============================] - 2s 27ms/step - loss: 0.1029 - accuracy: 0.9516 - val_loss: 0.5127 - val_accuracy: 0.8452\n",
            "Epoch 12/50\n",
            "84/84 [==============================] - 2s 27ms/step - loss: 0.1047 - accuracy: 0.9529 - val_loss: 0.5390 - val_accuracy: 0.8440\n",
            "Epoch 13/50\n",
            "84/84 [==============================] - 2s 27ms/step - loss: 0.0908 - accuracy: 0.9562 - val_loss: 0.6291 - val_accuracy: 0.8515\n",
            "Epoch 14/50\n",
            "84/84 [==============================] - 2s 26ms/step - loss: 0.0811 - accuracy: 0.9592 - val_loss: 0.7731 - val_accuracy: 0.8415\n",
            "84/84 [==============================] - 1s 6ms/step - loss: 2.0566 - accuracy: 0.6317\n",
            "Epoch 1/50\n",
            "84/84 [==============================] - 6s 36ms/step - loss: 0.8811 - accuracy: 0.5694 - val_loss: 0.7390 - val_accuracy: 0.6501\n",
            "Epoch 2/50\n",
            "84/84 [==============================] - 3s 31ms/step - loss: 0.6934 - accuracy: 0.6888 - val_loss: 0.6038 - val_accuracy: 0.7377\n",
            "Epoch 3/50\n",
            "84/84 [==============================] - 2s 26ms/step - loss: 0.5600 - accuracy: 0.7659 - val_loss: 0.5426 - val_accuracy: 0.7713\n",
            "Epoch 4/50\n",
            "84/84 [==============================] - 2s 27ms/step - loss: 0.4151 - accuracy: 0.8433 - val_loss: 0.5233 - val_accuracy: 0.7943\n",
            "Epoch 5/50\n",
            "84/84 [==============================] - 2s 26ms/step - loss: 0.3419 - accuracy: 0.8655 - val_loss: 0.4626 - val_accuracy: 0.8160\n",
            "Epoch 6/50\n",
            "84/84 [==============================] - 2s 25ms/step - loss: 0.2902 - accuracy: 0.8890 - val_loss: 0.4864 - val_accuracy: 0.8073\n",
            "Epoch 7/50\n",
            "84/84 [==============================] - 2s 26ms/step - loss: 0.2590 - accuracy: 0.8960 - val_loss: 0.4648 - val_accuracy: 0.8365\n",
            "Epoch 8/50\n",
            "84/84 [==============================] - 2s 26ms/step - loss: 0.2252 - accuracy: 0.9118 - val_loss: 0.4995 - val_accuracy: 0.8092\n",
            "Epoch 9/50\n",
            "84/84 [==============================] - 2s 26ms/step - loss: 0.2010 - accuracy: 0.9188 - val_loss: 0.4871 - val_accuracy: 0.8415\n",
            "Epoch 10/50\n",
            "84/84 [==============================] - 2s 26ms/step - loss: 0.1709 - accuracy: 0.9324 - val_loss: 0.4949 - val_accuracy: 0.8428\n",
            "Epoch 11/50\n",
            "84/84 [==============================] - 2s 26ms/step - loss: 0.1577 - accuracy: 0.9373 - val_loss: 0.5168 - val_accuracy: 0.8341\n",
            "Epoch 12/50\n",
            "84/84 [==============================] - 2s 26ms/step - loss: 0.1389 - accuracy: 0.9359 - val_loss: 0.5879 - val_accuracy: 0.8440\n",
            "Epoch 13/50\n",
            "84/84 [==============================] - 2s 26ms/step - loss: 0.1277 - accuracy: 0.9428 - val_loss: 0.6456 - val_accuracy: 0.8465\n",
            "Epoch 14/50\n",
            "84/84 [==============================] - 2s 26ms/step - loss: 0.1107 - accuracy: 0.9435 - val_loss: 0.6678 - val_accuracy: 0.8471\n",
            "Epoch 15/50\n",
            "84/84 [==============================] - 2s 26ms/step - loss: 0.1112 - accuracy: 0.9465 - val_loss: 0.6978 - val_accuracy: 0.8459\n",
            "84/84 [==============================] - 1s 7ms/step - loss: 1.7505 - accuracy: 0.6654\n",
            "Epoch 1/50\n",
            "84/84 [==============================] - 6s 35ms/step - loss: 0.8692 - accuracy: 0.5636 - val_loss: 0.7583 - val_accuracy: 0.6401\n",
            "Epoch 2/50\n",
            "84/84 [==============================] - 2s 25ms/step - loss: 0.6893 - accuracy: 0.7021 - val_loss: 0.6352 - val_accuracy: 0.7191\n",
            "Epoch 3/50\n",
            "84/84 [==============================] - 2s 25ms/step - loss: 0.5183 - accuracy: 0.7788 - val_loss: 0.5805 - val_accuracy: 0.7657\n",
            "Epoch 4/50\n",
            "84/84 [==============================] - 2s 26ms/step - loss: 0.4078 - accuracy: 0.8387 - val_loss: 0.5044 - val_accuracy: 0.7918\n",
            "Epoch 5/50\n",
            "84/84 [==============================] - 2s 26ms/step - loss: 0.3313 - accuracy: 0.8727 - val_loss: 0.5337 - val_accuracy: 0.7912\n",
            "Epoch 6/50\n",
            "84/84 [==============================] - 2s 26ms/step - loss: 0.2750 - accuracy: 0.8991 - val_loss: 0.5145 - val_accuracy: 0.8204\n",
            "Epoch 7/50\n",
            "84/84 [==============================] - 2s 25ms/step - loss: 0.2257 - accuracy: 0.9070 - val_loss: 0.4661 - val_accuracy: 0.8347\n",
            "Epoch 8/50\n",
            "84/84 [==============================] - 2s 25ms/step - loss: 0.1972 - accuracy: 0.9203 - val_loss: 0.5451 - val_accuracy: 0.8278\n",
            "Epoch 9/50\n",
            "84/84 [==============================] - 2s 26ms/step - loss: 0.1768 - accuracy: 0.9274 - val_loss: 0.5704 - val_accuracy: 0.8365\n",
            "Epoch 10/50\n",
            "84/84 [==============================] - 2s 25ms/step - loss: 0.1665 - accuracy: 0.9362 - val_loss: 0.6651 - val_accuracy: 0.8365\n",
            "Epoch 11/50\n",
            "84/84 [==============================] - 2s 25ms/step - loss: 0.1434 - accuracy: 0.9425 - val_loss: 0.6641 - val_accuracy: 0.8334\n",
            "Epoch 12/50\n",
            "84/84 [==============================] - 2s 26ms/step - loss: 0.1455 - accuracy: 0.9405 - val_loss: 0.5618 - val_accuracy: 0.8428\n",
            "Epoch 13/50\n",
            "84/84 [==============================] - 2s 25ms/step - loss: 0.1259 - accuracy: 0.9441 - val_loss: 0.6953 - val_accuracy: 0.8452\n",
            "Epoch 14/50\n",
            "84/84 [==============================] - 2s 25ms/step - loss: 0.1144 - accuracy: 0.9491 - val_loss: 0.7111 - val_accuracy: 0.8471\n",
            "Epoch 15/50\n",
            "84/84 [==============================] - 2s 25ms/step - loss: 0.1016 - accuracy: 0.9559 - val_loss: 0.6343 - val_accuracy: 0.8490\n",
            "Epoch 16/50\n",
            "84/84 [==============================] - 2s 25ms/step - loss: 0.0860 - accuracy: 0.9630 - val_loss: 0.6614 - val_accuracy: 0.8452\n",
            "Epoch 17/50\n",
            "84/84 [==============================] - 2s 25ms/step - loss: 0.0907 - accuracy: 0.9587 - val_loss: 0.6884 - val_accuracy: 0.8465\n",
            "84/84 [==============================] - 1s 6ms/step - loss: 1.7629 - accuracy: 0.6632\n",
            "Epoch 1/50\n",
            "84/84 [==============================] - 6s 37ms/step - loss: 0.8699 - accuracy: 0.5751 - val_loss: 0.7289 - val_accuracy: 0.6687\n",
            "Epoch 2/50\n",
            "84/84 [==============================] - 2s 27ms/step - loss: 0.6912 - accuracy: 0.6903 - val_loss: 0.6677 - val_accuracy: 0.6930\n",
            "Epoch 3/50\n",
            "84/84 [==============================] - 2s 27ms/step - loss: 0.5442 - accuracy: 0.7752 - val_loss: 0.5532 - val_accuracy: 0.7756\n",
            "Epoch 4/50\n",
            "84/84 [==============================] - 2s 27ms/step - loss: 0.4290 - accuracy: 0.8333 - val_loss: 0.4868 - val_accuracy: 0.8104\n",
            "Epoch 5/50\n",
            "84/84 [==============================] - 2s 26ms/step - loss: 0.3484 - accuracy: 0.8632 - val_loss: 0.5867 - val_accuracy: 0.7725\n",
            "Epoch 6/50\n",
            "84/84 [==============================] - 2s 28ms/step - loss: 0.2870 - accuracy: 0.8928 - val_loss: 0.4815 - val_accuracy: 0.8191\n",
            "Epoch 7/50\n",
            "84/84 [==============================] - 3s 30ms/step - loss: 0.2429 - accuracy: 0.9060 - val_loss: 0.4967 - val_accuracy: 0.8210\n",
            "Epoch 8/50\n",
            "84/84 [==============================] - 2s 29ms/step - loss: 0.1991 - accuracy: 0.9236 - val_loss: 0.4969 - val_accuracy: 0.8272\n",
            "Epoch 9/50\n",
            "84/84 [==============================] - 2s 27ms/step - loss: 0.1810 - accuracy: 0.9252 - val_loss: 0.5154 - val_accuracy: 0.8328\n",
            "Epoch 10/50\n",
            "84/84 [==============================] - 2s 29ms/step - loss: 0.1644 - accuracy: 0.9290 - val_loss: 0.4939 - val_accuracy: 0.8341\n",
            "Epoch 11/50\n",
            "84/84 [==============================] - 2s 28ms/step - loss: 0.1396 - accuracy: 0.9386 - val_loss: 0.5822 - val_accuracy: 0.8247\n",
            "Epoch 12/50\n",
            "84/84 [==============================] - 2s 28ms/step - loss: 0.1356 - accuracy: 0.9398 - val_loss: 0.5257 - val_accuracy: 0.8390\n",
            "Epoch 13/50\n",
            "84/84 [==============================] - 2s 29ms/step - loss: 0.1213 - accuracy: 0.9486 - val_loss: 0.6173 - val_accuracy: 0.8434\n",
            "Epoch 14/50\n",
            "84/84 [==============================] - 2s 30ms/step - loss: 0.1135 - accuracy: 0.9479 - val_loss: 0.6194 - val_accuracy: 0.8397\n",
            "Epoch 15/50\n",
            "84/84 [==============================] - 3s 30ms/step - loss: 0.1072 - accuracy: 0.9482 - val_loss: 0.6203 - val_accuracy: 0.8459\n",
            "Epoch 16/50\n",
            "84/84 [==============================] - 2s 30ms/step - loss: 0.1050 - accuracy: 0.9497 - val_loss: 0.6245 - val_accuracy: 0.8372\n",
            "84/84 [==============================] - 1s 7ms/step - loss: 1.5762 - accuracy: 0.6451\n",
            "Epoch 1/50\n",
            "84/84 [==============================] - 7s 57ms/step - loss: 0.9247 - accuracy: 0.5869 - val_loss: 0.7602 - val_accuracy: 0.6321\n",
            "Epoch 2/50\n",
            "84/84 [==============================] - 4s 47ms/step - loss: 0.6984 - accuracy: 0.6870 - val_loss: 0.5507 - val_accuracy: 0.7756\n",
            "Epoch 3/50\n",
            "84/84 [==============================] - 4s 47ms/step - loss: 0.4309 - accuracy: 0.8243 - val_loss: 0.5011 - val_accuracy: 0.8080\n",
            "Epoch 4/50\n",
            "84/84 [==============================] - 4s 48ms/step - loss: 0.3106 - accuracy: 0.8770 - val_loss: 0.4391 - val_accuracy: 0.8303\n",
            "Epoch 5/50\n",
            "84/84 [==============================] - 4s 46ms/step - loss: 0.2346 - accuracy: 0.9101 - val_loss: 0.4252 - val_accuracy: 0.8365\n",
            "Epoch 6/50\n",
            "84/84 [==============================] - 4s 46ms/step - loss: 0.1937 - accuracy: 0.9272 - val_loss: 0.4333 - val_accuracy: 0.8409\n",
            "Epoch 7/50\n",
            "84/84 [==============================] - 4s 50ms/step - loss: 0.1550 - accuracy: 0.9363 - val_loss: 0.4967 - val_accuracy: 0.8508\n",
            "Epoch 8/50\n",
            "84/84 [==============================] - 4s 48ms/step - loss: 0.1347 - accuracy: 0.9389 - val_loss: 0.4898 - val_accuracy: 0.8502\n",
            "Epoch 9/50\n",
            "84/84 [==============================] - 4s 47ms/step - loss: 0.1110 - accuracy: 0.9488 - val_loss: 0.5878 - val_accuracy: 0.8465\n",
            "Epoch 10/50\n",
            "84/84 [==============================] - 4s 48ms/step - loss: 0.1216 - accuracy: 0.9395 - val_loss: 0.5440 - val_accuracy: 0.8558\n",
            "Epoch 11/50\n",
            "84/84 [==============================] - 4s 47ms/step - loss: 0.1068 - accuracy: 0.9494 - val_loss: 0.5467 - val_accuracy: 0.8539\n",
            "Epoch 12/50\n",
            "84/84 [==============================] - 4s 46ms/step - loss: 0.0963 - accuracy: 0.9501 - val_loss: 0.5598 - val_accuracy: 0.8577\n",
            "Epoch 13/50\n",
            "84/84 [==============================] - 4s 48ms/step - loss: 0.0974 - accuracy: 0.9561 - val_loss: 0.7633 - val_accuracy: 0.8571\n",
            "Epoch 14/50\n",
            "84/84 [==============================] - 4s 46ms/step - loss: 0.0918 - accuracy: 0.9472 - val_loss: 0.6821 - val_accuracy: 0.8564\n",
            "Epoch 15/50\n",
            "84/84 [==============================] - 4s 48ms/step - loss: 0.0942 - accuracy: 0.9507 - val_loss: 0.7325 - val_accuracy: 0.8577\n",
            "84/84 [==============================] - 1s 7ms/step - loss: 1.9910 - accuracy: 0.6710\n",
            "Epoch 1/50\n",
            "84/84 [==============================] - 7s 59ms/step - loss: 0.8765 - accuracy: 0.6011 - val_loss: 0.7324 - val_accuracy: 0.6675\n",
            "Epoch 2/50\n",
            "84/84 [==============================] - 4s 47ms/step - loss: 0.6332 - accuracy: 0.7266 - val_loss: 0.6052 - val_accuracy: 0.7557\n",
            "Epoch 3/50\n",
            "84/84 [==============================] - 4s 47ms/step - loss: 0.4068 - accuracy: 0.8405 - val_loss: 0.5054 - val_accuracy: 0.7993\n",
            "Epoch 4/50\n",
            "84/84 [==============================] - 4s 47ms/step - loss: 0.2685 - accuracy: 0.9013 - val_loss: 0.4710 - val_accuracy: 0.8235\n",
            "Epoch 5/50\n",
            "84/84 [==============================] - 4s 48ms/step - loss: 0.2183 - accuracy: 0.9155 - val_loss: 0.4796 - val_accuracy: 0.8403\n",
            "Epoch 6/50\n",
            "84/84 [==============================] - 4s 46ms/step - loss: 0.1662 - accuracy: 0.9366 - val_loss: 0.5096 - val_accuracy: 0.8397\n",
            "Epoch 7/50\n",
            "84/84 [==============================] - 4s 47ms/step - loss: 0.1433 - accuracy: 0.9423 - val_loss: 0.5262 - val_accuracy: 0.8459\n",
            "Epoch 8/50\n",
            "84/84 [==============================] - 4s 48ms/step - loss: 0.1353 - accuracy: 0.9404 - val_loss: 0.5902 - val_accuracy: 0.8496\n",
            "Epoch 9/50\n",
            "84/84 [==============================] - 4s 51ms/step - loss: 0.1265 - accuracy: 0.9479 - val_loss: 0.5901 - val_accuracy: 0.8465\n",
            "Epoch 10/50\n",
            "84/84 [==============================] - 4s 48ms/step - loss: 0.1047 - accuracy: 0.9548 - val_loss: 0.6150 - val_accuracy: 0.8583\n",
            "Epoch 11/50\n",
            "84/84 [==============================] - 4s 46ms/step - loss: 0.0870 - accuracy: 0.9580 - val_loss: 0.6158 - val_accuracy: 0.8558\n",
            "Epoch 12/50\n",
            "84/84 [==============================] - 4s 45ms/step - loss: 0.0912 - accuracy: 0.9539 - val_loss: 0.6889 - val_accuracy: 0.8496\n",
            "Epoch 13/50\n",
            "84/84 [==============================] - 4s 48ms/step - loss: 0.0846 - accuracy: 0.9602 - val_loss: 0.8123 - val_accuracy: 0.8564\n",
            "Epoch 14/50\n",
            "84/84 [==============================] - 4s 45ms/step - loss: 0.0896 - accuracy: 0.9572 - val_loss: 0.7272 - val_accuracy: 0.8546\n",
            "84/84 [==============================] - 1s 7ms/step - loss: 2.0645 - accuracy: 0.6643\n",
            "Epoch 1/50\n",
            "84/84 [==============================] - 7s 56ms/step - loss: 0.8812 - accuracy: 0.6014 - val_loss: 0.7363 - val_accuracy: 0.6532\n",
            "Epoch 2/50\n",
            "84/84 [==============================] - 4s 48ms/step - loss: 0.6440 - accuracy: 0.7098 - val_loss: 0.5641 - val_accuracy: 0.7589\n",
            "Epoch 3/50\n",
            "84/84 [==============================] - 4s 46ms/step - loss: 0.3829 - accuracy: 0.8481 - val_loss: 0.4701 - val_accuracy: 0.8098\n",
            "Epoch 4/50\n",
            "84/84 [==============================] - 4s 46ms/step - loss: 0.2430 - accuracy: 0.9058 - val_loss: 0.4734 - val_accuracy: 0.8334\n",
            "Epoch 5/50\n",
            "84/84 [==============================] - 4s 47ms/step - loss: 0.2018 - accuracy: 0.9194 - val_loss: 0.4985 - val_accuracy: 0.8266\n",
            "Epoch 6/50\n",
            "84/84 [==============================] - 4s 47ms/step - loss: 0.1706 - accuracy: 0.9295 - val_loss: 0.5140 - val_accuracy: 0.8359\n",
            "Epoch 7/50\n",
            "84/84 [==============================] - 4s 47ms/step - loss: 0.1335 - accuracy: 0.9423 - val_loss: 0.4752 - val_accuracy: 0.8428\n",
            "Epoch 8/50\n",
            "84/84 [==============================] - 4s 47ms/step - loss: 0.1221 - accuracy: 0.9471 - val_loss: 0.5500 - val_accuracy: 0.8421\n",
            "Epoch 9/50\n",
            "84/84 [==============================] - 4s 46ms/step - loss: 0.1008 - accuracy: 0.9482 - val_loss: 0.6175 - val_accuracy: 0.8465\n",
            "Epoch 10/50\n",
            "84/84 [==============================] - 4s 48ms/step - loss: 0.1006 - accuracy: 0.9519 - val_loss: 0.6573 - val_accuracy: 0.8484\n",
            "Epoch 11/50\n",
            "84/84 [==============================] - 4s 47ms/step - loss: 0.0905 - accuracy: 0.9561 - val_loss: 0.6559 - val_accuracy: 0.8440\n",
            "Epoch 12/50\n",
            "84/84 [==============================] - 4s 49ms/step - loss: 0.0885 - accuracy: 0.9555 - val_loss: 0.6418 - val_accuracy: 0.8452\n",
            "Epoch 13/50\n",
            "84/84 [==============================] - 4s 48ms/step - loss: 0.0850 - accuracy: 0.9535 - val_loss: 0.6787 - val_accuracy: 0.8452\n",
            "84/84 [==============================] - 1s 7ms/step - loss: 1.8154 - accuracy: 0.6459\n",
            "Epoch 1/50\n",
            "84/84 [==============================] - 5s 22ms/step - loss: 0.8832 - accuracy: 0.5865 - val_loss: 0.7917 - val_accuracy: 0.6513\n",
            "Epoch 2/50\n",
            "84/84 [==============================] - 1s 15ms/step - loss: 0.7502 - accuracy: 0.6643 - val_loss: 0.6885 - val_accuracy: 0.6979\n",
            "Epoch 3/50\n",
            "84/84 [==============================] - 1s 14ms/step - loss: 0.6217 - accuracy: 0.7495 - val_loss: 0.6717 - val_accuracy: 0.7278\n",
            "Epoch 4/50\n",
            "84/84 [==============================] - 1s 14ms/step - loss: 0.5338 - accuracy: 0.7950 - val_loss: 0.5577 - val_accuracy: 0.7744\n",
            "Epoch 5/50\n",
            "84/84 [==============================] - 1s 15ms/step - loss: 0.4230 - accuracy: 0.8381 - val_loss: 0.5315 - val_accuracy: 0.7930\n",
            "Epoch 6/50\n",
            "84/84 [==============================] - 1s 14ms/step - loss: 0.3746 - accuracy: 0.8536 - val_loss: 0.5061 - val_accuracy: 0.8048\n",
            "Epoch 7/50\n",
            "84/84 [==============================] - 1s 14ms/step - loss: 0.3210 - accuracy: 0.8823 - val_loss: 0.5144 - val_accuracy: 0.7955\n",
            "Epoch 8/50\n",
            "84/84 [==============================] - 1s 14ms/step - loss: 0.2974 - accuracy: 0.8945 - val_loss: 0.4737 - val_accuracy: 0.8235\n",
            "Epoch 9/50\n",
            "84/84 [==============================] - 1s 14ms/step - loss: 0.2604 - accuracy: 0.9055 - val_loss: 0.5480 - val_accuracy: 0.8135\n",
            "Epoch 10/50\n",
            "84/84 [==============================] - 1s 14ms/step - loss: 0.2383 - accuracy: 0.9098 - val_loss: 0.5071 - val_accuracy: 0.8328\n",
            "Epoch 11/50\n",
            "84/84 [==============================] - 1s 14ms/step - loss: 0.2259 - accuracy: 0.9116 - val_loss: 0.4879 - val_accuracy: 0.8278\n",
            "Epoch 12/50\n",
            "84/84 [==============================] - 1s 14ms/step - loss: 0.2065 - accuracy: 0.9235 - val_loss: 0.4925 - val_accuracy: 0.8365\n",
            "Epoch 13/50\n",
            "84/84 [==============================] - 1s 14ms/step - loss: 0.1842 - accuracy: 0.9282 - val_loss: 0.5344 - val_accuracy: 0.8272\n",
            "Epoch 14/50\n",
            "84/84 [==============================] - 1s 16ms/step - loss: 0.1818 - accuracy: 0.9269 - val_loss: 0.5156 - val_accuracy: 0.8384\n",
            "Epoch 15/50\n",
            "84/84 [==============================] - 1s 14ms/step - loss: 0.1650 - accuracy: 0.9333 - val_loss: 0.4974 - val_accuracy: 0.8328\n",
            "Epoch 16/50\n",
            "84/84 [==============================] - 1s 14ms/step - loss: 0.1674 - accuracy: 0.9309 - val_loss: 0.5970 - val_accuracy: 0.8328\n",
            "Epoch 17/50\n",
            "84/84 [==============================] - 1s 14ms/step - loss: 0.1635 - accuracy: 0.9330 - val_loss: 0.5362 - val_accuracy: 0.8403\n",
            "Epoch 18/50\n",
            "84/84 [==============================] - 1s 14ms/step - loss: 0.1514 - accuracy: 0.9387 - val_loss: 0.5370 - val_accuracy: 0.8353\n",
            "84/84 [==============================] - 1s 5ms/step - loss: 1.3216 - accuracy: 0.6583\n",
            "Epoch 1/50\n",
            "84/84 [==============================] - 5s 22ms/step - loss: 0.8669 - accuracy: 0.5537 - val_loss: 0.8275 - val_accuracy: 0.6283\n",
            "Epoch 2/50\n",
            "84/84 [==============================] - 1s 14ms/step - loss: 0.7441 - accuracy: 0.6593 - val_loss: 0.7104 - val_accuracy: 0.6799\n",
            "Epoch 3/50\n",
            "84/84 [==============================] - 1s 18ms/step - loss: 0.6166 - accuracy: 0.7386 - val_loss: 0.6282 - val_accuracy: 0.7321\n",
            "Epoch 4/50\n",
            "84/84 [==============================] - 1s 14ms/step - loss: 0.4873 - accuracy: 0.7989 - val_loss: 0.5591 - val_accuracy: 0.7750\n",
            "Epoch 5/50\n",
            "84/84 [==============================] - 1s 14ms/step - loss: 0.3942 - accuracy: 0.8435 - val_loss: 0.5650 - val_accuracy: 0.7732\n",
            "Epoch 6/50\n",
            "84/84 [==============================] - 1s 14ms/step - loss: 0.3331 - accuracy: 0.8705 - val_loss: 0.5571 - val_accuracy: 0.7719\n",
            "Epoch 7/50\n",
            "84/84 [==============================] - 1s 15ms/step - loss: 0.2959 - accuracy: 0.8860 - val_loss: 0.5040 - val_accuracy: 0.8067\n",
            "Epoch 8/50\n",
            "84/84 [==============================] - 1s 14ms/step - loss: 0.2468 - accuracy: 0.9030 - val_loss: 0.5414 - val_accuracy: 0.8055\n",
            "Epoch 9/50\n",
            "84/84 [==============================] - 1s 14ms/step - loss: 0.2361 - accuracy: 0.9085 - val_loss: 0.5073 - val_accuracy: 0.8148\n",
            "Epoch 10/50\n",
            "84/84 [==============================] - 1s 14ms/step - loss: 0.2146 - accuracy: 0.9186 - val_loss: 0.4984 - val_accuracy: 0.8347\n",
            "Epoch 11/50\n",
            "84/84 [==============================] - 1s 14ms/step - loss: 0.1922 - accuracy: 0.9272 - val_loss: 0.5328 - val_accuracy: 0.8160\n",
            "Epoch 12/50\n",
            "84/84 [==============================] - 1s 14ms/step - loss: 0.1930 - accuracy: 0.9266 - val_loss: 0.4988 - val_accuracy: 0.8328\n",
            "Epoch 13/50\n",
            "84/84 [==============================] - 1s 14ms/step - loss: 0.1793 - accuracy: 0.9297 - val_loss: 0.5303 - val_accuracy: 0.8322\n",
            "Epoch 14/50\n",
            "84/84 [==============================] - 1s 14ms/step - loss: 0.1575 - accuracy: 0.9420 - val_loss: 0.5248 - val_accuracy: 0.8415\n",
            "Epoch 15/50\n",
            "84/84 [==============================] - 1s 14ms/step - loss: 0.1463 - accuracy: 0.9417 - val_loss: 0.5310 - val_accuracy: 0.8390\n",
            "Epoch 16/50\n",
            "84/84 [==============================] - 1s 14ms/step - loss: 0.1532 - accuracy: 0.9362 - val_loss: 0.5292 - val_accuracy: 0.8459\n",
            "Epoch 17/50\n",
            "84/84 [==============================] - 1s 14ms/step - loss: 0.1368 - accuracy: 0.9441 - val_loss: 0.5408 - val_accuracy: 0.8440\n",
            "Epoch 18/50\n",
            "84/84 [==============================] - 1s 14ms/step - loss: 0.1272 - accuracy: 0.9472 - val_loss: 0.5504 - val_accuracy: 0.8415\n",
            "Epoch 19/50\n",
            "84/84 [==============================] - 1s 14ms/step - loss: 0.1106 - accuracy: 0.9510 - val_loss: 0.5359 - val_accuracy: 0.8434\n",
            "Epoch 20/50\n",
            "84/84 [==============================] - 1s 14ms/step - loss: 0.1191 - accuracy: 0.9464 - val_loss: 0.5585 - val_accuracy: 0.8527\n",
            "84/84 [==============================] - 1s 5ms/step - loss: 1.4382 - accuracy: 0.6684\n",
            "Epoch 1/50\n",
            "84/84 [==============================] - 5s 22ms/step - loss: 0.8654 - accuracy: 0.5916 - val_loss: 0.8022 - val_accuracy: 0.6134\n",
            "Epoch 2/50\n",
            "84/84 [==============================] - 1s 14ms/step - loss: 0.7387 - accuracy: 0.6653 - val_loss: 0.6788 - val_accuracy: 0.7054\n",
            "Epoch 3/50\n",
            "84/84 [==============================] - 1s 14ms/step - loss: 0.6174 - accuracy: 0.7397 - val_loss: 0.6225 - val_accuracy: 0.7265\n",
            "Epoch 4/50\n",
            "84/84 [==============================] - 1s 14ms/step - loss: 0.5286 - accuracy: 0.7923 - val_loss: 0.5889 - val_accuracy: 0.7613\n",
            "Epoch 5/50\n",
            "84/84 [==============================] - 1s 15ms/step - loss: 0.4323 - accuracy: 0.8343 - val_loss: 0.5337 - val_accuracy: 0.7825\n",
            "Epoch 6/50\n",
            "84/84 [==============================] - 1s 14ms/step - loss: 0.3529 - accuracy: 0.8641 - val_loss: 0.5288 - val_accuracy: 0.7930\n",
            "Epoch 7/50\n",
            "84/84 [==============================] - 1s 14ms/step - loss: 0.3109 - accuracy: 0.8818 - val_loss: 0.5291 - val_accuracy: 0.7986\n",
            "Epoch 8/50\n",
            "84/84 [==============================] - 1s 14ms/step - loss: 0.2775 - accuracy: 0.8937 - val_loss: 0.5063 - val_accuracy: 0.8104\n",
            "Epoch 9/50\n",
            "84/84 [==============================] - 1s 14ms/step - loss: 0.2356 - accuracy: 0.9143 - val_loss: 0.4956 - val_accuracy: 0.8055\n",
            "Epoch 10/50\n",
            "84/84 [==============================] - 1s 14ms/step - loss: 0.2125 - accuracy: 0.9176 - val_loss: 0.5078 - val_accuracy: 0.8173\n",
            "Epoch 11/50\n",
            "84/84 [==============================] - 1s 14ms/step - loss: 0.2069 - accuracy: 0.9190 - val_loss: 0.4879 - val_accuracy: 0.8297\n",
            "Epoch 12/50\n",
            "84/84 [==============================] - 1s 14ms/step - loss: 0.1942 - accuracy: 0.9170 - val_loss: 0.5122 - val_accuracy: 0.8291\n",
            "Epoch 13/50\n",
            "84/84 [==============================] - 1s 15ms/step - loss: 0.1754 - accuracy: 0.9314 - val_loss: 0.5325 - val_accuracy: 0.8303\n",
            "Epoch 14/50\n",
            "84/84 [==============================] - 1s 14ms/step - loss: 0.1691 - accuracy: 0.9352 - val_loss: 0.5460 - val_accuracy: 0.8347\n",
            "Epoch 15/50\n",
            "84/84 [==============================] - 1s 14ms/step - loss: 0.1637 - accuracy: 0.9359 - val_loss: 0.5308 - val_accuracy: 0.8347\n",
            "Epoch 16/50\n",
            "84/84 [==============================] - 1s 14ms/step - loss: 0.1570 - accuracy: 0.9378 - val_loss: 0.5473 - val_accuracy: 0.8390\n",
            "Epoch 17/50\n",
            "84/84 [==============================] - 1s 14ms/step - loss: 0.1378 - accuracy: 0.9445 - val_loss: 0.5556 - val_accuracy: 0.8260\n",
            "Epoch 18/50\n",
            "84/84 [==============================] - 1s 15ms/step - loss: 0.1372 - accuracy: 0.9422 - val_loss: 0.5483 - val_accuracy: 0.8384\n",
            "Epoch 19/50\n",
            "84/84 [==============================] - 1s 14ms/step - loss: 0.1235 - accuracy: 0.9460 - val_loss: 0.5316 - val_accuracy: 0.8384\n",
            "Epoch 20/50\n",
            "84/84 [==============================] - 1s 14ms/step - loss: 0.1164 - accuracy: 0.9528 - val_loss: 0.5782 - val_accuracy: 0.8353\n",
            "Epoch 21/50\n",
            "84/84 [==============================] - 1s 16ms/step - loss: 0.1193 - accuracy: 0.9525 - val_loss: 0.5797 - val_accuracy: 0.8378\n",
            "84/84 [==============================] - 1s 5ms/step - loss: 1.4136 - accuracy: 0.6231\n",
            "Epoch 1/50\n",
            "84/84 [==============================] - 5s 25ms/step - loss: 0.9072 - accuracy: 0.5728 - val_loss: 0.8148 - val_accuracy: 0.5985\n",
            "Epoch 2/50\n",
            "84/84 [==============================] - 1s 17ms/step - loss: 0.7527 - accuracy: 0.6403 - val_loss: 0.6087 - val_accuracy: 0.7284\n",
            "Epoch 3/50\n",
            "84/84 [==============================] - 1s 17ms/step - loss: 0.4800 - accuracy: 0.8115 - val_loss: 0.4937 - val_accuracy: 0.7943\n",
            "Epoch 4/50\n",
            "84/84 [==============================] - 1s 17ms/step - loss: 0.3202 - accuracy: 0.8805 - val_loss: 0.4381 - val_accuracy: 0.8229\n",
            "Epoch 5/50\n",
            "84/84 [==============================] - 1s 17ms/step - loss: 0.2380 - accuracy: 0.9160 - val_loss: 0.4314 - val_accuracy: 0.8378\n",
            "Epoch 6/50\n",
            "84/84 [==============================] - 2s 18ms/step - loss: 0.1977 - accuracy: 0.9235 - val_loss: 0.4309 - val_accuracy: 0.8378\n",
            "Epoch 7/50\n",
            "84/84 [==============================] - 1s 17ms/step - loss: 0.1551 - accuracy: 0.9387 - val_loss: 0.4273 - val_accuracy: 0.8440\n",
            "Epoch 8/50\n",
            "84/84 [==============================] - 2s 21ms/step - loss: 0.1361 - accuracy: 0.9468 - val_loss: 0.4391 - val_accuracy: 0.8440\n",
            "Epoch 9/50\n",
            "84/84 [==============================] - 1s 17ms/step - loss: 0.1312 - accuracy: 0.9449 - val_loss: 0.4572 - val_accuracy: 0.8515\n",
            "Epoch 10/50\n",
            "84/84 [==============================] - 1s 17ms/step - loss: 0.1205 - accuracy: 0.9448 - val_loss: 0.4829 - val_accuracy: 0.8527\n",
            "Epoch 11/50\n",
            "84/84 [==============================] - 1s 17ms/step - loss: 0.1141 - accuracy: 0.9465 - val_loss: 0.4819 - val_accuracy: 0.8465\n",
            "Epoch 12/50\n",
            "84/84 [==============================] - 1s 17ms/step - loss: 0.1004 - accuracy: 0.9537 - val_loss: 0.4850 - val_accuracy: 0.8515\n",
            "Epoch 13/50\n",
            "84/84 [==============================] - 1s 17ms/step - loss: 0.1068 - accuracy: 0.9521 - val_loss: 0.5386 - val_accuracy: 0.8515\n",
            "Epoch 14/50\n",
            "84/84 [==============================] - 1s 17ms/step - loss: 0.0913 - accuracy: 0.9554 - val_loss: 0.5386 - val_accuracy: 0.8533\n",
            "Epoch 15/50\n",
            "84/84 [==============================] - 1s 17ms/step - loss: 0.0907 - accuracy: 0.9548 - val_loss: 0.5386 - val_accuracy: 0.8477\n",
            "Epoch 16/50\n",
            "84/84 [==============================] - 1s 16ms/step - loss: 0.0787 - accuracy: 0.9616 - val_loss: 0.5677 - val_accuracy: 0.8465\n",
            "Epoch 17/50\n",
            "84/84 [==============================] - 1s 17ms/step - loss: 0.0810 - accuracy: 0.9586 - val_loss: 0.5642 - val_accuracy: 0.8496\n",
            "84/84 [==============================] - 1s 6ms/step - loss: 1.5175 - accuracy: 0.6453\n",
            "Epoch 1/50\n",
            "84/84 [==============================] - 5s 28ms/step - loss: 0.9252 - accuracy: 0.5288 - val_loss: 0.8437 - val_accuracy: 0.5985\n",
            "Epoch 2/50\n",
            "84/84 [==============================] - 1s 17ms/step - loss: 0.8016 - accuracy: 0.6246 - val_loss: 0.7189 - val_accuracy: 0.6861\n",
            "Epoch 3/50\n",
            "84/84 [==============================] - 1s 17ms/step - loss: 0.6292 - accuracy: 0.7738 - val_loss: 0.6278 - val_accuracy: 0.7539\n",
            "Epoch 4/50\n",
            "84/84 [==============================] - 1s 17ms/step - loss: 0.4643 - accuracy: 0.8404 - val_loss: 0.5384 - val_accuracy: 0.7856\n",
            "Epoch 5/50\n",
            "84/84 [==============================] - 1s 17ms/step - loss: 0.3331 - accuracy: 0.8874 - val_loss: 0.4939 - val_accuracy: 0.8160\n",
            "Epoch 6/50\n",
            "84/84 [==============================] - 1s 17ms/step - loss: 0.2508 - accuracy: 0.9158 - val_loss: 0.4863 - val_accuracy: 0.8334\n",
            "Epoch 7/50\n",
            "84/84 [==============================] - 1s 16ms/step - loss: 0.1935 - accuracy: 0.9407 - val_loss: 0.5231 - val_accuracy: 0.8266\n",
            "Epoch 8/50\n",
            "84/84 [==============================] - 1s 18ms/step - loss: 0.1716 - accuracy: 0.9350 - val_loss: 0.4745 - val_accuracy: 0.8397\n",
            "Epoch 9/50\n",
            "84/84 [==============================] - 1s 17ms/step - loss: 0.1532 - accuracy: 0.9453 - val_loss: 0.5027 - val_accuracy: 0.8459\n",
            "Epoch 10/50\n",
            "84/84 [==============================] - 1s 18ms/step - loss: 0.1343 - accuracy: 0.9459 - val_loss: 0.5123 - val_accuracy: 0.8384\n",
            "Epoch 11/50\n",
            "84/84 [==============================] - 1s 17ms/step - loss: 0.1255 - accuracy: 0.9442 - val_loss: 0.5287 - val_accuracy: 0.8428\n",
            "Epoch 12/50\n",
            "84/84 [==============================] - 1s 17ms/step - loss: 0.1154 - accuracy: 0.9501 - val_loss: 0.5505 - val_accuracy: 0.8446\n",
            "Epoch 13/50\n",
            "84/84 [==============================] - 1s 17ms/step - loss: 0.1179 - accuracy: 0.9463 - val_loss: 0.5404 - val_accuracy: 0.8403\n",
            "Epoch 14/50\n",
            "84/84 [==============================] - 1s 17ms/step - loss: 0.1076 - accuracy: 0.9544 - val_loss: 0.5534 - val_accuracy: 0.8409\n",
            "Epoch 15/50\n",
            "84/84 [==============================] - 1s 18ms/step - loss: 0.1132 - accuracy: 0.9507 - val_loss: 0.5595 - val_accuracy: 0.8471\n",
            "Epoch 16/50\n",
            "84/84 [==============================] - 1s 16ms/step - loss: 0.0931 - accuracy: 0.9576 - val_loss: 0.5997 - val_accuracy: 0.8465\n",
            "Epoch 17/50\n",
            "84/84 [==============================] - 1s 18ms/step - loss: 0.0875 - accuracy: 0.9579 - val_loss: 0.6005 - val_accuracy: 0.8440\n",
            "Epoch 18/50\n",
            "84/84 [==============================] - 1s 17ms/step - loss: 0.0846 - accuracy: 0.9592 - val_loss: 0.5947 - val_accuracy: 0.8421\n",
            "84/84 [==============================] - 1s 7ms/step - loss: 1.5606 - accuracy: 0.6457\n",
            "Epoch 1/50\n",
            "84/84 [==============================] - 5s 25ms/step - loss: 0.9332 - accuracy: 0.5161 - val_loss: 0.8063 - val_accuracy: 0.6091\n",
            "Epoch 2/50\n",
            "84/84 [==============================] - 1s 17ms/step - loss: 0.7464 - accuracy: 0.6735 - val_loss: 0.5988 - val_accuracy: 0.7470\n",
            "Epoch 3/50\n",
            "84/84 [==============================] - 1s 17ms/step - loss: 0.4649 - accuracy: 0.8212 - val_loss: 0.4987 - val_accuracy: 0.7937\n",
            "Epoch 4/50\n",
            "84/84 [==============================] - 1s 17ms/step - loss: 0.3184 - accuracy: 0.8833 - val_loss: 0.4556 - val_accuracy: 0.8241\n",
            "Epoch 5/50\n",
            "84/84 [==============================] - 1s 17ms/step - loss: 0.2270 - accuracy: 0.9162 - val_loss: 0.4529 - val_accuracy: 0.8260\n",
            "Epoch 6/50\n",
            "84/84 [==============================] - 1s 17ms/step - loss: 0.1909 - accuracy: 0.9253 - val_loss: 0.4608 - val_accuracy: 0.8403\n",
            "Epoch 7/50\n",
            "84/84 [==============================] - 1s 18ms/step - loss: 0.1493 - accuracy: 0.9403 - val_loss: 0.4644 - val_accuracy: 0.8471\n",
            "Epoch 8/50\n",
            "84/84 [==============================] - 1s 17ms/step - loss: 0.1280 - accuracy: 0.9464 - val_loss: 0.5095 - val_accuracy: 0.8533\n",
            "Epoch 9/50\n",
            "84/84 [==============================] - 1s 17ms/step - loss: 0.1238 - accuracy: 0.9465 - val_loss: 0.5252 - val_accuracy: 0.8434\n",
            "Epoch 10/50\n",
            "84/84 [==============================] - 1s 17ms/step - loss: 0.1121 - accuracy: 0.9452 - val_loss: 0.5219 - val_accuracy: 0.8521\n",
            "Epoch 11/50\n",
            "84/84 [==============================] - 1s 17ms/step - loss: 0.1109 - accuracy: 0.9517 - val_loss: 0.5565 - val_accuracy: 0.8508\n",
            "Epoch 12/50\n",
            "84/84 [==============================] - 1s 17ms/step - loss: 0.0978 - accuracy: 0.9530 - val_loss: 0.5365 - val_accuracy: 0.8446\n",
            "Epoch 13/50\n",
            "84/84 [==============================] - 1s 17ms/step - loss: 0.1067 - accuracy: 0.9487 - val_loss: 0.5892 - val_accuracy: 0.8490\n",
            "Epoch 14/50\n",
            "84/84 [==============================] - 1s 17ms/step - loss: 0.0920 - accuracy: 0.9555 - val_loss: 0.6189 - val_accuracy: 0.8502\n",
            "Epoch 15/50\n",
            "84/84 [==============================] - 1s 17ms/step - loss: 0.0861 - accuracy: 0.9589 - val_loss: 0.5788 - val_accuracy: 0.8508\n",
            "84/84 [==============================] - 1s 6ms/step - loss: 1.5015 - accuracy: 0.6388\n",
            "Epoch 1/50\n",
            "84/84 [==============================] - 5s 22ms/step - loss: 0.8755 - accuracy: 0.5812 - val_loss: 0.7656 - val_accuracy: 0.6333\n",
            "Epoch 2/50\n",
            "84/84 [==============================] - 1s 14ms/step - loss: 0.7182 - accuracy: 0.6801 - val_loss: 0.6701 - val_accuracy: 0.7160\n",
            "Epoch 3/50\n",
            "84/84 [==============================] - 1s 15ms/step - loss: 0.5685 - accuracy: 0.7714 - val_loss: 0.5642 - val_accuracy: 0.7570\n",
            "Epoch 4/50\n",
            "84/84 [==============================] - 1s 14ms/step - loss: 0.4520 - accuracy: 0.8230 - val_loss: 0.5068 - val_accuracy: 0.7924\n",
            "Epoch 5/50\n",
            "84/84 [==============================] - 1s 15ms/step - loss: 0.3704 - accuracy: 0.8528 - val_loss: 0.4841 - val_accuracy: 0.8067\n",
            "Epoch 6/50\n",
            "84/84 [==============================] - 1s 14ms/step - loss: 0.3354 - accuracy: 0.8685 - val_loss: 0.5180 - val_accuracy: 0.8005\n",
            "Epoch 7/50\n",
            "84/84 [==============================] - 1s 14ms/step - loss: 0.3013 - accuracy: 0.8834 - val_loss: 0.5093 - val_accuracy: 0.8036\n",
            "Epoch 8/50\n",
            "84/84 [==============================] - 1s 15ms/step - loss: 0.2425 - accuracy: 0.9129 - val_loss: 0.4864 - val_accuracy: 0.8179\n",
            "Epoch 9/50\n",
            "84/84 [==============================] - 1s 14ms/step - loss: 0.2357 - accuracy: 0.9127 - val_loss: 0.5736 - val_accuracy: 0.7974\n",
            "Epoch 10/50\n",
            "84/84 [==============================] - 2s 18ms/step - loss: 0.2058 - accuracy: 0.9224 - val_loss: 0.4917 - val_accuracy: 0.8167\n",
            "Epoch 11/50\n",
            "84/84 [==============================] - 1s 15ms/step - loss: 0.1882 - accuracy: 0.9273 - val_loss: 0.5238 - val_accuracy: 0.8129\n",
            "Epoch 12/50\n",
            "84/84 [==============================] - 1s 14ms/step - loss: 0.1934 - accuracy: 0.9219 - val_loss: 0.4790 - val_accuracy: 0.8365\n",
            "Epoch 13/50\n",
            "84/84 [==============================] - 1s 15ms/step - loss: 0.1752 - accuracy: 0.9308 - val_loss: 0.5883 - val_accuracy: 0.8036\n",
            "Epoch 14/50\n",
            "84/84 [==============================] - 1s 14ms/step - loss: 0.1464 - accuracy: 0.9433 - val_loss: 0.5150 - val_accuracy: 0.8384\n",
            "Epoch 15/50\n",
            "84/84 [==============================] - 1s 14ms/step - loss: 0.1480 - accuracy: 0.9418 - val_loss: 0.4662 - val_accuracy: 0.8365\n",
            "Epoch 16/50\n",
            "84/84 [==============================] - 1s 15ms/step - loss: 0.1371 - accuracy: 0.9418 - val_loss: 0.5066 - val_accuracy: 0.8303\n",
            "Epoch 17/50\n",
            "84/84 [==============================] - 1s 14ms/step - loss: 0.1351 - accuracy: 0.9458 - val_loss: 0.5256 - val_accuracy: 0.8397\n",
            "Epoch 18/50\n",
            "84/84 [==============================] - 1s 15ms/step - loss: 0.1219 - accuracy: 0.9464 - val_loss: 0.5862 - val_accuracy: 0.8303\n",
            "Epoch 19/50\n",
            "84/84 [==============================] - 1s 15ms/step - loss: 0.1253 - accuracy: 0.9454 - val_loss: 0.5748 - val_accuracy: 0.8310\n",
            "Epoch 20/50\n",
            "84/84 [==============================] - 1s 14ms/step - loss: 0.1231 - accuracy: 0.9417 - val_loss: 0.6475 - val_accuracy: 0.8229\n",
            "Epoch 21/50\n",
            "84/84 [==============================] - 1s 15ms/step - loss: 0.1246 - accuracy: 0.9496 - val_loss: 0.6161 - val_accuracy: 0.8316\n",
            "Epoch 22/50\n",
            "84/84 [==============================] - 1s 15ms/step - loss: 0.1053 - accuracy: 0.9482 - val_loss: 0.5736 - val_accuracy: 0.8452\n",
            "Epoch 23/50\n",
            "84/84 [==============================] - 1s 15ms/step - loss: 0.0996 - accuracy: 0.9540 - val_loss: 0.6182 - val_accuracy: 0.8353\n",
            "Epoch 24/50\n",
            "84/84 [==============================] - 1s 16ms/step - loss: 0.0996 - accuracy: 0.9563 - val_loss: 0.5968 - val_accuracy: 0.8378\n",
            "Epoch 25/50\n",
            "84/84 [==============================] - 1s 14ms/step - loss: 0.1017 - accuracy: 0.9543 - val_loss: 0.6078 - val_accuracy: 0.8459\n",
            "84/84 [==============================] - 1s 6ms/step - loss: 1.5257 - accuracy: 0.6613\n",
            "Epoch 1/50\n",
            "84/84 [==============================] - 5s 22ms/step - loss: 0.8588 - accuracy: 0.6191 - val_loss: 0.7797 - val_accuracy: 0.6227\n",
            "Epoch 2/50\n",
            "84/84 [==============================] - 1s 16ms/step - loss: 0.7203 - accuracy: 0.6822 - val_loss: 0.6818 - val_accuracy: 0.7035\n",
            "Epoch 3/50\n",
            "84/84 [==============================] - 1s 15ms/step - loss: 0.5717 - accuracy: 0.7601 - val_loss: 0.5901 - val_accuracy: 0.7539\n",
            "Epoch 4/50\n",
            "84/84 [==============================] - 1s 16ms/step - loss: 0.4618 - accuracy: 0.8118 - val_loss: 0.5846 - val_accuracy: 0.7669\n",
            "Epoch 5/50\n",
            "84/84 [==============================] - 1s 16ms/step - loss: 0.3657 - accuracy: 0.8547 - val_loss: 0.5212 - val_accuracy: 0.7986\n",
            "Epoch 6/50\n",
            "84/84 [==============================] - 1s 15ms/step - loss: 0.3126 - accuracy: 0.8803 - val_loss: 0.5060 - val_accuracy: 0.8017\n",
            "Epoch 7/50\n",
            "84/84 [==============================] - 1s 16ms/step - loss: 0.2622 - accuracy: 0.9006 - val_loss: 0.5033 - val_accuracy: 0.8117\n",
            "Epoch 8/50\n",
            "84/84 [==============================] - 1s 16ms/step - loss: 0.2264 - accuracy: 0.9061 - val_loss: 0.5204 - val_accuracy: 0.8135\n",
            "Epoch 9/50\n",
            "84/84 [==============================] - 1s 15ms/step - loss: 0.2153 - accuracy: 0.9165 - val_loss: 0.5068 - val_accuracy: 0.8303\n",
            "Epoch 10/50\n",
            "84/84 [==============================] - 1s 16ms/step - loss: 0.1921 - accuracy: 0.9268 - val_loss: 0.4979 - val_accuracy: 0.8291\n",
            "Epoch 11/50\n",
            "84/84 [==============================] - 1s 15ms/step - loss: 0.1770 - accuracy: 0.9329 - val_loss: 0.4781 - val_accuracy: 0.8297\n",
            "Epoch 12/50\n",
            "84/84 [==============================] - 1s 15ms/step - loss: 0.1702 - accuracy: 0.9328 - val_loss: 0.5063 - val_accuracy: 0.8372\n",
            "Epoch 13/50\n",
            "84/84 [==============================] - 1s 15ms/step - loss: 0.1464 - accuracy: 0.9410 - val_loss: 0.5465 - val_accuracy: 0.8247\n",
            "Epoch 14/50\n",
            "84/84 [==============================] - 1s 15ms/step - loss: 0.1516 - accuracy: 0.9371 - val_loss: 0.5039 - val_accuracy: 0.8384\n",
            "Epoch 15/50\n",
            "84/84 [==============================] - 1s 15ms/step - loss: 0.1330 - accuracy: 0.9465 - val_loss: 0.5218 - val_accuracy: 0.8428\n",
            "Epoch 16/50\n",
            "84/84 [==============================] - 1s 14ms/step - loss: 0.1306 - accuracy: 0.9453 - val_loss: 0.6063 - val_accuracy: 0.8179\n",
            "Epoch 17/50\n",
            "84/84 [==============================] - 1s 15ms/step - loss: 0.1249 - accuracy: 0.9489 - val_loss: 0.5688 - val_accuracy: 0.8415\n",
            "Epoch 18/50\n",
            "84/84 [==============================] - 1s 15ms/step - loss: 0.1198 - accuracy: 0.9487 - val_loss: 0.5190 - val_accuracy: 0.8477\n",
            "Epoch 19/50\n",
            "84/84 [==============================] - 1s 14ms/step - loss: 0.1219 - accuracy: 0.9486 - val_loss: 0.5726 - val_accuracy: 0.8459\n",
            "Epoch 20/50\n",
            "84/84 [==============================] - 1s 15ms/step - loss: 0.1056 - accuracy: 0.9518 - val_loss: 0.5864 - val_accuracy: 0.8465\n",
            "Epoch 21/50\n",
            "84/84 [==============================] - 1s 16ms/step - loss: 0.1041 - accuracy: 0.9533 - val_loss: 0.5855 - val_accuracy: 0.8515\n",
            "84/84 [==============================] - 1s 6ms/step - loss: 1.5832 - accuracy: 0.6520\n",
            "Epoch 1/50\n",
            "84/84 [==============================] - 5s 23ms/step - loss: 0.8710 - accuracy: 0.5913 - val_loss: 0.7503 - val_accuracy: 0.6588\n",
            "Epoch 2/50\n",
            "84/84 [==============================] - 1s 15ms/step - loss: 0.7211 - accuracy: 0.6922 - val_loss: 0.7118 - val_accuracy: 0.6594\n",
            "Epoch 3/50\n",
            "84/84 [==============================] - 1s 15ms/step - loss: 0.5825 - accuracy: 0.7668 - val_loss: 0.6060 - val_accuracy: 0.7557\n",
            "Epoch 4/50\n",
            "84/84 [==============================] - 1s 15ms/step - loss: 0.4559 - accuracy: 0.8155 - val_loss: 0.5211 - val_accuracy: 0.7874\n",
            "Epoch 5/50\n",
            "84/84 [==============================] - 1s 15ms/step - loss: 0.3717 - accuracy: 0.8587 - val_loss: 0.5011 - val_accuracy: 0.8036\n",
            "Epoch 6/50\n",
            "84/84 [==============================] - 1s 15ms/step - loss: 0.3102 - accuracy: 0.8833 - val_loss: 0.5473 - val_accuracy: 0.7974\n",
            "Epoch 7/50\n",
            "84/84 [==============================] - 2s 18ms/step - loss: 0.2701 - accuracy: 0.9010 - val_loss: 0.5159 - val_accuracy: 0.8080\n",
            "Epoch 8/50\n",
            "84/84 [==============================] - 1s 15ms/step - loss: 0.2424 - accuracy: 0.9048 - val_loss: 0.5281 - val_accuracy: 0.8142\n",
            "Epoch 9/50\n",
            "84/84 [==============================] - 1s 15ms/step - loss: 0.2111 - accuracy: 0.9175 - val_loss: 0.5426 - val_accuracy: 0.8241\n",
            "Epoch 10/50\n",
            "84/84 [==============================] - 1s 15ms/step - loss: 0.1946 - accuracy: 0.9196 - val_loss: 0.5013 - val_accuracy: 0.8260\n",
            "Epoch 11/50\n",
            "84/84 [==============================] - 1s 15ms/step - loss: 0.1791 - accuracy: 0.9293 - val_loss: 0.5429 - val_accuracy: 0.8260\n",
            "Epoch 12/50\n",
            "84/84 [==============================] - 1s 15ms/step - loss: 0.1690 - accuracy: 0.9349 - val_loss: 0.4982 - val_accuracy: 0.8359\n",
            "Epoch 13/50\n",
            "84/84 [==============================] - 1s 15ms/step - loss: 0.1606 - accuracy: 0.9367 - val_loss: 0.5500 - val_accuracy: 0.8334\n",
            "Epoch 14/50\n",
            "84/84 [==============================] - 1s 15ms/step - loss: 0.1447 - accuracy: 0.9409 - val_loss: 0.5940 - val_accuracy: 0.8179\n",
            "Epoch 15/50\n",
            "84/84 [==============================] - 1s 14ms/step - loss: 0.1383 - accuracy: 0.9444 - val_loss: 0.5017 - val_accuracy: 0.8384\n",
            "Epoch 16/50\n",
            "84/84 [==============================] - 1s 15ms/step - loss: 0.1250 - accuracy: 0.9498 - val_loss: 0.5337 - val_accuracy: 0.8390\n",
            "Epoch 17/50\n",
            "84/84 [==============================] - 1s 15ms/step - loss: 0.1093 - accuracy: 0.9533 - val_loss: 0.5557 - val_accuracy: 0.8390\n",
            "Epoch 18/50\n",
            "84/84 [==============================] - 1s 15ms/step - loss: 0.1193 - accuracy: 0.9483 - val_loss: 0.5624 - val_accuracy: 0.8434\n",
            "Epoch 19/50\n",
            "84/84 [==============================] - 1s 15ms/step - loss: 0.1175 - accuracy: 0.9437 - val_loss: 0.5435 - val_accuracy: 0.8415\n",
            "Epoch 20/50\n",
            "84/84 [==============================] - 1s 15ms/step - loss: 0.1082 - accuracy: 0.9537 - val_loss: 0.5422 - val_accuracy: 0.8397\n",
            "Epoch 21/50\n",
            "84/84 [==============================] - 1s 16ms/step - loss: 0.1129 - accuracy: 0.9508 - val_loss: 0.5663 - val_accuracy: 0.8421\n",
            "Epoch 22/50\n",
            "84/84 [==============================] - 1s 15ms/step - loss: 0.1146 - accuracy: 0.9516 - val_loss: 0.5590 - val_accuracy: 0.8434\n",
            "84/84 [==============================] - 1s 6ms/step - loss: 1.4259 - accuracy: 0.6511\n",
            "Epoch 1/50\n",
            "84/84 [==============================] - 5s 26ms/step - loss: 0.8911 - accuracy: 0.5721 - val_loss: 0.7687 - val_accuracy: 0.6302\n",
            "Epoch 2/50\n",
            "84/84 [==============================] - 2s 18ms/step - loss: 0.6891 - accuracy: 0.6908 - val_loss: 0.5440 - val_accuracy: 0.7744\n",
            "Epoch 3/50\n",
            "84/84 [==============================] - 2s 19ms/step - loss: 0.4102 - accuracy: 0.8407 - val_loss: 0.4608 - val_accuracy: 0.8173\n",
            "Epoch 4/50\n",
            "84/84 [==============================] - 2s 18ms/step - loss: 0.2859 - accuracy: 0.8967 - val_loss: 0.4343 - val_accuracy: 0.8260\n",
            "Epoch 5/50\n",
            "84/84 [==============================] - 2s 19ms/step - loss: 0.2197 - accuracy: 0.9182 - val_loss: 0.4339 - val_accuracy: 0.8347\n",
            "Epoch 6/50\n",
            "84/84 [==============================] - 2s 18ms/step - loss: 0.1810 - accuracy: 0.9320 - val_loss: 0.4286 - val_accuracy: 0.8421\n",
            "Epoch 7/50\n",
            "84/84 [==============================] - 2s 19ms/step - loss: 0.1625 - accuracy: 0.9363 - val_loss: 0.4413 - val_accuracy: 0.8459\n",
            "Epoch 8/50\n",
            "84/84 [==============================] - 2s 18ms/step - loss: 0.1357 - accuracy: 0.9413 - val_loss: 0.4573 - val_accuracy: 0.8552\n",
            "Epoch 9/50\n",
            "84/84 [==============================] - 2s 19ms/step - loss: 0.1177 - accuracy: 0.9498 - val_loss: 0.4686 - val_accuracy: 0.8558\n",
            "Epoch 10/50\n",
            "84/84 [==============================] - 2s 18ms/step - loss: 0.1191 - accuracy: 0.9422 - val_loss: 0.5303 - val_accuracy: 0.8484\n",
            "Epoch 11/50\n",
            "84/84 [==============================] - 2s 19ms/step - loss: 0.1163 - accuracy: 0.9464 - val_loss: 0.5123 - val_accuracy: 0.8409\n",
            "Epoch 12/50\n",
            "84/84 [==============================] - 2s 18ms/step - loss: 0.0999 - accuracy: 0.9525 - val_loss: 0.5311 - val_accuracy: 0.8508\n",
            "Epoch 13/50\n",
            "84/84 [==============================] - 2s 19ms/step - loss: 0.1107 - accuracy: 0.9457 - val_loss: 0.5550 - val_accuracy: 0.8465\n",
            "Epoch 14/50\n",
            "84/84 [==============================] - 2s 18ms/step - loss: 0.0949 - accuracy: 0.9513 - val_loss: 0.6025 - val_accuracy: 0.8365\n",
            "Epoch 15/50\n",
            "84/84 [==============================] - 2s 19ms/step - loss: 0.0999 - accuracy: 0.9469 - val_loss: 0.5384 - val_accuracy: 0.8496\n",
            "Epoch 16/50\n",
            "84/84 [==============================] - 2s 18ms/step - loss: 0.0919 - accuracy: 0.9534 - val_loss: 0.5961 - val_accuracy: 0.8564\n",
            "84/84 [==============================] - 1s 6ms/step - loss: 1.6363 - accuracy: 0.6591\n",
            "Epoch 1/50\n",
            "84/84 [==============================] - 5s 27ms/step - loss: 0.9039 - accuracy: 0.5712 - val_loss: 0.7658 - val_accuracy: 0.6588\n",
            "Epoch 2/50\n",
            "84/84 [==============================] - 2s 19ms/step - loss: 0.6731 - accuracy: 0.7084 - val_loss: 0.6134 - val_accuracy: 0.7427\n",
            "Epoch 3/50\n",
            "84/84 [==============================] - 2s 18ms/step - loss: 0.4645 - accuracy: 0.8221 - val_loss: 0.5082 - val_accuracy: 0.8036\n",
            "Epoch 4/50\n",
            "84/84 [==============================] - 2s 19ms/step - loss: 0.2835 - accuracy: 0.8955 - val_loss: 0.4668 - val_accuracy: 0.8260\n",
            "Epoch 5/50\n",
            "84/84 [==============================] - 2s 19ms/step - loss: 0.2290 - accuracy: 0.9179 - val_loss: 0.4877 - val_accuracy: 0.8297\n",
            "Epoch 6/50\n",
            "84/84 [==============================] - 2s 20ms/step - loss: 0.1838 - accuracy: 0.9355 - val_loss: 0.5152 - val_accuracy: 0.8254\n",
            "Epoch 7/50\n",
            "84/84 [==============================] - 2s 18ms/step - loss: 0.1662 - accuracy: 0.9386 - val_loss: 0.4838 - val_accuracy: 0.8440\n",
            "Epoch 8/50\n",
            "84/84 [==============================] - 2s 20ms/step - loss: 0.1393 - accuracy: 0.9467 - val_loss: 0.4715 - val_accuracy: 0.8446\n",
            "Epoch 9/50\n",
            "84/84 [==============================] - 2s 19ms/step - loss: 0.1264 - accuracy: 0.9479 - val_loss: 0.5111 - val_accuracy: 0.8490\n",
            "Epoch 10/50\n",
            "84/84 [==============================] - 2s 19ms/step - loss: 0.1259 - accuracy: 0.9475 - val_loss: 0.5215 - val_accuracy: 0.8440\n",
            "Epoch 11/50\n",
            "84/84 [==============================] - 2s 19ms/step - loss: 0.1064 - accuracy: 0.9578 - val_loss: 0.5326 - val_accuracy: 0.8515\n",
            "Epoch 12/50\n",
            "84/84 [==============================] - 2s 19ms/step - loss: 0.0967 - accuracy: 0.9582 - val_loss: 0.5517 - val_accuracy: 0.8571\n",
            "Epoch 13/50\n",
            "84/84 [==============================] - 2s 18ms/step - loss: 0.0964 - accuracy: 0.9570 - val_loss: 0.5640 - val_accuracy: 0.8521\n",
            "Epoch 14/50\n",
            "84/84 [==============================] - 2s 20ms/step - loss: 0.0829 - accuracy: 0.9629 - val_loss: 0.5672 - val_accuracy: 0.8372\n",
            "84/84 [==============================] - 1s 6ms/step - loss: 1.4616 - accuracy: 0.6479\n",
            "Epoch 1/50\n",
            "84/84 [==============================] - 5s 26ms/step - loss: 0.8907 - accuracy: 0.5834 - val_loss: 0.7360 - val_accuracy: 0.6663\n",
            "Epoch 2/50\n",
            "84/84 [==============================] - 2s 18ms/step - loss: 0.6667 - accuracy: 0.7118 - val_loss: 0.6029 - val_accuracy: 0.7452\n",
            "Epoch 3/50\n",
            "84/84 [==============================] - 2s 19ms/step - loss: 0.4630 - accuracy: 0.8162 - val_loss: 0.4961 - val_accuracy: 0.8024\n",
            "Epoch 4/50\n",
            "84/84 [==============================] - 2s 19ms/step - loss: 0.2867 - accuracy: 0.8873 - val_loss: 0.4650 - val_accuracy: 0.8247\n",
            "Epoch 5/50\n",
            "84/84 [==============================] - 2s 19ms/step - loss: 0.2208 - accuracy: 0.9248 - val_loss: 0.4684 - val_accuracy: 0.8334\n",
            "Epoch 6/50\n",
            "84/84 [==============================] - 2s 18ms/step - loss: 0.1775 - accuracy: 0.9293 - val_loss: 0.4878 - val_accuracy: 0.8353\n",
            "Epoch 7/50\n",
            "84/84 [==============================] - 2s 23ms/step - loss: 0.1457 - accuracy: 0.9448 - val_loss: 0.5069 - val_accuracy: 0.8484\n",
            "Epoch 8/50\n",
            "84/84 [==============================] - 2s 19ms/step - loss: 0.1324 - accuracy: 0.9452 - val_loss: 0.5043 - val_accuracy: 0.8502\n",
            "Epoch 9/50\n",
            "84/84 [==============================] - 2s 18ms/step - loss: 0.1217 - accuracy: 0.9491 - val_loss: 0.5336 - val_accuracy: 0.8496\n",
            "Epoch 10/50\n",
            "84/84 [==============================] - 2s 18ms/step - loss: 0.1052 - accuracy: 0.9526 - val_loss: 0.5480 - val_accuracy: 0.8452\n",
            "Epoch 11/50\n",
            "84/84 [==============================] - 2s 19ms/step - loss: 0.1049 - accuracy: 0.9525 - val_loss: 0.5666 - val_accuracy: 0.8533\n",
            "Epoch 12/50\n",
            "84/84 [==============================] - 2s 19ms/step - loss: 0.0974 - accuracy: 0.9536 - val_loss: 0.5316 - val_accuracy: 0.8515\n",
            "Epoch 13/50\n",
            "84/84 [==============================] - 2s 18ms/step - loss: 0.1058 - accuracy: 0.9477 - val_loss: 0.5721 - val_accuracy: 0.8484\n",
            "Epoch 14/50\n",
            "84/84 [==============================] - 2s 18ms/step - loss: 0.0876 - accuracy: 0.9513 - val_loss: 0.6170 - val_accuracy: 0.8440\n",
            "84/84 [==============================] - 1s 6ms/step - loss: 1.6123 - accuracy: 0.6302\n",
            "Epoch 1/50\n",
            "84/84 [==============================] - 5s 27ms/step - loss: 0.8543 - accuracy: 0.6046 - val_loss: 0.7462 - val_accuracy: 0.6520\n",
            "Epoch 2/50\n",
            "84/84 [==============================] - 2s 24ms/step - loss: 0.6968 - accuracy: 0.6944 - val_loss: 0.6666 - val_accuracy: 0.7060\n",
            "Epoch 3/50\n",
            "84/84 [==============================] - 2s 20ms/step - loss: 0.5335 - accuracy: 0.7849 - val_loss: 0.5259 - val_accuracy: 0.7769\n",
            "Epoch 4/50\n",
            "84/84 [==============================] - 2s 19ms/step - loss: 0.4070 - accuracy: 0.8359 - val_loss: 0.5058 - val_accuracy: 0.7937\n",
            "Epoch 5/50\n",
            "84/84 [==============================] - 2s 20ms/step - loss: 0.3406 - accuracy: 0.8738 - val_loss: 0.5123 - val_accuracy: 0.7912\n",
            "Epoch 6/50\n",
            "84/84 [==============================] - 2s 21ms/step - loss: 0.2709 - accuracy: 0.8956 - val_loss: 0.5170 - val_accuracy: 0.8042\n",
            "Epoch 7/50\n",
            "84/84 [==============================] - 2s 20ms/step - loss: 0.2453 - accuracy: 0.9125 - val_loss: 0.4634 - val_accuracy: 0.8272\n",
            "Epoch 8/50\n",
            "84/84 [==============================] - 2s 20ms/step - loss: 0.2101 - accuracy: 0.9157 - val_loss: 0.4423 - val_accuracy: 0.8303\n",
            "Epoch 9/50\n",
            "84/84 [==============================] - 2s 20ms/step - loss: 0.2104 - accuracy: 0.9175 - val_loss: 0.4555 - val_accuracy: 0.8403\n",
            "Epoch 10/50\n",
            "84/84 [==============================] - 2s 20ms/step - loss: 0.1851 - accuracy: 0.9258 - val_loss: 0.4820 - val_accuracy: 0.8384\n",
            "Epoch 11/50\n",
            "84/84 [==============================] - 2s 19ms/step - loss: 0.1607 - accuracy: 0.9362 - val_loss: 0.4825 - val_accuracy: 0.8334\n",
            "Epoch 12/50\n",
            "84/84 [==============================] - 2s 19ms/step - loss: 0.1589 - accuracy: 0.9384 - val_loss: 0.4756 - val_accuracy: 0.8490\n",
            "Epoch 13/50\n",
            "84/84 [==============================] - 2s 20ms/step - loss: 0.1387 - accuracy: 0.9431 - val_loss: 0.4760 - val_accuracy: 0.8421\n",
            "Epoch 14/50\n",
            "84/84 [==============================] - 2s 20ms/step - loss: 0.1369 - accuracy: 0.9394 - val_loss: 0.4857 - val_accuracy: 0.8341\n",
            "Epoch 15/50\n",
            "84/84 [==============================] - 2s 18ms/step - loss: 0.1188 - accuracy: 0.9472 - val_loss: 0.5027 - val_accuracy: 0.8440\n",
            "Epoch 16/50\n",
            "84/84 [==============================] - 2s 19ms/step - loss: 0.1187 - accuracy: 0.9490 - val_loss: 0.5046 - val_accuracy: 0.8434\n",
            "Epoch 17/50\n",
            "84/84 [==============================] - 2s 20ms/step - loss: 0.1163 - accuracy: 0.9533 - val_loss: 0.5527 - val_accuracy: 0.8459\n",
            "Epoch 18/50\n",
            "84/84 [==============================] - 2s 20ms/step - loss: 0.1032 - accuracy: 0.9550 - val_loss: 0.5432 - val_accuracy: 0.8446\n",
            "84/84 [==============================] - 1s 7ms/step - loss: 1.3941 - accuracy: 0.6636\n",
            "Epoch 1/50\n",
            "84/84 [==============================] - 5s 28ms/step - loss: 0.8421 - accuracy: 0.5999 - val_loss: 0.7545 - val_accuracy: 0.6576\n",
            "Epoch 2/50\n",
            "84/84 [==============================] - 2s 21ms/step - loss: 0.6607 - accuracy: 0.7077 - val_loss: 0.8079 - val_accuracy: 0.6669\n",
            "Epoch 3/50\n",
            "84/84 [==============================] - 2s 20ms/step - loss: 0.5247 - accuracy: 0.7856 - val_loss: 0.5667 - val_accuracy: 0.7601\n",
            "Epoch 4/50\n",
            "84/84 [==============================] - 2s 20ms/step - loss: 0.4162 - accuracy: 0.8289 - val_loss: 0.5256 - val_accuracy: 0.8005\n",
            "Epoch 5/50\n",
            "84/84 [==============================] - 2s 19ms/step - loss: 0.3335 - accuracy: 0.8693 - val_loss: 0.5137 - val_accuracy: 0.8123\n",
            "Epoch 6/50\n",
            "84/84 [==============================] - 2s 20ms/step - loss: 0.2800 - accuracy: 0.8941 - val_loss: 0.5215 - val_accuracy: 0.8173\n",
            "Epoch 7/50\n",
            "84/84 [==============================] - 2s 21ms/step - loss: 0.2488 - accuracy: 0.9000 - val_loss: 0.4863 - val_accuracy: 0.8254\n",
            "Epoch 8/50\n",
            "84/84 [==============================] - 2s 20ms/step - loss: 0.2271 - accuracy: 0.9123 - val_loss: 0.5130 - val_accuracy: 0.8322\n",
            "Epoch 9/50\n",
            "84/84 [==============================] - 2s 20ms/step - loss: 0.1908 - accuracy: 0.9235 - val_loss: 0.4859 - val_accuracy: 0.8378\n",
            "Epoch 10/50\n",
            "84/84 [==============================] - 2s 20ms/step - loss: 0.1734 - accuracy: 0.9322 - val_loss: 0.5258 - val_accuracy: 0.8297\n",
            "Epoch 11/50\n",
            "84/84 [==============================] - 2s 21ms/step - loss: 0.1599 - accuracy: 0.9362 - val_loss: 0.4943 - val_accuracy: 0.8353\n",
            "Epoch 12/50\n",
            "84/84 [==============================] - 2s 20ms/step - loss: 0.1428 - accuracy: 0.9425 - val_loss: 0.5084 - val_accuracy: 0.8428\n",
            "Epoch 13/50\n",
            "84/84 [==============================] - 2s 21ms/step - loss: 0.1400 - accuracy: 0.9427 - val_loss: 0.5180 - val_accuracy: 0.8421\n",
            "Epoch 14/50\n",
            "84/84 [==============================] - 2s 20ms/step - loss: 0.1262 - accuracy: 0.9456 - val_loss: 0.5327 - val_accuracy: 0.8484\n",
            "Epoch 15/50\n",
            "84/84 [==============================] - 2s 20ms/step - loss: 0.1202 - accuracy: 0.9475 - val_loss: 0.5516 - val_accuracy: 0.8428\n",
            "Epoch 16/50\n",
            "84/84 [==============================] - 2s 20ms/step - loss: 0.1158 - accuracy: 0.9485 - val_loss: 0.6178 - val_accuracy: 0.8446\n",
            "Epoch 17/50\n",
            "84/84 [==============================] - 2s 20ms/step - loss: 0.1025 - accuracy: 0.9570 - val_loss: 0.5800 - val_accuracy: 0.8440\n",
            "Epoch 18/50\n",
            "84/84 [==============================] - 2s 21ms/step - loss: 0.0996 - accuracy: 0.9563 - val_loss: 0.5859 - val_accuracy: 0.8502\n",
            "Epoch 19/50\n",
            "84/84 [==============================] - 2s 22ms/step - loss: 0.0984 - accuracy: 0.9528 - val_loss: 0.5953 - val_accuracy: 0.8546\n",
            "84/84 [==============================] - 1s 6ms/step - loss: 1.5261 - accuracy: 0.6591\n",
            "Epoch 1/50\n",
            "84/84 [==============================] - 5s 27ms/step - loss: 0.8653 - accuracy: 0.5747 - val_loss: 0.7284 - val_accuracy: 0.6656\n",
            "Epoch 2/50\n",
            "84/84 [==============================] - 2s 21ms/step - loss: 0.6683 - accuracy: 0.7074 - val_loss: 0.5986 - val_accuracy: 0.7452\n",
            "Epoch 3/50\n",
            "84/84 [==============================] - 2s 21ms/step - loss: 0.4953 - accuracy: 0.7928 - val_loss: 0.5271 - val_accuracy: 0.7862\n",
            "Epoch 4/50\n",
            "84/84 [==============================] - 2s 20ms/step - loss: 0.3844 - accuracy: 0.8486 - val_loss: 0.4847 - val_accuracy: 0.8024\n",
            "Epoch 5/50\n",
            "84/84 [==============================] - 2s 20ms/step - loss: 0.3166 - accuracy: 0.8775 - val_loss: 0.4701 - val_accuracy: 0.8185\n",
            "Epoch 6/50\n",
            "84/84 [==============================] - 2s 20ms/step - loss: 0.2518 - accuracy: 0.9005 - val_loss: 0.4914 - val_accuracy: 0.8235\n",
            "Epoch 7/50\n",
            "84/84 [==============================] - 2s 21ms/step - loss: 0.2109 - accuracy: 0.9180 - val_loss: 0.4863 - val_accuracy: 0.8154\n",
            "Epoch 8/50\n",
            "84/84 [==============================] - 2s 24ms/step - loss: 0.1960 - accuracy: 0.9281 - val_loss: 0.4826 - val_accuracy: 0.8359\n",
            "Epoch 9/50\n",
            "84/84 [==============================] - 2s 20ms/step - loss: 0.1711 - accuracy: 0.9300 - val_loss: 0.4947 - val_accuracy: 0.8378\n",
            "Epoch 10/50\n",
            "84/84 [==============================] - 2s 20ms/step - loss: 0.1542 - accuracy: 0.9356 - val_loss: 0.5867 - val_accuracy: 0.8347\n",
            "Epoch 11/50\n",
            "84/84 [==============================] - 2s 20ms/step - loss: 0.1454 - accuracy: 0.9400 - val_loss: 0.5235 - val_accuracy: 0.8384\n",
            "Epoch 12/50\n",
            "84/84 [==============================] - 2s 21ms/step - loss: 0.1323 - accuracy: 0.9476 - val_loss: 0.5250 - val_accuracy: 0.8347\n",
            "Epoch 13/50\n",
            "84/84 [==============================] - 2s 20ms/step - loss: 0.1263 - accuracy: 0.9474 - val_loss: 0.5285 - val_accuracy: 0.8459\n",
            "Epoch 14/50\n",
            "84/84 [==============================] - 2s 21ms/step - loss: 0.1182 - accuracy: 0.9489 - val_loss: 0.5594 - val_accuracy: 0.8490\n",
            "Epoch 15/50\n",
            "84/84 [==============================] - 2s 19ms/step - loss: 0.1259 - accuracy: 0.9389 - val_loss: 0.6147 - val_accuracy: 0.8471\n",
            "84/84 [==============================] - 1s 7ms/step - loss: 1.5496 - accuracy: 0.6649\n",
            "Epoch 1/50\n",
            "84/84 [==============================] - 6s 37ms/step - loss: 0.8852 - accuracy: 0.5877 - val_loss: 0.7248 - val_accuracy: 0.6712\n",
            "Epoch 2/50\n",
            "84/84 [==============================] - 3s 33ms/step - loss: 0.6383 - accuracy: 0.7364 - val_loss: 0.5491 - val_accuracy: 0.7725\n",
            "Epoch 3/50\n",
            "84/84 [==============================] - 2s 29ms/step - loss: 0.4020 - accuracy: 0.8477 - val_loss: 0.4545 - val_accuracy: 0.8198\n",
            "Epoch 4/50\n",
            "84/84 [==============================] - 3s 30ms/step - loss: 0.2792 - accuracy: 0.8973 - val_loss: 0.4570 - val_accuracy: 0.8334\n",
            "Epoch 5/50\n",
            "84/84 [==============================] - 2s 29ms/step - loss: 0.2144 - accuracy: 0.9174 - val_loss: 0.4137 - val_accuracy: 0.8434\n",
            "Epoch 6/50\n",
            "84/84 [==============================] - 2s 29ms/step - loss: 0.1745 - accuracy: 0.9324 - val_loss: 0.4260 - val_accuracy: 0.8446\n",
            "Epoch 7/50\n",
            "84/84 [==============================] - 2s 30ms/step - loss: 0.1515 - accuracy: 0.9385 - val_loss: 0.4374 - val_accuracy: 0.8484\n",
            "Epoch 8/50\n",
            "84/84 [==============================] - 2s 29ms/step - loss: 0.1307 - accuracy: 0.9423 - val_loss: 0.4629 - val_accuracy: 0.8546\n",
            "Epoch 9/50\n",
            "84/84 [==============================] - 3s 30ms/step - loss: 0.1160 - accuracy: 0.9508 - val_loss: 0.4641 - val_accuracy: 0.8521\n",
            "Epoch 10/50\n",
            "84/84 [==============================] - 2s 29ms/step - loss: 0.1078 - accuracy: 0.9551 - val_loss: 0.4742 - val_accuracy: 0.8527\n",
            "Epoch 11/50\n",
            "84/84 [==============================] - 2s 29ms/step - loss: 0.1076 - accuracy: 0.9574 - val_loss: 0.4966 - val_accuracy: 0.8577\n",
            "Epoch 12/50\n",
            "84/84 [==============================] - 2s 29ms/step - loss: 0.1039 - accuracy: 0.9522 - val_loss: 0.5967 - val_accuracy: 0.8552\n",
            "Epoch 13/50\n",
            "84/84 [==============================] - 2s 28ms/step - loss: 0.0943 - accuracy: 0.9519 - val_loss: 0.5444 - val_accuracy: 0.8521\n",
            "Epoch 14/50\n",
            "84/84 [==============================] - 3s 30ms/step - loss: 0.0883 - accuracy: 0.9501 - val_loss: 0.5612 - val_accuracy: 0.8546\n",
            "Epoch 15/50\n",
            "84/84 [==============================] - 3s 30ms/step - loss: 0.0777 - accuracy: 0.9583 - val_loss: 0.6403 - val_accuracy: 0.8452\n",
            "84/84 [==============================] - 1s 7ms/step - loss: 1.7144 - accuracy: 0.6550\n",
            "Epoch 1/50\n",
            "84/84 [==============================] - 6s 41ms/step - loss: 0.8578 - accuracy: 0.6029 - val_loss: 0.7387 - val_accuracy: 0.6594\n",
            "Epoch 2/50\n",
            "84/84 [==============================] - 3s 30ms/step - loss: 0.6085 - accuracy: 0.7378 - val_loss: 0.5825 - val_accuracy: 0.7489\n",
            "Epoch 3/50\n",
            "84/84 [==============================] - 3s 30ms/step - loss: 0.3669 - accuracy: 0.8554 - val_loss: 0.4844 - val_accuracy: 0.8135\n",
            "Epoch 4/50\n",
            "84/84 [==============================] - 2s 30ms/step - loss: 0.2584 - accuracy: 0.9049 - val_loss: 0.4678 - val_accuracy: 0.8297\n",
            "Epoch 5/50\n",
            "84/84 [==============================] - 3s 31ms/step - loss: 0.1883 - accuracy: 0.9231 - val_loss: 0.4924 - val_accuracy: 0.8303\n",
            "Epoch 6/50\n",
            "84/84 [==============================] - 3s 32ms/step - loss: 0.1664 - accuracy: 0.9344 - val_loss: 0.4944 - val_accuracy: 0.8421\n",
            "Epoch 7/50\n",
            "84/84 [==============================] - 3s 31ms/step - loss: 0.1545 - accuracy: 0.9364 - val_loss: 0.4968 - val_accuracy: 0.8465\n",
            "Epoch 8/50\n",
            "84/84 [==============================] - 3s 31ms/step - loss: 0.1288 - accuracy: 0.9440 - val_loss: 0.5722 - val_accuracy: 0.8471\n",
            "Epoch 9/50\n",
            "84/84 [==============================] - 2s 30ms/step - loss: 0.1175 - accuracy: 0.9460 - val_loss: 0.5320 - val_accuracy: 0.8496\n",
            "Epoch 10/50\n",
            "84/84 [==============================] - 3s 30ms/step - loss: 0.0969 - accuracy: 0.9550 - val_loss: 0.5596 - val_accuracy: 0.8564\n",
            "Epoch 11/50\n",
            "84/84 [==============================] - 2s 30ms/step - loss: 0.0924 - accuracy: 0.9552 - val_loss: 0.6366 - val_accuracy: 0.8484\n",
            "Epoch 12/50\n",
            "84/84 [==============================] - 3s 30ms/step - loss: 0.0819 - accuracy: 0.9642 - val_loss: 0.6469 - val_accuracy: 0.8577\n",
            "Epoch 13/50\n",
            "84/84 [==============================] - 3s 31ms/step - loss: 0.0829 - accuracy: 0.9585 - val_loss: 0.6247 - val_accuracy: 0.8484\n",
            "Epoch 14/50\n",
            "84/84 [==============================] - 2s 30ms/step - loss: 0.0852 - accuracy: 0.9576 - val_loss: 0.6102 - val_accuracy: 0.8446\n",
            "84/84 [==============================] - 1s 7ms/step - loss: 1.5803 - accuracy: 0.6423\n",
            "Epoch 1/50\n",
            "84/84 [==============================] - 6s 38ms/step - loss: 0.8723 - accuracy: 0.5698 - val_loss: 0.7063 - val_accuracy: 0.6861\n",
            "Epoch 2/50\n",
            "84/84 [==============================] - 2s 29ms/step - loss: 0.6262 - accuracy: 0.7293 - val_loss: 0.5360 - val_accuracy: 0.7725\n",
            "Epoch 3/50\n",
            "84/84 [==============================] - 2s 29ms/step - loss: 0.3867 - accuracy: 0.8401 - val_loss: 0.4648 - val_accuracy: 0.8142\n",
            "Epoch 4/50\n",
            "84/84 [==============================] - 2s 29ms/step - loss: 0.2583 - accuracy: 0.9043 - val_loss: 0.4462 - val_accuracy: 0.8403\n",
            "Epoch 5/50\n",
            "84/84 [==============================] - 2s 29ms/step - loss: 0.1842 - accuracy: 0.9282 - val_loss: 0.4625 - val_accuracy: 0.8421\n",
            "Epoch 6/50\n",
            "84/84 [==============================] - 2s 29ms/step - loss: 0.1619 - accuracy: 0.9378 - val_loss: 0.4925 - val_accuracy: 0.8415\n",
            "Epoch 7/50\n",
            "84/84 [==============================] - 2s 29ms/step - loss: 0.1403 - accuracy: 0.9472 - val_loss: 0.5168 - val_accuracy: 0.8384\n",
            "Epoch 8/50\n",
            "84/84 [==============================] - 2s 29ms/step - loss: 0.1194 - accuracy: 0.9479 - val_loss: 0.5470 - val_accuracy: 0.8365\n",
            "Epoch 9/50\n",
            "84/84 [==============================] - 2s 30ms/step - loss: 0.1090 - accuracy: 0.9474 - val_loss: 0.5209 - val_accuracy: 0.8496\n",
            "Epoch 10/50\n",
            "84/84 [==============================] - 2s 29ms/step - loss: 0.0995 - accuracy: 0.9556 - val_loss: 0.5948 - val_accuracy: 0.8353\n",
            "Epoch 11/50\n",
            "84/84 [==============================] - 2s 29ms/step - loss: 0.0914 - accuracy: 0.9527 - val_loss: 0.5770 - val_accuracy: 0.8490\n",
            "Epoch 12/50\n",
            "84/84 [==============================] - 2s 29ms/step - loss: 0.0880 - accuracy: 0.9571 - val_loss: 0.6987 - val_accuracy: 0.8390\n",
            "Epoch 13/50\n",
            "84/84 [==============================] - 2s 28ms/step - loss: 0.0915 - accuracy: 0.9573 - val_loss: 0.6122 - val_accuracy: 0.8477\n",
            "Epoch 14/50\n",
            "84/84 [==============================] - 3s 30ms/step - loss: 0.0844 - accuracy: 0.9542 - val_loss: 0.6759 - val_accuracy: 0.8515\n",
            "84/84 [==============================] - 1s 6ms/step - loss: 1.8454 - accuracy: 0.6459\n",
            "Epoch 1/50\n",
            "84/84 [==============================] - 6s 38ms/step - loss: 0.8956 - accuracy: 0.5635 - val_loss: 0.7185 - val_accuracy: 0.6700\n",
            "Epoch 2/50\n",
            "84/84 [==============================] - 2s 27ms/step - loss: 0.6757 - accuracy: 0.6983 - val_loss: 0.5907 - val_accuracy: 0.7383\n",
            "Epoch 3/50\n",
            "84/84 [==============================] - 2s 27ms/step - loss: 0.5122 - accuracy: 0.7881 - val_loss: 0.5214 - val_accuracy: 0.7856\n",
            "Epoch 4/50\n",
            "84/84 [==============================] - 2s 27ms/step - loss: 0.4060 - accuracy: 0.8444 - val_loss: 0.4898 - val_accuracy: 0.7955\n",
            "Epoch 5/50\n",
            "84/84 [==============================] - 2s 27ms/step - loss: 0.3328 - accuracy: 0.8686 - val_loss: 0.4872 - val_accuracy: 0.8092\n",
            "Epoch 6/50\n",
            "84/84 [==============================] - 2s 29ms/step - loss: 0.2872 - accuracy: 0.8913 - val_loss: 0.4560 - val_accuracy: 0.8384\n",
            "Epoch 7/50\n",
            "84/84 [==============================] - 2s 27ms/step - loss: 0.2301 - accuracy: 0.9073 - val_loss: 0.4714 - val_accuracy: 0.8415\n",
            "Epoch 8/50\n",
            "84/84 [==============================] - 2s 28ms/step - loss: 0.2002 - accuracy: 0.9208 - val_loss: 0.4573 - val_accuracy: 0.8415\n",
            "Epoch 9/50\n",
            "84/84 [==============================] - 2s 29ms/step - loss: 0.1851 - accuracy: 0.9282 - val_loss: 0.4867 - val_accuracy: 0.8316\n",
            "Epoch 10/50\n",
            "84/84 [==============================] - 2s 27ms/step - loss: 0.1653 - accuracy: 0.9304 - val_loss: 0.5077 - val_accuracy: 0.8421\n",
            "Epoch 11/50\n",
            "84/84 [==============================] - 2s 27ms/step - loss: 0.1505 - accuracy: 0.9320 - val_loss: 0.5441 - val_accuracy: 0.8434\n",
            "Epoch 12/50\n",
            "84/84 [==============================] - 2s 29ms/step - loss: 0.1477 - accuracy: 0.9347 - val_loss: 0.4839 - val_accuracy: 0.8378\n",
            "Epoch 13/50\n",
            "84/84 [==============================] - 2s 27ms/step - loss: 0.1255 - accuracy: 0.9435 - val_loss: 0.5200 - val_accuracy: 0.8390\n",
            "Epoch 14/50\n",
            "84/84 [==============================] - 3s 32ms/step - loss: 0.1225 - accuracy: 0.9486 - val_loss: 0.5825 - val_accuracy: 0.8310\n",
            "Epoch 15/50\n",
            "84/84 [==============================] - 2s 27ms/step - loss: 0.1142 - accuracy: 0.9476 - val_loss: 0.6037 - val_accuracy: 0.8421\n",
            "Epoch 16/50\n",
            "84/84 [==============================] - 2s 28ms/step - loss: 0.1155 - accuracy: 0.9475 - val_loss: 0.6024 - val_accuracy: 0.8241\n",
            "84/84 [==============================] - 1s 7ms/step - loss: 1.5269 - accuracy: 0.6304\n",
            "Epoch 1/50\n",
            "84/84 [==============================] - 6s 39ms/step - loss: 0.8735 - accuracy: 0.5839 - val_loss: 0.7436 - val_accuracy: 0.6594\n",
            "Epoch 2/50\n",
            "84/84 [==============================] - 2s 30ms/step - loss: 0.6563 - accuracy: 0.7177 - val_loss: 0.6299 - val_accuracy: 0.7340\n",
            "Epoch 3/50\n",
            "84/84 [==============================] - 3s 33ms/step - loss: 0.4662 - accuracy: 0.8152 - val_loss: 0.5415 - val_accuracy: 0.7819\n",
            "Epoch 4/50\n",
            "84/84 [==============================] - 2s 28ms/step - loss: 0.3676 - accuracy: 0.8477 - val_loss: 0.5297 - val_accuracy: 0.7906\n",
            "Epoch 5/50\n",
            "84/84 [==============================] - 2s 26ms/step - loss: 0.2825 - accuracy: 0.8946 - val_loss: 0.4812 - val_accuracy: 0.8198\n",
            "Epoch 6/50\n",
            "84/84 [==============================] - 2s 26ms/step - loss: 0.2498 - accuracy: 0.8963 - val_loss: 0.6114 - val_accuracy: 0.7980\n",
            "Epoch 7/50\n",
            "84/84 [==============================] - 2s 27ms/step - loss: 0.2090 - accuracy: 0.9149 - val_loss: 0.5255 - val_accuracy: 0.8303\n",
            "Epoch 8/50\n",
            "84/84 [==============================] - 2s 25ms/step - loss: 0.1692 - accuracy: 0.9363 - val_loss: 0.5263 - val_accuracy: 0.8403\n",
            "Epoch 9/50\n",
            "84/84 [==============================] - 2s 26ms/step - loss: 0.1684 - accuracy: 0.9316 - val_loss: 0.5147 - val_accuracy: 0.8260\n",
            "Epoch 10/50\n",
            "84/84 [==============================] - 2s 26ms/step - loss: 0.1580 - accuracy: 0.9379 - val_loss: 0.5202 - val_accuracy: 0.8365\n",
            "Epoch 11/50\n",
            "84/84 [==============================] - 2s 26ms/step - loss: 0.1311 - accuracy: 0.9488 - val_loss: 0.5132 - val_accuracy: 0.8471\n",
            "Epoch 12/50\n",
            "84/84 [==============================] - 2s 27ms/step - loss: 0.1245 - accuracy: 0.9504 - val_loss: 0.5721 - val_accuracy: 0.8471\n",
            "Epoch 13/50\n",
            "84/84 [==============================] - 2s 25ms/step - loss: 0.1097 - accuracy: 0.9512 - val_loss: 0.5862 - val_accuracy: 0.8490\n",
            "Epoch 14/50\n",
            "84/84 [==============================] - 2s 26ms/step - loss: 0.0965 - accuracy: 0.9618 - val_loss: 0.5959 - val_accuracy: 0.8515\n",
            "Epoch 15/50\n",
            "84/84 [==============================] - 2s 28ms/step - loss: 0.1011 - accuracy: 0.9546 - val_loss: 0.6310 - val_accuracy: 0.8527\n",
            "84/84 [==============================] - 1s 7ms/step - loss: 1.6185 - accuracy: 0.6721\n",
            "Epoch 1/50\n",
            "84/84 [==============================] - 6s 42ms/step - loss: 0.8934 - accuracy: 0.5755 - val_loss: 0.7773 - val_accuracy: 0.6482\n",
            "Epoch 2/50\n",
            "84/84 [==============================] - 2s 29ms/step - loss: 0.6510 - accuracy: 0.7076 - val_loss: 0.7185 - val_accuracy: 0.6712\n",
            "Epoch 3/50\n",
            "84/84 [==============================] - 2s 28ms/step - loss: 0.5087 - accuracy: 0.7866 - val_loss: 0.5422 - val_accuracy: 0.7794\n",
            "Epoch 4/50\n",
            "84/84 [==============================] - 2s 27ms/step - loss: 0.3656 - accuracy: 0.8528 - val_loss: 0.5023 - val_accuracy: 0.8005\n",
            "Epoch 5/50\n",
            "84/84 [==============================] - 2s 27ms/step - loss: 0.2807 - accuracy: 0.8885 - val_loss: 0.4658 - val_accuracy: 0.8241\n",
            "Epoch 6/50\n",
            "84/84 [==============================] - 2s 29ms/step - loss: 0.2302 - accuracy: 0.9108 - val_loss: 0.5076 - val_accuracy: 0.8198\n",
            "Epoch 7/50\n",
            "84/84 [==============================] - 2s 27ms/step - loss: 0.2047 - accuracy: 0.9179 - val_loss: 0.5220 - val_accuracy: 0.8347\n",
            "Epoch 8/50\n",
            "84/84 [==============================] - 2s 30ms/step - loss: 0.1970 - accuracy: 0.9226 - val_loss: 0.4812 - val_accuracy: 0.8434\n",
            "Epoch 9/50\n",
            "84/84 [==============================] - 2s 29ms/step - loss: 0.1540 - accuracy: 0.9380 - val_loss: 0.5216 - val_accuracy: 0.8272\n",
            "Epoch 10/50\n",
            "84/84 [==============================] - 2s 28ms/step - loss: 0.1507 - accuracy: 0.9401 - val_loss: 0.5420 - val_accuracy: 0.8341\n",
            "Epoch 11/50\n",
            "84/84 [==============================] - 2s 29ms/step - loss: 0.1376 - accuracy: 0.9404 - val_loss: 0.5350 - val_accuracy: 0.8452\n",
            "Epoch 12/50\n",
            "84/84 [==============================] - 2s 26ms/step - loss: 0.1220 - accuracy: 0.9475 - val_loss: 0.5743 - val_accuracy: 0.8397\n",
            "Epoch 13/50\n",
            "84/84 [==============================] - 2s 27ms/step - loss: 0.1134 - accuracy: 0.9490 - val_loss: 0.5357 - val_accuracy: 0.8434\n",
            "Epoch 14/50\n",
            "84/84 [==============================] - 2s 27ms/step - loss: 0.1225 - accuracy: 0.9487 - val_loss: 0.6300 - val_accuracy: 0.8446\n",
            "Epoch 15/50\n",
            "84/84 [==============================] - 2s 26ms/step - loss: 0.1138 - accuracy: 0.9443 - val_loss: 0.6310 - val_accuracy: 0.8471\n",
            "84/84 [==============================] - 1s 7ms/step - loss: 1.6403 - accuracy: 0.6474\n",
            "Epoch 1/50\n",
            "84/84 [==============================] - 8s 57ms/step - loss: 0.8742 - accuracy: 0.5734 - val_loss: 0.6822 - val_accuracy: 0.6874\n",
            "Epoch 2/50\n",
            "84/84 [==============================] - 4s 47ms/step - loss: 0.5745 - accuracy: 0.7555 - val_loss: 0.4867 - val_accuracy: 0.8048\n",
            "Epoch 3/50\n",
            "84/84 [==============================] - 4s 48ms/step - loss: 0.3590 - accuracy: 0.8542 - val_loss: 0.4603 - val_accuracy: 0.8229\n",
            "Epoch 4/50\n",
            "84/84 [==============================] - 4s 48ms/step - loss: 0.2523 - accuracy: 0.8981 - val_loss: 0.4163 - val_accuracy: 0.8446\n",
            "Epoch 5/50\n",
            "84/84 [==============================] - 4s 48ms/step - loss: 0.1994 - accuracy: 0.9220 - val_loss: 0.4333 - val_accuracy: 0.8515\n",
            "Epoch 6/50\n",
            "84/84 [==============================] - 4s 48ms/step - loss: 0.1709 - accuracy: 0.9327 - val_loss: 0.4138 - val_accuracy: 0.8490\n",
            "Epoch 7/50\n",
            "84/84 [==============================] - 4s 47ms/step - loss: 0.1474 - accuracy: 0.9406 - val_loss: 0.4531 - val_accuracy: 0.8415\n",
            "Epoch 8/50\n",
            "84/84 [==============================] - 4s 47ms/step - loss: 0.1290 - accuracy: 0.9438 - val_loss: 0.4709 - val_accuracy: 0.8502\n",
            "Epoch 9/50\n",
            "84/84 [==============================] - 4s 48ms/step - loss: 0.1152 - accuracy: 0.9433 - val_loss: 0.5545 - val_accuracy: 0.8459\n",
            "Epoch 10/50\n",
            "84/84 [==============================] - 4s 48ms/step - loss: 0.1144 - accuracy: 0.9445 - val_loss: 0.6078 - val_accuracy: 0.8452\n",
            "Epoch 11/50\n",
            "84/84 [==============================] - 4s 47ms/step - loss: 0.0948 - accuracy: 0.9551 - val_loss: 0.5466 - val_accuracy: 0.8558\n",
            "Epoch 12/50\n",
            "84/84 [==============================] - 4s 48ms/step - loss: 0.0913 - accuracy: 0.9516 - val_loss: 0.6607 - val_accuracy: 0.8490\n",
            "Epoch 13/50\n",
            "84/84 [==============================] - 4s 46ms/step - loss: 0.0916 - accuracy: 0.9529 - val_loss: 0.6161 - val_accuracy: 0.8589\n",
            "Epoch 14/50\n",
            "84/84 [==============================] - 4s 48ms/step - loss: 0.0826 - accuracy: 0.9599 - val_loss: 0.6786 - val_accuracy: 0.8589\n",
            "Epoch 15/50\n",
            "84/84 [==============================] - 4s 48ms/step - loss: 0.0811 - accuracy: 0.9570 - val_loss: 0.6757 - val_accuracy: 0.8589\n",
            "Epoch 16/50\n",
            "84/84 [==============================] - 4s 47ms/step - loss: 0.0727 - accuracy: 0.9579 - val_loss: 0.6015 - val_accuracy: 0.8527\n",
            "84/84 [==============================] - 1s 8ms/step - loss: 1.6615 - accuracy: 0.6486\n",
            "Epoch 1/50\n",
            "84/84 [==============================] - 7s 55ms/step - loss: 0.8533 - accuracy: 0.5929 - val_loss: 0.6995 - val_accuracy: 0.6868\n",
            "Epoch 2/50\n",
            "84/84 [==============================] - 4s 49ms/step - loss: 0.5929 - accuracy: 0.7492 - val_loss: 0.5469 - val_accuracy: 0.7874\n",
            "Epoch 3/50\n",
            "84/84 [==============================] - 4s 50ms/step - loss: 0.3322 - accuracy: 0.8724 - val_loss: 0.5176 - val_accuracy: 0.8086\n",
            "Epoch 4/50\n",
            "84/84 [==============================] - 4s 48ms/step - loss: 0.2323 - accuracy: 0.9041 - val_loss: 0.4896 - val_accuracy: 0.8222\n",
            "Epoch 5/50\n",
            "84/84 [==============================] - 4s 49ms/step - loss: 0.1875 - accuracy: 0.9311 - val_loss: 0.4906 - val_accuracy: 0.8421\n",
            "Epoch 6/50\n",
            "84/84 [==============================] - 4s 49ms/step - loss: 0.1674 - accuracy: 0.9351 - val_loss: 0.5640 - val_accuracy: 0.8229\n",
            "Epoch 7/50\n",
            "84/84 [==============================] - 4s 48ms/step - loss: 0.1410 - accuracy: 0.9457 - val_loss: 0.5389 - val_accuracy: 0.8216\n",
            "Epoch 8/50\n",
            "84/84 [==============================] - 4s 47ms/step - loss: 0.1405 - accuracy: 0.9496 - val_loss: 0.4879 - val_accuracy: 0.8465\n",
            "Epoch 9/50\n",
            "84/84 [==============================] - 4s 48ms/step - loss: 0.1175 - accuracy: 0.9553 - val_loss: 0.5497 - val_accuracy: 0.8465\n",
            "Epoch 10/50\n",
            "84/84 [==============================] - 4s 50ms/step - loss: 0.1077 - accuracy: 0.9486 - val_loss: 0.5935 - val_accuracy: 0.8527\n",
            "Epoch 11/50\n",
            "84/84 [==============================] - 4s 52ms/step - loss: 0.0917 - accuracy: 0.9613 - val_loss: 0.5760 - val_accuracy: 0.8539\n",
            "Epoch 12/50\n",
            "84/84 [==============================] - 4s 50ms/step - loss: 0.0935 - accuracy: 0.9545 - val_loss: 0.6661 - val_accuracy: 0.8614\n",
            "Epoch 13/50\n",
            "84/84 [==============================] - 4s 47ms/step - loss: 0.0837 - accuracy: 0.9581 - val_loss: 0.6737 - val_accuracy: 0.8527\n",
            "Epoch 14/50\n",
            "84/84 [==============================] - 4s 47ms/step - loss: 0.0918 - accuracy: 0.9560 - val_loss: 0.6561 - val_accuracy: 0.8577\n",
            "Epoch 15/50\n",
            "84/84 [==============================] - 4s 49ms/step - loss: 0.0869 - accuracy: 0.9599 - val_loss: 0.7082 - val_accuracy: 0.8552\n",
            "Epoch 16/50\n",
            "84/84 [==============================] - 4s 47ms/step - loss: 0.0686 - accuracy: 0.9673 - val_loss: 0.6957 - val_accuracy: 0.8502\n",
            "Epoch 17/50\n",
            "84/84 [==============================] - 4s 49ms/step - loss: 0.0846 - accuracy: 0.9630 - val_loss: 0.6773 - val_accuracy: 0.8409\n",
            "Epoch 18/50\n",
            "84/84 [==============================] - 4s 48ms/step - loss: 0.0918 - accuracy: 0.9540 - val_loss: 0.7170 - val_accuracy: 0.8527\n",
            "84/84 [==============================] - 1s 7ms/step - loss: 1.9660 - accuracy: 0.6512\n",
            "Epoch 1/50\n",
            "84/84 [==============================] - 7s 55ms/step - loss: 0.8513 - accuracy: 0.6026 - val_loss: 0.6886 - val_accuracy: 0.6799\n",
            "Epoch 2/50\n",
            "84/84 [==============================] - 4s 51ms/step - loss: 0.5700 - accuracy: 0.7518 - val_loss: 0.4989 - val_accuracy: 0.7887\n",
            "Epoch 3/50\n",
            "84/84 [==============================] - 4s 46ms/step - loss: 0.3394 - accuracy: 0.8694 - val_loss: 0.4761 - val_accuracy: 0.8073\n",
            "Epoch 4/50\n",
            "84/84 [==============================] - 4s 48ms/step - loss: 0.2398 - accuracy: 0.9059 - val_loss: 0.4657 - val_accuracy: 0.8247\n",
            "Epoch 5/50\n",
            "84/84 [==============================] - 4s 48ms/step - loss: 0.1935 - accuracy: 0.9260 - val_loss: 0.4689 - val_accuracy: 0.8310\n",
            "Epoch 6/50\n",
            "84/84 [==============================] - 4s 46ms/step - loss: 0.1510 - accuracy: 0.9377 - val_loss: 0.5398 - val_accuracy: 0.8316\n",
            "Epoch 7/50\n",
            "84/84 [==============================] - 4s 49ms/step - loss: 0.1481 - accuracy: 0.9394 - val_loss: 0.5377 - val_accuracy: 0.8428\n",
            "Epoch 8/50\n",
            "84/84 [==============================] - 4s 48ms/step - loss: 0.1205 - accuracy: 0.9407 - val_loss: 0.5688 - val_accuracy: 0.8397\n",
            "Epoch 9/50\n",
            "84/84 [==============================] - 4s 50ms/step - loss: 0.1116 - accuracy: 0.9509 - val_loss: 0.6308 - val_accuracy: 0.8496\n",
            "Epoch 10/50\n",
            "84/84 [==============================] - 4s 47ms/step - loss: 0.0949 - accuracy: 0.9551 - val_loss: 0.6457 - val_accuracy: 0.8415\n",
            "Epoch 11/50\n",
            "84/84 [==============================] - 4s 47ms/step - loss: 0.0963 - accuracy: 0.9542 - val_loss: 0.6008 - val_accuracy: 0.8502\n",
            "Epoch 12/50\n",
            "84/84 [==============================] - 4s 47ms/step - loss: 0.0919 - accuracy: 0.9490 - val_loss: 0.6636 - val_accuracy: 0.8440\n",
            "Epoch 13/50\n",
            "84/84 [==============================] - 4s 47ms/step - loss: 0.0913 - accuracy: 0.9543 - val_loss: 0.6421 - val_accuracy: 0.8521\n",
            "Epoch 14/50\n",
            "84/84 [==============================] - 4s 46ms/step - loss: 0.0712 - accuracy: 0.9622 - val_loss: 0.6479 - val_accuracy: 0.8397\n",
            "84/84 [==============================] - 1s 7ms/step - loss: 1.7183 - accuracy: 0.6306\n",
            "Epoch 1/50\n",
            "126/126 [==============================] - 6s 24ms/step - loss: 0.8410 - accuracy: 0.5898 - val_loss: 0.6732 - val_accuracy: 0.7073\n",
            "Epoch 2/50\n",
            "126/126 [==============================] - 2s 19ms/step - loss: 0.6397 - accuracy: 0.7173 - val_loss: 0.5172 - val_accuracy: 0.7763\n",
            "Epoch 3/50\n",
            "126/126 [==============================] - 2s 18ms/step - loss: 0.5192 - accuracy: 0.7839 - val_loss: 0.4327 - val_accuracy: 0.8148\n",
            "Epoch 4/50\n",
            "126/126 [==============================] - 2s 18ms/step - loss: 0.4235 - accuracy: 0.8242 - val_loss: 0.3835 - val_accuracy: 0.8452\n",
            "Epoch 5/50\n",
            "126/126 [==============================] - 2s 18ms/step - loss: 0.3566 - accuracy: 0.8626 - val_loss: 0.3521 - val_accuracy: 0.8633\n",
            "Epoch 6/50\n",
            "126/126 [==============================] - 2s 18ms/step - loss: 0.3153 - accuracy: 0.8763 - val_loss: 0.2735 - val_accuracy: 0.8987\n",
            "Epoch 7/50\n",
            "126/126 [==============================] - 2s 19ms/step - loss: 0.2757 - accuracy: 0.8947 - val_loss: 0.2575 - val_accuracy: 0.8956\n",
            "Epoch 8/50\n",
            "126/126 [==============================] - 2s 18ms/step - loss: 0.2528 - accuracy: 0.9012 - val_loss: 0.2676 - val_accuracy: 0.8863\n",
            "Epoch 9/50\n",
            "126/126 [==============================] - 2s 19ms/step - loss: 0.2364 - accuracy: 0.9109 - val_loss: 0.2354 - val_accuracy: 0.9024\n",
            "Epoch 10/50\n",
            "126/126 [==============================] - 2s 19ms/step - loss: 0.2152 - accuracy: 0.9081 - val_loss: 0.1911 - val_accuracy: 0.9229\n",
            "Epoch 11/50\n",
            "126/126 [==============================] - 2s 18ms/step - loss: 0.1964 - accuracy: 0.9191 - val_loss: 0.1736 - val_accuracy: 0.9211\n",
            "Epoch 12/50\n",
            "126/126 [==============================] - 2s 19ms/step - loss: 0.1896 - accuracy: 0.9227 - val_loss: 0.1918 - val_accuracy: 0.9223\n",
            "Epoch 13/50\n",
            "126/126 [==============================] - 2s 19ms/step - loss: 0.1765 - accuracy: 0.9262 - val_loss: 0.1443 - val_accuracy: 0.9354\n",
            "Epoch 14/50\n",
            "126/126 [==============================] - 2s 19ms/step - loss: 0.1724 - accuracy: 0.9251 - val_loss: 0.1465 - val_accuracy: 0.9329\n",
            "Epoch 15/50\n",
            "126/126 [==============================] - 2s 19ms/step - loss: 0.1453 - accuracy: 0.9409 - val_loss: 0.1489 - val_accuracy: 0.9285\n",
            "Epoch 16/50\n",
            "126/126 [==============================] - 2s 18ms/step - loss: 0.1501 - accuracy: 0.9386 - val_loss: 0.1296 - val_accuracy: 0.9422\n",
            "Epoch 17/50\n",
            "126/126 [==============================] - 2s 19ms/step - loss: 0.1250 - accuracy: 0.9413 - val_loss: 0.1178 - val_accuracy: 0.9416\n",
            "Epoch 18/50\n",
            "126/126 [==============================] - 2s 19ms/step - loss: 0.1332 - accuracy: 0.9438 - val_loss: 0.1335 - val_accuracy: 0.9403\n",
            "Epoch 19/50\n",
            "126/126 [==============================] - 2s 18ms/step - loss: 0.1201 - accuracy: 0.9463 - val_loss: 0.1212 - val_accuracy: 0.9459\n",
            "Epoch 20/50\n",
            "126/126 [==============================] - 2s 19ms/step - loss: 0.1212 - accuracy: 0.9433 - val_loss: 0.1057 - val_accuracy: 0.9503\n",
            "Epoch 21/50\n",
            "126/126 [==============================] - 2s 19ms/step - loss: 0.1061 - accuracy: 0.9555 - val_loss: 0.1316 - val_accuracy: 0.9447\n",
            "Epoch 22/50\n",
            "126/126 [==============================] - 2s 19ms/step - loss: 0.1067 - accuracy: 0.9545 - val_loss: 0.0986 - val_accuracy: 0.9540\n",
            "Epoch 23/50\n",
            "126/126 [==============================] - 2s 20ms/step - loss: 0.0919 - accuracy: 0.9591 - val_loss: 0.0886 - val_accuracy: 0.9565\n",
            "Epoch 24/50\n",
            "126/126 [==============================] - 2s 18ms/step - loss: 0.0943 - accuracy: 0.9603 - val_loss: 0.0782 - val_accuracy: 0.9683\n",
            "Epoch 25/50\n",
            "126/126 [==============================] - 2s 19ms/step - loss: 0.0863 - accuracy: 0.9639 - val_loss: 0.0785 - val_accuracy: 0.9621\n",
            "Epoch 26/50\n",
            "126/126 [==============================] - 3s 20ms/step - loss: 0.0805 - accuracy: 0.9673 - val_loss: 0.0924 - val_accuracy: 0.9559\n",
            "Epoch 27/50\n",
            "126/126 [==============================] - 2s 19ms/step - loss: 0.0773 - accuracy: 0.9686 - val_loss: 0.0596 - val_accuracy: 0.9758\n",
            "Epoch 28/50\n",
            "126/126 [==============================] - 2s 19ms/step - loss: 0.0661 - accuracy: 0.9729 - val_loss: 0.0712 - val_accuracy: 0.9720\n",
            "Epoch 29/50\n",
            "126/126 [==============================] - 2s 18ms/step - loss: 0.0613 - accuracy: 0.9753 - val_loss: 0.0572 - val_accuracy: 0.9745\n",
            "Epoch 30/50\n",
            "126/126 [==============================] - 2s 18ms/step - loss: 0.0631 - accuracy: 0.9741 - val_loss: 0.0583 - val_accuracy: 0.9789\n",
            "Epoch 31/50\n",
            "126/126 [==============================] - 2s 18ms/step - loss: 0.0627 - accuracy: 0.9753 - val_loss: 0.0552 - val_accuracy: 0.9745\n",
            "Epoch 32/50\n",
            "126/126 [==============================] - 2s 18ms/step - loss: 0.0605 - accuracy: 0.9770 - val_loss: 0.0388 - val_accuracy: 0.9851\n",
            "Epoch 33/50\n",
            "126/126 [==============================] - 2s 18ms/step - loss: 0.0539 - accuracy: 0.9777 - val_loss: 0.0406 - val_accuracy: 0.9838\n",
            "Epoch 34/50\n",
            "126/126 [==============================] - 2s 18ms/step - loss: 0.0443 - accuracy: 0.9822 - val_loss: 0.0317 - val_accuracy: 0.9901\n",
            "Epoch 35/50\n",
            "126/126 [==============================] - 2s 18ms/step - loss: 0.0435 - accuracy: 0.9833 - val_loss: 0.0397 - val_accuracy: 0.9851\n",
            "Epoch 36/50\n",
            "126/126 [==============================] - 2s 18ms/step - loss: 0.0443 - accuracy: 0.9825 - val_loss: 0.0316 - val_accuracy: 0.9882\n",
            "Epoch 37/50\n",
            "126/126 [==============================] - 2s 18ms/step - loss: 0.0398 - accuracy: 0.9846 - val_loss: 0.0322 - val_accuracy: 0.9876\n",
            "Epoch 38/50\n",
            "126/126 [==============================] - 2s 18ms/step - loss: 0.0388 - accuracy: 0.9862 - val_loss: 0.0294 - val_accuracy: 0.9869\n",
            "Epoch 39/50\n",
            "126/126 [==============================] - 2s 18ms/step - loss: 0.0394 - accuracy: 0.9844 - val_loss: 0.0732 - val_accuracy: 0.9733\n",
            "Epoch 40/50\n",
            "126/126 [==============================] - 2s 18ms/step - loss: 0.0426 - accuracy: 0.9839 - val_loss: 0.0381 - val_accuracy: 0.9826\n",
            "Epoch 41/50\n",
            "126/126 [==============================] - 2s 18ms/step - loss: 0.0377 - accuracy: 0.9861 - val_loss: 0.0253 - val_accuracy: 0.9901\n",
            "Epoch 42/50\n",
            "126/126 [==============================] - 2s 18ms/step - loss: 0.0326 - accuracy: 0.9859 - val_loss: 0.0241 - val_accuracy: 0.9894\n",
            "Epoch 43/50\n",
            "126/126 [==============================] - 2s 18ms/step - loss: 0.0313 - accuracy: 0.9865 - val_loss: 0.0182 - val_accuracy: 0.9944\n",
            "Epoch 44/50\n",
            "126/126 [==============================] - 2s 18ms/step - loss: 0.0336 - accuracy: 0.9856 - val_loss: 0.0221 - val_accuracy: 0.9907\n",
            "Epoch 45/50\n",
            "126/126 [==============================] - 2s 18ms/step - loss: 0.0325 - accuracy: 0.9855 - val_loss: 0.0228 - val_accuracy: 0.9907\n",
            "Epoch 46/50\n",
            "126/126 [==============================] - 2s 18ms/step - loss: 0.0293 - accuracy: 0.9879 - val_loss: 0.0205 - val_accuracy: 0.9894\n",
            "Epoch 47/50\n",
            "126/126 [==============================] - 2s 19ms/step - loss: 0.0285 - accuracy: 0.9886 - val_loss: 0.0155 - val_accuracy: 0.9938\n",
            "Epoch 48/50\n",
            "126/126 [==============================] - 2s 18ms/step - loss: 0.0250 - accuracy: 0.9898 - val_loss: 0.0177 - val_accuracy: 0.9932\n",
            "Epoch 49/50\n",
            "126/126 [==============================] - 2s 18ms/step - loss: 0.0295 - accuracy: 0.9876 - val_loss: 0.0184 - val_accuracy: 0.9919\n",
            "Epoch 50/50\n",
            "126/126 [==============================] - 2s 18ms/step - loss: 0.0237 - accuracy: 0.9902 - val_loss: 0.0239 - val_accuracy: 0.9907\n"
          ],
          "name": "stdout"
        }
      ]
    },
    {
      "cell_type": "code",
      "metadata": {
        "id": "5Ul9B7a33Llr"
      },
      "source": [
        "grid.best_estimator_.model.save('model.h5')"
      ],
      "execution_count": 12,
      "outputs": []
    },
    {
      "cell_type": "markdown",
      "metadata": {
        "id": "ZVgOXc4bpEzV"
      },
      "source": [
        "### Retraining Best Model from Gridsearch"
      ]
    },
    {
      "cell_type": "code",
      "metadata": {
        "id": "SQ3Ioc7xJtNQ"
      },
      "source": [
        "model = models.load_model('model.h5')"
      ],
      "execution_count": 13,
      "outputs": []
    },
    {
      "cell_type": "code",
      "metadata": {
        "colab": {
          "base_uri": "https://localhost:8080/"
        },
        "id": "lGHxbJKQLTgw",
        "outputId": "bf72fbb4-9de0-4f05-e20b-44143590aae8"
      },
      "source": [
        "model.evaluate(X_test, y_test, batch_size=64)"
      ],
      "execution_count": 14,
      "outputs": [
        {
          "output_type": "stream",
          "text": [
            "14/14 [==============================] - 1s 6ms/step - loss: 2.0754 - accuracy: 0.6365\n"
          ],
          "name": "stdout"
        },
        {
          "output_type": "execute_result",
          "data": {
            "text/plain": [
              "[2.0754494667053223, 0.636465311050415]"
            ]
          },
          "metadata": {
            "tags": []
          },
          "execution_count": 14
        }
      ]
    },
    {
      "cell_type": "code",
      "metadata": {
        "colab": {
          "base_uri": "https://localhost:8080/"
        },
        "id": "nbEAJFJ8L-pw",
        "outputId": "4778aeb2-c325-4acb-8f5a-10dc0a7eefdc"
      },
      "source": [
        "model.evaluate(X_train, y_train, batch_size=64)"
      ],
      "execution_count": 15,
      "outputs": [
        {
          "output_type": "stream",
          "text": [
            "126/126 [==============================] - 1s 6ms/step - loss: 0.0246 - accuracy: 0.9907\n"
          ],
          "name": "stdout"
        },
        {
          "output_type": "execute_result",
          "data": {
            "text/plain": [
              "[0.024568874388933182, 0.9906739592552185]"
            ]
          },
          "metadata": {
            "tags": []
          },
          "execution_count": 15
        }
      ]
    },
    {
      "cell_type": "code",
      "metadata": {
        "colab": {
          "base_uri": "https://localhost:8080/"
        },
        "id": "NokLVRBMECq_",
        "outputId": "11d0e99d-1c18-4c7a-8ec2-8edd3fefcbf8"
      },
      "source": [
        "history = model.fit(X_train, y_train, epochs=50, batch_size=64, validation_split=0.2)"
      ],
      "execution_count": 16,
      "outputs": [
        {
          "output_type": "stream",
          "text": [
            "Epoch 1/50\n",
            "101/101 [==============================] - 3s 17ms/step - loss: 0.0279 - accuracy: 0.9899 - val_loss: 0.0243 - val_accuracy: 0.9907\n",
            "Epoch 2/50\n",
            "101/101 [==============================] - 1s 15ms/step - loss: 0.0265 - accuracy: 0.9896 - val_loss: 0.0346 - val_accuracy: 0.9876\n",
            "Epoch 3/50\n",
            "101/101 [==============================] - 2s 15ms/step - loss: 0.0242 - accuracy: 0.9913 - val_loss: 0.0381 - val_accuracy: 0.9851\n",
            "Epoch 4/50\n",
            "101/101 [==============================] - 1s 14ms/step - loss: 0.0237 - accuracy: 0.9907 - val_loss: 0.0713 - val_accuracy: 0.9789\n",
            "Epoch 5/50\n",
            "101/101 [==============================] - 2s 15ms/step - loss: 0.0232 - accuracy: 0.9908 - val_loss: 0.0836 - val_accuracy: 0.9714\n",
            "Epoch 6/50\n",
            "101/101 [==============================] - 1s 15ms/step - loss: 0.0215 - accuracy: 0.9905 - val_loss: 0.1121 - val_accuracy: 0.9646\n",
            "Epoch 7/50\n",
            "101/101 [==============================] - 2s 15ms/step - loss: 0.0220 - accuracy: 0.9915 - val_loss: 0.1180 - val_accuracy: 0.9658\n",
            "Epoch 8/50\n",
            "101/101 [==============================] - 1s 15ms/step - loss: 0.0200 - accuracy: 0.9918 - val_loss: 0.1275 - val_accuracy: 0.9658\n",
            "Epoch 9/50\n",
            "101/101 [==============================] - 2s 15ms/step - loss: 0.0187 - accuracy: 0.9925 - val_loss: 0.1195 - val_accuracy: 0.9677\n",
            "Epoch 10/50\n",
            "101/101 [==============================] - 1s 15ms/step - loss: 0.0172 - accuracy: 0.9924 - val_loss: 0.1794 - val_accuracy: 0.9553\n",
            "Epoch 11/50\n",
            "101/101 [==============================] - 2s 15ms/step - loss: 0.0181 - accuracy: 0.9930 - val_loss: 0.1382 - val_accuracy: 0.9615\n",
            "Epoch 12/50\n",
            "101/101 [==============================] - 2s 15ms/step - loss: 0.0190 - accuracy: 0.9921 - val_loss: 0.1588 - val_accuracy: 0.9596\n",
            "Epoch 13/50\n",
            "101/101 [==============================] - 2s 15ms/step - loss: 0.0179 - accuracy: 0.9932 - val_loss: 0.1754 - val_accuracy: 0.9534\n",
            "Epoch 14/50\n",
            "101/101 [==============================] - 1s 15ms/step - loss: 0.0172 - accuracy: 0.9930 - val_loss: 0.3089 - val_accuracy: 0.9285\n",
            "Epoch 15/50\n",
            "101/101 [==============================] - 2s 15ms/step - loss: 0.0163 - accuracy: 0.9922 - val_loss: 0.2296 - val_accuracy: 0.9466\n",
            "Epoch 16/50\n",
            "101/101 [==============================] - 1s 15ms/step - loss: 0.0156 - accuracy: 0.9932 - val_loss: 0.2599 - val_accuracy: 0.9397\n",
            "Epoch 17/50\n",
            "101/101 [==============================] - 2s 15ms/step - loss: 0.0166 - accuracy: 0.9933 - val_loss: 0.2780 - val_accuracy: 0.9416\n",
            "Epoch 18/50\n",
            "101/101 [==============================] - 1s 15ms/step - loss: 0.0142 - accuracy: 0.9938 - val_loss: 0.2870 - val_accuracy: 0.9391\n",
            "Epoch 19/50\n",
            "101/101 [==============================] - 2s 15ms/step - loss: 0.0135 - accuracy: 0.9944 - val_loss: 0.3047 - val_accuracy: 0.9360\n",
            "Epoch 20/50\n",
            "101/101 [==============================] - 1s 15ms/step - loss: 0.0165 - accuracy: 0.9939 - val_loss: 0.3365 - val_accuracy: 0.9279\n",
            "Epoch 21/50\n",
            "101/101 [==============================] - 2s 15ms/step - loss: 0.0153 - accuracy: 0.9939 - val_loss: 0.3700 - val_accuracy: 0.9291\n",
            "Epoch 22/50\n",
            "101/101 [==============================] - 1s 15ms/step - loss: 0.0150 - accuracy: 0.9942 - val_loss: 0.3502 - val_accuracy: 0.9260\n",
            "Epoch 23/50\n",
            "101/101 [==============================] - 2s 15ms/step - loss: 0.0137 - accuracy: 0.9946 - val_loss: 0.3664 - val_accuracy: 0.9248\n",
            "Epoch 24/50\n",
            "101/101 [==============================] - 2s 15ms/step - loss: 0.0186 - accuracy: 0.9927 - val_loss: 0.3392 - val_accuracy: 0.9223\n",
            "Epoch 25/50\n",
            "101/101 [==============================] - 2s 15ms/step - loss: 0.0148 - accuracy: 0.9939 - val_loss: 0.4082 - val_accuracy: 0.9099\n",
            "Epoch 26/50\n",
            "101/101 [==============================] - 2s 15ms/step - loss: 0.0145 - accuracy: 0.9944 - val_loss: 0.3814 - val_accuracy: 0.9173\n",
            "Epoch 27/50\n",
            "101/101 [==============================] - 2s 15ms/step - loss: 0.0131 - accuracy: 0.9946 - val_loss: 0.4352 - val_accuracy: 0.9111\n",
            "Epoch 28/50\n",
            "101/101 [==============================] - 1s 15ms/step - loss: 0.0098 - accuracy: 0.9960 - val_loss: 0.4788 - val_accuracy: 0.9074\n",
            "Epoch 29/50\n",
            "101/101 [==============================] - 2s 15ms/step - loss: 0.0134 - accuracy: 0.9946 - val_loss: 0.4583 - val_accuracy: 0.9074\n",
            "Epoch 30/50\n",
            "101/101 [==============================] - 1s 15ms/step - loss: 0.0125 - accuracy: 0.9946 - val_loss: 0.4629 - val_accuracy: 0.9080\n",
            "Epoch 31/50\n",
            "101/101 [==============================] - 2s 15ms/step - loss: 0.0118 - accuracy: 0.9956 - val_loss: 0.5041 - val_accuracy: 0.9105\n",
            "Epoch 32/50\n",
            "101/101 [==============================] - 2s 15ms/step - loss: 0.0130 - accuracy: 0.9941 - val_loss: 0.4795 - val_accuracy: 0.9080\n",
            "Epoch 33/50\n",
            "101/101 [==============================] - 2s 15ms/step - loss: 0.0096 - accuracy: 0.9956 - val_loss: 0.5559 - val_accuracy: 0.8943\n",
            "Epoch 34/50\n",
            "101/101 [==============================] - 1s 15ms/step - loss: 0.0115 - accuracy: 0.9956 - val_loss: 0.5436 - val_accuracy: 0.9018\n",
            "Epoch 35/50\n",
            "101/101 [==============================] - 2s 15ms/step - loss: 0.0101 - accuracy: 0.9955 - val_loss: 0.5594 - val_accuracy: 0.8975\n",
            "Epoch 36/50\n",
            "101/101 [==============================] - 1s 15ms/step - loss: 0.0125 - accuracy: 0.9955 - val_loss: 0.7139 - val_accuracy: 0.8707\n",
            "Epoch 37/50\n",
            "101/101 [==============================] - 2s 15ms/step - loss: 0.0094 - accuracy: 0.9963 - val_loss: 0.6254 - val_accuracy: 0.8925\n",
            "Epoch 38/50\n",
            "101/101 [==============================] - 1s 15ms/step - loss: 0.0125 - accuracy: 0.9956 - val_loss: 0.6359 - val_accuracy: 0.8925\n",
            "Epoch 39/50\n",
            "101/101 [==============================] - 2s 15ms/step - loss: 0.0110 - accuracy: 0.9952 - val_loss: 0.6283 - val_accuracy: 0.8900\n",
            "Epoch 40/50\n",
            "101/101 [==============================] - 2s 15ms/step - loss: 0.0107 - accuracy: 0.9958 - val_loss: 0.6308 - val_accuracy: 0.8894\n",
            "Epoch 41/50\n",
            "101/101 [==============================] - 2s 15ms/step - loss: 0.0107 - accuracy: 0.9950 - val_loss: 0.6238 - val_accuracy: 0.8819\n",
            "Epoch 42/50\n",
            "101/101 [==============================] - 1s 15ms/step - loss: 0.0128 - accuracy: 0.9947 - val_loss: 0.6511 - val_accuracy: 0.8763\n",
            "Epoch 43/50\n",
            "101/101 [==============================] - 2s 15ms/step - loss: 0.0128 - accuracy: 0.9949 - val_loss: 0.6182 - val_accuracy: 0.8844\n",
            "Epoch 44/50\n",
            "101/101 [==============================] - 2s 15ms/step - loss: 0.0142 - accuracy: 0.9942 - val_loss: 0.6735 - val_accuracy: 0.8645\n",
            "Epoch 45/50\n",
            "101/101 [==============================] - 2s 15ms/step - loss: 0.0142 - accuracy: 0.9952 - val_loss: 0.6291 - val_accuracy: 0.8720\n",
            "Epoch 46/50\n",
            "101/101 [==============================] - 2s 15ms/step - loss: 0.0077 - accuracy: 0.9961 - val_loss: 0.6918 - val_accuracy: 0.8738\n",
            "Epoch 47/50\n",
            "101/101 [==============================] - 2s 16ms/step - loss: 0.0153 - accuracy: 0.9955 - val_loss: 0.7139 - val_accuracy: 0.8713\n",
            "Epoch 48/50\n",
            "101/101 [==============================] - 2s 16ms/step - loss: 0.0075 - accuracy: 0.9956 - val_loss: 0.7097 - val_accuracy: 0.8633\n",
            "Epoch 49/50\n",
            "101/101 [==============================] - 2s 15ms/step - loss: 0.0074 - accuracy: 0.9958 - val_loss: 0.7208 - val_accuracy: 0.8707\n",
            "Epoch 50/50\n",
            "101/101 [==============================] - 1s 15ms/step - loss: 0.0100 - accuracy: 0.9955 - val_loss: 0.8391 - val_accuracy: 0.8471\n"
          ],
          "name": "stdout"
        }
      ]
    },
    {
      "cell_type": "markdown",
      "metadata": {
        "id": "p1ZrdMQuE-PX"
      },
      "source": [
        "It is important to keep in mind that these histories ar showing the results of a model that was already trained."
      ]
    },
    {
      "cell_type": "code",
      "metadata": {
        "colab": {
          "base_uri": "https://localhost:8080/",
          "height": 279
        },
        "id": "2J8wBZfoLgG9",
        "outputId": "b26c131b-84f6-4fd5-eeab-e1abd2d4ec81"
      },
      "source": [
        "dh.ViewAccuracy(history, 50)"
      ],
      "execution_count": 17,
      "outputs": [
        {
          "output_type": "display_data",
          "data": {
            "image/png": "[encoded data removed]",
            "text/plain": [
              "<Figure size 432x288 with 1 Axes>"
            ]
          },
          "metadata": {
            "tags": [],
            "needs_background": "light"
          }
        }
      ]
    },
    {
      "cell_type": "code",
      "metadata": {
        "colab": {
          "base_uri": "https://localhost:8080/",
          "height": 279
        },
        "id": "5hZxxux4L0PY",
        "outputId": "aba090c2-ba39-4889-80d8-cd1dd70c6e28"
      },
      "source": [
        "dh.ViewLoss(history, 50)"
      ],
      "execution_count": 18,
      "outputs": [
        {
          "output_type": "display_data",
          "data": {
            "image/png": "[encoded data removed]",
            "text/plain": [
              "<Figure size 432x288 with 1 Axes>"
            ]
          },
          "metadata": {
            "tags": [],
            "needs_background": "light"
          }
        }
      ]
    },
    {
      "cell_type": "code",
      "metadata": {
        "colab": {
          "base_uri": "https://localhost:8080/",
          "height": 282
        },
        "id": "eHdE7H-6EpiT",
        "outputId": "f85e8fd3-7b28-4a3e-af3c-fbd46fc50b4c"
      },
      "source": [
        "BuildConfusionDL(model, X_test, y_train)"
      ],
      "execution_count": 19,
      "outputs": [
        {
          "output_type": "execute_result",
          "data": {
            "text/plain": [
              "<matplotlib.axes._subplots.AxesSubplot at 0x7f590ab6c320>"
            ]
          },
          "metadata": {
            "tags": []
          },
          "execution_count": 19
        },
        {
          "output_type": "display_data",
          "data": {
            "image/png": "[encoded data removed]",
            "text/plain": [
              "<Figure size 432x288 with 2 Axes>"
            ]
          },
          "metadata": {
            "tags": [],
            "needs_background": "light"
          }
        }
      ]
    },
    {
      "cell_type": "markdown",
      "metadata": {
        "id": "FoUIIA9brwem"
      },
      "source": [
        "## Dealing with Class Imbalance"
      ]
    },
    {
      "cell_type": "markdown",
      "metadata": {
        "id": "-2NkRKsDHqzD"
      },
      "source": [
        "I was planning on doing another gridsearch on my RNN building function to test out LSTM's and GRU's of varying sizes. However I'm going to do something about class imbalances first. Although I deleted these cells for some reason, I realized that the only way to stop the model from overfitting was to use l1 regularization. However, train and validation accuracy just stay around 60% which is interesting because ~60% of the data is of one class."
      ]
    },
    {
      "cell_type": "code",
      "metadata": {
        "colab": {
          "base_uri": "https://localhost:8080/"
        },
        "id": "aNV59msdIxTz",
        "outputId": "9ac523af-3c4b-480a-f416-964b1a95c1ad"
      },
      "source": [
        "df['is_there_an_emotion_directed_at_a_brand_or_product'].value_counts()"
      ],
      "execution_count": 20,
      "outputs": [
        {
          "output_type": "execute_result",
          "data": {
            "text/plain": [
              "No emotion toward brand or product    5388\n",
              "Positive emotion                      2978\n",
              "Negative emotion                       570\n",
              "Name: is_there_an_emotion_directed_at_a_brand_or_product, dtype: int64"
            ]
          },
          "metadata": {
            "tags": []
          },
          "execution_count": 20
        }
      ]
    },
    {
      "cell_type": "markdown",
      "metadata": {
        "id": "A2EdTV_nr0X-"
      },
      "source": [
        "### Using class_weights"
      ]
    },
    {
      "cell_type": "markdown",
      "metadata": {
        "id": "ww5x8HJQI8j4"
      },
      "source": [
        "I went back into my network building functions to parameritize metrics. if you look at the code it's already fixed but just note that accuracy was originally hardcoded as the metric for the models."
      ]
    },
    {
      "cell_type": "code",
      "metadata": {
        "colab": {
          "base_uri": "https://localhost:8080/"
        },
        "id": "PBfp4-E9a5k4",
        "outputId": "2ba7a221-b76d-4380-b4fc-da56c24363fa"
      },
      "source": [
        "from sklearn.utils.class_weight import compute_class_weight\r\n",
        "\r\n",
        "weights = compute_class_weight('balanced',\r\n",
        "                                np.unique(df['is_there_an_emotion_directed_at_a_brand_or_product']),\r\n",
        "                                df['is_there_an_emotion_directed_at_a_brand_or_product'])\r\n",
        "\r\n",
        "weights_dict = dict(zip(range(3), weights))\r\n",
        "weights_dict"
      ],
      "execution_count": 21,
      "outputs": [
        {
          "output_type": "execute_result",
          "data": {
            "text/plain": [
              "{0: 5.2257309941520464, 1: 0.5528334570650829, 2: 1.0002238638907543}"
            ]
          },
          "metadata": {
            "tags": []
          },
          "execution_count": 21
        }
      ]
    },
    {
      "cell_type": "code",
      "metadata": {
        "colab": {
          "base_uri": "https://localhost:8080/"
        },
        "id": "gVbYrURGFRGP",
        "outputId": "ab8f7ee1-642b-4d45-8906-d624c520aa41"
      },
      "source": [
        "grid.best_params_"
      ],
      "execution_count": 22,
      "outputs": [
        {
          "output_type": "execute_result",
          "data": {
            "text/plain": [
              "{'activation': 'tanh',\n",
              " 'metrics': 'accuracy',\n",
              " 'nodes': 128,\n",
              " 'optimizer': 'rmsprop',\n",
              " 'output': 3,\n",
              " 'vocab': 12500}"
            ]
          },
          "metadata": {
            "tags": []
          },
          "execution_count": 22
        }
      ]
    },
    {
      "cell_type": "code",
      "metadata": {
        "colab": {
          "base_uri": "https://localhost:8080/"
        },
        "id": "I6_vD43dI63k",
        "outputId": "bb14738f-c3ab-4310-8f3f-ae77bdaf4e22"
      },
      "source": [
        "from keras.metrics import Recall, Precision\r\n",
        "\r\n",
        "model2 = models.Sequential()\r\n",
        "model2.add(layers.Embedding(12500, 128))\r\n",
        "model2.add(layers.Bidirectional(layers.LSTM(128)))\r\n",
        "model2.add(layers.Dense(64, activation='relu'))\r\n",
        "model2.add(layers.Dense(32, activation='relu'))\r\n",
        "model2.add(layers.Dense(3, activation='softmax'))\r\n",
        "\r\n",
        "model2.compile(optimizer='adam', loss='categorical_crossentropy', metrics=['accuracy'])\r\n",
        "history = model2.fit(X_train, y_train, epochs=50, batch_size=64, validation_split=0.2, callbacks=early_stopping, class_weight=weights_dict)"
      ],
      "execution_count": 23,
      "outputs": [
        {
          "output_type": "stream",
          "text": [
            "Epoch 1/50\n",
            "101/101 [==============================] - 6s 31ms/step - loss: 1.0901 - accuracy: 0.3763 - val_loss: 0.8557 - val_accuracy: 0.5768\n",
            "Epoch 2/50\n",
            "101/101 [==============================] - 3s 26ms/step - loss: 0.8207 - accuracy: 0.5963 - val_loss: 0.8710 - val_accuracy: 0.5519\n",
            "Epoch 3/50\n",
            "101/101 [==============================] - 3s 26ms/step - loss: 0.5165 - accuracy: 0.7419 - val_loss: 1.0674 - val_accuracy: 0.5264\n",
            "Epoch 4/50\n",
            "101/101 [==============================] - 3s 26ms/step - loss: 0.3060 - accuracy: 0.8381 - val_loss: 1.0949 - val_accuracy: 0.5823\n",
            "Epoch 5/50\n",
            "101/101 [==============================] - 3s 26ms/step - loss: 0.2387 - accuracy: 0.8810 - val_loss: 1.0378 - val_accuracy: 0.5923\n",
            "Epoch 6/50\n",
            "101/101 [==============================] - 3s 26ms/step - loss: 0.1722 - accuracy: 0.9067 - val_loss: 1.0787 - val_accuracy: 0.6333\n",
            "Epoch 7/50\n",
            "101/101 [==============================] - 3s 26ms/step - loss: 0.1479 - accuracy: 0.9263 - val_loss: 1.0287 - val_accuracy: 0.6271\n",
            "Epoch 8/50\n",
            "101/101 [==============================] - 3s 26ms/step - loss: 0.1358 - accuracy: 0.9286 - val_loss: 1.2900 - val_accuracy: 0.6389\n",
            "Epoch 9/50\n",
            "101/101 [==============================] - 3s 26ms/step - loss: 0.1276 - accuracy: 0.9239 - val_loss: 1.4375 - val_accuracy: 0.6476\n",
            "Epoch 10/50\n",
            "101/101 [==============================] - 3s 26ms/step - loss: 0.1194 - accuracy: 0.9356 - val_loss: 1.2843 - val_accuracy: 0.6414\n",
            "Epoch 11/50\n",
            "101/101 [==============================] - 3s 26ms/step - loss: 0.0993 - accuracy: 0.9426 - val_loss: 1.5566 - val_accuracy: 0.6122\n"
          ],
          "name": "stdout"
        }
      ]
    },
    {
      "cell_type": "markdown",
      "metadata": {
        "id": "yOT4jHzwFs2i"
      },
      "source": [
        "Interesting, The model actually did worse! Training and testing accuracies are vastly different which is a sign of overfitting"
      ]
    },
    {
      "cell_type": "code",
      "metadata": {
        "colab": {
          "base_uri": "https://localhost:8080/",
          "height": 279
        },
        "id": "RF_76Njde8KO",
        "outputId": "4e4de26d-de18-485a-aeb1-24781cc9a3cc"
      },
      "source": [
        "dh.ViewAccuracy(history, 11)"
      ],
      "execution_count": 24,
      "outputs": [
        {
          "output_type": "display_data",
          "data": {
            "image/png": "[encoded data removed]",
            "text/plain": [
              "<Figure size 432x288 with 1 Axes>"
            ]
          },
          "metadata": {
            "tags": [],
            "needs_background": "light"
          }
        }
      ]
    },
    {
      "cell_type": "code",
      "metadata": {
        "colab": {
          "base_uri": "https://localhost:8080/",
          "height": 279
        },
        "id": "rW149xv7fFL0",
        "outputId": "26c0f86f-4dcf-4a8e-b015-2adbce9bed42"
      },
      "source": [
        "dh.ViewLoss(history, 11)"
      ],
      "execution_count": 25,
      "outputs": [
        {
          "output_type": "display_data",
          "data": {
            "image/png": "[encoded data removed]",
            "text/plain": [
              "<Figure size 432x288 with 1 Axes>"
            ]
          },
          "metadata": {
            "tags": [],
            "needs_background": "light"
          }
        }
      ]
    },
    {
      "cell_type": "code",
      "metadata": {
        "colab": {
          "base_uri": "https://localhost:8080/",
          "height": 282
        },
        "id": "cIjPnz0-FYSc",
        "outputId": "bfdc82a0-5dd0-4a1b-86e6-a81bdc0e01f1"
      },
      "source": [
        "BuildConfusionDL(model2, X_test, y_test)"
      ],
      "execution_count": 26,
      "outputs": [
        {
          "output_type": "execute_result",
          "data": {
            "text/plain": [
              "<matplotlib.axes._subplots.AxesSubplot at 0x7f58e076aba8>"
            ]
          },
          "metadata": {
            "tags": []
          },
          "execution_count": 26
        },
        {
          "output_type": "display_data",
          "data": {
            "image/png": "[encoded data removed]",
            "text/plain": [
              "<Figure size 432x288 with 2 Axes>"
            ]
          },
          "metadata": {
            "tags": [],
            "needs_background": "light"
          }
        }
      ]
    },
    {
      "cell_type": "markdown",
      "metadata": {
        "id": "rSaHVGOwdyNi"
      },
      "source": [
        "I would do an exaustive gridsearch on my RNN building function to test out LSTM's and GRU's of varying parameters and sizes. however fixing class imbalances didn't help and I don't want to waste compute. I will instead use glove embeddings rather than creating my own embedding layer. I will also try a traditional machine learning approach later on."
      ]
    },
    {
      "cell_type": "code",
      "metadata": {
        "id": "rUFOQvyoovhk"
      },
      "source": [
        "tokens = []\r\n",
        "for num in ix:\r\n",
        "  tokens.append(df['tweet'][num].split(' '))"
      ],
      "execution_count": 27,
      "outputs": []
    },
    {
      "cell_type": "code",
      "metadata": {
        "id": "Q0QWQIxxembK"
      },
      "source": [
        "from gensim.models import Word2Vec, keyedvectors\r\n",
        "\r\n",
        "W = Word2Vec(tokens, size=33, window=3, min_count=1, workers=4)\r\n",
        "W.train(sentences=tokens, total_examples=W.corpus_count, epochs=10)\r\n",
        "wv = W.wv"
      ],
      "execution_count": 28,
      "outputs": []
    },
    {
      "cell_type": "code",
      "metadata": {
        "id": "H75VStkbnITT"
      },
      "source": [
        "e = W.wv.get_keras_embedding(train_embeddings=False)"
      ],
      "execution_count": 29,
      "outputs": []
    },
    {
      "cell_type": "code",
      "metadata": {
        "colab": {
          "base_uri": "https://localhost:8080/"
        },
        "id": "nC_6eCEkoYnW",
        "outputId": "a101b08f-7951-4504-93c3-7aaad20d3617"
      },
      "source": [
        "from keras.metrics import Recall #the model did better with accuracy in my experiance but feel free to try with recall or precision\r\n",
        "from keras.metrics import  Precision\r\n",
        "\r\n",
        "model3 = models.Sequential()\r\n",
        "model3.add(e)\r\n",
        "model3.add(layers.Bidirectional(layers.LSTM(128)))\r\n",
        "model3.add(layers.Dense(64, activation='relu'))\r\n",
        "model3.add(layers.Dense(32, activation='relu'))\r\n",
        "model3.add(layers.Dense(3, activation='softmax'))\r\n",
        "\r\n",
        "model3.compile(optimizer='adam', loss='categorical_crossentropy', metrics=['accuracy'])\r\n",
        "\r\n",
        "early_stopping = [EarlyStopping(patience=10), ModelCheckpoint(filepath='model.{epoch:02d}-{val_loss:.2f}.h5')]\r\n",
        "\r\n",
        "history = model3.fit(X_train, y_train, epochs=50, batch_size=64, validation_split=0.2, callbacks=early_stopping, class_weight=weights_dict)"
      ],
      "execution_count": 30,
      "outputs": [
        {
          "output_type": "stream",
          "text": [
            "Epoch 1/50\n",
            "101/101 [==============================] - 4s 17ms/step - loss: 1.0700 - accuracy: 0.4574 - val_loss: 1.0391 - val_accuracy: 0.4462\n",
            "Epoch 2/50\n",
            "101/101 [==============================] - 1s 10ms/step - loss: 1.0466 - accuracy: 0.4412 - val_loss: 1.0213 - val_accuracy: 0.4792\n",
            "Epoch 3/50\n",
            "101/101 [==============================] - 1s 10ms/step - loss: 1.0439 - accuracy: 0.4244 - val_loss: 0.9904 - val_accuracy: 0.4823\n",
            "Epoch 4/50\n",
            "101/101 [==============================] - 1s 10ms/step - loss: 1.0042 - accuracy: 0.4441 - val_loss: 1.0287 - val_accuracy: 0.4363\n",
            "Epoch 5/50\n",
            "101/101 [==============================] - 1s 10ms/step - loss: 0.9863 - accuracy: 0.4535 - val_loss: 0.8852 - val_accuracy: 0.5469\n",
            "Epoch 6/50\n",
            "101/101 [==============================] - 1s 10ms/step - loss: 0.9708 - accuracy: 0.4926 - val_loss: 0.9453 - val_accuracy: 0.5047\n",
            "Epoch 7/50\n",
            "101/101 [==============================] - 1s 10ms/step - loss: 0.9138 - accuracy: 0.5089 - val_loss: 1.1151 - val_accuracy: 0.3971\n",
            "Epoch 8/50\n",
            "101/101 [==============================] - 1s 10ms/step - loss: 0.8463 - accuracy: 0.5202 - val_loss: 1.1227 - val_accuracy: 0.4089\n",
            "Epoch 9/50\n",
            "101/101 [==============================] - 1s 10ms/step - loss: 0.7889 - accuracy: 0.5374 - val_loss: 1.1329 - val_accuracy: 0.3978\n",
            "Epoch 10/50\n",
            "101/101 [==============================] - 1s 10ms/step - loss: 0.7629 - accuracy: 0.5430 - val_loss: 0.9454 - val_accuracy: 0.4984\n",
            "Epoch 11/50\n",
            "101/101 [==============================] - 1s 10ms/step - loss: 0.6775 - accuracy: 0.6020 - val_loss: 1.0837 - val_accuracy: 0.4058\n",
            "Epoch 12/50\n",
            "101/101 [==============================] - 1s 10ms/step - loss: 0.6231 - accuracy: 0.6032 - val_loss: 0.9599 - val_accuracy: 0.5090\n",
            "Epoch 13/50\n",
            "101/101 [==============================] - 1s 10ms/step - loss: 0.5762 - accuracy: 0.6321 - val_loss: 1.0211 - val_accuracy: 0.5252\n",
            "Epoch 14/50\n",
            "101/101 [==============================] - 1s 10ms/step - loss: 0.5546 - accuracy: 0.6409 - val_loss: 1.0096 - val_accuracy: 0.4885\n",
            "Epoch 15/50\n",
            "101/101 [==============================] - 1s 10ms/step - loss: 0.5310 - accuracy: 0.6669 - val_loss: 0.9875 - val_accuracy: 0.5351\n"
          ],
          "name": "stdout"
        }
      ]
    },
    {
      "cell_type": "markdown",
      "metadata": {
        "id": "dii7iIY8Gc38"
      },
      "source": [
        "This model was trained on the word embeddings created by Gensim rather than the one I made. The model preformed poorly but in it's defense it did start with a lower accuracy in the mid 30's."
      ]
    },
    {
      "cell_type": "code",
      "metadata": {
        "colab": {
          "base_uri": "https://localhost:8080/",
          "height": 279
        },
        "id": "WSUAw3zLGVUr",
        "outputId": "50474c94-f6ff-45ac-d44b-b25483012d0b"
      },
      "source": [
        "dh.ViewAccuracy(history, 15)"
      ],
      "execution_count": 31,
      "outputs": [
        {
          "output_type": "display_data",
          "data": {
            "image/png": "[encoded data removed]",
            "text/plain": [
              "<Figure size 432x288 with 1 Axes>"
            ]
          },
          "metadata": {
            "tags": [],
            "needs_background": "light"
          }
        }
      ]
    },
    {
      "cell_type": "code",
      "metadata": {
        "colab": {
          "base_uri": "https://localhost:8080/",
          "height": 279
        },
        "id": "HciryiwiGVc5",
        "outputId": "a53e12a1-0f14-42bb-e80e-0cc27bbd46ea"
      },
      "source": [
        "dh.ViewLoss(history, 15)"
      ],
      "execution_count": 32,
      "outputs": [
        {
          "output_type": "display_data",
          "data": {
            "image/png": "[encoded data removed]",
            "text/plain": [
              "<Figure size 432x288 with 1 Axes>"
            ]
          },
          "metadata": {
            "tags": [],
            "needs_background": "light"
          }
        }
      ]
    },
    {
      "cell_type": "code",
      "metadata": {
        "colab": {
          "base_uri": "https://localhost:8080/",
          "height": 282
        },
        "id": "YvQZylLnGBtx",
        "outputId": "310313ea-7855-4d88-b8c2-e6255488b05d"
      },
      "source": [
        "BuildConfusionDL(model3, X_test, y_test)"
      ],
      "execution_count": 33,
      "outputs": [
        {
          "output_type": "execute_result",
          "data": {
            "text/plain": [
              "<matplotlib.axes._subplots.AxesSubplot at 0x7f58d119f7b8>"
            ]
          },
          "metadata": {
            "tags": []
          },
          "execution_count": 33
        },
        {
          "output_type": "display_data",
          "data": {
            "image/png": "[encoded data removed]",
            "text/plain": [
              "<Figure size 432x288 with 2 Axes>"
            ]
          },
          "metadata": {
            "tags": [],
            "needs_background": "light"
          }
        }
      ]
    },
    {
      "cell_type": "code",
      "metadata": {
        "colab": {
          "base_uri": "https://localhost:8080/"
        },
        "id": "K79F7g6VQkAh",
        "outputId": "0b4e365a-ff99-4890-d838-5944896025d6"
      },
      "source": [
        "import nltk\r\n",
        "nltk.download('stopwords')\r\n",
        "stopwords_list = nltk.corpus.stopwords.words('english')"
      ],
      "execution_count": 34,
      "outputs": [
        {
          "output_type": "stream",
          "text": [
            "[nltk_data] Downloading package stopwords to /root/nltk_data...\n",
            "[nltk_data]   Unzipping corpora/stopwords.zip.\n"
          ],
          "name": "stdout"
        }
      ]
    },
    {
      "cell_type": "code",
      "metadata": {
        "colab": {
          "base_uri": "https://localhost:8080/"
        },
        "id": "HCDjM4HkHOnh",
        "outputId": "f4a4501c-1be5-4dd2-dbcb-1dafe0bbe2d6"
      },
      "source": [
        "# feel free to play around with the most_similar() method that returns words most or least similar to the selected word\r\n",
        "# for most similar use 'positive=', for least similar use 'negative='\r\n",
        "wv.most_similar(positive='google')"
      ],
      "execution_count": 35,
      "outputs": [
        {
          "output_type": "execute_result",
          "data": {
            "text/plain": [
              "[('integrates', 0.8167288899421692),\n",
              " (\"google's\", 0.8088352084159851),\n",
              " ('socialflow', 0.7747348546981812),\n",
              " ('increase', 0.7565466165542603),\n",
              " ('#google', 0.7444072961807251),\n",
              " ('killers', 0.7395412921905518),\n",
              " ('crop', 0.7388477921485901),\n",
              " ('competing', 0.7381601333618164),\n",
              " ('possibility', 0.7344657182693481),\n",
              " ('reactions', 0.7315320372581482)]"
            ]
          },
          "metadata": {
            "tags": []
          },
          "execution_count": 35
        }
      ]
    },
    {
      "cell_type": "markdown",
      "metadata": {
        "id": "Fednv9Af-29n"
      },
      "source": [
        "Trying a different approach! I one hot encoded each tweet for all of the words in the corpus. I will use PCA to compress the very sparse data"
      ]
    },
    {
      "cell_type": "code",
      "metadata": {
        "id": "ajS6ZqIl8G7i"
      },
      "source": [
        "X_oh, y_oh = dh.ModelReadyText2(df, 'tweet', 'is_there_an_emotion_directed_at_a_brand_or_product', 12500)"
      ],
      "execution_count": 36,
      "outputs": []
    },
    {
      "cell_type": "code",
      "metadata": {
        "id": "R8peGEsO8yKX"
      },
      "source": [
        "classes = []\r\n",
        "for arr in y_oh:\r\n",
        "  classes.append(arr.argmax())"
      ],
      "execution_count": 37,
      "outputs": []
    },
    {
      "cell_type": "code",
      "metadata": {
        "colab": {
          "base_uri": "https://localhost:8080/",
          "height": 422
        },
        "id": "ZXLgid4n9MI7",
        "outputId": "744fec02-3358-44dc-c314-4ed20a5e6b30"
      },
      "source": [
        "df2 = pd.DataFrame(X_oh)\r\n",
        "df2['target'] = classes\r\n",
        "df2"
      ],
      "execution_count": 38,
      "outputs": [
        {
          "output_type": "execute_result",
          "data": {
            "text/html": [
              "<div>\n",
              "<style scoped>\n",
              "    .dataframe tbody tr th:only-of-type {\n",
              "        vertical-align: middle;\n",
              "    }\n",
              "\n",
              "    .dataframe tbody tr th {\n",
              "        vertical-align: top;\n",
              "    }\n",
              "\n",
              "    .dataframe thead th {\n",
              "        text-align: right;\n",
              "    }\n",
              "</style>\n",
              "<table border=\"1\" class=\"dataframe\">\n",
              "  <thead>\n",
              "    <tr style=\"text-align: right;\">\n",
              "      <th></th>\n",
              "      <th>0</th>\n",
              "      <th>1</th>\n",
              "      <th>2</th>\n",
              "      <th>3</th>\n",
              "      <th>4</th>\n",
              "      <th>5</th>\n",
              "      <th>6</th>\n",
              "      <th>7</th>\n",
              "      <th>8</th>\n",
              "      <th>9</th>\n",
              "      <th>10</th>\n",
              "      <th>11</th>\n",
              "      <th>12</th>\n",
              "      <th>13</th>\n",
              "      <th>14</th>\n",
              "      <th>15</th>\n",
              "      <th>16</th>\n",
              "      <th>17</th>\n",
              "      <th>18</th>\n",
              "      <th>19</th>\n",
              "      <th>20</th>\n",
              "      <th>21</th>\n",
              "      <th>22</th>\n",
              "      <th>23</th>\n",
              "      <th>24</th>\n",
              "      <th>25</th>\n",
              "      <th>26</th>\n",
              "      <th>27</th>\n",
              "      <th>28</th>\n",
              "      <th>29</th>\n",
              "      <th>30</th>\n",
              "      <th>31</th>\n",
              "      <th>32</th>\n",
              "      <th>33</th>\n",
              "      <th>34</th>\n",
              "      <th>35</th>\n",
              "      <th>36</th>\n",
              "      <th>37</th>\n",
              "      <th>38</th>\n",
              "      <th>39</th>\n",
              "      <th>...</th>\n",
              "      <th>12461</th>\n",
              "      <th>12462</th>\n",
              "      <th>12463</th>\n",
              "      <th>12464</th>\n",
              "      <th>12465</th>\n",
              "      <th>12466</th>\n",
              "      <th>12467</th>\n",
              "      <th>12468</th>\n",
              "      <th>12469</th>\n",
              "      <th>12470</th>\n",
              "      <th>12471</th>\n",
              "      <th>12472</th>\n",
              "      <th>12473</th>\n",
              "      <th>12474</th>\n",
              "      <th>12475</th>\n",
              "      <th>12476</th>\n",
              "      <th>12477</th>\n",
              "      <th>12478</th>\n",
              "      <th>12479</th>\n",
              "      <th>12480</th>\n",
              "      <th>12481</th>\n",
              "      <th>12482</th>\n",
              "      <th>12483</th>\n",
              "      <th>12484</th>\n",
              "      <th>12485</th>\n",
              "      <th>12486</th>\n",
              "      <th>12487</th>\n",
              "      <th>12488</th>\n",
              "      <th>12489</th>\n",
              "      <th>12490</th>\n",
              "      <th>12491</th>\n",
              "      <th>12492</th>\n",
              "      <th>12493</th>\n",
              "      <th>12494</th>\n",
              "      <th>12495</th>\n",
              "      <th>12496</th>\n",
              "      <th>12497</th>\n",
              "      <th>12498</th>\n",
              "      <th>12499</th>\n",
              "      <th>target</th>\n",
              "    </tr>\n",
              "  </thead>\n",
              "  <tbody>\n",
              "    <tr>\n",
              "      <th>0</th>\n",
              "      <td>0.0</td>\n",
              "      <td>1.0</td>\n",
              "      <td>0.0</td>\n",
              "      <td>0.0</td>\n",
              "      <td>0.0</td>\n",
              "      <td>1.0</td>\n",
              "      <td>1.0</td>\n",
              "      <td>0.0</td>\n",
              "      <td>0.0</td>\n",
              "      <td>0.0</td>\n",
              "      <td>0.0</td>\n",
              "      <td>1.0</td>\n",
              "      <td>0.0</td>\n",
              "      <td>0.0</td>\n",
              "      <td>0.0</td>\n",
              "      <td>0.0</td>\n",
              "      <td>0.0</td>\n",
              "      <td>1.0</td>\n",
              "      <td>0.0</td>\n",
              "      <td>0.0</td>\n",
              "      <td>0.0</td>\n",
              "      <td>0.0</td>\n",
              "      <td>0.0</td>\n",
              "      <td>1.0</td>\n",
              "      <td>1.0</td>\n",
              "      <td>0.0</td>\n",
              "      <td>0.0</td>\n",
              "      <td>0.0</td>\n",
              "      <td>0.0</td>\n",
              "      <td>0.0</td>\n",
              "      <td>0.0</td>\n",
              "      <td>1.0</td>\n",
              "      <td>0.0</td>\n",
              "      <td>0.0</td>\n",
              "      <td>0.0</td>\n",
              "      <td>0.0</td>\n",
              "      <td>0.0</td>\n",
              "      <td>0.0</td>\n",
              "      <td>0.0</td>\n",
              "      <td>0.0</td>\n",
              "      <td>...</td>\n",
              "      <td>0.0</td>\n",
              "      <td>0.0</td>\n",
              "      <td>0.0</td>\n",
              "      <td>0.0</td>\n",
              "      <td>0.0</td>\n",
              "      <td>0.0</td>\n",
              "      <td>0.0</td>\n",
              "      <td>0.0</td>\n",
              "      <td>0.0</td>\n",
              "      <td>0.0</td>\n",
              "      <td>0.0</td>\n",
              "      <td>0.0</td>\n",
              "      <td>0.0</td>\n",
              "      <td>0.0</td>\n",
              "      <td>0.0</td>\n",
              "      <td>0.0</td>\n",
              "      <td>0.0</td>\n",
              "      <td>0.0</td>\n",
              "      <td>0.0</td>\n",
              "      <td>0.0</td>\n",
              "      <td>0.0</td>\n",
              "      <td>0.0</td>\n",
              "      <td>0.0</td>\n",
              "      <td>0.0</td>\n",
              "      <td>0.0</td>\n",
              "      <td>0.0</td>\n",
              "      <td>0.0</td>\n",
              "      <td>0.0</td>\n",
              "      <td>0.0</td>\n",
              "      <td>0.0</td>\n",
              "      <td>0.0</td>\n",
              "      <td>0.0</td>\n",
              "      <td>0.0</td>\n",
              "      <td>0.0</td>\n",
              "      <td>0.0</td>\n",
              "      <td>0.0</td>\n",
              "      <td>0.0</td>\n",
              "      <td>0.0</td>\n",
              "      <td>0.0</td>\n",
              "      <td>0</td>\n",
              "    </tr>\n",
              "    <tr>\n",
              "      <th>1</th>\n",
              "      <td>0.0</td>\n",
              "      <td>1.0</td>\n",
              "      <td>0.0</td>\n",
              "      <td>0.0</td>\n",
              "      <td>0.0</td>\n",
              "      <td>0.0</td>\n",
              "      <td>1.0</td>\n",
              "      <td>0.0</td>\n",
              "      <td>1.0</td>\n",
              "      <td>1.0</td>\n",
              "      <td>0.0</td>\n",
              "      <td>0.0</td>\n",
              "      <td>0.0</td>\n",
              "      <td>0.0</td>\n",
              "      <td>0.0</td>\n",
              "      <td>0.0</td>\n",
              "      <td>0.0</td>\n",
              "      <td>1.0</td>\n",
              "      <td>0.0</td>\n",
              "      <td>0.0</td>\n",
              "      <td>0.0</td>\n",
              "      <td>0.0</td>\n",
              "      <td>0.0</td>\n",
              "      <td>0.0</td>\n",
              "      <td>0.0</td>\n",
              "      <td>0.0</td>\n",
              "      <td>0.0</td>\n",
              "      <td>0.0</td>\n",
              "      <td>0.0</td>\n",
              "      <td>1.0</td>\n",
              "      <td>0.0</td>\n",
              "      <td>0.0</td>\n",
              "      <td>0.0</td>\n",
              "      <td>0.0</td>\n",
              "      <td>0.0</td>\n",
              "      <td>0.0</td>\n",
              "      <td>0.0</td>\n",
              "      <td>0.0</td>\n",
              "      <td>0.0</td>\n",
              "      <td>0.0</td>\n",
              "      <td>...</td>\n",
              "      <td>0.0</td>\n",
              "      <td>0.0</td>\n",
              "      <td>0.0</td>\n",
              "      <td>0.0</td>\n",
              "      <td>0.0</td>\n",
              "      <td>0.0</td>\n",
              "      <td>0.0</td>\n",
              "      <td>0.0</td>\n",
              "      <td>0.0</td>\n",
              "      <td>0.0</td>\n",
              "      <td>0.0</td>\n",
              "      <td>0.0</td>\n",
              "      <td>0.0</td>\n",
              "      <td>0.0</td>\n",
              "      <td>0.0</td>\n",
              "      <td>0.0</td>\n",
              "      <td>0.0</td>\n",
              "      <td>0.0</td>\n",
              "      <td>0.0</td>\n",
              "      <td>0.0</td>\n",
              "      <td>0.0</td>\n",
              "      <td>0.0</td>\n",
              "      <td>0.0</td>\n",
              "      <td>0.0</td>\n",
              "      <td>0.0</td>\n",
              "      <td>0.0</td>\n",
              "      <td>0.0</td>\n",
              "      <td>0.0</td>\n",
              "      <td>0.0</td>\n",
              "      <td>0.0</td>\n",
              "      <td>0.0</td>\n",
              "      <td>0.0</td>\n",
              "      <td>0.0</td>\n",
              "      <td>0.0</td>\n",
              "      <td>0.0</td>\n",
              "      <td>0.0</td>\n",
              "      <td>0.0</td>\n",
              "      <td>0.0</td>\n",
              "      <td>0.0</td>\n",
              "      <td>2</td>\n",
              "    </tr>\n",
              "    <tr>\n",
              "      <th>2</th>\n",
              "      <td>0.0</td>\n",
              "      <td>1.0</td>\n",
              "      <td>0.0</td>\n",
              "      <td>0.0</td>\n",
              "      <td>0.0</td>\n",
              "      <td>0.0</td>\n",
              "      <td>1.0</td>\n",
              "      <td>0.0</td>\n",
              "      <td>1.0</td>\n",
              "      <td>1.0</td>\n",
              "      <td>0.0</td>\n",
              "      <td>0.0</td>\n",
              "      <td>0.0</td>\n",
              "      <td>0.0</td>\n",
              "      <td>0.0</td>\n",
              "      <td>0.0</td>\n",
              "      <td>0.0</td>\n",
              "      <td>0.0</td>\n",
              "      <td>0.0</td>\n",
              "      <td>0.0</td>\n",
              "      <td>0.0</td>\n",
              "      <td>1.0</td>\n",
              "      <td>0.0</td>\n",
              "      <td>0.0</td>\n",
              "      <td>0.0</td>\n",
              "      <td>0.0</td>\n",
              "      <td>0.0</td>\n",
              "      <td>0.0</td>\n",
              "      <td>0.0</td>\n",
              "      <td>0.0</td>\n",
              "      <td>0.0</td>\n",
              "      <td>0.0</td>\n",
              "      <td>0.0</td>\n",
              "      <td>0.0</td>\n",
              "      <td>0.0</td>\n",
              "      <td>0.0</td>\n",
              "      <td>0.0</td>\n",
              "      <td>0.0</td>\n",
              "      <td>0.0</td>\n",
              "      <td>0.0</td>\n",
              "      <td>...</td>\n",
              "      <td>0.0</td>\n",
              "      <td>0.0</td>\n",
              "      <td>0.0</td>\n",
              "      <td>0.0</td>\n",
              "      <td>0.0</td>\n",
              "      <td>0.0</td>\n",
              "      <td>0.0</td>\n",
              "      <td>0.0</td>\n",
              "      <td>0.0</td>\n",
              "      <td>0.0</td>\n",
              "      <td>0.0</td>\n",
              "      <td>0.0</td>\n",
              "      <td>0.0</td>\n",
              "      <td>0.0</td>\n",
              "      <td>0.0</td>\n",
              "      <td>0.0</td>\n",
              "      <td>0.0</td>\n",
              "      <td>0.0</td>\n",
              "      <td>0.0</td>\n",
              "      <td>0.0</td>\n",
              "      <td>0.0</td>\n",
              "      <td>0.0</td>\n",
              "      <td>0.0</td>\n",
              "      <td>0.0</td>\n",
              "      <td>0.0</td>\n",
              "      <td>0.0</td>\n",
              "      <td>0.0</td>\n",
              "      <td>0.0</td>\n",
              "      <td>0.0</td>\n",
              "      <td>0.0</td>\n",
              "      <td>0.0</td>\n",
              "      <td>0.0</td>\n",
              "      <td>0.0</td>\n",
              "      <td>0.0</td>\n",
              "      <td>0.0</td>\n",
              "      <td>0.0</td>\n",
              "      <td>0.0</td>\n",
              "      <td>0.0</td>\n",
              "      <td>0.0</td>\n",
              "      <td>2</td>\n",
              "    </tr>\n",
              "    <tr>\n",
              "      <th>3</th>\n",
              "      <td>0.0</td>\n",
              "      <td>1.0</td>\n",
              "      <td>0.0</td>\n",
              "      <td>0.0</td>\n",
              "      <td>0.0</td>\n",
              "      <td>0.0</td>\n",
              "      <td>0.0</td>\n",
              "      <td>0.0</td>\n",
              "      <td>0.0</td>\n",
              "      <td>0.0</td>\n",
              "      <td>0.0</td>\n",
              "      <td>0.0</td>\n",
              "      <td>0.0</td>\n",
              "      <td>0.0</td>\n",
              "      <td>0.0</td>\n",
              "      <td>0.0</td>\n",
              "      <td>0.0</td>\n",
              "      <td>1.0</td>\n",
              "      <td>0.0</td>\n",
              "      <td>0.0</td>\n",
              "      <td>0.0</td>\n",
              "      <td>0.0</td>\n",
              "      <td>0.0</td>\n",
              "      <td>1.0</td>\n",
              "      <td>0.0</td>\n",
              "      <td>0.0</td>\n",
              "      <td>0.0</td>\n",
              "      <td>0.0</td>\n",
              "      <td>0.0</td>\n",
              "      <td>1.0</td>\n",
              "      <td>0.0</td>\n",
              "      <td>0.0</td>\n",
              "      <td>0.0</td>\n",
              "      <td>0.0</td>\n",
              "      <td>0.0</td>\n",
              "      <td>0.0</td>\n",
              "      <td>1.0</td>\n",
              "      <td>0.0</td>\n",
              "      <td>0.0</td>\n",
              "      <td>0.0</td>\n",
              "      <td>...</td>\n",
              "      <td>0.0</td>\n",
              "      <td>0.0</td>\n",
              "      <td>0.0</td>\n",
              "      <td>0.0</td>\n",
              "      <td>0.0</td>\n",
              "      <td>0.0</td>\n",
              "      <td>0.0</td>\n",
              "      <td>0.0</td>\n",
              "      <td>0.0</td>\n",
              "      <td>0.0</td>\n",
              "      <td>0.0</td>\n",
              "      <td>0.0</td>\n",
              "      <td>0.0</td>\n",
              "      <td>0.0</td>\n",
              "      <td>0.0</td>\n",
              "      <td>0.0</td>\n",
              "      <td>0.0</td>\n",
              "      <td>0.0</td>\n",
              "      <td>0.0</td>\n",
              "      <td>0.0</td>\n",
              "      <td>0.0</td>\n",
              "      <td>0.0</td>\n",
              "      <td>0.0</td>\n",
              "      <td>0.0</td>\n",
              "      <td>0.0</td>\n",
              "      <td>0.0</td>\n",
              "      <td>0.0</td>\n",
              "      <td>0.0</td>\n",
              "      <td>0.0</td>\n",
              "      <td>0.0</td>\n",
              "      <td>0.0</td>\n",
              "      <td>0.0</td>\n",
              "      <td>0.0</td>\n",
              "      <td>0.0</td>\n",
              "      <td>0.0</td>\n",
              "      <td>0.0</td>\n",
              "      <td>0.0</td>\n",
              "      <td>0.0</td>\n",
              "      <td>0.0</td>\n",
              "      <td>0</td>\n",
              "    </tr>\n",
              "    <tr>\n",
              "      <th>4</th>\n",
              "      <td>0.0</td>\n",
              "      <td>1.0</td>\n",
              "      <td>0.0</td>\n",
              "      <td>0.0</td>\n",
              "      <td>0.0</td>\n",
              "      <td>0.0</td>\n",
              "      <td>0.0</td>\n",
              "      <td>0.0</td>\n",
              "      <td>0.0</td>\n",
              "      <td>0.0</td>\n",
              "      <td>1.0</td>\n",
              "      <td>0.0</td>\n",
              "      <td>0.0</td>\n",
              "      <td>0.0</td>\n",
              "      <td>0.0</td>\n",
              "      <td>0.0</td>\n",
              "      <td>0.0</td>\n",
              "      <td>0.0</td>\n",
              "      <td>0.0</td>\n",
              "      <td>1.0</td>\n",
              "      <td>0.0</td>\n",
              "      <td>0.0</td>\n",
              "      <td>0.0</td>\n",
              "      <td>0.0</td>\n",
              "      <td>0.0</td>\n",
              "      <td>0.0</td>\n",
              "      <td>0.0</td>\n",
              "      <td>0.0</td>\n",
              "      <td>0.0</td>\n",
              "      <td>0.0</td>\n",
              "      <td>0.0</td>\n",
              "      <td>0.0</td>\n",
              "      <td>1.0</td>\n",
              "      <td>0.0</td>\n",
              "      <td>0.0</td>\n",
              "      <td>0.0</td>\n",
              "      <td>0.0</td>\n",
              "      <td>0.0</td>\n",
              "      <td>0.0</td>\n",
              "      <td>0.0</td>\n",
              "      <td>...</td>\n",
              "      <td>0.0</td>\n",
              "      <td>0.0</td>\n",
              "      <td>0.0</td>\n",
              "      <td>0.0</td>\n",
              "      <td>0.0</td>\n",
              "      <td>0.0</td>\n",
              "      <td>0.0</td>\n",
              "      <td>0.0</td>\n",
              "      <td>0.0</td>\n",
              "      <td>0.0</td>\n",
              "      <td>0.0</td>\n",
              "      <td>0.0</td>\n",
              "      <td>0.0</td>\n",
              "      <td>0.0</td>\n",
              "      <td>0.0</td>\n",
              "      <td>0.0</td>\n",
              "      <td>0.0</td>\n",
              "      <td>0.0</td>\n",
              "      <td>0.0</td>\n",
              "      <td>0.0</td>\n",
              "      <td>0.0</td>\n",
              "      <td>0.0</td>\n",
              "      <td>0.0</td>\n",
              "      <td>0.0</td>\n",
              "      <td>0.0</td>\n",
              "      <td>0.0</td>\n",
              "      <td>0.0</td>\n",
              "      <td>0.0</td>\n",
              "      <td>0.0</td>\n",
              "      <td>0.0</td>\n",
              "      <td>0.0</td>\n",
              "      <td>0.0</td>\n",
              "      <td>0.0</td>\n",
              "      <td>0.0</td>\n",
              "      <td>0.0</td>\n",
              "      <td>0.0</td>\n",
              "      <td>0.0</td>\n",
              "      <td>0.0</td>\n",
              "      <td>0.0</td>\n",
              "      <td>2</td>\n",
              "    </tr>\n",
              "    <tr>\n",
              "      <th>...</th>\n",
              "      <td>...</td>\n",
              "      <td>...</td>\n",
              "      <td>...</td>\n",
              "      <td>...</td>\n",
              "      <td>...</td>\n",
              "      <td>...</td>\n",
              "      <td>...</td>\n",
              "      <td>...</td>\n",
              "      <td>...</td>\n",
              "      <td>...</td>\n",
              "      <td>...</td>\n",
              "      <td>...</td>\n",
              "      <td>...</td>\n",
              "      <td>...</td>\n",
              "      <td>...</td>\n",
              "      <td>...</td>\n",
              "      <td>...</td>\n",
              "      <td>...</td>\n",
              "      <td>...</td>\n",
              "      <td>...</td>\n",
              "      <td>...</td>\n",
              "      <td>...</td>\n",
              "      <td>...</td>\n",
              "      <td>...</td>\n",
              "      <td>...</td>\n",
              "      <td>...</td>\n",
              "      <td>...</td>\n",
              "      <td>...</td>\n",
              "      <td>...</td>\n",
              "      <td>...</td>\n",
              "      <td>...</td>\n",
              "      <td>...</td>\n",
              "      <td>...</td>\n",
              "      <td>...</td>\n",
              "      <td>...</td>\n",
              "      <td>...</td>\n",
              "      <td>...</td>\n",
              "      <td>...</td>\n",
              "      <td>...</td>\n",
              "      <td>...</td>\n",
              "      <td>...</td>\n",
              "      <td>...</td>\n",
              "      <td>...</td>\n",
              "      <td>...</td>\n",
              "      <td>...</td>\n",
              "      <td>...</td>\n",
              "      <td>...</td>\n",
              "      <td>...</td>\n",
              "      <td>...</td>\n",
              "      <td>...</td>\n",
              "      <td>...</td>\n",
              "      <td>...</td>\n",
              "      <td>...</td>\n",
              "      <td>...</td>\n",
              "      <td>...</td>\n",
              "      <td>...</td>\n",
              "      <td>...</td>\n",
              "      <td>...</td>\n",
              "      <td>...</td>\n",
              "      <td>...</td>\n",
              "      <td>...</td>\n",
              "      <td>...</td>\n",
              "      <td>...</td>\n",
              "      <td>...</td>\n",
              "      <td>...</td>\n",
              "      <td>...</td>\n",
              "      <td>...</td>\n",
              "      <td>...</td>\n",
              "      <td>...</td>\n",
              "      <td>...</td>\n",
              "      <td>...</td>\n",
              "      <td>...</td>\n",
              "      <td>...</td>\n",
              "      <td>...</td>\n",
              "      <td>...</td>\n",
              "      <td>...</td>\n",
              "      <td>...</td>\n",
              "      <td>...</td>\n",
              "      <td>...</td>\n",
              "      <td>...</td>\n",
              "      <td>...</td>\n",
              "    </tr>\n",
              "    <tr>\n",
              "      <th>8931</th>\n",
              "      <td>0.0</td>\n",
              "      <td>1.0</td>\n",
              "      <td>0.0</td>\n",
              "      <td>0.0</td>\n",
              "      <td>1.0</td>\n",
              "      <td>0.0</td>\n",
              "      <td>0.0</td>\n",
              "      <td>0.0</td>\n",
              "      <td>0.0</td>\n",
              "      <td>1.0</td>\n",
              "      <td>0.0</td>\n",
              "      <td>0.0</td>\n",
              "      <td>0.0</td>\n",
              "      <td>0.0</td>\n",
              "      <td>0.0</td>\n",
              "      <td>0.0</td>\n",
              "      <td>0.0</td>\n",
              "      <td>0.0</td>\n",
              "      <td>0.0</td>\n",
              "      <td>0.0</td>\n",
              "      <td>0.0</td>\n",
              "      <td>0.0</td>\n",
              "      <td>0.0</td>\n",
              "      <td>0.0</td>\n",
              "      <td>0.0</td>\n",
              "      <td>0.0</td>\n",
              "      <td>0.0</td>\n",
              "      <td>0.0</td>\n",
              "      <td>0.0</td>\n",
              "      <td>0.0</td>\n",
              "      <td>0.0</td>\n",
              "      <td>0.0</td>\n",
              "      <td>0.0</td>\n",
              "      <td>0.0</td>\n",
              "      <td>0.0</td>\n",
              "      <td>0.0</td>\n",
              "      <td>0.0</td>\n",
              "      <td>0.0</td>\n",
              "      <td>0.0</td>\n",
              "      <td>0.0</td>\n",
              "      <td>...</td>\n",
              "      <td>0.0</td>\n",
              "      <td>0.0</td>\n",
              "      <td>0.0</td>\n",
              "      <td>0.0</td>\n",
              "      <td>0.0</td>\n",
              "      <td>0.0</td>\n",
              "      <td>0.0</td>\n",
              "      <td>0.0</td>\n",
              "      <td>0.0</td>\n",
              "      <td>0.0</td>\n",
              "      <td>0.0</td>\n",
              "      <td>0.0</td>\n",
              "      <td>0.0</td>\n",
              "      <td>0.0</td>\n",
              "      <td>0.0</td>\n",
              "      <td>0.0</td>\n",
              "      <td>0.0</td>\n",
              "      <td>0.0</td>\n",
              "      <td>0.0</td>\n",
              "      <td>0.0</td>\n",
              "      <td>0.0</td>\n",
              "      <td>0.0</td>\n",
              "      <td>0.0</td>\n",
              "      <td>0.0</td>\n",
              "      <td>0.0</td>\n",
              "      <td>0.0</td>\n",
              "      <td>0.0</td>\n",
              "      <td>0.0</td>\n",
              "      <td>0.0</td>\n",
              "      <td>0.0</td>\n",
              "      <td>0.0</td>\n",
              "      <td>0.0</td>\n",
              "      <td>0.0</td>\n",
              "      <td>0.0</td>\n",
              "      <td>0.0</td>\n",
              "      <td>0.0</td>\n",
              "      <td>0.0</td>\n",
              "      <td>0.0</td>\n",
              "      <td>0.0</td>\n",
              "      <td>2</td>\n",
              "    </tr>\n",
              "    <tr>\n",
              "      <th>8932</th>\n",
              "      <td>0.0</td>\n",
              "      <td>1.0</td>\n",
              "      <td>1.0</td>\n",
              "      <td>0.0</td>\n",
              "      <td>1.0</td>\n",
              "      <td>0.0</td>\n",
              "      <td>0.0</td>\n",
              "      <td>1.0</td>\n",
              "      <td>0.0</td>\n",
              "      <td>0.0</td>\n",
              "      <td>1.0</td>\n",
              "      <td>0.0</td>\n",
              "      <td>0.0</td>\n",
              "      <td>0.0</td>\n",
              "      <td>0.0</td>\n",
              "      <td>0.0</td>\n",
              "      <td>0.0</td>\n",
              "      <td>0.0</td>\n",
              "      <td>0.0</td>\n",
              "      <td>0.0</td>\n",
              "      <td>0.0</td>\n",
              "      <td>0.0</td>\n",
              "      <td>0.0</td>\n",
              "      <td>0.0</td>\n",
              "      <td>0.0</td>\n",
              "      <td>0.0</td>\n",
              "      <td>0.0</td>\n",
              "      <td>1.0</td>\n",
              "      <td>0.0</td>\n",
              "      <td>0.0</td>\n",
              "      <td>0.0</td>\n",
              "      <td>0.0</td>\n",
              "      <td>0.0</td>\n",
              "      <td>0.0</td>\n",
              "      <td>0.0</td>\n",
              "      <td>1.0</td>\n",
              "      <td>0.0</td>\n",
              "      <td>0.0</td>\n",
              "      <td>0.0</td>\n",
              "      <td>0.0</td>\n",
              "      <td>...</td>\n",
              "      <td>0.0</td>\n",
              "      <td>0.0</td>\n",
              "      <td>0.0</td>\n",
              "      <td>0.0</td>\n",
              "      <td>0.0</td>\n",
              "      <td>0.0</td>\n",
              "      <td>0.0</td>\n",
              "      <td>0.0</td>\n",
              "      <td>0.0</td>\n",
              "      <td>0.0</td>\n",
              "      <td>0.0</td>\n",
              "      <td>0.0</td>\n",
              "      <td>0.0</td>\n",
              "      <td>0.0</td>\n",
              "      <td>0.0</td>\n",
              "      <td>0.0</td>\n",
              "      <td>0.0</td>\n",
              "      <td>0.0</td>\n",
              "      <td>0.0</td>\n",
              "      <td>0.0</td>\n",
              "      <td>0.0</td>\n",
              "      <td>0.0</td>\n",
              "      <td>0.0</td>\n",
              "      <td>0.0</td>\n",
              "      <td>0.0</td>\n",
              "      <td>0.0</td>\n",
              "      <td>0.0</td>\n",
              "      <td>0.0</td>\n",
              "      <td>0.0</td>\n",
              "      <td>0.0</td>\n",
              "      <td>0.0</td>\n",
              "      <td>0.0</td>\n",
              "      <td>0.0</td>\n",
              "      <td>0.0</td>\n",
              "      <td>0.0</td>\n",
              "      <td>0.0</td>\n",
              "      <td>0.0</td>\n",
              "      <td>0.0</td>\n",
              "      <td>0.0</td>\n",
              "      <td>1</td>\n",
              "    </tr>\n",
              "    <tr>\n",
              "      <th>8933</th>\n",
              "      <td>0.0</td>\n",
              "      <td>1.0</td>\n",
              "      <td>0.0</td>\n",
              "      <td>0.0</td>\n",
              "      <td>0.0</td>\n",
              "      <td>0.0</td>\n",
              "      <td>0.0</td>\n",
              "      <td>0.0</td>\n",
              "      <td>0.0</td>\n",
              "      <td>0.0</td>\n",
              "      <td>0.0</td>\n",
              "      <td>1.0</td>\n",
              "      <td>0.0</td>\n",
              "      <td>0.0</td>\n",
              "      <td>0.0</td>\n",
              "      <td>0.0</td>\n",
              "      <td>0.0</td>\n",
              "      <td>0.0</td>\n",
              "      <td>0.0</td>\n",
              "      <td>1.0</td>\n",
              "      <td>0.0</td>\n",
              "      <td>0.0</td>\n",
              "      <td>0.0</td>\n",
              "      <td>0.0</td>\n",
              "      <td>0.0</td>\n",
              "      <td>0.0</td>\n",
              "      <td>0.0</td>\n",
              "      <td>0.0</td>\n",
              "      <td>1.0</td>\n",
              "      <td>0.0</td>\n",
              "      <td>0.0</td>\n",
              "      <td>0.0</td>\n",
              "      <td>0.0</td>\n",
              "      <td>0.0</td>\n",
              "      <td>0.0</td>\n",
              "      <td>0.0</td>\n",
              "      <td>0.0</td>\n",
              "      <td>0.0</td>\n",
              "      <td>0.0</td>\n",
              "      <td>0.0</td>\n",
              "      <td>...</td>\n",
              "      <td>0.0</td>\n",
              "      <td>0.0</td>\n",
              "      <td>0.0</td>\n",
              "      <td>0.0</td>\n",
              "      <td>0.0</td>\n",
              "      <td>0.0</td>\n",
              "      <td>0.0</td>\n",
              "      <td>0.0</td>\n",
              "      <td>0.0</td>\n",
              "      <td>0.0</td>\n",
              "      <td>0.0</td>\n",
              "      <td>0.0</td>\n",
              "      <td>0.0</td>\n",
              "      <td>0.0</td>\n",
              "      <td>0.0</td>\n",
              "      <td>0.0</td>\n",
              "      <td>0.0</td>\n",
              "      <td>0.0</td>\n",
              "      <td>0.0</td>\n",
              "      <td>0.0</td>\n",
              "      <td>0.0</td>\n",
              "      <td>0.0</td>\n",
              "      <td>0.0</td>\n",
              "      <td>0.0</td>\n",
              "      <td>0.0</td>\n",
              "      <td>0.0</td>\n",
              "      <td>0.0</td>\n",
              "      <td>0.0</td>\n",
              "      <td>0.0</td>\n",
              "      <td>0.0</td>\n",
              "      <td>0.0</td>\n",
              "      <td>0.0</td>\n",
              "      <td>0.0</td>\n",
              "      <td>0.0</td>\n",
              "      <td>0.0</td>\n",
              "      <td>0.0</td>\n",
              "      <td>0.0</td>\n",
              "      <td>0.0</td>\n",
              "      <td>0.0</td>\n",
              "      <td>1</td>\n",
              "    </tr>\n",
              "    <tr>\n",
              "      <th>8934</th>\n",
              "      <td>0.0</td>\n",
              "      <td>1.0</td>\n",
              "      <td>0.0</td>\n",
              "      <td>1.0</td>\n",
              "      <td>0.0</td>\n",
              "      <td>0.0</td>\n",
              "      <td>0.0</td>\n",
              "      <td>0.0</td>\n",
              "      <td>0.0</td>\n",
              "      <td>0.0</td>\n",
              "      <td>0.0</td>\n",
              "      <td>0.0</td>\n",
              "      <td>0.0</td>\n",
              "      <td>0.0</td>\n",
              "      <td>1.0</td>\n",
              "      <td>0.0</td>\n",
              "      <td>0.0</td>\n",
              "      <td>1.0</td>\n",
              "      <td>0.0</td>\n",
              "      <td>0.0</td>\n",
              "      <td>0.0</td>\n",
              "      <td>0.0</td>\n",
              "      <td>1.0</td>\n",
              "      <td>0.0</td>\n",
              "      <td>0.0</td>\n",
              "      <td>0.0</td>\n",
              "      <td>1.0</td>\n",
              "      <td>0.0</td>\n",
              "      <td>0.0</td>\n",
              "      <td>0.0</td>\n",
              "      <td>0.0</td>\n",
              "      <td>0.0</td>\n",
              "      <td>0.0</td>\n",
              "      <td>0.0</td>\n",
              "      <td>0.0</td>\n",
              "      <td>0.0</td>\n",
              "      <td>1.0</td>\n",
              "      <td>0.0</td>\n",
              "      <td>0.0</td>\n",
              "      <td>0.0</td>\n",
              "      <td>...</td>\n",
              "      <td>0.0</td>\n",
              "      <td>0.0</td>\n",
              "      <td>0.0</td>\n",
              "      <td>0.0</td>\n",
              "      <td>0.0</td>\n",
              "      <td>0.0</td>\n",
              "      <td>0.0</td>\n",
              "      <td>0.0</td>\n",
              "      <td>0.0</td>\n",
              "      <td>0.0</td>\n",
              "      <td>0.0</td>\n",
              "      <td>0.0</td>\n",
              "      <td>0.0</td>\n",
              "      <td>0.0</td>\n",
              "      <td>0.0</td>\n",
              "      <td>0.0</td>\n",
              "      <td>0.0</td>\n",
              "      <td>0.0</td>\n",
              "      <td>0.0</td>\n",
              "      <td>0.0</td>\n",
              "      <td>0.0</td>\n",
              "      <td>0.0</td>\n",
              "      <td>0.0</td>\n",
              "      <td>0.0</td>\n",
              "      <td>0.0</td>\n",
              "      <td>0.0</td>\n",
              "      <td>0.0</td>\n",
              "      <td>0.0</td>\n",
              "      <td>0.0</td>\n",
              "      <td>0.0</td>\n",
              "      <td>0.0</td>\n",
              "      <td>0.0</td>\n",
              "      <td>0.0</td>\n",
              "      <td>0.0</td>\n",
              "      <td>0.0</td>\n",
              "      <td>0.0</td>\n",
              "      <td>0.0</td>\n",
              "      <td>0.0</td>\n",
              "      <td>0.0</td>\n",
              "      <td>1</td>\n",
              "    </tr>\n",
              "    <tr>\n",
              "      <th>8935</th>\n",
              "      <td>0.0</td>\n",
              "      <td>1.0</td>\n",
              "      <td>1.0</td>\n",
              "      <td>0.0</td>\n",
              "      <td>1.0</td>\n",
              "      <td>0.0</td>\n",
              "      <td>1.0</td>\n",
              "      <td>0.0</td>\n",
              "      <td>0.0</td>\n",
              "      <td>0.0</td>\n",
              "      <td>1.0</td>\n",
              "      <td>0.0</td>\n",
              "      <td>0.0</td>\n",
              "      <td>1.0</td>\n",
              "      <td>0.0</td>\n",
              "      <td>0.0</td>\n",
              "      <td>0.0</td>\n",
              "      <td>0.0</td>\n",
              "      <td>0.0</td>\n",
              "      <td>0.0</td>\n",
              "      <td>0.0</td>\n",
              "      <td>0.0</td>\n",
              "      <td>0.0</td>\n",
              "      <td>0.0</td>\n",
              "      <td>0.0</td>\n",
              "      <td>0.0</td>\n",
              "      <td>0.0</td>\n",
              "      <td>0.0</td>\n",
              "      <td>0.0</td>\n",
              "      <td>0.0</td>\n",
              "      <td>0.0</td>\n",
              "      <td>0.0</td>\n",
              "      <td>0.0</td>\n",
              "      <td>0.0</td>\n",
              "      <td>0.0</td>\n",
              "      <td>0.0</td>\n",
              "      <td>0.0</td>\n",
              "      <td>0.0</td>\n",
              "      <td>0.0</td>\n",
              "      <td>0.0</td>\n",
              "      <td>...</td>\n",
              "      <td>0.0</td>\n",
              "      <td>0.0</td>\n",
              "      <td>0.0</td>\n",
              "      <td>0.0</td>\n",
              "      <td>0.0</td>\n",
              "      <td>0.0</td>\n",
              "      <td>0.0</td>\n",
              "      <td>0.0</td>\n",
              "      <td>0.0</td>\n",
              "      <td>0.0</td>\n",
              "      <td>0.0</td>\n",
              "      <td>0.0</td>\n",
              "      <td>0.0</td>\n",
              "      <td>0.0</td>\n",
              "      <td>0.0</td>\n",
              "      <td>0.0</td>\n",
              "      <td>0.0</td>\n",
              "      <td>0.0</td>\n",
              "      <td>0.0</td>\n",
              "      <td>0.0</td>\n",
              "      <td>0.0</td>\n",
              "      <td>0.0</td>\n",
              "      <td>0.0</td>\n",
              "      <td>0.0</td>\n",
              "      <td>0.0</td>\n",
              "      <td>0.0</td>\n",
              "      <td>0.0</td>\n",
              "      <td>0.0</td>\n",
              "      <td>0.0</td>\n",
              "      <td>0.0</td>\n",
              "      <td>0.0</td>\n",
              "      <td>0.0</td>\n",
              "      <td>0.0</td>\n",
              "      <td>0.0</td>\n",
              "      <td>0.0</td>\n",
              "      <td>0.0</td>\n",
              "      <td>0.0</td>\n",
              "      <td>0.0</td>\n",
              "      <td>0.0</td>\n",
              "      <td>1</td>\n",
              "    </tr>\n",
              "  </tbody>\n",
              "</table>\n",
              "<p>8936 rows × 12501 columns</p>\n",
              "</div>"
            ],
            "text/plain": [
              "        0    1    2    3    4    5  ...  12495  12496  12497  12498  12499  target\n",
              "0     0.0  1.0  0.0  0.0  0.0  1.0  ...    0.0    0.0    0.0    0.0    0.0       0\n",
              "1     0.0  1.0  0.0  0.0  0.0  0.0  ...    0.0    0.0    0.0    0.0    0.0       2\n",
              "2     0.0  1.0  0.0  0.0  0.0  0.0  ...    0.0    0.0    0.0    0.0    0.0       2\n",
              "3     0.0  1.0  0.0  0.0  0.0  0.0  ...    0.0    0.0    0.0    0.0    0.0       0\n",
              "4     0.0  1.0  0.0  0.0  0.0  0.0  ...    0.0    0.0    0.0    0.0    0.0       2\n",
              "...   ...  ...  ...  ...  ...  ...  ...    ...    ...    ...    ...    ...     ...\n",
              "8931  0.0  1.0  0.0  0.0  1.0  0.0  ...    0.0    0.0    0.0    0.0    0.0       2\n",
              "8932  0.0  1.0  1.0  0.0  1.0  0.0  ...    0.0    0.0    0.0    0.0    0.0       1\n",
              "8933  0.0  1.0  0.0  0.0  0.0  0.0  ...    0.0    0.0    0.0    0.0    0.0       1\n",
              "8934  0.0  1.0  0.0  1.0  0.0  0.0  ...    0.0    0.0    0.0    0.0    0.0       1\n",
              "8935  0.0  1.0  1.0  0.0  1.0  0.0  ...    0.0    0.0    0.0    0.0    0.0       1\n",
              "\n",
              "[8936 rows x 12501 columns]"
            ]
          },
          "metadata": {
            "tags": []
          },
          "execution_count": 38
        }
      ]
    },
    {
      "cell_type": "code",
      "metadata": {
        "id": "mDhgJjR4_QgU"
      },
      "source": [
        "from sklearn.decomposition import PCA\r\n",
        "\r\n",
        "pca = PCA(n_components=290)\r\n",
        "\r\n",
        "X = df2.drop(['target'], axis='columns')\r\n",
        "\r\n",
        "df3 = pd.DataFrame(pca.fit_transform(X))"
      ],
      "execution_count": 39,
      "outputs": []
    },
    {
      "cell_type": "code",
      "metadata": {
        "id": "kLes4KIBSKPU"
      },
      "source": [
        "df3['target'] = classes"
      ],
      "execution_count": 40,
      "outputs": []
    },
    {
      "cell_type": "code",
      "metadata": {
        "id": "qYwS-HyaBDrd"
      },
      "source": [
        "X_train = dh.HoldOut(df3)[0].drop(['target'], axis='columns')\r\n",
        "y_train = dh.HoldOut(df3)[0]['target']\r\n",
        "X_test = dh.HoldOut(df3)[1].drop(['target'], axis='columns')\r\n",
        "y_test = dh.HoldOut(df3)[1]['target']"
      ],
      "execution_count": 41,
      "outputs": []
    },
    {
      "cell_type": "code",
      "metadata": {
        "colab": {
          "base_uri": "https://localhost:8080/"
        },
        "id": "9yRcuEfOExUm",
        "outputId": "5888b61a-14b7-4f1c-d12b-aa0989e9f636"
      },
      "source": [
        "model4 = XGBClassifier()\r\n",
        "\r\n",
        "model4.fit(X_train, y_train)"
      ],
      "execution_count": 42,
      "outputs": [
        {
          "output_type": "execute_result",
          "data": {
            "text/plain": [
              "XGBClassifier(base_score=0.5, booster='gbtree', colsample_bylevel=1,\n",
              "              colsample_bynode=1, colsample_bytree=1, gamma=0,\n",
              "              learning_rate=0.1, max_delta_step=0, max_depth=3,\n",
              "              min_child_weight=1, missing=None, n_estimators=100, n_jobs=1,\n",
              "              nthread=None, objective='multi:softprob', random_state=0,\n",
              "              reg_alpha=0, reg_lambda=1, scale_pos_weight=1, seed=None,\n",
              "              silent=None, subsample=1, verbosity=1)"
            ]
          },
          "metadata": {
            "tags": []
          },
          "execution_count": 42
        }
      ]
    },
    {
      "cell_type": "code",
      "metadata": {
        "colab": {
          "base_uri": "https://localhost:8080/"
        },
        "id": "eEnMV5-UTx8c",
        "outputId": "fb8699e6-d021-4705-caea-89f7918515d4"
      },
      "source": [
        "model4.score(X_test, y_test)"
      ],
      "execution_count": 43,
      "outputs": [
        {
          "output_type": "execute_result",
          "data": {
            "text/plain": [
              "0.6017897091722595"
            ]
          },
          "metadata": {
            "tags": []
          },
          "execution_count": 43
        }
      ]
    },
    {
      "cell_type": "code",
      "metadata": {
        "colab": {
          "base_uri": "https://localhost:8080/"
        },
        "id": "FnfzoIalUTsw",
        "outputId": "f22e1802-b198-48e8-e9ab-4fc253c5c0ae"
      },
      "source": [
        "model4.score(X_train, y_train)"
      ],
      "execution_count": 44,
      "outputs": [
        {
          "output_type": "execute_result",
          "data": {
            "text/plain": [
              "0.6349166873911962"
            ]
          },
          "metadata": {
            "tags": []
          },
          "execution_count": 44
        }
      ]
    },
    {
      "cell_type": "code",
      "metadata": {
        "colab": {
          "base_uri": "https://localhost:8080/",
          "height": 296
        },
        "id": "q4gC2ld8UbYF",
        "outputId": "0cf641b7-bdb9-4e1b-dea3-6d2bf480c13f"
      },
      "source": [
        "ev.BuildConfusion(model4, X_test, y_test)"
      ],
      "execution_count": 45,
      "outputs": [
        {
          "output_type": "execute_result",
          "data": {
            "text/plain": [
              "<sklearn.metrics._plot.confusion_matrix.ConfusionMatrixDisplay at 0x7f58cd1f4f98>"
            ]
          },
          "metadata": {
            "tags": []
          },
          "execution_count": 45
        },
        {
          "output_type": "display_data",
          "data": {
            "image/png": "[encoded data removed]",
            "text/plain": [
              "<Figure size 432x288 with 2 Axes>"
            ]
          },
          "metadata": {
            "tags": [],
            "needs_background": "light"
          }
        }
      ]
    },
    {
      "cell_type": "markdown",
      "metadata": {
        "id": "nKDbqNI7r8na"
      },
      "source": [
        "### Using SMOTE to resample"
      ]
    },
    {
      "cell_type": "markdown",
      "metadata": {
        "id": "qAOl4GcDJ7oc"
      },
      "source": [
        "using Smote, synthetic minority oversampling, to fix class imbalance issues. As it lables everything as neutral."
      ]
    },
    {
      "cell_type": "code",
      "metadata": {
        "colab": {
          "base_uri": "https://localhost:8080/"
        },
        "id": "oVsz_tAoVMok",
        "outputId": "b3ff5869-583b-4fdf-dc87-172d0a156981"
      },
      "source": [
        "from imblearn.over_sampling import SMOTE\r\n",
        "sm = SMOTE()\r\n",
        "X_res, y_res = sm.fit_resample(X_train, y_train)"
      ],
      "execution_count": 46,
      "outputs": [
        {
          "output_type": "stream",
          "text": [
            "/usr/local/lib/python3.6/dist-packages/sklearn/utils/deprecation.py:87: FutureWarning: Function safe_indexing is deprecated; safe_indexing is deprecated in version 0.22 and will be removed in version 0.24.\n",
            "  warnings.warn(msg, category=FutureWarning)\n",
            "/usr/local/lib/python3.6/dist-packages/sklearn/utils/deprecation.py:87: FutureWarning: Function safe_indexing is deprecated; safe_indexing is deprecated in version 0.22 and will be removed in version 0.24.\n",
            "  warnings.warn(msg, category=FutureWarning)\n"
          ],
          "name": "stderr"
        }
      ]
    },
    {
      "cell_type": "code",
      "metadata": {
        "colab": {
          "base_uri": "https://localhost:8080/"
        },
        "id": "zsFoifwiWgY7",
        "outputId": "d6f4dd6c-ee03-45cd-ca14-43fa58f86b25"
      },
      "source": [
        "xgb = XGBClassifier()\r\n",
        "xgb.fit(X_res, y_res)"
      ],
      "execution_count": 47,
      "outputs": [
        {
          "output_type": "execute_result",
          "data": {
            "text/plain": [
              "XGBClassifier(base_score=0.5, booster='gbtree', colsample_bylevel=1,\n",
              "              colsample_bynode=1, colsample_bytree=1, gamma=0,\n",
              "              learning_rate=0.1, max_delta_step=0, max_depth=3,\n",
              "              min_child_weight=1, missing=None, n_estimators=100, n_jobs=1,\n",
              "              nthread=None, objective='multi:softprob', random_state=0,\n",
              "              reg_alpha=0, reg_lambda=1, scale_pos_weight=1, seed=None,\n",
              "              silent=None, subsample=1, verbosity=1)"
            ]
          },
          "metadata": {
            "tags": []
          },
          "execution_count": 47
        }
      ]
    },
    {
      "cell_type": "code",
      "metadata": {
        "colab": {
          "base_uri": "https://localhost:8080/"
        },
        "id": "FKWNuaMXXifj",
        "outputId": "bc5d7d7a-c97b-4b32-dc26-3ce7a2871adf"
      },
      "source": [
        "xgb.score(X_res, y_res)"
      ],
      "execution_count": 48,
      "outputs": [
        {
          "output_type": "execute_result",
          "data": {
            "text/plain": [
              "0.7024396929824561"
            ]
          },
          "metadata": {
            "tags": []
          },
          "execution_count": 48
        }
      ]
    },
    {
      "cell_type": "code",
      "metadata": {
        "colab": {
          "base_uri": "https://localhost:8080/"
        },
        "id": "MRUNhC42XsAa",
        "outputId": "a8d3bbdb-6a5a-45e3-e554-0f44f2ad95d3"
      },
      "source": [
        "xgb.score(np.array(X_test), np.array(y_test))"
      ],
      "execution_count": 49,
      "outputs": [
        {
          "output_type": "execute_result",
          "data": {
            "text/plain": [
              "0.4373601789709172"
            ]
          },
          "metadata": {
            "tags": []
          },
          "execution_count": 49
        }
      ]
    },
    {
      "cell_type": "code",
      "metadata": {
        "colab": {
          "base_uri": "https://localhost:8080/",
          "height": 298
        },
        "id": "8YYzRvf_YN0J",
        "outputId": "1794f0da-5148-4608-ae95-708d0a77173e"
      },
      "source": [
        "ev.BuildConfusion(xgb, np.array(X_test), np.array(y_test))"
      ],
      "execution_count": 50,
      "outputs": [
        {
          "output_type": "execute_result",
          "data": {
            "text/plain": [
              "<sklearn.metrics._plot.confusion_matrix.ConfusionMatrixDisplay at 0x7f58cd0bfe80>"
            ]
          },
          "metadata": {
            "tags": []
          },
          "execution_count": 50
        },
        {
          "output_type": "display_data",
          "data": {
            "image/png": "[encoded data removed]",
            "text/plain": [
              "<Figure size 432x288 with 2 Axes>"
            ]
          },
          "metadata": {
            "tags": [],
            "needs_background": "light"
          }
        }
      ]
    },
    {
      "cell_type": "markdown",
      "metadata": {
        "id": "-8dzlsNel17n"
      },
      "source": [
        "After trying various RNN's and gradient boosted forests trained on word embeddings, and trained on a PCA transformed one hot encoded vectors. I've concluded that the RNN saved as 'bid.h5' was the best. Although it was overfit it got 94% accuracy. I will now access random tweets outside of the dataset via the twitter API and see how the model classifies the tweets"
      ]
    },
    {
      "cell_type": "code",
      "metadata": {
        "colab": {
          "resources": {
            "http://localhost:8080/nbextensions/google.colab/files.js": {
              "data": "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",
              "ok": true,
              "headers": [
                [
                  "content-type",
                  "application/javascript"
                ]
              ],
              "status": 200,
              "status_text": ""
            }
          },
          "base_uri": "https://localhost:8080/",
          "height": 73
        },
        "id": "tdd_Xj6gsGP2",
        "outputId": "df126b96-ae48-4d21-f9eb-c582ed232820"
      },
      "source": [
        "from google.colab import files\r\n",
        "path_to_file = list(files.upload().keys())[0]"
      ],
      "execution_count": 51,
      "outputs": [
        {
          "output_type": "display_data",
          "data": {
            "text/html": [
              "\n",
              "     <input type=\"file\" id=\"files-7c6cc50c-7520-47a0-acda-c141555dd6cd\" name=\"files[]\" multiple disabled\n",
              "        style=\"border:none\" />\n",
              "     <output id=\"result-7c6cc50c-7520-47a0-acda-c141555dd6cd\">\n",
              "      Upload widget is only available when the cell has been executed in the\n",
              "      current browser session. Please rerun this cell to enable.\n",
              "      </output>\n",
              "      <script src=\"/nbextensions/google.colab/files.js\"></script> "
            ],
            "text/plain": [
              "<IPython.core.display.HTML object>"
            ]
          },
          "metadata": {
            "tags": []
          }
        },
        {
          "output_type": "stream",
          "text": [
            "Saving ssh-twitter.txt to ssh-twitter.txt\n"
          ],
          "name": "stdout"
        }
      ]
    },
    {
      "cell_type": "code",
      "metadata": {
        "id": "lsM_rvzOntRe"
      },
      "source": [
        "import tweepy\r\n",
        "\r\n",
        "c1 = open('ssh-twitter.txt').readlines()[2].split(':')[1].replace('\\n', '').replace(' ', '')\r\n",
        "c2 = open('ssh-twitter.txt').readlines()[3].split(':')[1].replace('\\n', '').replace(' ', '')\r\n",
        "a1 = open('ssh-twitter.txt').readlines()[0].split(':')[1].replace('\\n', '').replace(' ', '')\r\n",
        "a2 = open('ssh-twitter.txt').readlines()[1].split(':')[1].replace('\\n', '').replace(' ', '')\r\n",
        "\r\n",
        "auth = tweepy.OAuthHandler(c1, c2)\r\n",
        "auth.set_access_token(a1, a2)\r\n",
        "\r\n",
        "def GetTweets(Topic):\r\n",
        "  api = tweepy.API(auth)\r\n",
        "  topic = api.search(Topic)\r\n",
        "  tweets = []\r\n",
        "  time = []\r\n",
        "  for i in range(len(topic)):\r\n",
        "    tweets.append(topic[i]._json['text'].replace('\\n', '').replace('.@', '').replace('.', '').replace('!', '').replace('@', '')\r\n",
        "    .replace('?', '').replace(':', '').replace(',', '').replace(';', '').lower())\r\n",
        "    time.append(topic[i]._json['created_at'])\r\n",
        "    res = pd.DataFrame(tweets)\r\n",
        "  res.columns = ['text']\r\n",
        "  res['time'] = time \r\n",
        "  X = dh.ModelReadyText1(res, 'text', 'time', 33)[0]\r\n",
        "  backup_dim = len(X), len(res)\r\n",
        "  sent = []\r\n",
        "  for arr in X:\r\n",
        "    sentiment = int(round(model.predict(arr).argmax()/len(arr)-1))\r\n",
        "    if sentiment == 0:\r\n",
        "      sent.append('Negative')\r\n",
        "    if sentiment == 1:\r\n",
        "      sent.append('Neutral')\r\n",
        "    if sentiment == 2:\r\n",
        "      sent.append('Positive')\r\n",
        "  res['sentiment'] = sent \r\n",
        "  results = res.drop(['time'], axis='columns')\r\n",
        "  return results"
      ],
      "execution_count": 52,
      "outputs": []
    },
    {
      "cell_type": "markdown",
      "metadata": {
        "id": "weLIf7FHBdtf"
      },
      "source": [
        "With this GetTweets function all you have to do is enter a topic and you'll get a dataframe with tweets selected by the tweepy module and the sentiment that the model predicts!"
      ]
    },
    {
      "cell_type": "code",
      "metadata": {
        "colab": {
          "base_uri": "https://localhost:8080/",
          "height": 491
        },
        "id": "4tcAwDW0BWrP",
        "outputId": "55ee4218-70d1-46fc-c1d5-cfadce4e0249"
      },
      "source": [
        "GetTweets('google')"
      ],
      "execution_count": 53,
      "outputs": [
        {
          "output_type": "execute_result",
          "data": {
            "text/html": [
              "<div>\n",
              "<style scoped>\n",
              "    .dataframe tbody tr th:only-of-type {\n",
              "        vertical-align: middle;\n",
              "    }\n",
              "\n",
              "    .dataframe tbody tr th {\n",
              "        vertical-align: top;\n",
              "    }\n",
              "\n",
              "    .dataframe thead th {\n",
              "        text-align: right;\n",
              "    }\n",
              "</style>\n",
              "<table border=\"1\" class=\"dataframe\">\n",
              "  <thead>\n",
              "    <tr style=\"text-align: right;\">\n",
              "      <th></th>\n",
              "      <th>text</th>\n",
              "      <th>sentiment</th>\n",
              "    </tr>\n",
              "  </thead>\n",
              "  <tbody>\n",
              "    <tr>\n",
              "      <th>0</th>\n",
              "      <td>rt keuangannews_id menindak lanjuti enail goog...</td>\n",
              "      <td>Positive</td>\n",
              "    </tr>\n",
              "    <tr>\n",
              "      <th>1</th>\n",
              "      <td>rt pewpewpablet en estados unidos dos gemelas ...</td>\n",
              "      <td>Negative</td>\n",
              "    </tr>\n",
              "    <tr>\n",
              "      <th>2</th>\n",
              "      <td>rt twiceusofficial once🍭we have reached our do...</td>\n",
              "      <td>Positive</td>\n",
              "    </tr>\n",
              "    <tr>\n",
              "      <th>3</th>\n",
              "      <td>rt kpoppinph0920 💥please help rt❤line bt21 win...</td>\n",
              "      <td>Positive</td>\n",
              "    </tr>\n",
              "    <tr>\n",
              "      <th>4</th>\n",
              "      <td>rt freefireth free fire heroes x มูลนิธิกระจกเ...</td>\n",
              "      <td>Neutral</td>\n",
              "    </tr>\n",
              "    <tr>\n",
              "      <th>5</th>\n",
              "      <td>rt bpsms_ รีทวิต #แจก โฟโต้บุคเปล่า🔥[pre] #bla...</td>\n",
              "      <td>Neutral</td>\n",
              "    </tr>\n",
              "    <tr>\n",
              "      <th>6</th>\n",
              "      <td>rt twiceusofficial once🍭we have reached our do...</td>\n",
              "      <td>Positive</td>\n",
              "    </tr>\n",
              "    <tr>\n",
              "      <th>7</th>\n",
              "      <td>rt layzhangbr #sorteio | xingmis em parceria c...</td>\n",
              "      <td>Neutral</td>\n",
              "    </tr>\n",
              "    <tr>\n",
              "      <th>8</th>\n",
              "      <td>「38州のグループが、反競争的行為や契約に関与し、インターネット検索エンジン市場を独占したと...</td>\n",
              "      <td>Positive</td>\n",
              "    </tr>\n",
              "    <tr>\n",
              "      <th>9</th>\n",
              "      <td>rt _smromero hey folks just did a minor update...</td>\n",
              "      <td>Positive</td>\n",
              "    </tr>\n",
              "    <tr>\n",
              "      <th>10</th>\n",
              "      <td>rt vantegifs 🤏https//tco/heiz16otkr#태형 #뷔 #v #...</td>\n",
              "      <td>Neutral</td>\n",
              "    </tr>\n",
              "    <tr>\n",
              "      <th>11</th>\n",
              "      <td>rt tobaccovanillou how can anyone dislike loui...</td>\n",
              "      <td>Neutral</td>\n",
              "    </tr>\n",
              "    <tr>\n",
              "      <th>12</th>\n",
              "      <td>san jose dwebble 1000% (15/15/15) cp454 (l13) ...</td>\n",
              "      <td>Negative</td>\n",
              "    </tr>\n",
              "    <tr>\n",
              "      <th>13</th>\n",
              "      <td>rt blueberry0515 201114접속 무비월드올겨울 신작서복컷ts ⬇️📌 ...</td>\n",
              "      <td>Neutral</td>\n",
              "    </tr>\n",
              "    <tr>\n",
              "      <th>14</th>\n",
              "      <td>rt kimseokjingifs 💾 https//tco/dghnkmpfww#bts ...</td>\n",
              "      <td>Neutral</td>\n",
              "    </tr>\n",
              "  </tbody>\n",
              "</table>\n",
              "</div>"
            ],
            "text/plain": [
              "                                                 text sentiment\n",
              "0   rt keuangannews_id menindak lanjuti enail goog...  Positive\n",
              "1   rt pewpewpablet en estados unidos dos gemelas ...  Negative\n",
              "2   rt twiceusofficial once🍭we have reached our do...  Positive\n",
              "3   rt kpoppinph0920 💥please help rt❤line bt21 win...  Positive\n",
              "4   rt freefireth free fire heroes x มูลนิธิกระจกเ...   Neutral\n",
              "5   rt bpsms_ รีทวิต #แจก โฟโต้บุคเปล่า🔥[pre] #bla...   Neutral\n",
              "6   rt twiceusofficial once🍭we have reached our do...  Positive\n",
              "7   rt layzhangbr #sorteio | xingmis em parceria c...   Neutral\n",
              "8   「38州のグループが、反競争的行為や契約に関与し、インターネット検索エンジン市場を独占したと...  Positive\n",
              "9   rt _smromero hey folks just did a minor update...  Positive\n",
              "10  rt vantegifs 🤏https//tco/heiz16otkr#태형 #뷔 #v #...   Neutral\n",
              "11  rt tobaccovanillou how can anyone dislike loui...   Neutral\n",
              "12  san jose dwebble 1000% (15/15/15) cp454 (l13) ...  Negative\n",
              "13  rt blueberry0515 201114접속 무비월드올겨울 신작서복컷ts ⬇️📌 ...   Neutral\n",
              "14  rt kimseokjingifs 💾 https//tco/dghnkmpfww#bts ...   Neutral"
            ]
          },
          "metadata": {
            "tags": []
          },
          "execution_count": 53
        }
      ]
    },
    {
      "cell_type": "code",
      "metadata": {
        "colab": {
          "base_uri": "https://localhost:8080/"
        },
        "id": "u1CvBFpnLGeG",
        "outputId": "1d149d06-1e79-4459-87df-a3e92605c401"
      },
      "source": [
        "model.summary()"
      ],
      "execution_count": 54,
      "outputs": [
        {
          "output_type": "stream",
          "text": [
            "Model: \"sequential_49\"\n",
            "_________________________________________________________________\n",
            "Layer (type)                 Output Shape              Param #   \n",
            "=================================================================\n",
            "embedding_49 (Embedding)     (None, None, 128)         1600000   \n",
            "_________________________________________________________________\n",
            "bidirectional_49 (Bidirectio (None, 256)               263168    \n",
            "_________________________________________________________________\n",
            "dense_147 (Dense)            (None, 64)                16448     \n",
            "_________________________________________________________________\n",
            "dense_148 (Dense)            (None, 32)                2080      \n",
            "_________________________________________________________________\n",
            "dense_149 (Dense)            (None, 3)                 99        \n",
            "=================================================================\n",
            "Total params: 1,881,795\n",
            "Trainable params: 1,881,795\n",
            "Non-trainable params: 0\n",
            "_________________________________________________________________\n"
          ],
          "name": "stdout"
        }
      ]
    },
    {
      "cell_type": "markdown",
      "metadata": {
        "id": "E-wvvvtnxYd7"
      },
      "source": [
        "EDA Questions...\r\n",
        "1. according to the model how do the sentiment percentage breakdowns for ipad and iphone compare?\r\n",
        "2. what are the top 5 most common words for tweets of negative, positive, and neutral sentiment?\r\n",
        "3. how long is the average tweet of each sentiment?\r\n",
        "4. what are the most used hashtags throughout the dataset?"
      ]
    },
    {
      "cell_type": "code",
      "metadata": {
        "colab": {
          "base_uri": "https://localhost:8080/",
          "height": 318
        },
        "id": "e3k-OKswy8dN",
        "outputId": "a61a2326-4b04-4978-98cb-a7fc5ae70fbf"
      },
      "source": [
        "import seaborn as sns\r\n",
        "\r\n",
        "X = GetTweets('ipad')\r\n",
        "y = ['Positive', 'Neutral', 'Negative']\r\n",
        "pos = len(X.loc[X['sentiment'] == 'Positive'])\r\n",
        "neu = len(X.loc[X['sentiment'] == 'Neutral'])\r\n",
        "neg = len(X.loc[X['sentiment'] == 'Negative'])\r\n",
        "\r\n",
        "sns.barplot(y, [pos, neu, neg]);\r\n",
        "plt.show()"
      ],
      "execution_count": 55,
      "outputs": [
        {
          "output_type": "stream",
          "text": [
            "/usr/local/lib/python3.6/dist-packages/seaborn/_decorators.py:43: FutureWarning: Pass the following variables as keyword args: x, y. From version 0.12, the only valid positional argument will be `data`, and passing other arguments without an explicit keyword will result in an error or misinterpretation.\n",
            "  FutureWarning\n"
          ],
          "name": "stderr"
        },
        {
          "output_type": "display_data",
          "data": {
            "image/png": "[encoded data removed]",
            "text/plain": [
              "<Figure size 432x288 with 1 Axes>"
            ]
          },
          "metadata": {
            "tags": [],
            "needs_background": "light"
          }
        }
      ]
    },
    {
      "cell_type": "code",
      "metadata": {
        "colab": {
          "base_uri": "https://localhost:8080/",
          "height": 318
        },
        "id": "qDpzbqUr3csf",
        "outputId": "6ceef4f6-f510-49a8-f2dd-0c3b221dcb11"
      },
      "source": [
        "X = GetTweets('iphone')\r\n",
        "y = ['Positive', 'Neutral', 'Negative']\r\n",
        "pos = len(X.loc[X['sentiment'] == 'Positive'])\r\n",
        "neu = len(X.loc[X['sentiment'] == 'Neutral'])\r\n",
        "neg = len(X.loc[X['sentiment'] == 'Negative'])\r\n",
        "\r\n",
        "sns.barplot(y, [pos, neu, neg]);\r\n",
        "plt.show()"
      ],
      "execution_count": 56,
      "outputs": [
        {
          "output_type": "stream",
          "text": [
            "/usr/local/lib/python3.6/dist-packages/seaborn/_decorators.py:43: FutureWarning: Pass the following variables as keyword args: x, y. From version 0.12, the only valid positional argument will be `data`, and passing other arguments without an explicit keyword will result in an error or misinterpretation.\n",
            "  FutureWarning\n"
          ],
          "name": "stderr"
        },
        {
          "output_type": "display_data",
          "data": {
            "image/png": "[encoded data removed]",
            "text/plain": [
              "<Figure size 432x288 with 1 Axes>"
            ]
          },
          "metadata": {
            "tags": [],
            "needs_background": "light"
          }
        }
      ]
    },
    {
      "cell_type": "markdown",
      "metadata": {
        "id": "V89j8mFX30FW"
      },
      "source": [
        "Question 1: The iphone tweets were all labled as neutral or positive whereas some ipad tweets were labled as negative."
      ]
    },
    {
      "cell_type": "code",
      "metadata": {
        "id": "w_D1Pdeq3va3"
      },
      "source": [
        "def Top5(df, X, yvar, y, stopwords_list=stopwords_list):\r\n",
        "  stopwords_list = stopwords_list + ['mention', 'link', 'it', '-', ':)', '', 'it']\r\n",
        "  data = df.loc[df[yvar] == y]\r\n",
        "  ix = list(data.index)\r\n",
        "  corpus = []\r\n",
        "  for num in ix:\r\n",
        "    tweet = list(data[X][num].split(' '))\r\n",
        "    corpus += tweet\r\n",
        "  final = []\r\n",
        "  for word in corpus:\r\n",
        "    if not word in stopwords_list:\r\n",
        "      Word = word.lower().replace('@', '').replace('{', '').replace('}', '').replace('.', '').replace('!', '').replace(\"'\", \"\")\r\n",
        "      if Word not in stopwords_list:\r\n",
        "        final.append(Word)\r\n",
        "  res = pd.Series(final)\r\n",
        "  counts = pd.DataFrame(res.value_counts()[:5])\r\n",
        "  counts.columns = ['num']\r\n",
        "  count = []\r\n",
        "  words = list(counts.index)\r\n",
        "  for i in range(5):\r\n",
        "    count.append(counts['num'][i])\r\n",
        "  return sns.barplot(words, count, palette='plasma');"
      ],
      "execution_count": 57,
      "outputs": []
    },
    {
      "cell_type": "code",
      "metadata": {
        "colab": {
          "base_uri": "https://localhost:8080/",
          "height": 335
        },
        "id": "mIhtq06h4rhu",
        "outputId": "8c70cfb1-49bb-4b27-c4c5-5bc143f6980f"
      },
      "source": [
        "Top5(df, 'tweet_text', 'is_there_an_emotion_directed_at_a_brand_or_product', 'Positive emotion')"
      ],
      "execution_count": 58,
      "outputs": [
        {
          "output_type": "stream",
          "text": [
            "/usr/local/lib/python3.6/dist-packages/seaborn/_decorators.py:43: FutureWarning: Pass the following variables as keyword args: x, y. From version 0.12, the only valid positional argument will be `data`, and passing other arguments without an explicit keyword will result in an error or misinterpretation.\n",
            "  FutureWarning\n"
          ],
          "name": "stderr"
        },
        {
          "output_type": "execute_result",
          "data": {
            "text/plain": [
              "<matplotlib.axes._subplots.AxesSubplot at 0x7f58d0fe2d30>"
            ]
          },
          "metadata": {
            "tags": []
          },
          "execution_count": 58
        },
        {
          "output_type": "display_data",
          "data": {
            "image/png": "[encoded data removed]",
            "text/plain": [
              "<Figure size 432x288 with 1 Axes>"
            ]
          },
          "metadata": {
            "tags": [],
            "needs_background": "light"
          }
        }
      ]
    },
    {
      "cell_type": "code",
      "metadata": {
        "colab": {
          "base_uri": "https://localhost:8080/",
          "height": 335
        },
        "id": "w18viyvN9_Uu",
        "outputId": "ea5f5f18-a89e-4eb6-da71-85ef0fcbab71"
      },
      "source": [
        "Top5(df, 'tweet_text', 'is_there_an_emotion_directed_at_a_brand_or_product', 'Negative emotion')"
      ],
      "execution_count": 59,
      "outputs": [
        {
          "output_type": "stream",
          "text": [
            "/usr/local/lib/python3.6/dist-packages/seaborn/_decorators.py:43: FutureWarning: Pass the following variables as keyword args: x, y. From version 0.12, the only valid positional argument will be `data`, and passing other arguments without an explicit keyword will result in an error or misinterpretation.\n",
            "  FutureWarning\n"
          ],
          "name": "stderr"
        },
        {
          "output_type": "execute_result",
          "data": {
            "text/plain": [
              "<matplotlib.axes._subplots.AxesSubplot at 0x7f58d253b6d8>"
            ]
          },
          "metadata": {
            "tags": []
          },
          "execution_count": 59
        },
        {
          "output_type": "display_data",
          "data": {
            "image/png": "[encoded data removed]",
            "text/plain": [
              "<Figure size 432x288 with 1 Axes>"
            ]
          },
          "metadata": {
            "tags": [],
            "needs_background": "light"
          }
        }
      ]
    },
    {
      "cell_type": "code",
      "metadata": {
        "colab": {
          "base_uri": "https://localhost:8080/",
          "height": 335
        },
        "id": "WGXJ0Ud59_kk",
        "outputId": "de471e6c-f6ba-4fc6-f4bc-6446f642ba6f"
      },
      "source": [
        "Top5(df, 'tweet_text', 'is_there_an_emotion_directed_at_a_brand_or_product', 'No emotion toward brand or product')"
      ],
      "execution_count": 60,
      "outputs": [
        {
          "output_type": "stream",
          "text": [
            "/usr/local/lib/python3.6/dist-packages/seaborn/_decorators.py:43: FutureWarning: Pass the following variables as keyword args: x, y. From version 0.12, the only valid positional argument will be `data`, and passing other arguments without an explicit keyword will result in an error or misinterpretation.\n",
            "  FutureWarning\n"
          ],
          "name": "stderr"
        },
        {
          "output_type": "execute_result",
          "data": {
            "text/plain": [
              "<matplotlib.axes._subplots.AxesSubplot at 0x7f58ccf18e10>"
            ]
          },
          "metadata": {
            "tags": []
          },
          "execution_count": 60
        },
        {
          "output_type": "display_data",
          "data": {
            "image/png": "[encoded data removed]",
            "text/plain": [
              "<Figure size 432x288 with 1 Axes>"
            ]
          },
          "metadata": {
            "tags": [],
            "needs_background": "light"
          }
        }
      ]
    },
    {
      "cell_type": "markdown",
      "metadata": {
        "id": "B2xj67v-3ttO"
      },
      "source": [
        "Question 2: #sxsw was a very popular term throughout the dataset, among them google, apple, and ipad were very popular words."
      ]
    },
    {
      "cell_type": "code",
      "metadata": {
        "id": "UwP-dLNCHeS6"
      },
      "source": [
        "def GetLengths(df, X, yvar, y):\r\n",
        "  data = df.loc[df[yvar] == y]\r\n",
        "  lens = []\r\n",
        "  ix = list(data.index)\r\n",
        "  for num in ix:\r\n",
        "    tweet = list(data[X][num].split(' '))\r\n",
        "    lens.append(len(tweet))\r\n",
        "  return int(np.mean(lens))"
      ],
      "execution_count": 61,
      "outputs": []
    },
    {
      "cell_type": "code",
      "metadata": {
        "colab": {
          "base_uri": "https://localhost:8080/",
          "height": 318
        },
        "id": "uWN46hyeHnXf",
        "outputId": "491356e2-7068-4546-8840-6afaecf744a6"
      },
      "source": [
        "pos = GetLengths(df, 'tweet_text', 'is_there_an_emotion_directed_at_a_brand_or_product', 'Positive emotion')\r\n",
        "neg = GetLengths(df, 'tweet_text', 'is_there_an_emotion_directed_at_a_brand_or_product', 'Negative emotion')\r\n",
        "neu = GetLengths(df, 'tweet_text', 'is_there_an_emotion_directed_at_a_brand_or_product', 'No emotion toward brand or product')\r\n",
        "x = ['Positive', 'Negative', 'Neutral']\r\n",
        "y = [pos, neg, neu]\r\n",
        "sns.barplot(x, y);"
      ],
      "execution_count": 62,
      "outputs": [
        {
          "output_type": "stream",
          "text": [
            "/usr/local/lib/python3.6/dist-packages/seaborn/_decorators.py:43: FutureWarning: Pass the following variables as keyword args: x, y. From version 0.12, the only valid positional argument will be `data`, and passing other arguments without an explicit keyword will result in an error or misinterpretation.\n",
            "  FutureWarning\n"
          ],
          "name": "stderr"
        },
        {
          "output_type": "display_data",
          "data": {
            "image/png": "[encoded data removed]",
            "text/plain": [
              "<Figure size 432x288 with 1 Axes>"
            ]
          },
          "metadata": {
            "tags": [],
            "needs_background": "light"
          }
        }
      ]
    },
    {
      "cell_type": "markdown",
      "metadata": {
        "id": "RPwXMCCuN4km"
      },
      "source": [
        "Question3: The Tweets remain about 18-20 characters long regardless of sentiment."
      ]
    },
    {
      "cell_type": "code",
      "metadata": {
        "id": "w0O7RQgwOb1k"
      },
      "source": [
        "def Hashtags(df, X):\r\n",
        "  tweets = []\r\n",
        "  ix = list(df.index)\r\n",
        "  for num in ix: \r\n",
        "    text = df[X][num].split(' ')\r\n",
        "    tweets += text\r\n",
        "  hashtags = []\r\n",
        "  words = []\r\n",
        "  for word in tweets:\r\n",
        "    words.append(word.lower().replace('?', '').replace('.', '').replace(',', '').replace(':', '').replace('!', ''))\r\n",
        "  for word in words:\r\n",
        "    if word.startswith('#'):\r\n",
        "      hashtags.append(word)\r\n",
        "  ht = pd.Series(hashtags)\r\n",
        "  counts = pd.DataFrame(ht.value_counts())\r\n",
        "  counts.columns = ['num']\r\n",
        "  return counts"
      ],
      "execution_count": 63,
      "outputs": []
    },
    {
      "cell_type": "code",
      "metadata": {
        "colab": {
          "base_uri": "https://localhost:8080/",
          "height": 357
        },
        "id": "fJENvFqOO5y9",
        "outputId": "b5524f18-99f8-46f7-c333-7f9bf1e8b666"
      },
      "source": [
        "import matplotlib.pyplot as plt\r\n",
        "\r\n",
        "X = Hashtags(df, 'tweet_text')[:10]\r\n",
        "x = list(X.index)\r\n",
        "y = list(X['num'])\r\n",
        "sns.barplot(x, y, palette='rocket');\r\n",
        "plt.xticks(rotation=75)\r\n",
        "plt.show()"
      ],
      "execution_count": 64,
      "outputs": [
        {
          "output_type": "stream",
          "text": [
            "/usr/local/lib/python3.6/dist-packages/seaborn/_decorators.py:43: FutureWarning: Pass the following variables as keyword args: x, y. From version 0.12, the only valid positional argument will be `data`, and passing other arguments without an explicit keyword will result in an error or misinterpretation.\n",
            "  FutureWarning\n"
          ],
          "name": "stderr"
        },
        {
          "output_type": "display_data",
          "data": {
            "image/png": "[encoded data removed]",
            "text/plain": [
              "<Figure size 432x288 with 1 Axes>"
            ]
          },
          "metadata": {
            "tags": [],
            "needs_background": "light"
          }
        }
      ]
    },
    {
      "cell_type": "markdown",
      "metadata": {
        "id": "EhlwT-ivNsHm"
      },
      "source": [
        "'#sxsw' and it's variants; '#sxsw!', '#sxsw?', '#sxsw.', and '#sxsw:', was by far the most popular hashtag and it was used over 8,000 times throughout the dataset. most of the other hashtags refered to tech companies and tech products. '#austin' was also popular as the sxsw film festival is hosted in Austin, TX."
      ]
    },
    {
      "cell_type": "code",
      "metadata": {
        "colab": {
          "base_uri": "https://localhost:8080/",
          "height": 462
        },
        "id": "XA1S7fDHPDKG",
        "outputId": "7b36aeef-c2c7-4241-a8b2-601cb5fe27d4"
      },
      "source": [
        "GetTweets('Covid')"
      ],
      "execution_count": 65,
      "outputs": [
        {
          "output_type": "execute_result",
          "data": {
            "text/html": [
              "<div>\n",
              "<style scoped>\n",
              "    .dataframe tbody tr th:only-of-type {\n",
              "        vertical-align: middle;\n",
              "    }\n",
              "\n",
              "    .dataframe tbody tr th {\n",
              "        vertical-align: top;\n",
              "    }\n",
              "\n",
              "    .dataframe thead th {\n",
              "        text-align: right;\n",
              "    }\n",
              "</style>\n",
              "<table border=\"1\" class=\"dataframe\">\n",
              "  <thead>\n",
              "    <tr style=\"text-align: right;\">\n",
              "      <th></th>\n",
              "      <th>text</th>\n",
              "      <th>sentiment</th>\n",
              "    </tr>\n",
              "  </thead>\n",
              "  <tbody>\n",
              "    <tr>\n",
              "      <th>0</th>\n",
              "      <td>rt cctssab stephenking what about this for a s...</td>\n",
              "      <td>Neutral</td>\n",
              "    </tr>\n",
              "    <tr>\n",
              "      <th>1</th>\n",
              "      <td>rt brazilfight urgente-stf tem maioria contra ...</td>\n",
              "      <td>Neutral</td>\n",
              "    </tr>\n",
              "    <tr>\n",
              "      <th>2</th>\n",
              "      <td>rt danielriolo le nombre de gens à la télé qui...</td>\n",
              "      <td>Negative</td>\n",
              "    </tr>\n",
              "    <tr>\n",
              "      <th>3</th>\n",
              "      <td>rt honeybadger10 you get to snitch on covid pa...</td>\n",
              "      <td>Positive</td>\n",
              "    </tr>\n",
              "    <tr>\n",
              "      <th>4</th>\n",
              "      <td>if you missed kontrolenergy biocloud launch ch...</td>\n",
              "      <td>Neutral</td>\n",
              "    </tr>\n",
              "    <tr>\n",
              "      <th>5</th>\n",
              "      <td>rt drdavidsamadi i’m a doctor not a politician...</td>\n",
              "      <td>Positive</td>\n",
              "    </tr>\n",
              "    <tr>\n",
              "      <th>6</th>\n",
              "      <td>colorado counties can apply to set up a new \"5...</td>\n",
              "      <td>Neutral</td>\n",
              "    </tr>\n",
              "    <tr>\n",
              "      <th>7</th>\n",
              "      <td>seruisatw pues covid-20</td>\n",
              "      <td>Positive</td>\n",
              "    </tr>\n",
              "    <tr>\n",
              "      <th>8</th>\n",
              "      <td>rt robdenbleyker you've heard of elf on a shel...</td>\n",
              "      <td>Negative</td>\n",
              "    </tr>\n",
              "    <tr>\n",
              "      <th>9</th>\n",
              "      <td>rt bobscartoons to be clear the 'risk' of you ...</td>\n",
              "      <td>Neutral</td>\n",
              "    </tr>\n",
              "    <tr>\n",
              "      <th>10</th>\n",
              "      <td>eu nunca vou conseguir entender qm n qr tomar ...</td>\n",
              "      <td>Positive</td>\n",
              "    </tr>\n",
              "    <tr>\n",
              "      <th>11</th>\n",
              "      <td>e a clairelhoooooon que passou covid p todo mu...</td>\n",
              "      <td>Neutral</td>\n",
              "    </tr>\n",
              "    <tr>\n",
              "      <th>12</th>\n",
              "      <td>rt presidencialve 😷💦🧼 ¡el covid-19 no se ha id...</td>\n",
              "      <td>Positive</td>\n",
              "    </tr>\n",
              "    <tr>\n",
              "      <th>13</th>\n",
              "      <td>total covid-19 tests performed in malaysia 300...</td>\n",
              "      <td>Neutral</td>\n",
              "    </tr>\n",
              "  </tbody>\n",
              "</table>\n",
              "</div>"
            ],
            "text/plain": [
              "                                                 text sentiment\n",
              "0   rt cctssab stephenking what about this for a s...   Neutral\n",
              "1   rt brazilfight urgente-stf tem maioria contra ...   Neutral\n",
              "2   rt danielriolo le nombre de gens à la télé qui...  Negative\n",
              "3   rt honeybadger10 you get to snitch on covid pa...  Positive\n",
              "4   if you missed kontrolenergy biocloud launch ch...   Neutral\n",
              "5   rt drdavidsamadi i’m a doctor not a politician...  Positive\n",
              "6   colorado counties can apply to set up a new \"5...   Neutral\n",
              "7                             seruisatw pues covid-20  Positive\n",
              "8   rt robdenbleyker you've heard of elf on a shel...  Negative\n",
              "9   rt bobscartoons to be clear the 'risk' of you ...   Neutral\n",
              "10  eu nunca vou conseguir entender qm n qr tomar ...  Positive\n",
              "11  e a clairelhoooooon que passou covid p todo mu...   Neutral\n",
              "12  rt presidencialve 😷💦🧼 ¡el covid-19 no se ha id...  Positive\n",
              "13  total covid-19 tests performed in malaysia 300...   Neutral"
            ]
          },
          "metadata": {
            "tags": []
          },
          "execution_count": 65
        }
      ]
    },
    {
      "cell_type": "markdown",
      "metadata": {
        "id": "67jJLpaypc0Y"
      },
      "source": [
        "# Key Takeaways"
      ]
    },
    {
      "cell_type": "markdown",
      "metadata": {
        "id": "QMNKqKeVKVe3"
      },
      "source": [
        "* A Bidirectional LSTM was the highest preforming model"
      ]
    },
    {
      "cell_type": "markdown",
      "metadata": {
        "id": "3163PfO2pd0K"
      },
      "source": [
        "## Recommendations"
      ]
    },
    {
      "cell_type": "markdown",
      "metadata": {
        "id": "Oh4_OnPKpfml"
      },
      "source": [
        "\n",
        "\n",
        "1.   Recommendation 1\n",
        "2.   Recommendation 2\n",
        "3.   Recommendation 3\n",
        "\n"
      ]
    }
  ]
}