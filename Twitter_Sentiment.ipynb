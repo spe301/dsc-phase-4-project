{
  "nbformat": 4,
  "nbformat_minor": 0,
  "metadata": {
    "accelerator": "GPU",
    "colab": {
      "name": "Twitter_Sentiment.ipynb",
      "provenance": [],
      "collapsed_sections": [],
      "toc_visible": true,
      "include_colab_link": true
    },
    "kernelspec": {
      "display_name": "Python 3",
      "name": "python3"
    }
  },
  "cells": [
    {
      "cell_type": "markdown",
      "metadata": {
        "id": "view-in-github",
        "colab_type": "text"
      },
      "source": [
        "<a href=\"https://colab.research.google.com/github/spe301/dsc-phase-4-project/blob/main/Twitter_Sentiment.ipynb\" target=\"_parent\"><img src=\"https://colab.research.google.com/assets/colab-badge.svg\" alt=\"Open In Colab\"/></a>"
      ]
    },
    {
      "cell_type": "markdown",
      "metadata": {
        "id": "K-SayP3GrV4H"
      },
      "source": [
        "# Overview\n"
      ]
    },
    {
      "cell_type": "markdown",
      "metadata": {
        "id": "SLDVlwu3J4Rx"
      },
      "source": [
        "When Apple and other tech companies release products such as the IPhone and IPad, it is important for their product development teams are aware of the public opinion. Understanding the public opinion is valuable because it can help these companies understand what the public thinks of certain features of their products or their entire product as a whole. Smartphones are a great example of when general public understanding is valuable because they are bought by the general public rather than a niche market. Sentiment Analysis is a great way to apply Machine Learning to this situation. In Sentiment Analysis a computer is able to classify text such as a comment, tweet, or customer review as having a positive, negative, or neutral sentiment towards the topic the text has been written about. For this project I used a dataset of 9,000 tweets mostly about iphones, ipads, and google.\r\n",
        "\r\n"
      ]
    },
    {
      "cell_type": "markdown",
      "metadata": {
        "id": "AM7zUYHSogT-"
      },
      "source": [
        "\n",
        "- Spencer Holley\n",
        "- aacjpw@gmail.com\n",
        "- https://github.com/spe301/dsc-phase-4-project\n"
      ]
    },
    {
      "cell_type": "markdown",
      "metadata": {
        "id": "1IYQ0WGOn99f"
      },
      "source": [
        "# Use cases for Twitter Sentiment Analysis"
      ]
    },
    {
      "cell_type": "markdown",
      "metadata": {
        "id": "kvXEi27qoAtA"
      },
      "source": [
        "\n",
        "*  Assesing public opinions on a company's products  \n",
        "*  Assesing public opinions on an event\n",
        "\n"
      ]
    },
    {
      "cell_type": "markdown",
      "metadata": {
        "id": "fW9AyJiiomeG"
      },
      "source": [
        "# OBTAIN"
      ]
    },
    {
      "cell_type": "markdown",
      "metadata": {
        "id": "qVfcUfv7oqQF"
      },
      "source": [
        "Data is available directly from the repo."
      ]
    },
    {
      "cell_type": "code",
      "metadata": {
        "id": "thNMHllJDeii"
      },
      "source": [
        "import pandas as pd\n",
        "df = pd.read_csv('https://raw.githubusercontent.com/spe301/dsc-phase-4-project/main/data/judge-1377884607_tweet_product_company.csv',\n",
        "                 engine='python',encoding='latin-1')"
      ],
      "execution_count": null,
      "outputs": []
    },
    {
      "cell_type": "code",
      "metadata": {
        "id": "lO-Wvb-IEhFT"
      },
      "source": [
        "#dropping row 6 as there's no tweet in that row and dropping all rows where sentiment is \"I can't tell\"\n",
        "df = df.drop(6)\n",
        "df = df.loc[df['is_there_an_emotion_directed_at_a_brand_or_product'] != \"I can't tell\"]"
      ],
      "execution_count": null,
      "outputs": []
    },
    {
      "cell_type": "markdown",
      "metadata": {
        "id": "Fhdiwz9SovJI"
      },
      "source": [
        "# Scrubbing/Preprocessing"
      ]
    },
    {
      "cell_type": "code",
      "metadata": {
        "id": "xe0Nsr0WTAeS"
      },
      "source": [
        "#stripping punctuation\r\n",
        "ix = list(df.index)\r\n",
        "clean = []\r\n",
        "for i in range(len(ix)):\r\n",
        "  clean.append(df['tweet_text'][ix[i]].replace('.@', '').replace('.', '').replace('!', '').replace('@', '').replace('?', '').replace(':', '')\r\n",
        "  .replace(',', '').replace(';', '').lower())\r\n",
        "\r\n",
        "df['tweet'] = clean"
      ],
      "execution_count": null,
      "outputs": []
    },
    {
      "cell_type": "markdown",
      "metadata": {
        "id": "9INvEo05o0JF"
      },
      "source": [
        "## classes `DataHelper` and `DeepLearning`"
      ]
    },
    {
      "cell_type": "code",
      "metadata": {
        "id": "0jfMSv1qEjI3",
        "colab": {
          "base_uri": "https://localhost:8080/"
        },
        "outputId": "8dc4457f-924b-4bd8-dd89-2bea213d4279"
      },
      "source": [
        "from keras.preprocessing.text import Tokenizer\n",
        "from keras.preprocessing.sequence import pad_sequences\n",
        "from keras import models, layers\n",
        "from sklearn.preprocessing import OneHotEncoder\n",
        "import numpy as np\n",
        "from matplotlib import pyplot as plt\n",
        "from math import log\n",
        "from keras.regularizers import  L2, l1\n",
        "from keras.callbacks import EarlyStopping, ModelCheckpoint\n",
        "from keras.wrappers.scikit_learn import KerasClassifier, KerasRegressor\n",
        "from sklearn.model_selection import train_test_split\n",
        "from sklearn.model_selection import GridSearchCV\n",
        "import pandas as pd\n",
        "import numpy as np\n",
        "from sklearn.svm import SVC, SVR\n",
        "from sklearn.linear_model import LogisticRegression, LinearRegression\n",
        "from sklearn.neighbors import  KNeighborsClassifier, KNeighborsRegressor\n",
        "from sklearn.naive_bayes import GaussianNB, MultinomialNB\n",
        "from sklearn.tree import DecisionTreeClassifier, DecisionTreeRegressor, plot_tree\n",
        "from sklearn.ensemble import RandomForestClassifier, RandomForestRegressor, AdaBoostClassifier, AdaBoostRegressor, GradientBoostingClassifier, GradientBoostingRegressor\n",
        "from sklearn.model_selection import GridSearchCV, train_test_split\n",
        "from sklearn.metrics import confusion_matrix, roc_curve, auc, plot_confusion_matrix\n",
        "from sklearn.preprocessing import StandardScaler, MinMaxScaler\n",
        "from imblearn.over_sampling import SMOTE\n",
        "from sklearn.pipeline import Pipeline\n",
        "from sklearn.datasets import load_iris\n",
        "from xgboost import XGBClassifier, XGBRegressor\n",
        "from matplotlib import pyplot as plt\n",
        "from sklearn.feature_selection import SelectKBest\n",
        "from statsmodels.stats.outliers_influence import variance_inflation_factor\n",
        "from sklearn.metrics import  confusion_matrix\n",
        "import seaborn as sns\n",
        "\n",
        "class MachineLearning:\n",
        "    \n",
        "    def CompareClassifiers(self, X, y):\n",
        "        '''Compares the accuracy all sklearn classification algorithims'''\n",
        "        X_train, X_test, y_train, y_test = train_test_split(X, y, test_size=0.25)\n",
        "        n = len(np.unique(y))\n",
        "        if n == 2:\n",
        "            methods = [KNeighborsClassifier(), GaussianNB(), DecisionTreeClassifier(), RandomForestClassifier(),\n",
        "                      AdaBoostClassifier(), GradientBoostingClassifier(), XGBClassifier(), LogisticRegression(),\n",
        "                      SVC()]\n",
        "            strs = ['KNN', 'NB', 'DT', 'RF', 'AB', 'GB', 'XGB', 'Log', 'SVM']\n",
        "        else:\n",
        "            methods = [KNeighborsClassifier(), DecisionTreeClassifier(), RandomForestClassifier(),\n",
        "                       AdaBoostClassifier(), GradientBoostingClassifier(), XGBClassifier(), SVC()]\n",
        "            strs = ['KNN', 'DT', 'RF', 'AB', 'GB', 'XGB', 'SVM']\n",
        "        train_acc = []\n",
        "        test_acc = []\n",
        "        for i in range(len(methods)):\n",
        "            clf = methods[i].fit(X_train, y_train)\n",
        "            train_acc.append(clf.score(X_train, y_train))\n",
        "            test_acc.append(clf.score(X_test, y_test))\n",
        "        c1 = pd.DataFrame(strs)\n",
        "        c2 = pd.DataFrame(train_acc)\n",
        "        c3 = pd.DataFrame(test_acc)\n",
        "        results = pd.concat([c1, c2, c3], axis='columns')\n",
        "        results.columns = ['Model', 'train_acc', 'test_acc']\n",
        "        return results\n",
        "    \n",
        "    def CompareRegressors(self, X, y):\n",
        "        '''Compares the accuracy all sklearn regression algorithims'''\n",
        "        X_train, X_test, y_train, y_test = train_test_split(X, y, test_size=0.25)\n",
        "        n = len(np.unique(y))\n",
        "        methods = [LinearRegression(), KNeighborsRegressor(), DecisionTreeRegressor(), RandomForestRegressor(),\n",
        "                       AdaBoostRegressor(), GradientBoostingRegressor(), XGBRegressor(), SVR()]\n",
        "        strs = ['Lin', 'KNN', 'DT', 'RF', 'AB', 'GB', 'XGB', 'SVM']\n",
        "        train_acc = []\n",
        "        test_acc = []\n",
        "        for i in range(len(methods)):\n",
        "            reg = methods[i].fit(X_train, y_train)\n",
        "            train_acc.append(reg.score(X_train, y_train))\n",
        "            test_acc.append(reg.score(X_test, y_test))\n",
        "        c1 = pd.DataFrame(strs)\n",
        "        c2 = pd.DataFrame(train_acc)\n",
        "        c3 = pd.DataFrame(test_acc)\n",
        "        results = pd.concat([c1, c2, c3], axis='columns')\n",
        "        results.columns = ['Model', 'train_acc', 'test_acc']\n",
        "        return results\n",
        "    \n",
        "    def Optimize(self, model, parameters, X, y, metric='accuracy'):\n",
        "        '''wraps the GridSearchCV into a simple one liner, one line plus the parameter grid'''\n",
        "        try:\n",
        "            X_train, X_test, y_train, y_test = train_test_split(X, y, test_size=0.25)\n",
        "            return GridSearchCV(model, parameters, cv=5, scoring=metric, n_jobs=-1, verbose=2).fit(X_train, y_train).best_estimator_\n",
        "        except:\n",
        "            return GridSearchCV(model, parameters, cv=5, n_jobs=-1, verbose=2).fit(X_train, y_train).best_estimator_\n",
        "        \n",
        "    def PipeIt(self, scaler, model, X, y):\n",
        "        '''simplified version of sklearn's pipeline function'''\n",
        "        X_train, X_test, y_train, y_test = train_test_split(X, y, test_size=0.25)\n",
        "        pipe = Pipeline([('scaler', scaler), ('model', model)]).fit(X_train, y_train)\n",
        "        return \"Training: {}, Validation: {}\".format(pipe.score(X_train, y_train), pipe.score(X_test, y_test))\n",
        "   \n",
        "class Evaluater:\n",
        "    \n",
        "    def ScoreModel(self, model, X, y):\n",
        "        '''scores a sklearn model'''\n",
        "        X_train, X_test, y_train, y_test = train_test_split(X, y, test_size=0.25)\n",
        "        algo = model.fit(X_train, y_train)\n",
        "        return 'Training: {}, Validation: {}'.format(algo.score(X_train, y_train), algo.score(X_test, y_test))\n",
        "    \n",
        "    def BuildConfusion(self, fitted_model,  Xval, yval, cmap='plasma', normalize=\"true\"):\n",
        "        '''spits out a confusion matrix'''\n",
        "        cm = plot_confusion_matrix(fitted_model, Xval, yval, cmap=cmap, normalize=normalize)\n",
        "        return cm\n",
        "\n",
        "    def BuildTree(self, tree):\n",
        "        '''visulization for decision trees'''\n",
        "        try:\n",
        "            return plot_tree(tree)\n",
        "        except:\n",
        "            return 'Please pass a tree class'\n",
        "    \n",
        "    def GetCoefficients(self, model, X, y):\n",
        "      '''returns a model's coefficients'''\n",
        "      try:\n",
        "        X_train, X_test, y_train, y_test = train_test_split(X, y, test_size=0.25)\n",
        "        model.fit(X_train, y_train)\n",
        "        return 'coefficients: {}'.format(model.coef_)\n",
        "      except:\n",
        "        return 'Please pass LinearRegression, LogisticRegression, or an SVM with a linear kernel'\n",
        "        \n",
        "    def GetImportance(self, model, X, y):\n",
        "      '''returns a feature importance graph given a model and dataset'''\n",
        "      X_train, X_test, y_train, y_test = train_test_split(X, y, test_size=0.25)\n",
        "      model.fit(X_train, y_train)\n",
        "      try:\n",
        "        FI = model.feature_importances_\n",
        "        n_features = X_train.shape[1]\n",
        "        plt.figure(figsize=(8,8))\n",
        "        plt.barh(range(n_features), FI, align='center') \n",
        "        plt.yticks(np.arange(n_features), X_train.columns.values) \n",
        "        plt.xlabel('Feature importance')\n",
        "        plt.ylabel('Feature')\n",
        "      except:\n",
        "          return 'Please pass an ensemble class'\n",
        "        \n",
        "    def AUC(self, model, Xval, yval):\n",
        "      '''displays AUC to evaluate a classification model'''\n",
        "      pred = model.predict(Xval)\n",
        "      fpr, tpr, threshold = roc_curve(yval, pred)\n",
        "      return auc(fpr, tpr)\n",
        "\n",
        "    def BuildConfusionDL(model, X, y, normalize='true'):\n",
        "      '''displays a confusion matrix to evaluate a deep learning classifier'''\n",
        "      yhat = []\n",
        "      yreal = y.argmax(axis=1)\n",
        "      pred = model.predict(X)\n",
        "      prediction = pred.argmax(axis=1)\n",
        "      cm = confusion_matrix(yreal, prediction, normalize=normalize)\n",
        "      plot = sns.heatmap(cm, annot=True);\n",
        "      plot.set_ylabel('True')\n",
        "      plot.set_xlabel('Predict')\n",
        "      return plot\n",
        "\n",
        "class DataHelper:\n",
        "\n",
        "    def ScaleData(self, strategy, y_var, data):\n",
        "        '''scales tabular data'''\n",
        "        X = data.drop([y_var], axis='columns')\n",
        "        if strategy == 'minmax':\n",
        "            return MinMaxScaler().fit(X).transform(X)\n",
        "        if strategy == 'standard':\n",
        "            return StandardScaler().fit(X).transform(X)\n",
        "        if strategy == 'mean':\n",
        "            for col in X.columns:\n",
        "                X[col] = (X[col] - min(X[col]))/ (max(X[col]) - min(X[col]))\n",
        "            return X\n",
        "        \n",
        "    def HoldOut(self, data):\n",
        "        '''seperates out 10% of a dataset as unseen testing data'''\n",
        "        train, test = train_test_split(data, test_size=0.1)\n",
        "        return train, test\n",
        "    \n",
        "    def MakeNewDF(self, X, y, k):\n",
        "      '''removes all features that aren't of k best'''\n",
        "      selector = SelectKBest(k=k).fit(X, y)\n",
        "      mask = selector.get_support()\n",
        "      selected = []\n",
        "      for i in range(len(mask)):\n",
        "        if mask[i] == True:\n",
        "          selected.append(X.columns[i])\n",
        "      df = pd.DataFrame(selector.transform(X))\n",
        "      df.columns = selected\n",
        "      return df\n",
        "    \n",
        "    def VifIt(self, X):\n",
        "      '''calculates the VIF score of each feature in a dataset'''\n",
        "      vif = pd.Series([variance_inflation_factor(X.values, i) \n",
        "        for i in range(X.shape[1])], index=X.columns)\n",
        "      return vif\n",
        "\n",
        "    def MulticlassOutput(self, df, col):\n",
        "      '''output preprocessing'''\n",
        "      enc = OneHotEncoder()\n",
        "      y = np.array(df[col]).reshape(-1, 1)\n",
        "      oh = enc.fit_transform(y).toarray()\n",
        "      return oh\n",
        "\n",
        "\n",
        "    def ModelReadyText1(self, df, Xcol, ycol, pad):\n",
        "      '''converts tweets into tokenized sequences'''\n",
        "      text = list(df[Xcol])\n",
        "      t = Tokenizer()\n",
        "      t.fit_on_texts(text)\n",
        "      tokens = t.texts_to_sequences(text)\n",
        "      tokens2 = pad_sequences(tokens, maxlen=pad)\n",
        "      dh = DataHelper()\n",
        "      y = dh.MulticlassOutput(df, ycol)\n",
        "      return tokens2, y\n",
        "\n",
        "    def ModelReadyText2(self, df, Xcol, ycol, num_words):\n",
        "      '''converts tweets into one-hot-encoded vectors'''\n",
        "      dh = DataHelper()\n",
        "      text = list(df[Xcol])\n",
        "      t = Tokenizer(num_words=num_words)\n",
        "      t.fit_on_texts(text)\n",
        "      oh = t.texts_to_matrix(text)\n",
        "      y = dh.MulticlassOutput(df, ycol)\n",
        "      return oh, y\n",
        "\n",
        "    def ViewAccuracy(self, history, epochs):\n",
        "      '''plots a model's accuracy throughout training'''\n",
        "      plt.plot(range(epochs), history.history['accuracy'], label='train');\n",
        "      plt.plot(range(epochs), history.history['val_accuracy'], label='val');\n",
        "      plt.legend(loc='best')\n",
        "      plt.xlabel('epochs')\n",
        "      plt.ylabel('accuracy')\n",
        "      return None\n",
        "\n",
        "\n",
        "    def ViewLoss(self, history, epochs):\n",
        "      '''plots a model's loss throughout training'''\n",
        "      plt.plot(range(epochs), history.history['loss'], label='train');\n",
        "      plt.plot(range(epochs), history.history['val_loss'], label='val');\n",
        "      plt.legend(loc='best')\n",
        "      plt.xlabel('epochs')\n",
        "      plt.ylabel('loss')\n",
        "      return None\n",
        "\n",
        "class DeepLearning:\n",
        "\n",
        "  def Powers(self, n):\n",
        "    '''help the model building functions determine nlayers'''\n",
        "    k = int(log(n, 2))\n",
        "    return k\n",
        "\n",
        "  def Sparsity(self, x):\n",
        "    '''help the model building function know when to use 'sparse_categorical_crossentropy' as loss function'''\n",
        "    df = pd.DataFrame(x[0])\n",
        "    df.columns = ['val']\n",
        "    df2 = df.loc[df['val'] == 0]\n",
        "    return len(df)*0.9 <= len(df2)\n",
        "\n",
        "  def FeedForward(self, nodes, activation, optimizer, dropout, regularizer, inp, nclasses):\n",
        "    '''builds a simple neural net with only Dense Layers'''\n",
        "    dl = DeepLearning()\n",
        "    if nclasses > 16:\n",
        "      pen = nclasses*2\n",
        "    else:\n",
        "      pen = 16\n",
        "    if nclasses == 2:\n",
        "      oa = 'sigmoid'\n",
        "      loss = 'binary_crossentropy'\n",
        "    else:\n",
        "      oa = 'softmax'\n",
        "      if dl.Sparsity(X) == False:\n",
        "        loss = 'categorical_crossentropy'\n",
        "      else:\n",
        "        loss = 'sparse_categorical_crossentropy'\n",
        "    model = models.Sequential()\n",
        "    if regularizer == None:\n",
        "      model.add(layers.Dense(nodes, activation=activation, input_shape=(inp,)))\n",
        "    if regularizer == 'L1':\n",
        "      model.add(layers.Dense(nodes, activation=activation, input_shape=(inp,), kernel_regularizer=l1(0.005)))\n",
        "    if regularizer == 'L2':\n",
        "      model.add(layers.Dense(nodes, activation=activation, input_shape=(inp,), kernel_regularizer=L2(0.005)))\n",
        "    if dropout == True:\n",
        "      model.add(layers.Dropout(0.5))\n",
        "    p = dl.Powers(nodes)\n",
        "    for i in range(p):\n",
        "      nodes /= 2\n",
        "      nodes = int(nodes)\n",
        "      if nodes > 16:\n",
        "        if nodes > nclasses:\n",
        "          model.add(layers.Dense(nodes, activation=activation))\n",
        "    model.add(layers.Dense(pen, activation=activation))\n",
        "    model.add(layers.Dense(nclasses, activation=oa))\n",
        "    model.compile(optimizer=optimizer, loss=loss, metrics=['accuracy'])\n",
        "    return model\n",
        "\n",
        "  def RNN(self, nodes, activation, optimizer, dropout, regularizer, method, stacking, inp, nclasses):\n",
        "    '''builds a neural network with LSTM or GRU layer(s)'''\n",
        "    dl = DeepLearning()\n",
        "    if nclasses > 16:\n",
        "      pen = nclasses*2\n",
        "    else:\n",
        "      pen = 16\n",
        "    if nclasses == 2:\n",
        "      oa = 'sigmoid'\n",
        "      loss = 'binary_crossentropy'\n",
        "    else:\n",
        "      oa = 'softmax'\n",
        "      if dl.Sparsity(X) == False:\n",
        "        loss = 'categorical_crossentropy'\n",
        "      else:\n",
        "        loss = 'sparse_categorical_crossentropy'  \n",
        "    model = models.Sequential()\n",
        "    model.add(layers.Embedding(inp, nodes))\n",
        "    if method == 'LSTM':\n",
        "      if regularizer == None:\n",
        "        model.add(layers.LSTM(nodes, activation=activation, return_sequences=stacking))\n",
        "      if regularizer == 'L1':\n",
        "        model.add(layers.LSTM(nodes, activation=activation, kernel_regularizer=l1(0.005), return_sequences=stacking))\n",
        "      if regularizer == 'L2':\n",
        "        model.add(layers.LSTM(nodes, activation=activation, kernel_regularizer=L2(0.005), return_sequences=stacking))\n",
        "    if method == 'GRU':\n",
        "      if regularizer == None:\n",
        "        model.add(layers.GRU(nodes, activation=activation, return_sequences=stacking))\n",
        "      if regularizer == 'L1':\n",
        "        model.add(layers.GRU(nodes, activation=activation, kernel_regularizer=l1(0.005), return_sequences=stacking))\n",
        "      if regularizer == 'L2':\n",
        "        model.add(layers.GRU(nodes, activation=activation, kernel_regularizer=L2(0.005), return_sequences=stacking))\n",
        "    if dropout == True:\n",
        "      model.add(layers.Dropout(0.5))\n",
        "    dl = DeepLearning()\n",
        "    if stacking == True:\n",
        "      nodes = nodes//2\n",
        "      if method == 'LSTM':\n",
        "        model.add(layers.LSTM(nodes, activation=activation))\n",
        "      else:\n",
        "        model.add(layers.GRU(nodes, activation=activation))\n",
        "    p = dl.Powers(nodes)\n",
        "    for i in range(p):\n",
        "      nodes /= 2\n",
        "      nodes = int(nodes)\n",
        "      if nodes > 16:\n",
        "        if nodes > nclasses:\n",
        "          model.add(layers.Dense(nodes, activation=activation))\n",
        "    model.add(layers.Dense(pen, activation=activation))\n",
        "    model.add(layers.Dense(nclasses, activation=oa))\n",
        "    model.compile(optimizer=optimizer, loss=loss, metrics=['accuracy'])\n",
        "    return model\n",
        "\n",
        "  def TestDL(self, params, func, task, X, y, X_val=None, y_val=None, batch_size=64, epochs=50):\n",
        "    '''wraps the keras wrapper functions and GridSearchCV into a simple one liner, one line plus the parameter grid'''\n",
        "    early_stopping = [EarlyStopping(patience=10), ModelCheckpoint(filepath='model.{epoch:02d}-{val_loss:.2f}.h5')]\n",
        "    if task == 'classification':\n",
        "      k = KerasClassifier(func)\n",
        "    if task == 'regression':\n",
        "      k = KerasRegressor(func)\n",
        "    grid = GridSearchCV(k, params, cv=3)\n",
        "    if type(X_val) != np.ndarray:\n",
        "      grid.fit(X, y, batch_size=batch_size, epochs=epochs, validation_split=0.2)\n",
        "    else:\n",
        "      grid.fit(X, y, batch_size=batch_size, epochs=epochs, validation_data=(X_val, y_val), callbacks=early_stopping)\n",
        "    return grid"
      ],
      "execution_count": null,
      "outputs": [
        {
          "output_type": "stream",
          "text": [
            "/usr/local/lib/python3.6/dist-packages/sklearn/externals/six.py:31: FutureWarning: The module is deprecated in version 0.21 and will be removed in version 0.23 since we've dropped support for Python 2.7. Please rely on the official version of six (https://pypi.org/project/six/).\n",
            "  \"(https://pypi.org/project/six/).\", FutureWarning)\n",
            "/usr/local/lib/python3.6/dist-packages/sklearn/utils/deprecation.py:144: FutureWarning: The sklearn.neighbors.base module is  deprecated in version 0.22 and will be removed in version 0.24. The corresponding classes / functions should instead be imported from sklearn.neighbors. Anything that cannot be imported from sklearn.neighbors is now part of the private API.\n",
            "  warnings.warn(message, FutureWarning)\n",
            "/usr/local/lib/python3.6/dist-packages/statsmodels/tools/_testing.py:19: FutureWarning: pandas.util.testing is deprecated. Use the functions in the public API at pandas.testing instead.\n",
            "  import pandas.util.testing as tm\n"
          ],
          "name": "stderr"
        }
      ]
    },
    {
      "cell_type": "code",
      "metadata": {
        "id": "8ySZL71-vP-Q"
      },
      "source": [
        "def BuildConfusionDL(model, X, y, normalize='true', cmap='plasma'):\r\n",
        "  '''displays a confusion matrix to evaluate a deep learning classifier'''\r\n",
        "  yhat = []\r\n",
        "  yreal = y.argmax(axis=1)\r\n",
        "  pred = model.predict(X)\r\n",
        "  prediction = pred.argmax(axis=1)\r\n",
        "  cm = confusion_matrix(yreal, prediction, normalize=normalize)\r\n",
        "  plot = sns.heatmap(cm, annot=True, cmap=cmap);\r\n",
        "  plot.set_ylabel('True')\r\n",
        "  plot.set_xlabel('Predict')\r\n",
        "  return plot"
      ],
      "execution_count": null,
      "outputs": []
    },
    {
      "cell_type": "code",
      "metadata": {
        "id": "A-YJyFvW1bbX"
      },
      "source": [
        "dh = DataHelper()\n",
        "dl = DeepLearning()\n",
        "ml = MachineLearning()\n",
        "ev = Evaluater()\n",
        "\n",
        "X, y = dh.ModelReadyText1(df, 'tweet', 'is_there_an_emotion_directed_at_a_brand_or_product', pad=33)\n",
        "X_train, X_test, y_train, y_test = train_test_split(X, y, test_size=0.1)"
      ],
      "execution_count": null,
      "outputs": []
    },
    {
      "cell_type": "markdown",
      "metadata": {
        "id": "B12DNBFio37c"
      },
      "source": [
        "# MODELING"
      ]
    },
    {
      "cell_type": "markdown",
      "metadata": {
        "id": "tH7UUYUno4zF"
      },
      "source": [
        "## Bidirectional LSTM"
      ]
    },
    {
      "cell_type": "code",
      "metadata": {
        "colab": {
          "base_uri": "https://localhost:8080/"
        },
        "id": "q5sxxQwpAJic",
        "outputId": "ab867377-952f-42a0-dec3-31d59460acfe"
      },
      "source": [
        "def Bidirectional(vocab, nodes, output, optimizer, metrics, activation):\r\n",
        "  if output == 1:\r\n",
        "    oa = 'linear'\r\n",
        "    loss = 'mse'\r\n",
        "  if output == 2:\r\n",
        "    oa = 'sigmoid'\r\n",
        "    loss = 'binary_crossentropy'\r\n",
        "  else:\r\n",
        "    oa = 'softmax'\r\n",
        "    loss = 'categorical_crossentropy'\r\n",
        "  model = models.Sequential()\r\n",
        "  model.add(layers.Embedding(vocab, nodes)) \r\n",
        "  model.add(layers.Bidirectional(layers.LSTM(nodes))) \r\n",
        "  model.add(layers.Dense(nodes/2, activation=activation))\r\n",
        "  model.add(layers.Dense(nodes/4, activation=activation))\r\n",
        "  model.add(layers.Dense(output, activation=oa))\r\n",
        "  model.compile(optimizer=optimizer, loss=loss, metrics=metrics)\r\n",
        "  return model\r\n",
        "\r\n",
        "B = Bidirectional(12500, 64, 3, 'adam', ['accuracy'], 'relu')\r\n",
        "early_stopping = [EarlyStopping(patience=10), ModelCheckpoint(filepath='model.{epoch:02d}-{val_loss:.2f}.h5')]\r\n",
        "B.summary()\r\n",
        "history = B.fit(X_train, y_train, batch_size=64, epochs=50, callbacks=early_stopping, validation_split=0.2)"
      ],
      "execution_count": null,
      "outputs": [
        {
          "output_type": "stream",
          "text": [
            "Model: \"sequential\"\n",
            "_________________________________________________________________\n",
            "Layer (type)                 Output Shape              Param #   \n",
            "=================================================================\n",
            "embedding (Embedding)        (None, None, 64)          800000    \n",
            "_________________________________________________________________\n",
            "bidirectional (Bidirectional (None, 128)               66048     \n",
            "_________________________________________________________________\n",
            "dense (Dense)                (None, 32)                4128      \n",
            "_________________________________________________________________\n",
            "dense_1 (Dense)              (None, 16)                528       \n",
            "_________________________________________________________________\n",
            "dense_2 (Dense)              (None, 3)                 51        \n",
            "=================================================================\n",
            "Total params: 870,755\n",
            "Trainable params: 870,755\n",
            "Non-trainable params: 0\n",
            "_________________________________________________________________\n",
            "Epoch 1/50\n",
            "101/101 [==============================] - 9s 27ms/step - loss: 0.9465 - accuracy: 0.5678 - val_loss: 0.8262 - val_accuracy: 0.5929\n",
            "Epoch 2/50\n",
            "101/101 [==============================] - 2s 17ms/step - loss: 0.7327 - accuracy: 0.6368 - val_loss: 0.8014 - val_accuracy: 0.6433\n",
            "Epoch 3/50\n",
            "101/101 [==============================] - 2s 18ms/step - loss: 0.5083 - accuracy: 0.7840 - val_loss: 0.8307 - val_accuracy: 0.6737\n",
            "Epoch 4/50\n",
            "101/101 [==============================] - 2s 18ms/step - loss: 0.3491 - accuracy: 0.8665 - val_loss: 0.9285 - val_accuracy: 0.6265\n",
            "Epoch 5/50\n",
            "101/101 [==============================] - 2s 18ms/step - loss: 0.2758 - accuracy: 0.8930 - val_loss: 0.9773 - val_accuracy: 0.6638\n",
            "Epoch 6/50\n",
            "101/101 [==============================] - 2s 19ms/step - loss: 0.2295 - accuracy: 0.9069 - val_loss: 1.0870 - val_accuracy: 0.6551\n",
            "Epoch 7/50\n",
            "101/101 [==============================] - 2s 18ms/step - loss: 0.1797 - accuracy: 0.9282 - val_loss: 1.1994 - val_accuracy: 0.6501\n",
            "Epoch 8/50\n",
            "101/101 [==============================] - 2s 18ms/step - loss: 0.1706 - accuracy: 0.9258 - val_loss: 1.2226 - val_accuracy: 0.6756\n",
            "Epoch 9/50\n",
            "101/101 [==============================] - 2s 17ms/step - loss: 0.1615 - accuracy: 0.9281 - val_loss: 1.4115 - val_accuracy: 0.6700\n",
            "Epoch 10/50\n",
            "101/101 [==============================] - 2s 17ms/step - loss: 0.1365 - accuracy: 0.9398 - val_loss: 1.3587 - val_accuracy: 0.6656\n",
            "Epoch 11/50\n",
            "101/101 [==============================] - 2s 17ms/step - loss: 0.1247 - accuracy: 0.9423 - val_loss: 1.7316 - val_accuracy: 0.6650\n",
            "Epoch 12/50\n",
            "101/101 [==============================] - 2s 17ms/step - loss: 0.1193 - accuracy: 0.9414 - val_loss: 1.5576 - val_accuracy: 0.6656\n"
          ],
          "name": "stdout"
        }
      ]
    },
    {
      "cell_type": "code",
      "metadata": {
        "colab": {
          "base_uri": "https://localhost:8080/",
          "height": 282
        },
        "id": "hX3qu1FTu2gJ",
        "outputId": "712c3cdb-0806-4735-8dc6-37dfc334ae54"
      },
      "source": [
        "dh.ViewAccuracy(history, 12)"
      ],
      "execution_count": null,
      "outputs": [
        {
          "output_type": "display_data",
          "data": {
            "image/png": "[encoded data removed]",
            "text/plain": [
              "<Figure size 432x288 with 1 Axes>"
            ]
          },
          "metadata": {
            "tags": [],
            "needs_background": "light"
          }
        }
      ]
    },
    {
      "cell_type": "code",
      "metadata": {
        "colab": {
          "base_uri": "https://localhost:8080/",
          "height": 282
        },
        "id": "I3IcSvhavI57",
        "outputId": "dfbcb587-8d29-4823-cdc9-6154c966e3c5"
      },
      "source": [
        "dh.ViewLoss(history, 12)"
      ],
      "execution_count": null,
      "outputs": [
        {
          "output_type": "display_data",
          "data": {
            "image/png": "[encoded data removed]",
            "text/plain": [
              "<Figure size 432x288 with 1 Axes>"
            ]
          },
          "metadata": {
            "tags": [],
            "needs_background": "light"
          }
        }
      ]
    },
    {
      "cell_type": "markdown",
      "metadata": {
        "id": "Zf0LVIonvguv"
      },
      "source": [
        "There is a large gap in both accuracy and loss for training and validation sets. This is a sign of overfitting and the early minimal loss indicates possibility of being stuck in local minima."
      ]
    },
    {
      "cell_type": "code",
      "metadata": {
        "colab": {
          "base_uri": "https://localhost:8080/",
          "height": 296
        },
        "id": "6VG979PE4AIh",
        "outputId": "adb73c36-6e3d-422a-aee4-dcee31fee5ca"
      },
      "source": [
        "BuildConfusionDL(B, X_test, y_test, cmap='magma')"
      ],
      "execution_count": null,
      "outputs": [
        {
          "output_type": "execute_result",
          "data": {
            "text/plain": [
              "<matplotlib.axes._subplots.AxesSubplot at 0x7f7996a6ebe0>"
            ]
          },
          "metadata": {
            "tags": []
          },
          "execution_count": 11
        },
        {
          "output_type": "display_data",
          "data": {
            "image/png": "[encoded data removed]",
            "text/plain": [
              "<Figure size 432x288 with 2 Axes>"
            ]
          },
          "metadata": {
            "tags": [],
            "needs_background": "light"
          }
        }
      ]
    },
    {
      "cell_type": "markdown",
      "metadata": {
        "id": "gQICiMvVrjL4"
      },
      "source": [
        "### Bidirectional LSTM Gridsearch"
      ]
    },
    {
      "cell_type": "code",
      "metadata": {
        "colab": {
          "base_uri": "https://localhost:8080/"
        },
        "id": "NOBN48GwDYBC",
        "outputId": "403aac21-aba8-48b5-9a47-241a5673d2ac"
      },
      "source": [
        "params = {'nodes': [50, 64, 128, 256], 'activation': ['relu', 'tanh'], 'optimizer': ['rmsprop', 'adam'], 'metrics': ['accuracy'], 'vocab': [12500], 'output': [3]}\r\n",
        "\r\n",
        "X_t, X_val, y_t, y_val = train_test_split(X_train, y_train, test_size=0.2)\r\n",
        "grid = dl.TestDL(params, Bidirectional, 'classification', X_train, y_train, X_val=X_val, y_val=y_val)"
      ],
      "execution_count": null,
      "outputs": [
        {
          "output_type": "stream",
          "text": [
            "Epoch 1/50\n",
            "84/84 [==============================] - 5s 22ms/step - loss: 0.8968 - accuracy: 0.5944 - val_loss: 0.7886 - val_accuracy: 0.6041\n",
            "Epoch 2/50\n",
            "84/84 [==============================] - 1s 14ms/step - loss: 0.7389 - accuracy: 0.6378 - val_loss: 0.7254 - val_accuracy: 0.6520\n",
            "Epoch 3/50\n",
            "84/84 [==============================] - 1s 14ms/step - loss: 0.6353 - accuracy: 0.7179 - val_loss: 0.6163 - val_accuracy: 0.7315\n",
            "Epoch 4/50\n",
            "84/84 [==============================] - 1s 14ms/step - loss: 0.5495 - accuracy: 0.7684 - val_loss: 0.5492 - val_accuracy: 0.7725\n",
            "Epoch 5/50\n",
            "84/84 [==============================] - 1s 14ms/step - loss: 0.4527 - accuracy: 0.8119 - val_loss: 0.5091 - val_accuracy: 0.7930\n",
            "Epoch 6/50\n",
            "84/84 [==============================] - 1s 13ms/step - loss: 0.3814 - accuracy: 0.8560 - val_loss: 0.4790 - val_accuracy: 0.8061\n",
            "Epoch 7/50\n",
            "84/84 [==============================] - 1s 14ms/step - loss: 0.3498 - accuracy: 0.8634 - val_loss: 0.4844 - val_accuracy: 0.8073\n",
            "Epoch 8/50\n",
            "84/84 [==============================] - 1s 14ms/step - loss: 0.3281 - accuracy: 0.8706 - val_loss: 0.5516 - val_accuracy: 0.7700\n",
            "Epoch 9/50\n",
            "84/84 [==============================] - 1s 14ms/step - loss: 0.2792 - accuracy: 0.8857 - val_loss: 0.4463 - val_accuracy: 0.8353\n",
            "Epoch 10/50\n",
            "84/84 [==============================] - 1s 14ms/step - loss: 0.2675 - accuracy: 0.8944 - val_loss: 0.4538 - val_accuracy: 0.8390\n",
            "Epoch 11/50\n",
            "84/84 [==============================] - 1s 14ms/step - loss: 0.2350 - accuracy: 0.9073 - val_loss: 0.5049 - val_accuracy: 0.8173\n",
            "Epoch 12/50\n",
            "84/84 [==============================] - 1s 14ms/step - loss: 0.2186 - accuracy: 0.9135 - val_loss: 0.4923 - val_accuracy: 0.8310\n",
            "Epoch 13/50\n",
            "84/84 [==============================] - 1s 14ms/step - loss: 0.2177 - accuracy: 0.9120 - val_loss: 0.4657 - val_accuracy: 0.8446\n",
            "Epoch 14/50\n",
            "84/84 [==============================] - 1s 14ms/step - loss: 0.1841 - accuracy: 0.9258 - val_loss: 0.4837 - val_accuracy: 0.8465\n",
            "Epoch 15/50\n",
            "84/84 [==============================] - 1s 15ms/step - loss: 0.1788 - accuracy: 0.9223 - val_loss: 0.5036 - val_accuracy: 0.8484\n",
            "Epoch 16/50\n",
            "84/84 [==============================] - 1s 14ms/step - loss: 0.1762 - accuracy: 0.9271 - val_loss: 0.4903 - val_accuracy: 0.8546\n",
            "Epoch 17/50\n",
            "84/84 [==============================] - 1s 14ms/step - loss: 0.1588 - accuracy: 0.9376 - val_loss: 0.4923 - val_accuracy: 0.8490\n",
            "Epoch 18/50\n",
            "84/84 [==============================] - 1s 15ms/step - loss: 0.1467 - accuracy: 0.9418 - val_loss: 0.4501 - val_accuracy: 0.8583\n",
            "Epoch 19/50\n",
            "84/84 [==============================] - 1s 14ms/step - loss: 0.1390 - accuracy: 0.9437 - val_loss: 0.5039 - val_accuracy: 0.8515\n",
            "84/84 [==============================] - 1s 5ms/step - loss: 1.2840 - accuracy: 0.6587\n",
            "Epoch 1/50\n",
            "84/84 [==============================] - 5s 23ms/step - loss: 0.8885 - accuracy: 0.5897 - val_loss: 0.8018 - val_accuracy: 0.6072\n",
            "Epoch 2/50\n",
            "84/84 [==============================] - 1s 14ms/step - loss: 0.7710 - accuracy: 0.6328 - val_loss: 0.7140 - val_accuracy: 0.6818\n",
            "Epoch 3/50\n",
            "84/84 [==============================] - 1s 14ms/step - loss: 0.6575 - accuracy: 0.7096 - val_loss: 0.5988 - val_accuracy: 0.7502\n",
            "Epoch 4/50\n",
            "84/84 [==============================] - 1s 14ms/step - loss: 0.5175 - accuracy: 0.7905 - val_loss: 0.5259 - val_accuracy: 0.7887\n",
            "Epoch 5/50\n",
            "84/84 [==============================] - 1s 15ms/step - loss: 0.4386 - accuracy: 0.8208 - val_loss: 0.5157 - val_accuracy: 0.7918\n",
            "Epoch 6/50\n",
            "84/84 [==============================] - 1s 14ms/step - loss: 0.3858 - accuracy: 0.8474 - val_loss: 0.4885 - val_accuracy: 0.8135\n",
            "Epoch 7/50\n",
            "84/84 [==============================] - 1s 14ms/step - loss: 0.3384 - accuracy: 0.8612 - val_loss: 0.4664 - val_accuracy: 0.8254\n",
            "Epoch 8/50\n",
            "84/84 [==============================] - 1s 16ms/step - loss: 0.2743 - accuracy: 0.8966 - val_loss: 0.5571 - val_accuracy: 0.7999\n",
            "Epoch 9/50\n",
            "84/84 [==============================] - 1s 14ms/step - loss: 0.2634 - accuracy: 0.8965 - val_loss: 0.4582 - val_accuracy: 0.8465\n",
            "Epoch 10/50\n",
            "84/84 [==============================] - 1s 14ms/step - loss: 0.2486 - accuracy: 0.9035 - val_loss: 0.4750 - val_accuracy: 0.8465\n",
            "Epoch 11/50\n",
            "84/84 [==============================] - 1s 14ms/step - loss: 0.2115 - accuracy: 0.9168 - val_loss: 0.4580 - val_accuracy: 0.8477\n",
            "Epoch 12/50\n",
            "84/84 [==============================] - 1s 14ms/step - loss: 0.2013 - accuracy: 0.9244 - val_loss: 0.4602 - val_accuracy: 0.8496\n",
            "Epoch 13/50\n",
            "84/84 [==============================] - 2s 18ms/step - loss: 0.1870 - accuracy: 0.9328 - val_loss: 0.4981 - val_accuracy: 0.8452\n",
            "Epoch 14/50\n",
            "84/84 [==============================] - 1s 14ms/step - loss: 0.1876 - accuracy: 0.9265 - val_loss: 0.4898 - val_accuracy: 0.8446\n",
            "Epoch 15/50\n",
            "84/84 [==============================] - 1s 14ms/step - loss: 0.1642 - accuracy: 0.9331 - val_loss: 0.5130 - val_accuracy: 0.8595\n",
            "Epoch 16/50\n",
            "84/84 [==============================] - 1s 15ms/step - loss: 0.1617 - accuracy: 0.9344 - val_loss: 0.5509 - val_accuracy: 0.8577\n",
            "Epoch 17/50\n",
            "84/84 [==============================] - 1s 15ms/step - loss: 0.1482 - accuracy: 0.9408 - val_loss: 0.5214 - val_accuracy: 0.8602\n",
            "Epoch 18/50\n",
            "84/84 [==============================] - 1s 16ms/step - loss: 0.1360 - accuracy: 0.9458 - val_loss: 0.5065 - val_accuracy: 0.8664\n",
            "Epoch 19/50\n",
            "84/84 [==============================] - 1s 15ms/step - loss: 0.1387 - accuracy: 0.9399 - val_loss: 0.5602 - val_accuracy: 0.8521\n",
            "Epoch 20/50\n",
            "84/84 [==============================] - 1s 15ms/step - loss: 0.1279 - accuracy: 0.9482 - val_loss: 0.5370 - val_accuracy: 0.8595\n",
            "Epoch 21/50\n",
            "84/84 [==============================] - 1s 15ms/step - loss: 0.1216 - accuracy: 0.9503 - val_loss: 0.5386 - val_accuracy: 0.8676\n",
            "84/84 [==============================] - 1s 5ms/step - loss: 1.3475 - accuracy: 0.6628\n",
            "Epoch 1/50\n",
            "84/84 [==============================] - 5s 27ms/step - loss: 0.8864 - accuracy: 0.6005 - val_loss: 0.7707 - val_accuracy: 0.6041\n",
            "Epoch 2/50\n",
            "84/84 [==============================] - 1s 15ms/step - loss: 0.7546 - accuracy: 0.6235 - val_loss: 0.7038 - val_accuracy: 0.6805\n",
            "Epoch 3/50\n",
            "84/84 [==============================] - 1s 14ms/step - loss: 0.6674 - accuracy: 0.6997 - val_loss: 0.6680 - val_accuracy: 0.7067\n",
            "Epoch 4/50\n",
            "84/84 [==============================] - 1s 14ms/step - loss: 0.5991 - accuracy: 0.7444 - val_loss: 0.6977 - val_accuracy: 0.6507\n",
            "Epoch 5/50\n",
            "84/84 [==============================] - 1s 15ms/step - loss: 0.5287 - accuracy: 0.7857 - val_loss: 0.5773 - val_accuracy: 0.7837\n",
            "Epoch 6/50\n",
            "84/84 [==============================] - 1s 14ms/step - loss: 0.4459 - accuracy: 0.8311 - val_loss: 0.5940 - val_accuracy: 0.7700\n",
            "Epoch 7/50\n",
            "84/84 [==============================] - 1s 14ms/step - loss: 0.3695 - accuracy: 0.8593 - val_loss: 0.5524 - val_accuracy: 0.8017\n",
            "Epoch 8/50\n",
            "84/84 [==============================] - 1s 14ms/step - loss: 0.3304 - accuracy: 0.8729 - val_loss: 0.5769 - val_accuracy: 0.8061\n",
            "Epoch 9/50\n",
            "84/84 [==============================] - 1s 15ms/step - loss: 0.3018 - accuracy: 0.8863 - val_loss: 0.5390 - val_accuracy: 0.8173\n",
            "Epoch 10/50\n",
            "84/84 [==============================] - 1s 15ms/step - loss: 0.2709 - accuracy: 0.8962 - val_loss: 0.5075 - val_accuracy: 0.8254\n",
            "Epoch 11/50\n",
            "84/84 [==============================] - 1s 14ms/step - loss: 0.2358 - accuracy: 0.9093 - val_loss: 0.5368 - val_accuracy: 0.7930\n",
            "Epoch 12/50\n",
            "84/84 [==============================] - 1s 14ms/step - loss: 0.2167 - accuracy: 0.9189 - val_loss: 0.5095 - val_accuracy: 0.8353\n",
            "Epoch 13/50\n",
            "84/84 [==============================] - 1s 14ms/step - loss: 0.2121 - accuracy: 0.9171 - val_loss: 0.5478 - val_accuracy: 0.8235\n",
            "Epoch 14/50\n",
            "84/84 [==============================] - 1s 15ms/step - loss: 0.1933 - accuracy: 0.9186 - val_loss: 0.5345 - val_accuracy: 0.8316\n",
            "Epoch 15/50\n",
            "84/84 [==============================] - 1s 14ms/step - loss: 0.1847 - accuracy: 0.9296 - val_loss: 0.5143 - val_accuracy: 0.8384\n",
            "Epoch 16/50\n",
            "84/84 [==============================] - 1s 14ms/step - loss: 0.1662 - accuracy: 0.9298 - val_loss: 0.6259 - val_accuracy: 0.8390\n",
            "Epoch 17/50\n",
            "84/84 [==============================] - 1s 14ms/step - loss: 0.1552 - accuracy: 0.9354 - val_loss: 0.5758 - val_accuracy: 0.8440\n",
            "Epoch 18/50\n",
            "84/84 [==============================] - 1s 14ms/step - loss: 0.1533 - accuracy: 0.9379 - val_loss: 0.5718 - val_accuracy: 0.8260\n",
            "Epoch 19/50\n",
            "84/84 [==============================] - 1s 15ms/step - loss: 0.1548 - accuracy: 0.9357 - val_loss: 0.5730 - val_accuracy: 0.8409\n",
            "Epoch 20/50\n",
            "84/84 [==============================] - 1s 14ms/step - loss: 0.1383 - accuracy: 0.9428 - val_loss: 0.5802 - val_accuracy: 0.8428\n",
            "84/84 [==============================] - 1s 5ms/step - loss: 1.4528 - accuracy: 0.6425\n",
            "Epoch 1/50\n",
            "84/84 [==============================] - 5s 26ms/step - loss: 0.9637 - accuracy: 0.5642 - val_loss: 0.8373 - val_accuracy: 0.6041\n",
            "Epoch 2/50\n",
            "84/84 [==============================] - 1s 17ms/step - loss: 0.8133 - accuracy: 0.6113 - val_loss: 0.6964 - val_accuracy: 0.7197\n",
            "Epoch 3/50\n",
            "84/84 [==============================] - 1s 17ms/step - loss: 0.6217 - accuracy: 0.7555 - val_loss: 0.5898 - val_accuracy: 0.7644\n",
            "Epoch 4/50\n",
            "84/84 [==============================] - 1s 16ms/step - loss: 0.4559 - accuracy: 0.8375 - val_loss: 0.4895 - val_accuracy: 0.8135\n",
            "Epoch 5/50\n",
            "84/84 [==============================] - 1s 17ms/step - loss: 0.3265 - accuracy: 0.8848 - val_loss: 0.4498 - val_accuracy: 0.8397\n",
            "Epoch 6/50\n",
            "84/84 [==============================] - 1s 17ms/step - loss: 0.2540 - accuracy: 0.9111 - val_loss: 0.4309 - val_accuracy: 0.8477\n",
            "Epoch 7/50\n",
            "84/84 [==============================] - 1s 17ms/step - loss: 0.2052 - accuracy: 0.9245 - val_loss: 0.4446 - val_accuracy: 0.8459\n",
            "Epoch 8/50\n",
            "84/84 [==============================] - 1s 17ms/step - loss: 0.1764 - accuracy: 0.9369 - val_loss: 0.4491 - val_accuracy: 0.8533\n",
            "Epoch 9/50\n",
            "84/84 [==============================] - 1s 17ms/step - loss: 0.1662 - accuracy: 0.9298 - val_loss: 0.4590 - val_accuracy: 0.8577\n",
            "Epoch 10/50\n",
            "84/84 [==============================] - 1s 17ms/step - loss: 0.1401 - accuracy: 0.9417 - val_loss: 0.4773 - val_accuracy: 0.8552\n",
            "Epoch 11/50\n",
            "84/84 [==============================] - 1s 17ms/step - loss: 0.1339 - accuracy: 0.9454 - val_loss: 0.5091 - val_accuracy: 0.8614\n",
            "Epoch 12/50\n",
            "84/84 [==============================] - 1s 17ms/step - loss: 0.1154 - accuracy: 0.9460 - val_loss: 0.5371 - val_accuracy: 0.8633\n",
            "Epoch 13/50\n",
            "84/84 [==============================] - 2s 19ms/step - loss: 0.1085 - accuracy: 0.9516 - val_loss: 0.6024 - val_accuracy: 0.8521\n",
            "Epoch 14/50\n",
            "84/84 [==============================] - 1s 16ms/step - loss: 0.1122 - accuracy: 0.9492 - val_loss: 0.5905 - val_accuracy: 0.8564\n",
            "Epoch 15/50\n",
            "84/84 [==============================] - 1s 17ms/step - loss: 0.1173 - accuracy: 0.9423 - val_loss: 0.5984 - val_accuracy: 0.8571\n",
            "Epoch 16/50\n",
            "84/84 [==============================] - 1s 16ms/step - loss: 0.0979 - accuracy: 0.9517 - val_loss: 0.5588 - val_accuracy: 0.8577\n",
            "84/84 [==============================] - 1s 5ms/step - loss: 1.5421 - accuracy: 0.6568\n",
            "Epoch 1/50\n",
            "84/84 [==============================] - 5s 26ms/step - loss: 0.9233 - accuracy: 0.5922 - val_loss: 0.7959 - val_accuracy: 0.6041\n",
            "Epoch 2/50\n",
            "84/84 [==============================] - 1s 17ms/step - loss: 0.7667 - accuracy: 0.6155 - val_loss: 0.6624 - val_accuracy: 0.7166\n",
            "Epoch 3/50\n",
            "84/84 [==============================] - 1s 17ms/step - loss: 0.5770 - accuracy: 0.7513 - val_loss: 0.5696 - val_accuracy: 0.7756\n",
            "Epoch 4/50\n",
            "84/84 [==============================] - 2s 20ms/step - loss: 0.4365 - accuracy: 0.8316 - val_loss: 0.5075 - val_accuracy: 0.8135\n",
            "Epoch 5/50\n",
            "84/84 [==============================] - 1s 17ms/step - loss: 0.3021 - accuracy: 0.8874 - val_loss: 0.4902 - val_accuracy: 0.8359\n",
            "Epoch 6/50\n",
            "84/84 [==============================] - 1s 16ms/step - loss: 0.2267 - accuracy: 0.9210 - val_loss: 0.5823 - val_accuracy: 0.8024\n",
            "Epoch 7/50\n",
            "84/84 [==============================] - 1s 17ms/step - loss: 0.2118 - accuracy: 0.9166 - val_loss: 0.4937 - val_accuracy: 0.8465\n",
            "Epoch 8/50\n",
            "84/84 [==============================] - 1s 17ms/step - loss: 0.1573 - accuracy: 0.9464 - val_loss: 0.4788 - val_accuracy: 0.8446\n",
            "Epoch 9/50\n",
            "84/84 [==============================] - 1s 17ms/step - loss: 0.1499 - accuracy: 0.9423 - val_loss: 0.5381 - val_accuracy: 0.8446\n",
            "Epoch 10/50\n",
            "84/84 [==============================] - 2s 18ms/step - loss: 0.1287 - accuracy: 0.9492 - val_loss: 0.4888 - val_accuracy: 0.8502\n",
            "Epoch 11/50\n",
            "84/84 [==============================] - 1s 18ms/step - loss: 0.1290 - accuracy: 0.9433 - val_loss: 0.5471 - val_accuracy: 0.8521\n",
            "Epoch 12/50\n",
            "84/84 [==============================] - 2s 18ms/step - loss: 0.1231 - accuracy: 0.9418 - val_loss: 0.5623 - val_accuracy: 0.8589\n",
            "Epoch 13/50\n",
            "84/84 [==============================] - 2s 18ms/step - loss: 0.1082 - accuracy: 0.9528 - val_loss: 0.5507 - val_accuracy: 0.8552\n",
            "Epoch 14/50\n",
            "84/84 [==============================] - 2s 18ms/step - loss: 0.1103 - accuracy: 0.9537 - val_loss: 0.6110 - val_accuracy: 0.8539\n",
            "Epoch 15/50\n",
            "84/84 [==============================] - 2s 18ms/step - loss: 0.1032 - accuracy: 0.9526 - val_loss: 0.6279 - val_accuracy: 0.8508\n",
            "Epoch 16/50\n",
            "84/84 [==============================] - 1s 17ms/step - loss: 0.0965 - accuracy: 0.9514 - val_loss: 0.6048 - val_accuracy: 0.8602\n",
            "Epoch 17/50\n",
            "84/84 [==============================] - 1s 17ms/step - loss: 0.0984 - accuracy: 0.9552 - val_loss: 0.6103 - val_accuracy: 0.8583\n",
            "Epoch 18/50\n",
            "84/84 [==============================] - 1s 17ms/step - loss: 0.0941 - accuracy: 0.9553 - val_loss: 0.5725 - val_accuracy: 0.8515\n",
            "84/84 [==============================] - 1s 5ms/step - loss: 1.4413 - accuracy: 0.6464\n",
            "Epoch 1/50\n",
            "84/84 [==============================] - 5s 25ms/step - loss: 0.9269 - accuracy: 0.5994 - val_loss: 0.7739 - val_accuracy: 0.6085\n",
            "Epoch 2/50\n",
            "84/84 [==============================] - 1s 17ms/step - loss: 0.7184 - accuracy: 0.6641 - val_loss: 0.6639 - val_accuracy: 0.7197\n",
            "Epoch 3/50\n",
            "84/84 [==============================] - 1s 17ms/step - loss: 0.5498 - accuracy: 0.7790 - val_loss: 0.5963 - val_accuracy: 0.7564\n",
            "Epoch 4/50\n",
            "84/84 [==============================] - 1s 17ms/step - loss: 0.4197 - accuracy: 0.8375 - val_loss: 0.5636 - val_accuracy: 0.7893\n",
            "Epoch 5/50\n",
            "84/84 [==============================] - 2s 18ms/step - loss: 0.3571 - accuracy: 0.8670 - val_loss: 0.5481 - val_accuracy: 0.8061\n",
            "Epoch 6/50\n",
            "84/84 [==============================] - 1s 17ms/step - loss: 0.2800 - accuracy: 0.8997 - val_loss: 0.5532 - val_accuracy: 0.8310\n",
            "Epoch 7/50\n",
            "84/84 [==============================] - 1s 17ms/step - loss: 0.2195 - accuracy: 0.9187 - val_loss: 0.5353 - val_accuracy: 0.8322\n",
            "Epoch 8/50\n",
            "84/84 [==============================] - 1s 17ms/step - loss: 0.1976 - accuracy: 0.9290 - val_loss: 0.5459 - val_accuracy: 0.8353\n",
            "Epoch 9/50\n",
            "84/84 [==============================] - 1s 18ms/step - loss: 0.1822 - accuracy: 0.9354 - val_loss: 0.6035 - val_accuracy: 0.8341\n",
            "Epoch 10/50\n",
            "84/84 [==============================] - 1s 17ms/step - loss: 0.1693 - accuracy: 0.9381 - val_loss: 0.5455 - val_accuracy: 0.8297\n",
            "Epoch 11/50\n",
            "84/84 [==============================] - 1s 17ms/step - loss: 0.1542 - accuracy: 0.9411 - val_loss: 0.5590 - val_accuracy: 0.8403\n",
            "Epoch 12/50\n",
            "84/84 [==============================] - 1s 18ms/step - loss: 0.1451 - accuracy: 0.9455 - val_loss: 0.5533 - val_accuracy: 0.8409\n",
            "Epoch 13/50\n",
            "84/84 [==============================] - 1s 17ms/step - loss: 0.1378 - accuracy: 0.9472 - val_loss: 0.5799 - val_accuracy: 0.8347\n",
            "Epoch 14/50\n",
            "84/84 [==============================] - 1s 17ms/step - loss: 0.1272 - accuracy: 0.9482 - val_loss: 0.6592 - val_accuracy: 0.8397\n",
            "Epoch 15/50\n",
            "84/84 [==============================] - 1s 17ms/step - loss: 0.1269 - accuracy: 0.9476 - val_loss: 0.5778 - val_accuracy: 0.8471\n",
            "Epoch 16/50\n",
            "84/84 [==============================] - 1s 17ms/step - loss: 0.1287 - accuracy: 0.9437 - val_loss: 0.5829 - val_accuracy: 0.8428\n",
            "Epoch 17/50\n",
            "84/84 [==============================] - 1s 17ms/step - loss: 0.1138 - accuracy: 0.9523 - val_loss: 0.5980 - val_accuracy: 0.8465\n",
            "84/84 [==============================] - 1s 5ms/step - loss: 1.5502 - accuracy: 0.6164\n",
            "Epoch 1/50\n",
            "84/84 [==============================] - 5s 23ms/step - loss: 0.8861 - accuracy: 0.6011 - val_loss: 0.7804 - val_accuracy: 0.6035\n",
            "Epoch 2/50\n",
            "84/84 [==============================] - 1s 15ms/step - loss: 0.7582 - accuracy: 0.6348 - val_loss: 0.6856 - val_accuracy: 0.7017\n",
            "Epoch 3/50\n",
            "84/84 [==============================] - 1s 15ms/step - loss: 0.6438 - accuracy: 0.7193 - val_loss: 0.6037 - val_accuracy: 0.7278\n",
            "Epoch 4/50\n",
            "84/84 [==============================] - 1s 14ms/step - loss: 0.5380 - accuracy: 0.7568 - val_loss: 0.5692 - val_accuracy: 0.7545\n",
            "Epoch 5/50\n",
            "84/84 [==============================] - 1s 14ms/step - loss: 0.4468 - accuracy: 0.8252 - val_loss: 0.5201 - val_accuracy: 0.7968\n",
            "Epoch 6/50\n",
            "84/84 [==============================] - 1s 14ms/step - loss: 0.3944 - accuracy: 0.8437 - val_loss: 0.5091 - val_accuracy: 0.8073\n",
            "Epoch 7/50\n",
            "84/84 [==============================] - 1s 14ms/step - loss: 0.3629 - accuracy: 0.8565 - val_loss: 0.4660 - val_accuracy: 0.8167\n",
            "Epoch 8/50\n",
            "84/84 [==============================] - 1s 14ms/step - loss: 0.3154 - accuracy: 0.8785 - val_loss: 0.5465 - val_accuracy: 0.7732\n",
            "Epoch 9/50\n",
            "84/84 [==============================] - 1s 14ms/step - loss: 0.2849 - accuracy: 0.8894 - val_loss: 0.4934 - val_accuracy: 0.8005\n",
            "Epoch 10/50\n",
            "84/84 [==============================] - 1s 14ms/step - loss: 0.2587 - accuracy: 0.9038 - val_loss: 0.4497 - val_accuracy: 0.8384\n",
            "Epoch 11/50\n",
            "84/84 [==============================] - 1s 15ms/step - loss: 0.2235 - accuracy: 0.9125 - val_loss: 0.4676 - val_accuracy: 0.8297\n",
            "Epoch 12/50\n",
            "84/84 [==============================] - 1s 15ms/step - loss: 0.2084 - accuracy: 0.9215 - val_loss: 0.4625 - val_accuracy: 0.8397\n",
            "Epoch 13/50\n",
            "84/84 [==============================] - 1s 14ms/step - loss: 0.1897 - accuracy: 0.9233 - val_loss: 0.4603 - val_accuracy: 0.8347\n",
            "Epoch 14/50\n",
            "84/84 [==============================] - 1s 17ms/step - loss: 0.1870 - accuracy: 0.9313 - val_loss: 0.5129 - val_accuracy: 0.8465\n",
            "Epoch 15/50\n",
            "84/84 [==============================] - 1s 15ms/step - loss: 0.1541 - accuracy: 0.9427 - val_loss: 0.4660 - val_accuracy: 0.8415\n",
            "Epoch 16/50\n",
            "84/84 [==============================] - 1s 15ms/step - loss: 0.1481 - accuracy: 0.9409 - val_loss: 0.5154 - val_accuracy: 0.8378\n",
            "Epoch 17/50\n",
            "84/84 [==============================] - 1s 15ms/step - loss: 0.1553 - accuracy: 0.9422 - val_loss: 0.4833 - val_accuracy: 0.8316\n",
            "Epoch 18/50\n",
            "84/84 [==============================] - 1s 15ms/step - loss: 0.1414 - accuracy: 0.9404 - val_loss: 0.5602 - val_accuracy: 0.8397\n",
            "Epoch 19/50\n",
            "84/84 [==============================] - 1s 15ms/step - loss: 0.1411 - accuracy: 0.9426 - val_loss: 0.5396 - val_accuracy: 0.8421\n",
            "Epoch 20/50\n",
            "84/84 [==============================] - 1s 15ms/step - loss: 0.1339 - accuracy: 0.9472 - val_loss: 0.5752 - val_accuracy: 0.8415\n",
            "84/84 [==============================] - 1s 5ms/step - loss: 1.5191 - accuracy: 0.6270\n",
            "Epoch 1/50\n",
            "84/84 [==============================] - 5s 27ms/step - loss: 0.8931 - accuracy: 0.5789 - val_loss: 0.7983 - val_accuracy: 0.6116\n",
            "Epoch 2/50\n",
            "84/84 [==============================] - 1s 15ms/step - loss: 0.7558 - accuracy: 0.6467 - val_loss: 0.7833 - val_accuracy: 0.6346\n",
            "Epoch 3/50\n",
            "84/84 [==============================] - 1s 15ms/step - loss: 0.6446 - accuracy: 0.7309 - val_loss: 0.6902 - val_accuracy: 0.6868\n",
            "Epoch 4/50\n",
            "84/84 [==============================] - 1s 15ms/step - loss: 0.5474 - accuracy: 0.7809 - val_loss: 0.5498 - val_accuracy: 0.7893\n",
            "Epoch 5/50\n",
            "84/84 [==============================] - 1s 15ms/step - loss: 0.4424 - accuracy: 0.8321 - val_loss: 0.5885 - val_accuracy: 0.7526\n",
            "Epoch 6/50\n",
            "84/84 [==============================] - 1s 15ms/step - loss: 0.3791 - accuracy: 0.8546 - val_loss: 0.4829 - val_accuracy: 0.8148\n",
            "Epoch 7/50\n",
            "84/84 [==============================] - 1s 15ms/step - loss: 0.3317 - accuracy: 0.8692 - val_loss: 0.5072 - val_accuracy: 0.8160\n",
            "Epoch 8/50\n",
            "84/84 [==============================] - 1s 14ms/step - loss: 0.2938 - accuracy: 0.8912 - val_loss: 0.5155 - val_accuracy: 0.8272\n",
            "Epoch 9/50\n",
            "84/84 [==============================] - 1s 15ms/step - loss: 0.2824 - accuracy: 0.8941 - val_loss: 0.5490 - val_accuracy: 0.7937\n",
            "Epoch 10/50\n",
            "84/84 [==============================] - 1s 15ms/step - loss: 0.2483 - accuracy: 0.9024 - val_loss: 0.4697 - val_accuracy: 0.8334\n",
            "Epoch 11/50\n",
            "84/84 [==============================] - 1s 15ms/step - loss: 0.2152 - accuracy: 0.9196 - val_loss: 0.4772 - val_accuracy: 0.8434\n",
            "Epoch 12/50\n",
            "84/84 [==============================] - 1s 15ms/step - loss: 0.2172 - accuracy: 0.9114 - val_loss: 0.4912 - val_accuracy: 0.8459\n",
            "Epoch 13/50\n",
            "84/84 [==============================] - 1s 14ms/step - loss: 0.1866 - accuracy: 0.9299 - val_loss: 0.5146 - val_accuracy: 0.8434\n",
            "Epoch 14/50\n",
            "84/84 [==============================] - 1s 14ms/step - loss: 0.1754 - accuracy: 0.9286 - val_loss: 0.5516 - val_accuracy: 0.8409\n",
            "Epoch 15/50\n",
            "84/84 [==============================] - 1s 15ms/step - loss: 0.1922 - accuracy: 0.9287 - val_loss: 0.5244 - val_accuracy: 0.8527\n",
            "Epoch 16/50\n",
            "84/84 [==============================] - 1s 14ms/step - loss: 0.1676 - accuracy: 0.9379 - val_loss: 0.4926 - val_accuracy: 0.8484\n",
            "Epoch 17/50\n",
            "84/84 [==============================] - 1s 15ms/step - loss: 0.1710 - accuracy: 0.9348 - val_loss: 0.5140 - val_accuracy: 0.8515\n",
            "Epoch 18/50\n",
            "84/84 [==============================] - 1s 15ms/step - loss: 0.1634 - accuracy: 0.9390 - val_loss: 0.5228 - val_accuracy: 0.8577\n",
            "Epoch 19/50\n",
            "84/84 [==============================] - 1s 15ms/step - loss: 0.1468 - accuracy: 0.9422 - val_loss: 0.5209 - val_accuracy: 0.8546\n",
            "Epoch 20/50\n",
            "84/84 [==============================] - 1s 14ms/step - loss: 0.1418 - accuracy: 0.9415 - val_loss: 0.5354 - val_accuracy: 0.8595\n",
            "84/84 [==============================] - 1s 5ms/step - loss: 1.3541 - accuracy: 0.6662\n",
            "Epoch 1/50\n",
            "84/84 [==============================] - 5s 23ms/step - loss: 0.8930 - accuracy: 0.5694 - val_loss: 0.7984 - val_accuracy: 0.6277\n",
            "Epoch 2/50\n",
            "84/84 [==============================] - 1s 14ms/step - loss: 0.7405 - accuracy: 0.6587 - val_loss: 0.7090 - val_accuracy: 0.6787\n",
            "Epoch 3/50\n",
            "84/84 [==============================] - 1s 14ms/step - loss: 0.6255 - accuracy: 0.7404 - val_loss: 0.6216 - val_accuracy: 0.7247\n",
            "Epoch 4/50\n",
            "84/84 [==============================] - 1s 14ms/step - loss: 0.5059 - accuracy: 0.7980 - val_loss: 0.5569 - val_accuracy: 0.7843\n",
            "Epoch 5/50\n",
            "84/84 [==============================] - 1s 14ms/step - loss: 0.4155 - accuracy: 0.8437 - val_loss: 0.5528 - val_accuracy: 0.7943\n",
            "Epoch 6/50\n",
            "84/84 [==============================] - 1s 15ms/step - loss: 0.3726 - accuracy: 0.8582 - val_loss: 0.5308 - val_accuracy: 0.8024\n",
            "Epoch 7/50\n",
            "84/84 [==============================] - 1s 15ms/step - loss: 0.3172 - accuracy: 0.8798 - val_loss: 0.5189 - val_accuracy: 0.8061\n",
            "Epoch 8/50\n",
            "84/84 [==============================] - 1s 15ms/step - loss: 0.2773 - accuracy: 0.8899 - val_loss: 0.5315 - val_accuracy: 0.8173\n",
            "Epoch 9/50\n",
            "84/84 [==============================] - 1s 14ms/step - loss: 0.2640 - accuracy: 0.9009 - val_loss: 0.5111 - val_accuracy: 0.8135\n",
            "Epoch 10/50\n",
            "84/84 [==============================] - 1s 15ms/step - loss: 0.2325 - accuracy: 0.9096 - val_loss: 0.5179 - val_accuracy: 0.8303\n",
            "Epoch 11/50\n",
            "84/84 [==============================] - 1s 14ms/step - loss: 0.2220 - accuracy: 0.9136 - val_loss: 0.5264 - val_accuracy: 0.8328\n",
            "Epoch 12/50\n",
            "84/84 [==============================] - 1s 15ms/step - loss: 0.2070 - accuracy: 0.9242 - val_loss: 0.5204 - val_accuracy: 0.8353\n",
            "Epoch 13/50\n",
            "84/84 [==============================] - 1s 15ms/step - loss: 0.1961 - accuracy: 0.9187 - val_loss: 0.4979 - val_accuracy: 0.8341\n",
            "Epoch 14/50\n",
            "84/84 [==============================] - 1s 15ms/step - loss: 0.1789 - accuracy: 0.9288 - val_loss: 0.5424 - val_accuracy: 0.8353\n",
            "Epoch 15/50\n",
            "84/84 [==============================] - 1s 15ms/step - loss: 0.1754 - accuracy: 0.9283 - val_loss: 0.6086 - val_accuracy: 0.8384\n",
            "Epoch 16/50\n",
            "84/84 [==============================] - 1s 15ms/step - loss: 0.1637 - accuracy: 0.9287 - val_loss: 0.4988 - val_accuracy: 0.8434\n",
            "Epoch 17/50\n",
            "84/84 [==============================] - 1s 15ms/step - loss: 0.1506 - accuracy: 0.9337 - val_loss: 0.5445 - val_accuracy: 0.8421\n",
            "Epoch 18/50\n",
            "84/84 [==============================] - 1s 17ms/step - loss: 0.1433 - accuracy: 0.9318 - val_loss: 0.5826 - val_accuracy: 0.8452\n",
            "Epoch 19/50\n",
            "84/84 [==============================] - 1s 15ms/step - loss: 0.1345 - accuracy: 0.9383 - val_loss: 0.6130 - val_accuracy: 0.8291\n",
            "Epoch 20/50\n",
            "84/84 [==============================] - 1s 15ms/step - loss: 0.1367 - accuracy: 0.9347 - val_loss: 0.5825 - val_accuracy: 0.8334\n",
            "Epoch 21/50\n",
            "84/84 [==============================] - 1s 15ms/step - loss: 0.1224 - accuracy: 0.9415 - val_loss: 0.5475 - val_accuracy: 0.8421\n",
            "Epoch 22/50\n",
            "84/84 [==============================] - 1s 15ms/step - loss: 0.1260 - accuracy: 0.9448 - val_loss: 0.7058 - val_accuracy: 0.8434\n",
            "Epoch 23/50\n",
            "84/84 [==============================] - 1s 15ms/step - loss: 0.1103 - accuracy: 0.9512 - val_loss: 0.5480 - val_accuracy: 0.8465\n",
            "84/84 [==============================] - 1s 5ms/step - loss: 1.4582 - accuracy: 0.6459\n",
            "Epoch 1/50\n",
            "84/84 [==============================] - 5s 27ms/step - loss: 0.9359 - accuracy: 0.5447 - val_loss: 0.7840 - val_accuracy: 0.6078\n",
            "Epoch 2/50\n",
            "84/84 [==============================] - 1s 18ms/step - loss: 0.7305 - accuracy: 0.6667 - val_loss: 0.6060 - val_accuracy: 0.7390\n",
            "Epoch 3/50\n",
            "84/84 [==============================] - 2s 22ms/step - loss: 0.4952 - accuracy: 0.8030 - val_loss: 0.5000 - val_accuracy: 0.7961\n",
            "Epoch 4/50\n",
            "84/84 [==============================] - 2s 18ms/step - loss: 0.3413 - accuracy: 0.8704 - val_loss: 0.4623 - val_accuracy: 0.8148\n",
            "Epoch 5/50\n",
            "84/84 [==============================] - 2s 18ms/step - loss: 0.2501 - accuracy: 0.8956 - val_loss: 0.4767 - val_accuracy: 0.8254\n",
            "Epoch 6/50\n",
            "84/84 [==============================] - 2s 18ms/step - loss: 0.1965 - accuracy: 0.9200 - val_loss: 0.4482 - val_accuracy: 0.8452\n",
            "Epoch 7/50\n",
            "84/84 [==============================] - 2s 18ms/step - loss: 0.1760 - accuracy: 0.9275 - val_loss: 0.5052 - val_accuracy: 0.8521\n",
            "Epoch 8/50\n",
            "84/84 [==============================] - 2s 18ms/step - loss: 0.1508 - accuracy: 0.9308 - val_loss: 0.5319 - val_accuracy: 0.8471\n",
            "Epoch 9/50\n",
            "84/84 [==============================] - 2s 18ms/step - loss: 0.1541 - accuracy: 0.9336 - val_loss: 0.6120 - val_accuracy: 0.8527\n",
            "Epoch 10/50\n",
            "84/84 [==============================] - 2s 18ms/step - loss: 0.1205 - accuracy: 0.9483 - val_loss: 0.5364 - val_accuracy: 0.8515\n",
            "Epoch 11/50\n",
            "84/84 [==============================] - 2s 18ms/step - loss: 0.1071 - accuracy: 0.9474 - val_loss: 0.6341 - val_accuracy: 0.8378\n",
            "Epoch 12/50\n",
            "84/84 [==============================] - 2s 19ms/step - loss: 0.1162 - accuracy: 0.9469 - val_loss: 0.5763 - val_accuracy: 0.8664\n",
            "Epoch 13/50\n",
            "84/84 [==============================] - 2s 18ms/step - loss: 0.1023 - accuracy: 0.9529 - val_loss: 0.5827 - val_accuracy: 0.8664\n",
            "Epoch 14/50\n",
            "84/84 [==============================] - 2s 19ms/step - loss: 0.1105 - accuracy: 0.9500 - val_loss: 0.5916 - val_accuracy: 0.8602\n",
            "Epoch 15/50\n",
            "84/84 [==============================] - 2s 18ms/step - loss: 0.0972 - accuracy: 0.9527 - val_loss: 0.6581 - val_accuracy: 0.8527\n",
            "Epoch 16/50\n",
            "84/84 [==============================] - 2s 18ms/step - loss: 0.0831 - accuracy: 0.9566 - val_loss: 0.6322 - val_accuracy: 0.8633\n",
            "84/84 [==============================] - 1s 5ms/step - loss: 1.8544 - accuracy: 0.6505\n",
            "Epoch 1/50\n",
            "84/84 [==============================] - 5s 30ms/step - loss: 0.9355 - accuracy: 0.5662 - val_loss: 0.7975 - val_accuracy: 0.6538\n",
            "Epoch 2/50\n",
            "84/84 [==============================] - 2s 18ms/step - loss: 0.7317 - accuracy: 0.6769 - val_loss: 0.5980 - val_accuracy: 0.7433\n",
            "Epoch 3/50\n",
            "84/84 [==============================] - 2s 18ms/step - loss: 0.4901 - accuracy: 0.8007 - val_loss: 0.5035 - val_accuracy: 0.8042\n",
            "Epoch 4/50\n",
            "84/84 [==============================] - 2s 18ms/step - loss: 0.3264 - accuracy: 0.8816 - val_loss: 0.4591 - val_accuracy: 0.8266\n",
            "Epoch 5/50\n",
            "84/84 [==============================] - 2s 19ms/step - loss: 0.2357 - accuracy: 0.9113 - val_loss: 0.4566 - val_accuracy: 0.8384\n",
            "Epoch 6/50\n",
            "84/84 [==============================] - 2s 19ms/step - loss: 0.1905 - accuracy: 0.9310 - val_loss: 0.4477 - val_accuracy: 0.8446\n",
            "Epoch 7/50\n",
            "84/84 [==============================] - 2s 18ms/step - loss: 0.1691 - accuracy: 0.9374 - val_loss: 0.4449 - val_accuracy: 0.8608\n",
            "Epoch 8/50\n",
            "84/84 [==============================] - 2s 19ms/step - loss: 0.1443 - accuracy: 0.9444 - val_loss: 0.4327 - val_accuracy: 0.8595\n",
            "Epoch 9/50\n",
            "84/84 [==============================] - 2s 18ms/step - loss: 0.1479 - accuracy: 0.9403 - val_loss: 0.4811 - val_accuracy: 0.8633\n",
            "Epoch 10/50\n",
            "84/84 [==============================] - 2s 18ms/step - loss: 0.1227 - accuracy: 0.9517 - val_loss: 0.4661 - val_accuracy: 0.8670\n",
            "Epoch 11/50\n",
            "84/84 [==============================] - 2s 19ms/step - loss: 0.1051 - accuracy: 0.9585 - val_loss: 0.5429 - val_accuracy: 0.8595\n",
            "Epoch 12/50\n",
            "84/84 [==============================] - 2s 19ms/step - loss: 0.1023 - accuracy: 0.9549 - val_loss: 0.5150 - val_accuracy: 0.8614\n",
            "Epoch 13/50\n",
            "84/84 [==============================] - 2s 19ms/step - loss: 0.1056 - accuracy: 0.9526 - val_loss: 0.5695 - val_accuracy: 0.8651\n",
            "Epoch 14/50\n",
            "84/84 [==============================] - 2s 19ms/step - loss: 0.1012 - accuracy: 0.9543 - val_loss: 0.5670 - val_accuracy: 0.8626\n",
            "Epoch 15/50\n",
            "84/84 [==============================] - 2s 19ms/step - loss: 0.0775 - accuracy: 0.9628 - val_loss: 0.6961 - val_accuracy: 0.8577\n",
            "Epoch 16/50\n",
            "84/84 [==============================] - 2s 18ms/step - loss: 0.0861 - accuracy: 0.9552 - val_loss: 0.6251 - val_accuracy: 0.8633\n",
            "Epoch 17/50\n",
            "84/84 [==============================] - 2s 19ms/step - loss: 0.0813 - accuracy: 0.9627 - val_loss: 0.6743 - val_accuracy: 0.8658\n",
            "Epoch 18/50\n",
            "84/84 [==============================] - 2s 19ms/step - loss: 0.0778 - accuracy: 0.9609 - val_loss: 0.7259 - val_accuracy: 0.8695\n",
            "84/84 [==============================] - 1s 5ms/step - loss: 1.9065 - accuracy: 0.6826\n",
            "Epoch 1/50\n",
            "84/84 [==============================] - 5s 27ms/step - loss: 0.9084 - accuracy: 0.6047 - val_loss: 0.7813 - val_accuracy: 0.6072\n",
            "Epoch 2/50\n",
            "84/84 [==============================] - 2s 18ms/step - loss: 0.7228 - accuracy: 0.6527 - val_loss: 0.6689 - val_accuracy: 0.7135\n",
            "Epoch 3/50\n",
            "84/84 [==============================] - 2s 18ms/step - loss: 0.5430 - accuracy: 0.7729 - val_loss: 0.5589 - val_accuracy: 0.7974\n",
            "Epoch 4/50\n",
            "84/84 [==============================] - 2s 18ms/step - loss: 0.3726 - accuracy: 0.8680 - val_loss: 0.5064 - val_accuracy: 0.8148\n",
            "Epoch 5/50\n",
            "84/84 [==============================] - 2s 18ms/step - loss: 0.2882 - accuracy: 0.8943 - val_loss: 0.4881 - val_accuracy: 0.8310\n",
            "Epoch 6/50\n",
            "84/84 [==============================] - 2s 19ms/step - loss: 0.2126 - accuracy: 0.9225 - val_loss: 0.5327 - val_accuracy: 0.8365\n",
            "Epoch 7/50\n",
            "84/84 [==============================] - 2s 18ms/step - loss: 0.1813 - accuracy: 0.9322 - val_loss: 0.4918 - val_accuracy: 0.8359\n",
            "Epoch 8/50\n",
            "84/84 [==============================] - 2s 18ms/step - loss: 0.1792 - accuracy: 0.9366 - val_loss: 0.5302 - val_accuracy: 0.8397\n",
            "Epoch 9/50\n",
            "84/84 [==============================] - 2s 18ms/step - loss: 0.1536 - accuracy: 0.9359 - val_loss: 0.5650 - val_accuracy: 0.8452\n",
            "Epoch 10/50\n",
            "84/84 [==============================] - 2s 18ms/step - loss: 0.1303 - accuracy: 0.9483 - val_loss: 0.5391 - val_accuracy: 0.8372\n",
            "Epoch 11/50\n",
            "84/84 [==============================] - 2s 18ms/step - loss: 0.1277 - accuracy: 0.9439 - val_loss: 0.5914 - val_accuracy: 0.8428\n",
            "Epoch 12/50\n",
            "84/84 [==============================] - 2s 18ms/step - loss: 0.1297 - accuracy: 0.9429 - val_loss: 0.5247 - val_accuracy: 0.8440\n",
            "Epoch 13/50\n",
            "84/84 [==============================] - 2s 18ms/step - loss: 0.1264 - accuracy: 0.9440 - val_loss: 0.5867 - val_accuracy: 0.8440\n",
            "Epoch 14/50\n",
            "84/84 [==============================] - 2s 18ms/step - loss: 0.1319 - accuracy: 0.9456 - val_loss: 0.5674 - val_accuracy: 0.8446\n",
            "Epoch 15/50\n",
            "84/84 [==============================] - 2s 18ms/step - loss: 0.1286 - accuracy: 0.9435 - val_loss: 0.6345 - val_accuracy: 0.8403\n",
            "84/84 [==============================] - 1s 5ms/step - loss: 1.5790 - accuracy: 0.6410\n",
            "Epoch 1/50\n",
            "84/84 [==============================] - 5s 26ms/step - loss: 0.9010 - accuracy: 0.5714 - val_loss: 0.7743 - val_accuracy: 0.6439\n",
            "Epoch 2/50\n",
            "84/84 [==============================] - 1s 17ms/step - loss: 0.7435 - accuracy: 0.6587 - val_loss: 0.6497 - val_accuracy: 0.7371\n",
            "Epoch 3/50\n",
            "84/84 [==============================] - 1s 17ms/step - loss: 0.5792 - accuracy: 0.7542 - val_loss: 0.5862 - val_accuracy: 0.7626\n",
            "Epoch 4/50\n",
            "84/84 [==============================] - 1s 17ms/step - loss: 0.4721 - accuracy: 0.8150 - val_loss: 0.5042 - val_accuracy: 0.7943\n",
            "Epoch 5/50\n",
            "84/84 [==============================] - 1s 17ms/step - loss: 0.3974 - accuracy: 0.8426 - val_loss: 0.5182 - val_accuracy: 0.7899\n",
            "Epoch 6/50\n",
            "84/84 [==============================] - 1s 18ms/step - loss: 0.3528 - accuracy: 0.8636 - val_loss: 0.4618 - val_accuracy: 0.8222\n",
            "Epoch 7/50\n",
            "84/84 [==============================] - 1s 17ms/step - loss: 0.3049 - accuracy: 0.8757 - val_loss: 0.4779 - val_accuracy: 0.8179\n",
            "Epoch 8/50\n",
            "84/84 [==============================] - 1s 18ms/step - loss: 0.2821 - accuracy: 0.8824 - val_loss: 0.4531 - val_accuracy: 0.8266\n",
            "Epoch 9/50\n",
            "84/84 [==============================] - 2s 21ms/step - loss: 0.2324 - accuracy: 0.9082 - val_loss: 0.4415 - val_accuracy: 0.8341\n",
            "Epoch 10/50\n",
            "84/84 [==============================] - 2s 18ms/step - loss: 0.2162 - accuracy: 0.9119 - val_loss: 0.5070 - val_accuracy: 0.8303\n",
            "Epoch 11/50\n",
            "84/84 [==============================] - 1s 18ms/step - loss: 0.1953 - accuracy: 0.9174 - val_loss: 0.5371 - val_accuracy: 0.8229\n",
            "Epoch 12/50\n",
            "84/84 [==============================] - 1s 17ms/step - loss: 0.2062 - accuracy: 0.9162 - val_loss: 0.5584 - val_accuracy: 0.8471\n",
            "Epoch 13/50\n",
            "84/84 [==============================] - 1s 17ms/step - loss: 0.1676 - accuracy: 0.9255 - val_loss: 0.5084 - val_accuracy: 0.8440\n",
            "Epoch 14/50\n",
            "84/84 [==============================] - 1s 17ms/step - loss: 0.1604 - accuracy: 0.9277 - val_loss: 0.5412 - val_accuracy: 0.8403\n",
            "Epoch 15/50\n",
            "84/84 [==============================] - 1s 17ms/step - loss: 0.1538 - accuracy: 0.9339 - val_loss: 0.4871 - val_accuracy: 0.8515\n",
            "Epoch 16/50\n",
            "84/84 [==============================] - 1s 17ms/step - loss: 0.1236 - accuracy: 0.9473 - val_loss: 0.6721 - val_accuracy: 0.8198\n",
            "Epoch 17/50\n",
            "84/84 [==============================] - 1s 18ms/step - loss: 0.1334 - accuracy: 0.9373 - val_loss: 0.5091 - val_accuracy: 0.8521\n",
            "Epoch 18/50\n",
            "84/84 [==============================] - 2s 18ms/step - loss: 0.1196 - accuracy: 0.9407 - val_loss: 0.5957 - val_accuracy: 0.8533\n",
            "Epoch 19/50\n",
            "84/84 [==============================] - 2s 18ms/step - loss: 0.1100 - accuracy: 0.9483 - val_loss: 0.6799 - val_accuracy: 0.8533\n",
            "84/84 [==============================] - 1s 5ms/step - loss: 1.7856 - accuracy: 0.6550\n",
            "Epoch 1/50\n",
            "84/84 [==============================] - 5s 30ms/step - loss: 0.8850 - accuracy: 0.5729 - val_loss: 0.7749 - val_accuracy: 0.6538\n",
            "Epoch 2/50\n",
            "84/84 [==============================] - 1s 18ms/step - loss: 0.7432 - accuracy: 0.6582 - val_loss: 0.6509 - val_accuracy: 0.7278\n",
            "Epoch 3/50\n",
            "84/84 [==============================] - 2s 18ms/step - loss: 0.5930 - accuracy: 0.7531 - val_loss: 0.5520 - val_accuracy: 0.7750\n",
            "Epoch 4/50\n",
            "84/84 [==============================] - 1s 18ms/step - loss: 0.4751 - accuracy: 0.8192 - val_loss: 0.5363 - val_accuracy: 0.7924\n",
            "Epoch 5/50\n",
            "84/84 [==============================] - 1s 18ms/step - loss: 0.3934 - accuracy: 0.8490 - val_loss: 0.5179 - val_accuracy: 0.8017\n",
            "Epoch 6/50\n",
            "84/84 [==============================] - 1s 17ms/step - loss: 0.3315 - accuracy: 0.8745 - val_loss: 0.4789 - val_accuracy: 0.8191\n",
            "Epoch 7/50\n",
            "84/84 [==============================] - 1s 18ms/step - loss: 0.2842 - accuracy: 0.8876 - val_loss: 0.4677 - val_accuracy: 0.8390\n",
            "Epoch 8/50\n",
            "84/84 [==============================] - 1s 18ms/step - loss: 0.2441 - accuracy: 0.9051 - val_loss: 0.4821 - val_accuracy: 0.8459\n",
            "Epoch 9/50\n",
            "84/84 [==============================] - 2s 18ms/step - loss: 0.2209 - accuracy: 0.9122 - val_loss: 0.4475 - val_accuracy: 0.8508\n",
            "Epoch 10/50\n",
            "84/84 [==============================] - 2s 18ms/step - loss: 0.2042 - accuracy: 0.9146 - val_loss: 0.4718 - val_accuracy: 0.8595\n",
            "Epoch 11/50\n",
            "84/84 [==============================] - 2s 18ms/step - loss: 0.1730 - accuracy: 0.9356 - val_loss: 0.4591 - val_accuracy: 0.8602\n",
            "Epoch 12/50\n",
            "84/84 [==============================] - 2s 18ms/step - loss: 0.1735 - accuracy: 0.9315 - val_loss: 0.5192 - val_accuracy: 0.8626\n",
            "Epoch 13/50\n",
            "84/84 [==============================] - 1s 18ms/step - loss: 0.1597 - accuracy: 0.9335 - val_loss: 0.5285 - val_accuracy: 0.8446\n",
            "Epoch 14/50\n",
            "84/84 [==============================] - 2s 18ms/step - loss: 0.1351 - accuracy: 0.9388 - val_loss: 0.5127 - val_accuracy: 0.8577\n",
            "Epoch 15/50\n",
            "84/84 [==============================] - 2s 19ms/step - loss: 0.1227 - accuracy: 0.9503 - val_loss: 0.5416 - val_accuracy: 0.8664\n",
            "Epoch 16/50\n",
            "84/84 [==============================] - 2s 18ms/step - loss: 0.1244 - accuracy: 0.9463 - val_loss: 0.6569 - val_accuracy: 0.8595\n",
            "Epoch 17/50\n",
            "84/84 [==============================] - 2s 18ms/step - loss: 0.1088 - accuracy: 0.9536 - val_loss: 0.5275 - val_accuracy: 0.8670\n",
            "Epoch 18/50\n",
            "84/84 [==============================] - 2s 19ms/step - loss: 0.1076 - accuracy: 0.9515 - val_loss: 0.6891 - val_accuracy: 0.8589\n",
            "Epoch 19/50\n",
            "84/84 [==============================] - 2s 18ms/step - loss: 0.0988 - accuracy: 0.9568 - val_loss: 0.6623 - val_accuracy: 0.8602\n",
            "84/84 [==============================] - 1s 5ms/step - loss: 1.7147 - accuracy: 0.6606\n",
            "Epoch 1/50\n",
            "84/84 [==============================] - 5s 28ms/step - loss: 0.8734 - accuracy: 0.6016 - val_loss: 0.7617 - val_accuracy: 0.6669\n",
            "Epoch 2/50\n",
            "84/84 [==============================] - 2s 20ms/step - loss: 0.7123 - accuracy: 0.6780 - val_loss: 0.6475 - val_accuracy: 0.7253\n",
            "Epoch 3/50\n",
            "84/84 [==============================] - 2s 20ms/step - loss: 0.5599 - accuracy: 0.7674 - val_loss: 0.5695 - val_accuracy: 0.7850\n",
            "Epoch 4/50\n",
            "84/84 [==============================] - 2s 20ms/step - loss: 0.4545 - accuracy: 0.8299 - val_loss: 0.5945 - val_accuracy: 0.7676\n",
            "Epoch 5/50\n",
            "84/84 [==============================] - 2s 20ms/step - loss: 0.3561 - accuracy: 0.8650 - val_loss: 0.4886 - val_accuracy: 0.8204\n",
            "Epoch 6/50\n",
            "84/84 [==============================] - 2s 19ms/step - loss: 0.3129 - accuracy: 0.8759 - val_loss: 0.4846 - val_accuracy: 0.8260\n",
            "Epoch 7/50\n",
            "84/84 [==============================] - 2s 18ms/step - loss: 0.2607 - accuracy: 0.9054 - val_loss: 0.5279 - val_accuracy: 0.8235\n",
            "Epoch 8/50\n",
            "84/84 [==============================] - 2s 19ms/step - loss: 0.2441 - accuracy: 0.9026 - val_loss: 0.4955 - val_accuracy: 0.8310\n",
            "Epoch 9/50\n",
            "84/84 [==============================] - 2s 19ms/step - loss: 0.2217 - accuracy: 0.9099 - val_loss: 0.5111 - val_accuracy: 0.8397\n",
            "Epoch 10/50\n",
            "84/84 [==============================] - 2s 20ms/step - loss: 0.1920 - accuracy: 0.9256 - val_loss: 0.4830 - val_accuracy: 0.8285\n",
            "Epoch 11/50\n",
            "84/84 [==============================] - 2s 19ms/step - loss: 0.1839 - accuracy: 0.9267 - val_loss: 0.5371 - val_accuracy: 0.8384\n",
            "Epoch 12/50\n",
            "84/84 [==============================] - 2s 19ms/step - loss: 0.1732 - accuracy: 0.9274 - val_loss: 0.4763 - val_accuracy: 0.8452\n",
            "Epoch 13/50\n",
            "84/84 [==============================] - 2s 19ms/step - loss: 0.1525 - accuracy: 0.9387 - val_loss: 0.5275 - val_accuracy: 0.8378\n",
            "Epoch 14/50\n",
            "84/84 [==============================] - 2s 19ms/step - loss: 0.1348 - accuracy: 0.9422 - val_loss: 0.5220 - val_accuracy: 0.8459\n",
            "Epoch 15/50\n",
            "84/84 [==============================] - 2s 19ms/step - loss: 0.1295 - accuracy: 0.9471 - val_loss: 0.5454 - val_accuracy: 0.8471\n",
            "Epoch 16/50\n",
            "84/84 [==============================] - 2s 19ms/step - loss: 0.1222 - accuracy: 0.9467 - val_loss: 0.6205 - val_accuracy: 0.8484\n",
            "Epoch 17/50\n",
            "84/84 [==============================] - 2s 20ms/step - loss: 0.1137 - accuracy: 0.9444 - val_loss: 0.7175 - val_accuracy: 0.8539\n",
            "Epoch 18/50\n",
            "84/84 [==============================] - 2s 19ms/step - loss: 0.1027 - accuracy: 0.9526 - val_loss: 0.6621 - val_accuracy: 0.8521\n",
            "Epoch 19/50\n",
            "84/84 [==============================] - 2s 19ms/step - loss: 0.0980 - accuracy: 0.9558 - val_loss: 0.6326 - val_accuracy: 0.8546\n",
            "Epoch 20/50\n",
            "84/84 [==============================] - 2s 19ms/step - loss: 0.0957 - accuracy: 0.9531 - val_loss: 0.7667 - val_accuracy: 0.8546\n",
            "Epoch 21/50\n",
            "84/84 [==============================] - 2s 19ms/step - loss: 0.0991 - accuracy: 0.9594 - val_loss: 0.6913 - val_accuracy: 0.8508\n",
            "Epoch 22/50\n",
            "84/84 [==============================] - 2s 19ms/step - loss: 0.0799 - accuracy: 0.9629 - val_loss: 0.6896 - val_accuracy: 0.8577\n",
            "84/84 [==============================] - 1s 6ms/step - loss: 1.8855 - accuracy: 0.6369\n",
            "Epoch 1/50\n",
            "84/84 [==============================] - 6s 36ms/step - loss: 0.9128 - accuracy: 0.5694 - val_loss: 0.8017 - val_accuracy: 0.6103\n",
            "Epoch 2/50\n",
            "84/84 [==============================] - 2s 27ms/step - loss: 0.7372 - accuracy: 0.6442 - val_loss: 0.6314 - val_accuracy: 0.7383\n",
            "Epoch 3/50\n",
            "84/84 [==============================] - 2s 27ms/step - loss: 0.5600 - accuracy: 0.7636 - val_loss: 0.4870 - val_accuracy: 0.8117\n",
            "Epoch 4/50\n",
            "84/84 [==============================] - 2s 27ms/step - loss: 0.3303 - accuracy: 0.8795 - val_loss: 0.4242 - val_accuracy: 0.8434\n",
            "Epoch 5/50\n",
            "84/84 [==============================] - 2s 27ms/step - loss: 0.2414 - accuracy: 0.9079 - val_loss: 0.4526 - val_accuracy: 0.8502\n",
            "Epoch 6/50\n",
            "84/84 [==============================] - 2s 27ms/step - loss: 0.1880 - accuracy: 0.9289 - val_loss: 0.4484 - val_accuracy: 0.8452\n",
            "Epoch 7/50\n",
            "84/84 [==============================] - 2s 27ms/step - loss: 0.1665 - accuracy: 0.9362 - val_loss: 0.4863 - val_accuracy: 0.8384\n",
            "Epoch 8/50\n",
            "84/84 [==============================] - 2s 27ms/step - loss: 0.1551 - accuracy: 0.9353 - val_loss: 0.4854 - val_accuracy: 0.8533\n",
            "Epoch 9/50\n",
            "84/84 [==============================] - 2s 27ms/step - loss: 0.1267 - accuracy: 0.9442 - val_loss: 0.4847 - val_accuracy: 0.8564\n",
            "Epoch 10/50\n",
            "84/84 [==============================] - 2s 28ms/step - loss: 0.1198 - accuracy: 0.9461 - val_loss: 0.4819 - val_accuracy: 0.8589\n",
            "Epoch 11/50\n",
            "84/84 [==============================] - 2s 27ms/step - loss: 0.1036 - accuracy: 0.9508 - val_loss: 0.5501 - val_accuracy: 0.8633\n",
            "Epoch 12/50\n",
            "84/84 [==============================] - 2s 27ms/step - loss: 0.0928 - accuracy: 0.9561 - val_loss: 0.5684 - val_accuracy: 0.8689\n",
            "Epoch 13/50\n",
            "84/84 [==============================] - 2s 28ms/step - loss: 0.0955 - accuracy: 0.9536 - val_loss: 0.5966 - val_accuracy: 0.8614\n",
            "Epoch 14/50\n",
            "84/84 [==============================] - 2s 28ms/step - loss: 0.0883 - accuracy: 0.9584 - val_loss: 0.6808 - val_accuracy: 0.8583\n",
            "84/84 [==============================] - 1s 5ms/step - loss: 2.1057 - accuracy: 0.6457\n",
            "Epoch 1/50\n",
            "84/84 [==============================] - 6s 35ms/step - loss: 0.9212 - accuracy: 0.5919 - val_loss: 0.7822 - val_accuracy: 0.6128\n",
            "Epoch 2/50\n",
            "84/84 [==============================] - 2s 27ms/step - loss: 0.7295 - accuracy: 0.6583 - val_loss: 0.6262 - val_accuracy: 0.7352\n",
            "Epoch 3/50\n",
            "84/84 [==============================] - 2s 28ms/step - loss: 0.5347 - accuracy: 0.7843 - val_loss: 0.5943 - val_accuracy: 0.7526\n",
            "Epoch 4/50\n",
            "84/84 [==============================] - 2s 27ms/step - loss: 0.3739 - accuracy: 0.8649 - val_loss: 0.4656 - val_accuracy: 0.8397\n",
            "Epoch 5/50\n",
            "84/84 [==============================] - 2s 28ms/step - loss: 0.2619 - accuracy: 0.9094 - val_loss: 0.4686 - val_accuracy: 0.8378\n",
            "Epoch 6/50\n",
            "84/84 [==============================] - 2s 28ms/step - loss: 0.2037 - accuracy: 0.9249 - val_loss: 0.4528 - val_accuracy: 0.8527\n",
            "Epoch 7/50\n",
            "84/84 [==============================] - 2s 28ms/step - loss: 0.1683 - accuracy: 0.9380 - val_loss: 0.4938 - val_accuracy: 0.8595\n",
            "Epoch 8/50\n",
            "84/84 [==============================] - 2s 29ms/step - loss: 0.1506 - accuracy: 0.9430 - val_loss: 0.4839 - val_accuracy: 0.8564\n",
            "Epoch 9/50\n",
            "84/84 [==============================] - 2s 28ms/step - loss: 0.1372 - accuracy: 0.9466 - val_loss: 0.6014 - val_accuracy: 0.8452\n",
            "Epoch 10/50\n",
            "84/84 [==============================] - 2s 27ms/step - loss: 0.1243 - accuracy: 0.9453 - val_loss: 0.5755 - val_accuracy: 0.8595\n",
            "Epoch 11/50\n",
            "84/84 [==============================] - 2s 28ms/step - loss: 0.1114 - accuracy: 0.9493 - val_loss: 0.5955 - val_accuracy: 0.8558\n",
            "Epoch 12/50\n",
            "84/84 [==============================] - 2s 28ms/step - loss: 0.1117 - accuracy: 0.9475 - val_loss: 0.6107 - val_accuracy: 0.8595\n",
            "Epoch 13/50\n",
            "84/84 [==============================] - 2s 28ms/step - loss: 0.0962 - accuracy: 0.9569 - val_loss: 0.6062 - val_accuracy: 0.8577\n",
            "Epoch 14/50\n",
            "84/84 [==============================] - 2s 29ms/step - loss: 0.0972 - accuracy: 0.9548 - val_loss: 0.6750 - val_accuracy: 0.8614\n",
            "Epoch 15/50\n",
            "84/84 [==============================] - 2s 27ms/step - loss: 0.0931 - accuracy: 0.9552 - val_loss: 0.6873 - val_accuracy: 0.8571\n",
            "Epoch 16/50\n",
            "84/84 [==============================] - 2s 27ms/step - loss: 0.0828 - accuracy: 0.9566 - val_loss: 0.8405 - val_accuracy: 0.8614\n",
            "84/84 [==============================] - 1s 6ms/step - loss: 2.0378 - accuracy: 0.6807\n",
            "Epoch 1/50\n",
            "84/84 [==============================] - 6s 36ms/step - loss: 0.8930 - accuracy: 0.6015 - val_loss: 0.7178 - val_accuracy: 0.6718\n",
            "Epoch 2/50\n",
            "84/84 [==============================] - 2s 27ms/step - loss: 0.6737 - accuracy: 0.7064 - val_loss: 0.5977 - val_accuracy: 0.7557\n",
            "Epoch 3/50\n",
            "84/84 [==============================] - 2s 27ms/step - loss: 0.4749 - accuracy: 0.8095 - val_loss: 0.5005 - val_accuracy: 0.8204\n",
            "Epoch 4/50\n",
            "84/84 [==============================] - 2s 27ms/step - loss: 0.3166 - accuracy: 0.8872 - val_loss: 0.5102 - val_accuracy: 0.8297\n",
            "Epoch 5/50\n",
            "84/84 [==============================] - 2s 28ms/step - loss: 0.2245 - accuracy: 0.9141 - val_loss: 0.4747 - val_accuracy: 0.8365\n",
            "Epoch 6/50\n",
            "84/84 [==============================] - 2s 27ms/step - loss: 0.1969 - accuracy: 0.9324 - val_loss: 0.5157 - val_accuracy: 0.8527\n",
            "Epoch 7/50\n",
            "84/84 [==============================] - 2s 27ms/step - loss: 0.1566 - accuracy: 0.9372 - val_loss: 0.5178 - val_accuracy: 0.8564\n",
            "Epoch 8/50\n",
            "84/84 [==============================] - 2s 28ms/step - loss: 0.1490 - accuracy: 0.9434 - val_loss: 0.4944 - val_accuracy: 0.8521\n",
            "Epoch 9/50\n",
            "84/84 [==============================] - 3s 31ms/step - loss: 0.1398 - accuracy: 0.9446 - val_loss: 0.5030 - val_accuracy: 0.8589\n",
            "Epoch 10/50\n",
            "84/84 [==============================] - 2s 27ms/step - loss: 0.1245 - accuracy: 0.9445 - val_loss: 0.5106 - val_accuracy: 0.8564\n",
            "Epoch 11/50\n",
            "84/84 [==============================] - 2s 27ms/step - loss: 0.1265 - accuracy: 0.9488 - val_loss: 0.5583 - val_accuracy: 0.8552\n",
            "Epoch 12/50\n",
            "84/84 [==============================] - 2s 28ms/step - loss: 0.1057 - accuracy: 0.9489 - val_loss: 0.5990 - val_accuracy: 0.8571\n",
            "Epoch 13/50\n",
            "84/84 [==============================] - 2s 28ms/step - loss: 0.1005 - accuracy: 0.9537 - val_loss: 0.5877 - val_accuracy: 0.8577\n",
            "Epoch 14/50\n",
            "84/84 [==============================] - 2s 27ms/step - loss: 0.0871 - accuracy: 0.9616 - val_loss: 0.6358 - val_accuracy: 0.8595\n",
            "Epoch 15/50\n",
            "84/84 [==============================] - 2s 26ms/step - loss: 0.0862 - accuracy: 0.9570 - val_loss: 0.7404 - val_accuracy: 0.8595\n",
            "84/84 [==============================] - 1s 6ms/step - loss: 2.0800 - accuracy: 0.6425\n",
            "Epoch 1/50\n",
            "84/84 [==============================] - 6s 37ms/step - loss: 0.9240 - accuracy: 0.6042 - val_loss: 0.7540 - val_accuracy: 0.6750\n",
            "Epoch 2/50\n",
            "84/84 [==============================] - 2s 24ms/step - loss: 0.7208 - accuracy: 0.6856 - val_loss: 0.6313 - val_accuracy: 0.7209\n",
            "Epoch 3/50\n",
            "84/84 [==============================] - 2s 25ms/step - loss: 0.5852 - accuracy: 0.7560 - val_loss: 0.5834 - val_accuracy: 0.7526\n",
            "Epoch 4/50\n",
            "84/84 [==============================] - 2s 25ms/step - loss: 0.4503 - accuracy: 0.8261 - val_loss: 0.4663 - val_accuracy: 0.8142\n",
            "Epoch 5/50\n",
            "84/84 [==============================] - 2s 25ms/step - loss: 0.3737 - accuracy: 0.8627 - val_loss: 0.4827 - val_accuracy: 0.8185\n",
            "Epoch 6/50\n",
            "84/84 [==============================] - 2s 24ms/step - loss: 0.2879 - accuracy: 0.8901 - val_loss: 0.4408 - val_accuracy: 0.8322\n",
            "Epoch 7/50\n",
            "84/84 [==============================] - 2s 24ms/step - loss: 0.2403 - accuracy: 0.9078 - val_loss: 0.4348 - val_accuracy: 0.8415\n",
            "Epoch 8/50\n",
            "84/84 [==============================] - 2s 25ms/step - loss: 0.2226 - accuracy: 0.9099 - val_loss: 0.5258 - val_accuracy: 0.8111\n",
            "Epoch 9/50\n",
            "84/84 [==============================] - 2s 25ms/step - loss: 0.1974 - accuracy: 0.9223 - val_loss: 0.4403 - val_accuracy: 0.8378\n",
            "Epoch 10/50\n",
            "84/84 [==============================] - 2s 25ms/step - loss: 0.1768 - accuracy: 0.9210 - val_loss: 0.4850 - val_accuracy: 0.8515\n",
            "Epoch 11/50\n",
            "84/84 [==============================] - 2s 25ms/step - loss: 0.1594 - accuracy: 0.9268 - val_loss: 0.4952 - val_accuracy: 0.8515\n",
            "Epoch 12/50\n",
            "84/84 [==============================] - 2s 25ms/step - loss: 0.1418 - accuracy: 0.9400 - val_loss: 0.5034 - val_accuracy: 0.8508\n",
            "Epoch 13/50\n",
            "84/84 [==============================] - 2s 24ms/step - loss: 0.1355 - accuracy: 0.9394 - val_loss: 0.5637 - val_accuracy: 0.8539\n",
            "Epoch 14/50\n",
            "84/84 [==============================] - 2s 24ms/step - loss: 0.1205 - accuracy: 0.9437 - val_loss: 0.5587 - val_accuracy: 0.8459\n",
            "Epoch 15/50\n",
            "84/84 [==============================] - 2s 25ms/step - loss: 0.1099 - accuracy: 0.9459 - val_loss: 0.6310 - val_accuracy: 0.8465\n",
            "Epoch 16/50\n",
            "84/84 [==============================] - 2s 25ms/step - loss: 0.1057 - accuracy: 0.9513 - val_loss: 0.5388 - val_accuracy: 0.8620\n",
            "Epoch 17/50\n",
            "84/84 [==============================] - 2s 25ms/step - loss: 0.1010 - accuracy: 0.9527 - val_loss: 0.5757 - val_accuracy: 0.8571\n",
            "84/84 [==============================] - 1s 6ms/step - loss: 1.5903 - accuracy: 0.6412\n",
            "Epoch 1/50\n",
            "84/84 [==============================] - 6s 33ms/step - loss: 0.8853 - accuracy: 0.5627 - val_loss: 0.7561 - val_accuracy: 0.6588\n",
            "Epoch 2/50\n",
            "84/84 [==============================] - 2s 25ms/step - loss: 0.7102 - accuracy: 0.6906 - val_loss: 0.6466 - val_accuracy: 0.7421\n",
            "Epoch 3/50\n",
            "84/84 [==============================] - 2s 24ms/step - loss: 0.5564 - accuracy: 0.7681 - val_loss: 0.5411 - val_accuracy: 0.7986\n",
            "Epoch 4/50\n",
            "84/84 [==============================] - 2s 25ms/step - loss: 0.4137 - accuracy: 0.8403 - val_loss: 0.4655 - val_accuracy: 0.8260\n",
            "Epoch 5/50\n",
            "84/84 [==============================] - 2s 25ms/step - loss: 0.3324 - accuracy: 0.8803 - val_loss: 0.4750 - val_accuracy: 0.8297\n",
            "Epoch 6/50\n",
            "84/84 [==============================] - 2s 25ms/step - loss: 0.2624 - accuracy: 0.8929 - val_loss: 0.5080 - val_accuracy: 0.8316\n",
            "Epoch 7/50\n",
            "84/84 [==============================] - 2s 25ms/step - loss: 0.2260 - accuracy: 0.9123 - val_loss: 0.5017 - val_accuracy: 0.8446\n",
            "Epoch 8/50\n",
            "84/84 [==============================] - 2s 24ms/step - loss: 0.2012 - accuracy: 0.9229 - val_loss: 0.5374 - val_accuracy: 0.8465\n",
            "Epoch 9/50\n",
            "84/84 [==============================] - 2s 24ms/step - loss: 0.1739 - accuracy: 0.9345 - val_loss: 0.4873 - val_accuracy: 0.8552\n",
            "Epoch 10/50\n",
            "84/84 [==============================] - 2s 25ms/step - loss: 0.1456 - accuracy: 0.9424 - val_loss: 0.5098 - val_accuracy: 0.8465\n",
            "Epoch 11/50\n",
            "84/84 [==============================] - 2s 25ms/step - loss: 0.1343 - accuracy: 0.9444 - val_loss: 0.7050 - val_accuracy: 0.7999\n",
            "Epoch 12/50\n",
            "84/84 [==============================] - 2s 24ms/step - loss: 0.1306 - accuracy: 0.9451 - val_loss: 0.4793 - val_accuracy: 0.8515\n",
            "Epoch 13/50\n",
            "84/84 [==============================] - 2s 25ms/step - loss: 0.1199 - accuracy: 0.9492 - val_loss: 0.6260 - val_accuracy: 0.8664\n",
            "Epoch 14/50\n",
            "84/84 [==============================] - 2s 25ms/step - loss: 0.1039 - accuracy: 0.9508 - val_loss: 0.6022 - val_accuracy: 0.8639\n",
            "84/84 [==============================] - 1s 6ms/step - loss: 1.4669 - accuracy: 0.6781\n",
            "Epoch 1/50\n",
            "84/84 [==============================] - 6s 34ms/step - loss: 0.8748 - accuracy: 0.5762 - val_loss: 0.8309 - val_accuracy: 0.6482\n",
            "Epoch 2/50\n",
            "84/84 [==============================] - 2s 26ms/step - loss: 0.7089 - accuracy: 0.6806 - val_loss: 0.6571 - val_accuracy: 0.7259\n",
            "Epoch 3/50\n",
            "84/84 [==============================] - 2s 26ms/step - loss: 0.5177 - accuracy: 0.7898 - val_loss: 0.5821 - val_accuracy: 0.7458\n",
            "Epoch 4/50\n",
            "84/84 [==============================] - 2s 26ms/step - loss: 0.4097 - accuracy: 0.8428 - val_loss: 0.5040 - val_accuracy: 0.8048\n",
            "Epoch 5/50\n",
            "84/84 [==============================] - 2s 26ms/step - loss: 0.3390 - accuracy: 0.8642 - val_loss: 0.4799 - val_accuracy: 0.8278\n",
            "Epoch 6/50\n",
            "84/84 [==============================] - 2s 26ms/step - loss: 0.2844 - accuracy: 0.8856 - val_loss: 0.4889 - val_accuracy: 0.8241\n",
            "Epoch 7/50\n",
            "84/84 [==============================] - 2s 26ms/step - loss: 0.2659 - accuracy: 0.8969 - val_loss: 0.5095 - val_accuracy: 0.8390\n",
            "Epoch 8/50\n",
            "84/84 [==============================] - 2s 26ms/step - loss: 0.2124 - accuracy: 0.9156 - val_loss: 0.5415 - val_accuracy: 0.8397\n",
            "Epoch 9/50\n",
            "84/84 [==============================] - 2s 26ms/step - loss: 0.1927 - accuracy: 0.9257 - val_loss: 0.5158 - val_accuracy: 0.8390\n",
            "Epoch 10/50\n",
            "84/84 [==============================] - 2s 26ms/step - loss: 0.1691 - accuracy: 0.9271 - val_loss: 0.6300 - val_accuracy: 0.8440\n",
            "Epoch 11/50\n",
            "84/84 [==============================] - 2s 28ms/step - loss: 0.1465 - accuracy: 0.9362 - val_loss: 0.6918 - val_accuracy: 0.8421\n",
            "Epoch 12/50\n",
            "84/84 [==============================] - 2s 26ms/step - loss: 0.1390 - accuracy: 0.9390 - val_loss: 0.6520 - val_accuracy: 0.8428\n",
            "Epoch 13/50\n",
            "84/84 [==============================] - 2s 25ms/step - loss: 0.1242 - accuracy: 0.9472 - val_loss: 0.6692 - val_accuracy: 0.8390\n",
            "Epoch 14/50\n",
            "84/84 [==============================] - 2s 26ms/step - loss: 0.1172 - accuracy: 0.9461 - val_loss: 0.6999 - val_accuracy: 0.8521\n",
            "Epoch 15/50\n",
            "84/84 [==============================] - 2s 26ms/step - loss: 0.1168 - accuracy: 0.9489 - val_loss: 0.6761 - val_accuracy: 0.8484\n",
            "84/84 [==============================] - 1s 6ms/step - loss: 1.7980 - accuracy: 0.6358\n",
            "Epoch 1/50\n",
            "84/84 [==============================] - 7s 51ms/step - loss: 0.8802 - accuracy: 0.5995 - val_loss: 0.7447 - val_accuracy: 0.6327\n",
            "Epoch 2/50\n",
            "84/84 [==============================] - 4s 43ms/step - loss: 0.6448 - accuracy: 0.7160 - val_loss: 0.5270 - val_accuracy: 0.7906\n",
            "Epoch 3/50\n",
            "84/84 [==============================] - 4s 43ms/step - loss: 0.3952 - accuracy: 0.8463 - val_loss: 0.4690 - val_accuracy: 0.8210\n",
            "Epoch 4/50\n",
            "84/84 [==============================] - 4s 47ms/step - loss: 0.2755 - accuracy: 0.8935 - val_loss: 0.4523 - val_accuracy: 0.8446\n",
            "Epoch 5/50\n",
            "84/84 [==============================] - 4s 44ms/step - loss: 0.2161 - accuracy: 0.9115 - val_loss: 0.4483 - val_accuracy: 0.8328\n",
            "Epoch 6/50\n",
            "84/84 [==============================] - 4s 44ms/step - loss: 0.1877 - accuracy: 0.9272 - val_loss: 0.4551 - val_accuracy: 0.8496\n",
            "Epoch 7/50\n",
            "84/84 [==============================] - 4s 44ms/step - loss: 0.1628 - accuracy: 0.9344 - val_loss: 0.4734 - val_accuracy: 0.8521\n",
            "Epoch 8/50\n",
            "84/84 [==============================] - 4s 44ms/step - loss: 0.1362 - accuracy: 0.9423 - val_loss: 0.5018 - val_accuracy: 0.8651\n",
            "Epoch 9/50\n",
            "84/84 [==============================] - 4s 44ms/step - loss: 0.1207 - accuracy: 0.9502 - val_loss: 0.5613 - val_accuracy: 0.8496\n",
            "Epoch 10/50\n",
            "84/84 [==============================] - 4s 44ms/step - loss: 0.1150 - accuracy: 0.9467 - val_loss: 0.5124 - val_accuracy: 0.8521\n",
            "Epoch 11/50\n",
            "84/84 [==============================] - 4s 42ms/step - loss: 0.1006 - accuracy: 0.9536 - val_loss: 0.6529 - val_accuracy: 0.8595\n",
            "Epoch 12/50\n",
            "84/84 [==============================] - 4s 43ms/step - loss: 0.0925 - accuracy: 0.9562 - val_loss: 0.5720 - val_accuracy: 0.8676\n",
            "Epoch 13/50\n",
            "84/84 [==============================] - 4s 43ms/step - loss: 0.0815 - accuracy: 0.9592 - val_loss: 0.6868 - val_accuracy: 0.8633\n",
            "Epoch 14/50\n",
            "84/84 [==============================] - 4s 43ms/step - loss: 0.0842 - accuracy: 0.9567 - val_loss: 0.6258 - val_accuracy: 0.8639\n",
            "Epoch 15/50\n",
            "84/84 [==============================] - 4s 43ms/step - loss: 0.0874 - accuracy: 0.9561 - val_loss: 0.6006 - val_accuracy: 0.8626\n",
            "84/84 [==============================] - 1s 6ms/step - loss: 1.7276 - accuracy: 0.6572\n",
            "Epoch 1/50\n",
            "84/84 [==============================] - 7s 56ms/step - loss: 0.8778 - accuracy: 0.5839 - val_loss: 0.7079 - val_accuracy: 0.6805\n",
            "Epoch 2/50\n",
            "84/84 [==============================] - 4s 44ms/step - loss: 0.6509 - accuracy: 0.7340 - val_loss: 0.5434 - val_accuracy: 0.7881\n",
            "Epoch 3/50\n",
            "84/84 [==============================] - 4s 44ms/step - loss: 0.4068 - accuracy: 0.8484 - val_loss: 0.4693 - val_accuracy: 0.8241\n",
            "Epoch 4/50\n",
            "84/84 [==============================] - 4s 44ms/step - loss: 0.2605 - accuracy: 0.8986 - val_loss: 0.4258 - val_accuracy: 0.8496\n",
            "Epoch 5/50\n",
            "84/84 [==============================] - 4s 44ms/step - loss: 0.1898 - accuracy: 0.9275 - val_loss: 0.4434 - val_accuracy: 0.8508\n",
            "Epoch 6/50\n",
            "84/84 [==============================] - 4s 44ms/step - loss: 0.1585 - accuracy: 0.9374 - val_loss: 0.5045 - val_accuracy: 0.8521\n",
            "Epoch 7/50\n",
            "84/84 [==============================] - 4s 43ms/step - loss: 0.1478 - accuracy: 0.9385 - val_loss: 0.5993 - val_accuracy: 0.8595\n",
            "Epoch 8/50\n",
            "84/84 [==============================] - 4s 43ms/step - loss: 0.1241 - accuracy: 0.9476 - val_loss: 0.5294 - val_accuracy: 0.8626\n",
            "Epoch 9/50\n",
            "84/84 [==============================] - 4s 44ms/step - loss: 0.1166 - accuracy: 0.9422 - val_loss: 0.6362 - val_accuracy: 0.8589\n",
            "Epoch 10/50\n",
            "84/84 [==============================] - 4s 43ms/step - loss: 0.1174 - accuracy: 0.9436 - val_loss: 0.6049 - val_accuracy: 0.8589\n",
            "Epoch 11/50\n",
            "84/84 [==============================] - 4s 43ms/step - loss: 0.0921 - accuracy: 0.9526 - val_loss: 0.6994 - val_accuracy: 0.8645\n",
            "Epoch 12/50\n",
            "84/84 [==============================] - 4s 43ms/step - loss: 0.0906 - accuracy: 0.9555 - val_loss: 0.6743 - val_accuracy: 0.8658\n",
            "Epoch 13/50\n",
            "84/84 [==============================] - 4s 43ms/step - loss: 0.0887 - accuracy: 0.9577 - val_loss: 0.6661 - val_accuracy: 0.8633\n",
            "Epoch 14/50\n",
            "84/84 [==============================] - 4s 44ms/step - loss: 0.0958 - accuracy: 0.9551 - val_loss: 0.7614 - val_accuracy: 0.8496\n",
            "84/84 [==============================] - 1s 6ms/step - loss: 2.0141 - accuracy: 0.6606\n",
            "Epoch 1/50\n",
            "84/84 [==============================] - 7s 52ms/step - loss: 0.8926 - accuracy: 0.5728 - val_loss: 0.7411 - val_accuracy: 0.6544\n",
            "Epoch 2/50\n",
            "84/84 [==============================] - 4s 43ms/step - loss: 0.6523 - accuracy: 0.7138 - val_loss: 0.5347 - val_accuracy: 0.7937\n",
            "Epoch 3/50\n",
            "84/84 [==============================] - 4s 44ms/step - loss: 0.3942 - accuracy: 0.8516 - val_loss: 0.4969 - val_accuracy: 0.8135\n",
            "Epoch 4/50\n",
            "84/84 [==============================] - 4s 44ms/step - loss: 0.2703 - accuracy: 0.9006 - val_loss: 0.4657 - val_accuracy: 0.8328\n",
            "Epoch 5/50\n",
            "84/84 [==============================] - 4s 44ms/step - loss: 0.2140 - accuracy: 0.9239 - val_loss: 0.5256 - val_accuracy: 0.8384\n",
            "Epoch 6/50\n",
            "84/84 [==============================] - 4s 43ms/step - loss: 0.1884 - accuracy: 0.9285 - val_loss: 0.4837 - val_accuracy: 0.8484\n",
            "Epoch 7/50\n",
            "84/84 [==============================] - 4s 42ms/step - loss: 0.1430 - accuracy: 0.9394 - val_loss: 0.4939 - val_accuracy: 0.8434\n",
            "Epoch 8/50\n",
            "84/84 [==============================] - 4s 43ms/step - loss: 0.1221 - accuracy: 0.9473 - val_loss: 0.5551 - val_accuracy: 0.8496\n",
            "Epoch 9/50\n",
            "84/84 [==============================] - 4s 43ms/step - loss: 0.1146 - accuracy: 0.9514 - val_loss: 0.5953 - val_accuracy: 0.8527\n",
            "Epoch 10/50\n",
            "84/84 [==============================] - 4s 43ms/step - loss: 0.1042 - accuracy: 0.9469 - val_loss: 0.6358 - val_accuracy: 0.8508\n",
            "Epoch 11/50\n",
            "84/84 [==============================] - 4s 43ms/step - loss: 0.0933 - accuracy: 0.9533 - val_loss: 0.7087 - val_accuracy: 0.8484\n",
            "Epoch 12/50\n",
            "84/84 [==============================] - 4s 44ms/step - loss: 0.0875 - accuracy: 0.9597 - val_loss: 0.7090 - val_accuracy: 0.8546\n",
            "Epoch 13/50\n",
            "84/84 [==============================] - 4s 44ms/step - loss: 0.0916 - accuracy: 0.9493 - val_loss: 0.8203 - val_accuracy: 0.8521\n",
            "Epoch 14/50\n",
            "84/84 [==============================] - 4s 43ms/step - loss: 0.1078 - accuracy: 0.9580 - val_loss: 0.5859 - val_accuracy: 0.8502\n",
            "84/84 [==============================] - 1s 6ms/step - loss: 1.5672 - accuracy: 0.6433\n",
            "Epoch 1/50\n",
            "84/84 [==============================] - 5s 24ms/step - loss: 0.8762 - accuracy: 0.6034 - val_loss: 0.7728 - val_accuracy: 0.6544\n",
            "Epoch 2/50\n",
            "84/84 [==============================] - 1s 16ms/step - loss: 0.7284 - accuracy: 0.6677 - val_loss: 0.6689 - val_accuracy: 0.6892\n",
            "Epoch 3/50\n",
            "84/84 [==============================] - 1s 16ms/step - loss: 0.5654 - accuracy: 0.7621 - val_loss: 0.5570 - val_accuracy: 0.7682\n",
            "Epoch 4/50\n",
            "84/84 [==============================] - 1s 16ms/step - loss: 0.4627 - accuracy: 0.8063 - val_loss: 0.4960 - val_accuracy: 0.7999\n",
            "Epoch 5/50\n",
            "84/84 [==============================] - 1s 16ms/step - loss: 0.3993 - accuracy: 0.8378 - val_loss: 0.4985 - val_accuracy: 0.8129\n",
            "Epoch 6/50\n",
            "84/84 [==============================] - 1s 15ms/step - loss: 0.3528 - accuracy: 0.8566 - val_loss: 0.4646 - val_accuracy: 0.8204\n",
            "Epoch 7/50\n",
            "84/84 [==============================] - 1s 16ms/step - loss: 0.3004 - accuracy: 0.8823 - val_loss: 0.4583 - val_accuracy: 0.8272\n",
            "Epoch 8/50\n",
            "84/84 [==============================] - 1s 16ms/step - loss: 0.2764 - accuracy: 0.8853 - val_loss: 0.4651 - val_accuracy: 0.8254\n",
            "Epoch 9/50\n",
            "84/84 [==============================] - 1s 16ms/step - loss: 0.2579 - accuracy: 0.9001 - val_loss: 0.4719 - val_accuracy: 0.8117\n",
            "Epoch 10/50\n",
            "84/84 [==============================] - 1s 16ms/step - loss: 0.2337 - accuracy: 0.9097 - val_loss: 0.4408 - val_accuracy: 0.8403\n",
            "Epoch 11/50\n",
            "84/84 [==============================] - 1s 18ms/step - loss: 0.2072 - accuracy: 0.9163 - val_loss: 0.4606 - val_accuracy: 0.8365\n",
            "Epoch 12/50\n",
            "84/84 [==============================] - 1s 16ms/step - loss: 0.1902 - accuracy: 0.9240 - val_loss: 0.4749 - val_accuracy: 0.8390\n",
            "Epoch 13/50\n",
            "84/84 [==============================] - 1s 16ms/step - loss: 0.1891 - accuracy: 0.9232 - val_loss: 0.4466 - val_accuracy: 0.8421\n",
            "Epoch 14/50\n",
            "84/84 [==============================] - 1s 16ms/step - loss: 0.1646 - accuracy: 0.9300 - val_loss: 0.4782 - val_accuracy: 0.8428\n",
            "Epoch 15/50\n",
            "84/84 [==============================] - 1s 16ms/step - loss: 0.1594 - accuracy: 0.9351 - val_loss: 0.4810 - val_accuracy: 0.8434\n",
            "Epoch 16/50\n",
            "84/84 [==============================] - 1s 16ms/step - loss: 0.1552 - accuracy: 0.9338 - val_loss: 0.4666 - val_accuracy: 0.8552\n",
            "Epoch 17/50\n",
            "84/84 [==============================] - 1s 16ms/step - loss: 0.1455 - accuracy: 0.9392 - val_loss: 0.5192 - val_accuracy: 0.8508\n",
            "Epoch 18/50\n",
            "84/84 [==============================] - 1s 16ms/step - loss: 0.1458 - accuracy: 0.9389 - val_loss: 0.5267 - val_accuracy: 0.8365\n",
            "Epoch 19/50\n",
            "84/84 [==============================] - 1s 16ms/step - loss: 0.1385 - accuracy: 0.9395 - val_loss: 0.4866 - val_accuracy: 0.8564\n",
            "Epoch 20/50\n",
            "84/84 [==============================] - 1s 16ms/step - loss: 0.1155 - accuracy: 0.9458 - val_loss: 0.4914 - val_accuracy: 0.8546\n",
            "84/84 [==============================] - 1s 6ms/step - loss: 1.3248 - accuracy: 0.6483\n",
            "Epoch 1/50\n",
            "84/84 [==============================] - 5s 28ms/step - loss: 0.8806 - accuracy: 0.5734 - val_loss: 0.7945 - val_accuracy: 0.6128\n",
            "Epoch 2/50\n",
            "84/84 [==============================] - 1s 16ms/step - loss: 0.7583 - accuracy: 0.6561 - val_loss: 0.6969 - val_accuracy: 0.7004\n",
            "Epoch 3/50\n",
            "84/84 [==============================] - 1s 16ms/step - loss: 0.6381 - accuracy: 0.7256 - val_loss: 0.6668 - val_accuracy: 0.7185\n",
            "Epoch 4/50\n",
            "84/84 [==============================] - 1s 15ms/step - loss: 0.5129 - accuracy: 0.7986 - val_loss: 0.5716 - val_accuracy: 0.7607\n",
            "Epoch 5/50\n",
            "84/84 [==============================] - 1s 16ms/step - loss: 0.4403 - accuracy: 0.8269 - val_loss: 0.5267 - val_accuracy: 0.7930\n",
            "Epoch 6/50\n",
            "84/84 [==============================] - 1s 16ms/step - loss: 0.3654 - accuracy: 0.8592 - val_loss: 0.5254 - val_accuracy: 0.8030\n",
            "Epoch 7/50\n",
            "84/84 [==============================] - 1s 15ms/step - loss: 0.3177 - accuracy: 0.8833 - val_loss: 0.4655 - val_accuracy: 0.8316\n",
            "Epoch 8/50\n",
            "84/84 [==============================] - 1s 15ms/step - loss: 0.2632 - accuracy: 0.9025 - val_loss: 0.4664 - val_accuracy: 0.8334\n",
            "Epoch 9/50\n",
            "84/84 [==============================] - 1s 16ms/step - loss: 0.2499 - accuracy: 0.9014 - val_loss: 0.5932 - val_accuracy: 0.7874\n",
            "Epoch 10/50\n",
            "84/84 [==============================] - 1s 16ms/step - loss: 0.2281 - accuracy: 0.9184 - val_loss: 0.4505 - val_accuracy: 0.8527\n",
            "Epoch 11/50\n",
            "84/84 [==============================] - 1s 16ms/step - loss: 0.2271 - accuracy: 0.9157 - val_loss: 0.4656 - val_accuracy: 0.8502\n",
            "Epoch 12/50\n",
            "84/84 [==============================] - 1s 16ms/step - loss: 0.1871 - accuracy: 0.9315 - val_loss: 0.4815 - val_accuracy: 0.8452\n",
            "Epoch 13/50\n",
            "84/84 [==============================] - 1s 16ms/step - loss: 0.1773 - accuracy: 0.9287 - val_loss: 0.4934 - val_accuracy: 0.8583\n",
            "Epoch 14/50\n",
            "84/84 [==============================] - 1s 16ms/step - loss: 0.1704 - accuracy: 0.9273 - val_loss: 0.4685 - val_accuracy: 0.8602\n",
            "Epoch 15/50\n",
            "84/84 [==============================] - 1s 15ms/step - loss: 0.1544 - accuracy: 0.9413 - val_loss: 0.4820 - val_accuracy: 0.8639\n",
            "Epoch 16/50\n",
            "84/84 [==============================] - 1s 16ms/step - loss: 0.1420 - accuracy: 0.9393 - val_loss: 0.4911 - val_accuracy: 0.8670\n",
            "Epoch 17/50\n",
            "84/84 [==============================] - 1s 16ms/step - loss: 0.1350 - accuracy: 0.9466 - val_loss: 0.5030 - val_accuracy: 0.8527\n",
            "Epoch 18/50\n",
            "84/84 [==============================] - 1s 16ms/step - loss: 0.1258 - accuracy: 0.9536 - val_loss: 0.5326 - val_accuracy: 0.8589\n",
            "Epoch 19/50\n",
            "84/84 [==============================] - 1s 16ms/step - loss: 0.1279 - accuracy: 0.9480 - val_loss: 0.5279 - val_accuracy: 0.8558\n",
            "Epoch 20/50\n",
            "84/84 [==============================] - 1s 16ms/step - loss: 0.1164 - accuracy: 0.9482 - val_loss: 0.5129 - val_accuracy: 0.8589\n",
            "84/84 [==============================] - 1s 5ms/step - loss: 1.2709 - accuracy: 0.6449\n",
            "Epoch 1/50\n",
            "84/84 [==============================] - 5s 25ms/step - loss: 0.8624 - accuracy: 0.6140 - val_loss: 0.7417 - val_accuracy: 0.6594\n",
            "Epoch 2/50\n",
            "84/84 [==============================] - 1s 16ms/step - loss: 0.7073 - accuracy: 0.6772 - val_loss: 0.6337 - val_accuracy: 0.7427\n",
            "Epoch 3/50\n",
            "84/84 [==============================] - 1s 16ms/step - loss: 0.5604 - accuracy: 0.7704 - val_loss: 0.5661 - val_accuracy: 0.7676\n",
            "Epoch 4/50\n",
            "84/84 [==============================] - 1s 16ms/step - loss: 0.4432 - accuracy: 0.8297 - val_loss: 0.5124 - val_accuracy: 0.8048\n",
            "Epoch 5/50\n",
            "84/84 [==============================] - 1s 15ms/step - loss: 0.3783 - accuracy: 0.8571 - val_loss: 0.4880 - val_accuracy: 0.8117\n",
            "Epoch 6/50\n",
            "84/84 [==============================] - 1s 16ms/step - loss: 0.3270 - accuracy: 0.8777 - val_loss: 0.4941 - val_accuracy: 0.8241\n",
            "Epoch 7/50\n",
            "84/84 [==============================] - 1s 15ms/step - loss: 0.2836 - accuracy: 0.8904 - val_loss: 0.5463 - val_accuracy: 0.8173\n",
            "Epoch 8/50\n",
            "84/84 [==============================] - 1s 15ms/step - loss: 0.2663 - accuracy: 0.8982 - val_loss: 0.4986 - val_accuracy: 0.8291\n",
            "Epoch 9/50\n",
            "84/84 [==============================] - 1s 16ms/step - loss: 0.2328 - accuracy: 0.9141 - val_loss: 0.4983 - val_accuracy: 0.8316\n",
            "Epoch 10/50\n",
            "84/84 [==============================] - 1s 15ms/step - loss: 0.1972 - accuracy: 0.9236 - val_loss: 0.4811 - val_accuracy: 0.8266\n",
            "Epoch 11/50\n",
            "84/84 [==============================] - 1s 16ms/step - loss: 0.2145 - accuracy: 0.9204 - val_loss: 0.5323 - val_accuracy: 0.8353\n",
            "Epoch 12/50\n",
            "84/84 [==============================] - 1s 16ms/step - loss: 0.1938 - accuracy: 0.9221 - val_loss: 0.4969 - val_accuracy: 0.8334\n",
            "Epoch 13/50\n",
            "84/84 [==============================] - 1s 16ms/step - loss: 0.1775 - accuracy: 0.9267 - val_loss: 0.5343 - val_accuracy: 0.8415\n",
            "Epoch 14/50\n",
            "84/84 [==============================] - 1s 17ms/step - loss: 0.1756 - accuracy: 0.9328 - val_loss: 0.5808 - val_accuracy: 0.8167\n",
            "Epoch 15/50\n",
            "84/84 [==============================] - 1s 15ms/step - loss: 0.1671 - accuracy: 0.9286 - val_loss: 0.5600 - val_accuracy: 0.8397\n",
            "Epoch 16/50\n",
            "84/84 [==============================] - 1s 16ms/step - loss: 0.1588 - accuracy: 0.9359 - val_loss: 0.5306 - val_accuracy: 0.8471\n",
            "Epoch 17/50\n",
            "84/84 [==============================] - 1s 16ms/step - loss: 0.1508 - accuracy: 0.9386 - val_loss: 0.5324 - val_accuracy: 0.8372\n",
            "Epoch 18/50\n",
            "84/84 [==============================] - 1s 16ms/step - loss: 0.1434 - accuracy: 0.9427 - val_loss: 0.5424 - val_accuracy: 0.8459\n",
            "Epoch 19/50\n",
            "84/84 [==============================] - 1s 16ms/step - loss: 0.1383 - accuracy: 0.9444 - val_loss: 0.5462 - val_accuracy: 0.8390\n",
            "Epoch 20/50\n",
            "84/84 [==============================] - 1s 16ms/step - loss: 0.1259 - accuracy: 0.9470 - val_loss: 0.5362 - val_accuracy: 0.8428\n",
            "84/84 [==============================] - 1s 6ms/step - loss: 1.3397 - accuracy: 0.6422\n",
            "Epoch 1/50\n",
            "84/84 [==============================] - 5s 31ms/step - loss: 0.8977 - accuracy: 0.5886 - val_loss: 0.7614 - val_accuracy: 0.6563\n",
            "Epoch 2/50\n",
            "84/84 [==============================] - 2s 18ms/step - loss: 0.7012 - accuracy: 0.6838 - val_loss: 0.5930 - val_accuracy: 0.7427\n",
            "Epoch 3/50\n",
            "84/84 [==============================] - 2s 18ms/step - loss: 0.4974 - accuracy: 0.8005 - val_loss: 0.4795 - val_accuracy: 0.8030\n",
            "Epoch 4/50\n",
            "84/84 [==============================] - 2s 19ms/step - loss: 0.3211 - accuracy: 0.8715 - val_loss: 0.4244 - val_accuracy: 0.8353\n",
            "Epoch 5/50\n",
            "84/84 [==============================] - 2s 18ms/step - loss: 0.2275 - accuracy: 0.9155 - val_loss: 0.4229 - val_accuracy: 0.8403\n",
            "Epoch 6/50\n",
            "84/84 [==============================] - 2s 18ms/step - loss: 0.1872 - accuracy: 0.9276 - val_loss: 0.4698 - val_accuracy: 0.8260\n",
            "Epoch 7/50\n",
            "84/84 [==============================] - 2s 19ms/step - loss: 0.1620 - accuracy: 0.9387 - val_loss: 0.4210 - val_accuracy: 0.8608\n",
            "Epoch 8/50\n",
            "84/84 [==============================] - 2s 18ms/step - loss: 0.1377 - accuracy: 0.9434 - val_loss: 0.4351 - val_accuracy: 0.8620\n",
            "Epoch 9/50\n",
            "84/84 [==============================] - 2s 19ms/step - loss: 0.1263 - accuracy: 0.9507 - val_loss: 0.4457 - val_accuracy: 0.8639\n",
            "Epoch 10/50\n",
            "84/84 [==============================] - 2s 18ms/step - loss: 0.1125 - accuracy: 0.9490 - val_loss: 0.4712 - val_accuracy: 0.8527\n",
            "Epoch 11/50\n",
            "84/84 [==============================] - 2s 18ms/step - loss: 0.1148 - accuracy: 0.9518 - val_loss: 0.4721 - val_accuracy: 0.8639\n",
            "Epoch 12/50\n",
            "84/84 [==============================] - 2s 18ms/step - loss: 0.1009 - accuracy: 0.9529 - val_loss: 0.4779 - val_accuracy: 0.8701\n",
            "Epoch 13/50\n",
            "84/84 [==============================] - 2s 18ms/step - loss: 0.0969 - accuracy: 0.9548 - val_loss: 0.5085 - val_accuracy: 0.8608\n",
            "Epoch 14/50\n",
            "84/84 [==============================] - 1s 18ms/step - loss: 0.0852 - accuracy: 0.9581 - val_loss: 0.5180 - val_accuracy: 0.8639\n",
            "Epoch 15/50\n",
            "84/84 [==============================] - 2s 19ms/step - loss: 0.0796 - accuracy: 0.9585 - val_loss: 0.5290 - val_accuracy: 0.8620\n",
            "Epoch 16/50\n",
            "84/84 [==============================] - 2s 19ms/step - loss: 0.0796 - accuracy: 0.9587 - val_loss: 0.5569 - val_accuracy: 0.8645\n",
            "Epoch 17/50\n",
            "84/84 [==============================] - 2s 19ms/step - loss: 0.0778 - accuracy: 0.9622 - val_loss: 0.5418 - val_accuracy: 0.8633\n",
            "84/84 [==============================] - 1s 6ms/step - loss: 1.5138 - accuracy: 0.6483\n",
            "Epoch 1/50\n",
            "84/84 [==============================] - 5s 27ms/step - loss: 0.9238 - accuracy: 0.5967 - val_loss: 0.8169 - val_accuracy: 0.6147\n",
            "Epoch 2/50\n",
            "84/84 [==============================] - 2s 19ms/step - loss: 0.7694 - accuracy: 0.6359 - val_loss: 0.6554 - val_accuracy: 0.7278\n",
            "Epoch 3/50\n",
            "84/84 [==============================] - 2s 19ms/step - loss: 0.5753 - accuracy: 0.7678 - val_loss: 0.5237 - val_accuracy: 0.7930\n",
            "Epoch 4/50\n",
            "84/84 [==============================] - 2s 18ms/step - loss: 0.3689 - accuracy: 0.8686 - val_loss: 0.4569 - val_accuracy: 0.8378\n",
            "Epoch 5/50\n",
            "84/84 [==============================] - 2s 19ms/step - loss: 0.2506 - accuracy: 0.9206 - val_loss: 0.4492 - val_accuracy: 0.8415\n",
            "Epoch 6/50\n",
            "84/84 [==============================] - 2s 19ms/step - loss: 0.2035 - accuracy: 0.9303 - val_loss: 0.4436 - val_accuracy: 0.8452\n",
            "Epoch 7/50\n",
            "84/84 [==============================] - 2s 19ms/step - loss: 0.1738 - accuracy: 0.9401 - val_loss: 0.4418 - val_accuracy: 0.8583\n",
            "Epoch 8/50\n",
            "84/84 [==============================] - 2s 19ms/step - loss: 0.1482 - accuracy: 0.9440 - val_loss: 0.4658 - val_accuracy: 0.8490\n",
            "Epoch 9/50\n",
            "84/84 [==============================] - 2s 18ms/step - loss: 0.1291 - accuracy: 0.9513 - val_loss: 0.4495 - val_accuracy: 0.8577\n",
            "Epoch 10/50\n",
            "84/84 [==============================] - 2s 19ms/step - loss: 0.1124 - accuracy: 0.9588 - val_loss: 0.4650 - val_accuracy: 0.8664\n",
            "Epoch 11/50\n",
            "84/84 [==============================] - 2s 18ms/step - loss: 0.1058 - accuracy: 0.9528 - val_loss: 0.4720 - val_accuracy: 0.8564\n",
            "Epoch 12/50\n",
            "84/84 [==============================] - 2s 19ms/step - loss: 0.1090 - accuracy: 0.9510 - val_loss: 0.5135 - val_accuracy: 0.8626\n",
            "Epoch 13/50\n",
            "84/84 [==============================] - 2s 18ms/step - loss: 0.1006 - accuracy: 0.9569 - val_loss: 0.4827 - val_accuracy: 0.8552\n",
            "Epoch 14/50\n",
            "84/84 [==============================] - 2s 18ms/step - loss: 0.0877 - accuracy: 0.9564 - val_loss: 0.5146 - val_accuracy: 0.8589\n",
            "Epoch 15/50\n",
            "84/84 [==============================] - 2s 18ms/step - loss: 0.0831 - accuracy: 0.9595 - val_loss: 0.5313 - val_accuracy: 0.8546\n",
            "Epoch 16/50\n",
            "84/84 [==============================] - 2s 19ms/step - loss: 0.0893 - accuracy: 0.9527 - val_loss: 0.5727 - val_accuracy: 0.8583\n",
            "Epoch 17/50\n",
            "84/84 [==============================] - 2s 20ms/step - loss: 0.0840 - accuracy: 0.9572 - val_loss: 0.5644 - val_accuracy: 0.8608\n",
            "84/84 [==============================] - 1s 7ms/step - loss: 1.4458 - accuracy: 0.6624\n",
            "Epoch 1/50\n",
            "84/84 [==============================] - 5s 29ms/step - loss: 0.9154 - accuracy: 0.5777 - val_loss: 0.8160 - val_accuracy: 0.6041\n",
            "Epoch 2/50\n",
            "84/84 [==============================] - 2s 20ms/step - loss: 0.7466 - accuracy: 0.6440 - val_loss: 0.5644 - val_accuracy: 0.7651\n",
            "Epoch 3/50\n",
            "84/84 [==============================] - 2s 19ms/step - loss: 0.4312 - accuracy: 0.8320 - val_loss: 0.4747 - val_accuracy: 0.8179\n",
            "Epoch 4/50\n",
            "84/84 [==============================] - 2s 18ms/step - loss: 0.3168 - accuracy: 0.8826 - val_loss: 0.4502 - val_accuracy: 0.8322\n",
            "Epoch 5/50\n",
            "84/84 [==============================] - 2s 18ms/step - loss: 0.2246 - accuracy: 0.9166 - val_loss: 0.4542 - val_accuracy: 0.8278\n",
            "Epoch 6/50\n",
            "84/84 [==============================] - 2s 18ms/step - loss: 0.1848 - accuracy: 0.9355 - val_loss: 0.4385 - val_accuracy: 0.8490\n",
            "Epoch 7/50\n",
            "84/84 [==============================] - 2s 18ms/step - loss: 0.1691 - accuracy: 0.9360 - val_loss: 0.4577 - val_accuracy: 0.8477\n",
            "Epoch 8/50\n",
            "84/84 [==============================] - 2s 19ms/step - loss: 0.1442 - accuracy: 0.9441 - val_loss: 0.4550 - val_accuracy: 0.8515\n",
            "Epoch 9/50\n",
            "84/84 [==============================] - 2s 19ms/step - loss: 0.1282 - accuracy: 0.9497 - val_loss: 0.4566 - val_accuracy: 0.8434\n",
            "Epoch 10/50\n",
            "84/84 [==============================] - 1s 17ms/step - loss: 0.1208 - accuracy: 0.9476 - val_loss: 0.4667 - val_accuracy: 0.8515\n",
            "Epoch 11/50\n",
            "84/84 [==============================] - 2s 18ms/step - loss: 0.1142 - accuracy: 0.9486 - val_loss: 0.4912 - val_accuracy: 0.8365\n",
            "Epoch 12/50\n",
            "84/84 [==============================] - 2s 18ms/step - loss: 0.1127 - accuracy: 0.9492 - val_loss: 0.5117 - val_accuracy: 0.8515\n",
            "Epoch 13/50\n",
            "84/84 [==============================] - 2s 23ms/step - loss: 0.1014 - accuracy: 0.9488 - val_loss: 0.5236 - val_accuracy: 0.8508\n",
            "Epoch 14/50\n",
            "84/84 [==============================] - 2s 19ms/step - loss: 0.1091 - accuracy: 0.9512 - val_loss: 0.5509 - val_accuracy: 0.8595\n",
            "Epoch 15/50\n",
            "84/84 [==============================] - 2s 19ms/step - loss: 0.0873 - accuracy: 0.9574 - val_loss: 0.5610 - val_accuracy: 0.8508\n",
            "Epoch 16/50\n",
            "84/84 [==============================] - 2s 20ms/step - loss: 0.0840 - accuracy: 0.9552 - val_loss: 0.5647 - val_accuracy: 0.8496\n",
            "84/84 [==============================] - 1s 5ms/step - loss: 1.5629 - accuracy: 0.6399\n",
            "Epoch 1/50\n",
            "84/84 [==============================] - 5s 24ms/step - loss: 0.8870 - accuracy: 0.5947 - val_loss: 0.8916 - val_accuracy: 0.6072\n",
            "Epoch 2/50\n",
            "84/84 [==============================] - 1s 16ms/step - loss: 0.7460 - accuracy: 0.6583 - val_loss: 0.6679 - val_accuracy: 0.7085\n",
            "Epoch 3/50\n",
            "84/84 [==============================] - 1s 16ms/step - loss: 0.5904 - accuracy: 0.7499 - val_loss: 0.5719 - val_accuracy: 0.7589\n",
            "Epoch 4/50\n",
            "84/84 [==============================] - 2s 20ms/step - loss: 0.4644 - accuracy: 0.8141 - val_loss: 0.5122 - val_accuracy: 0.7924\n",
            "Epoch 5/50\n",
            "84/84 [==============================] - 1s 16ms/step - loss: 0.3987 - accuracy: 0.8434 - val_loss: 0.4821 - val_accuracy: 0.7968\n",
            "Epoch 6/50\n",
            "84/84 [==============================] - 1s 16ms/step - loss: 0.3332 - accuracy: 0.8751 - val_loss: 0.4851 - val_accuracy: 0.8061\n",
            "Epoch 7/50\n",
            "84/84 [==============================] - 1s 16ms/step - loss: 0.2985 - accuracy: 0.8795 - val_loss: 0.5048 - val_accuracy: 0.8048\n",
            "Epoch 8/50\n",
            "84/84 [==============================] - 1s 16ms/step - loss: 0.2500 - accuracy: 0.9035 - val_loss: 0.4425 - val_accuracy: 0.8297\n",
            "Epoch 9/50\n",
            "84/84 [==============================] - 1s 16ms/step - loss: 0.2272 - accuracy: 0.9141 - val_loss: 0.4662 - val_accuracy: 0.8241\n",
            "Epoch 10/50\n",
            "84/84 [==============================] - 1s 16ms/step - loss: 0.2159 - accuracy: 0.9133 - val_loss: 0.4572 - val_accuracy: 0.8428\n",
            "Epoch 11/50\n",
            "84/84 [==============================] - 1s 16ms/step - loss: 0.1909 - accuracy: 0.9240 - val_loss: 0.4521 - val_accuracy: 0.8477\n",
            "Epoch 12/50\n",
            "84/84 [==============================] - 1s 16ms/step - loss: 0.1768 - accuracy: 0.9241 - val_loss: 0.5140 - val_accuracy: 0.8415\n",
            "Epoch 13/50\n",
            "84/84 [==============================] - 1s 16ms/step - loss: 0.1611 - accuracy: 0.9290 - val_loss: 0.4781 - val_accuracy: 0.8452\n",
            "Epoch 14/50\n",
            "84/84 [==============================] - 1s 16ms/step - loss: 0.1572 - accuracy: 0.9346 - val_loss: 0.4774 - val_accuracy: 0.8471\n",
            "Epoch 15/50\n",
            "84/84 [==============================] - 1s 16ms/step - loss: 0.1421 - accuracy: 0.9391 - val_loss: 0.4674 - val_accuracy: 0.8490\n",
            "Epoch 16/50\n",
            "84/84 [==============================] - 1s 16ms/step - loss: 0.1347 - accuracy: 0.9441 - val_loss: 0.4804 - val_accuracy: 0.8465\n",
            "Epoch 17/50\n",
            "84/84 [==============================] - 1s 16ms/step - loss: 0.1184 - accuracy: 0.9464 - val_loss: 0.5125 - val_accuracy: 0.8521\n",
            "Epoch 18/50\n",
            "84/84 [==============================] - 1s 16ms/step - loss: 0.1306 - accuracy: 0.9431 - val_loss: 0.5077 - val_accuracy: 0.8384\n",
            "84/84 [==============================] - 1s 6ms/step - loss: 1.3381 - accuracy: 0.6278\n",
            "Epoch 1/50\n",
            "84/84 [==============================] - 5s 24ms/step - loss: 0.8688 - accuracy: 0.5870 - val_loss: 0.7808 - val_accuracy: 0.6227\n",
            "Epoch 2/50\n",
            "84/84 [==============================] - 1s 16ms/step - loss: 0.7327 - accuracy: 0.6651 - val_loss: 0.7960 - val_accuracy: 0.6712\n",
            "Epoch 3/50\n",
            "84/84 [==============================] - 1s 16ms/step - loss: 0.5813 - accuracy: 0.7520 - val_loss: 0.5852 - val_accuracy: 0.7483\n",
            "Epoch 4/50\n",
            "84/84 [==============================] - 1s 16ms/step - loss: 0.4371 - accuracy: 0.8213 - val_loss: 0.5295 - val_accuracy: 0.7856\n",
            "Epoch 5/50\n",
            "84/84 [==============================] - 1s 16ms/step - loss: 0.3530 - accuracy: 0.8562 - val_loss: 0.4820 - val_accuracy: 0.8117\n",
            "Epoch 6/50\n",
            "84/84 [==============================] - 1s 16ms/step - loss: 0.2972 - accuracy: 0.8812 - val_loss: 0.4605 - val_accuracy: 0.8341\n",
            "Epoch 7/50\n",
            "84/84 [==============================] - 1s 16ms/step - loss: 0.2679 - accuracy: 0.8922 - val_loss: 0.4603 - val_accuracy: 0.8403\n",
            "Epoch 8/50\n",
            "84/84 [==============================] - 1s 16ms/step - loss: 0.2364 - accuracy: 0.9139 - val_loss: 0.4870 - val_accuracy: 0.8365\n",
            "Epoch 9/50\n",
            "84/84 [==============================] - 1s 16ms/step - loss: 0.2263 - accuracy: 0.9093 - val_loss: 0.4802 - val_accuracy: 0.8440\n",
            "Epoch 10/50\n",
            "84/84 [==============================] - 1s 16ms/step - loss: 0.2145 - accuracy: 0.9180 - val_loss: 0.4923 - val_accuracy: 0.8502\n",
            "Epoch 11/50\n",
            "84/84 [==============================] - 1s 16ms/step - loss: 0.1824 - accuracy: 0.9270 - val_loss: 0.4953 - val_accuracy: 0.8527\n",
            "Epoch 12/50\n",
            "84/84 [==============================] - 1s 16ms/step - loss: 0.1825 - accuracy: 0.9243 - val_loss: 0.5043 - val_accuracy: 0.8583\n",
            "Epoch 13/50\n",
            "84/84 [==============================] - 1s 16ms/step - loss: 0.1525 - accuracy: 0.9416 - val_loss: 0.4989 - val_accuracy: 0.8546\n",
            "Epoch 14/50\n",
            "84/84 [==============================] - 1s 16ms/step - loss: 0.1501 - accuracy: 0.9389 - val_loss: 0.5336 - val_accuracy: 0.8521\n",
            "Epoch 15/50\n",
            "84/84 [==============================] - 1s 16ms/step - loss: 0.1339 - accuracy: 0.9485 - val_loss: 0.5175 - val_accuracy: 0.8689\n",
            "Epoch 16/50\n",
            "84/84 [==============================] - 1s 16ms/step - loss: 0.1379 - accuracy: 0.9447 - val_loss: 0.5725 - val_accuracy: 0.8490\n",
            "Epoch 17/50\n",
            "84/84 [==============================] - 1s 16ms/step - loss: 0.1291 - accuracy: 0.9476 - val_loss: 0.5231 - val_accuracy: 0.8689\n",
            "84/84 [==============================] - 1s 5ms/step - loss: 1.2988 - accuracy: 0.6740\n",
            "Epoch 1/50\n",
            "84/84 [==============================] - 5s 24ms/step - loss: 0.8799 - accuracy: 0.5855 - val_loss: 0.7791 - val_accuracy: 0.6675\n",
            "Epoch 2/50\n",
            "84/84 [==============================] - 1s 16ms/step - loss: 0.7155 - accuracy: 0.6902 - val_loss: 0.6350 - val_accuracy: 0.7415\n",
            "Epoch 3/50\n",
            "84/84 [==============================] - 1s 17ms/step - loss: 0.5507 - accuracy: 0.7793 - val_loss: 0.5905 - val_accuracy: 0.7526\n",
            "Epoch 4/50\n",
            "84/84 [==============================] - 1s 16ms/step - loss: 0.4449 - accuracy: 0.8220 - val_loss: 0.5463 - val_accuracy: 0.7819\n",
            "Epoch 5/50\n",
            "84/84 [==============================] - 1s 16ms/step - loss: 0.3640 - accuracy: 0.8672 - val_loss: 0.5070 - val_accuracy: 0.8160\n",
            "Epoch 6/50\n",
            "84/84 [==============================] - 1s 16ms/step - loss: 0.3316 - accuracy: 0.8673 - val_loss: 0.4996 - val_accuracy: 0.8111\n",
            "Epoch 7/50\n",
            "84/84 [==============================] - 1s 16ms/step - loss: 0.2667 - accuracy: 0.9002 - val_loss: 0.5010 - val_accuracy: 0.8185\n",
            "Epoch 8/50\n",
            "84/84 [==============================] - 1s 16ms/step - loss: 0.2586 - accuracy: 0.9002 - val_loss: 0.5358 - val_accuracy: 0.8048\n",
            "Epoch 9/50\n",
            "84/84 [==============================] - 1s 16ms/step - loss: 0.2233 - accuracy: 0.9141 - val_loss: 0.4925 - val_accuracy: 0.8266\n",
            "Epoch 10/50\n",
            "84/84 [==============================] - 1s 17ms/step - loss: 0.1979 - accuracy: 0.9249 - val_loss: 0.4908 - val_accuracy: 0.8415\n",
            "Epoch 11/50\n",
            "84/84 [==============================] - 1s 15ms/step - loss: 0.1876 - accuracy: 0.9285 - val_loss: 0.5337 - val_accuracy: 0.8390\n",
            "Epoch 12/50\n",
            "84/84 [==============================] - 1s 16ms/step - loss: 0.1818 - accuracy: 0.9286 - val_loss: 0.4977 - val_accuracy: 0.8403\n",
            "Epoch 13/50\n",
            "84/84 [==============================] - 1s 16ms/step - loss: 0.1703 - accuracy: 0.9331 - val_loss: 0.5086 - val_accuracy: 0.8409\n",
            "Epoch 14/50\n",
            "84/84 [==============================] - 1s 16ms/step - loss: 0.1557 - accuracy: 0.9351 - val_loss: 0.6009 - val_accuracy: 0.8384\n",
            "Epoch 15/50\n",
            "84/84 [==============================] - 1s 16ms/step - loss: 0.1512 - accuracy: 0.9378 - val_loss: 0.6097 - val_accuracy: 0.8260\n",
            "Epoch 16/50\n",
            "84/84 [==============================] - 1s 16ms/step - loss: 0.1402 - accuracy: 0.9432 - val_loss: 0.6243 - val_accuracy: 0.8322\n",
            "Epoch 17/50\n",
            "84/84 [==============================] - 1s 16ms/step - loss: 0.1366 - accuracy: 0.9426 - val_loss: 0.5868 - val_accuracy: 0.8446\n",
            "Epoch 18/50\n",
            "84/84 [==============================] - 1s 16ms/step - loss: 0.1350 - accuracy: 0.9427 - val_loss: 0.6356 - val_accuracy: 0.8254\n",
            "Epoch 19/50\n",
            "84/84 [==============================] - 1s 16ms/step - loss: 0.1110 - accuracy: 0.9557 - val_loss: 0.6204 - val_accuracy: 0.8297\n",
            "Epoch 20/50\n",
            "84/84 [==============================] - 1s 16ms/step - loss: 0.1238 - accuracy: 0.9455 - val_loss: 0.6094 - val_accuracy: 0.8527\n",
            "84/84 [==============================] - 1s 6ms/step - loss: 1.5887 - accuracy: 0.6433\n",
            "Epoch 1/50\n",
            "84/84 [==============================] - 5s 32ms/step - loss: 0.8985 - accuracy: 0.6035 - val_loss: 0.7347 - val_accuracy: 0.6675\n",
            "Epoch 2/50\n",
            "84/84 [==============================] - 2s 20ms/step - loss: 0.6728 - accuracy: 0.7153 - val_loss: 0.5603 - val_accuracy: 0.7589\n",
            "Epoch 3/50\n",
            "84/84 [==============================] - 2s 19ms/step - loss: 0.4406 - accuracy: 0.8263 - val_loss: 0.4634 - val_accuracy: 0.8142\n",
            "Epoch 4/50\n",
            "84/84 [==============================] - 2s 19ms/step - loss: 0.3202 - accuracy: 0.8765 - val_loss: 0.4398 - val_accuracy: 0.8254\n",
            "Epoch 5/50\n",
            "84/84 [==============================] - 2s 19ms/step - loss: 0.2307 - accuracy: 0.9167 - val_loss: 0.4231 - val_accuracy: 0.8539\n",
            "Epoch 6/50\n",
            "84/84 [==============================] - 2s 20ms/step - loss: 0.1952 - accuracy: 0.9260 - val_loss: 0.4401 - val_accuracy: 0.8502\n",
            "Epoch 7/50\n",
            "84/84 [==============================] - 2s 20ms/step - loss: 0.1553 - accuracy: 0.9352 - val_loss: 0.4412 - val_accuracy: 0.8521\n",
            "Epoch 8/50\n",
            "84/84 [==============================] - 2s 19ms/step - loss: 0.1459 - accuracy: 0.9436 - val_loss: 0.4493 - val_accuracy: 0.8595\n",
            "Epoch 9/50\n",
            "84/84 [==============================] - 2s 20ms/step - loss: 0.1355 - accuracy: 0.9434 - val_loss: 0.4620 - val_accuracy: 0.8614\n",
            "Epoch 10/50\n",
            "84/84 [==============================] - 2s 20ms/step - loss: 0.1239 - accuracy: 0.9472 - val_loss: 0.4864 - val_accuracy: 0.8633\n",
            "Epoch 11/50\n",
            "84/84 [==============================] - 2s 20ms/step - loss: 0.1047 - accuracy: 0.9464 - val_loss: 0.5108 - val_accuracy: 0.8620\n",
            "Epoch 12/50\n",
            "84/84 [==============================] - 2s 19ms/step - loss: 0.0998 - accuracy: 0.9511 - val_loss: 0.5307 - val_accuracy: 0.8595\n",
            "Epoch 13/50\n",
            "84/84 [==============================] - 2s 20ms/step - loss: 0.0943 - accuracy: 0.9506 - val_loss: 0.5461 - val_accuracy: 0.8583\n",
            "Epoch 14/50\n",
            "84/84 [==============================] - 2s 19ms/step - loss: 0.0945 - accuracy: 0.9537 - val_loss: 0.5658 - val_accuracy: 0.8583\n",
            "Epoch 15/50\n",
            "84/84 [==============================] - 2s 19ms/step - loss: 0.0874 - accuracy: 0.9528 - val_loss: 0.5735 - val_accuracy: 0.8670\n",
            "84/84 [==============================] - 1s 6ms/step - loss: 1.6235 - accuracy: 0.6531\n",
            "Epoch 1/50\n",
            "84/84 [==============================] - 5s 29ms/step - loss: 0.9041 - accuracy: 0.5844 - val_loss: 0.7579 - val_accuracy: 0.6576\n",
            "Epoch 2/50\n",
            "84/84 [==============================] - 2s 19ms/step - loss: 0.7039 - accuracy: 0.6887 - val_loss: 0.5949 - val_accuracy: 0.7477\n",
            "Epoch 3/50\n",
            "84/84 [==============================] - 2s 19ms/step - loss: 0.4744 - accuracy: 0.8108 - val_loss: 0.4610 - val_accuracy: 0.8316\n",
            "Epoch 4/50\n",
            "84/84 [==============================] - 2s 20ms/step - loss: 0.2889 - accuracy: 0.8953 - val_loss: 0.4332 - val_accuracy: 0.8521\n",
            "Epoch 5/50\n",
            "84/84 [==============================] - 2s 19ms/step - loss: 0.2146 - accuracy: 0.9248 - val_loss: 0.4706 - val_accuracy: 0.8390\n",
            "Epoch 6/50\n",
            "84/84 [==============================] - 2s 19ms/step - loss: 0.1869 - accuracy: 0.9293 - val_loss: 0.4419 - val_accuracy: 0.8564\n",
            "Epoch 7/50\n",
            "84/84 [==============================] - 2s 20ms/step - loss: 0.1648 - accuracy: 0.9306 - val_loss: 0.4691 - val_accuracy: 0.8552\n",
            "Epoch 8/50\n",
            "84/84 [==============================] - 2s 20ms/step - loss: 0.1297 - accuracy: 0.9457 - val_loss: 0.4724 - val_accuracy: 0.8552\n",
            "Epoch 9/50\n",
            "84/84 [==============================] - 2s 20ms/step - loss: 0.1234 - accuracy: 0.9429 - val_loss: 0.4711 - val_accuracy: 0.8639\n",
            "Epoch 10/50\n",
            "84/84 [==============================] - 2s 20ms/step - loss: 0.1142 - accuracy: 0.9471 - val_loss: 0.4823 - val_accuracy: 0.8633\n",
            "Epoch 11/50\n",
            "84/84 [==============================] - 2s 19ms/step - loss: 0.1022 - accuracy: 0.9553 - val_loss: 0.5166 - val_accuracy: 0.8633\n",
            "Epoch 12/50\n",
            "84/84 [==============================] - 2s 19ms/step - loss: 0.0936 - accuracy: 0.9551 - val_loss: 0.5312 - val_accuracy: 0.8614\n",
            "Epoch 13/50\n",
            "84/84 [==============================] - 2s 19ms/step - loss: 0.0836 - accuracy: 0.9622 - val_loss: 0.5508 - val_accuracy: 0.8589\n",
            "Epoch 14/50\n",
            "84/84 [==============================] - 2s 20ms/step - loss: 0.0856 - accuracy: 0.9579 - val_loss: 0.5282 - val_accuracy: 0.8620\n",
            "84/84 [==============================] - 1s 6ms/step - loss: 1.4034 - accuracy: 0.6632\n",
            "Epoch 1/50\n",
            "84/84 [==============================] - 5s 29ms/step - loss: 0.9073 - accuracy: 0.5849 - val_loss: 0.7551 - val_accuracy: 0.6886\n",
            "Epoch 2/50\n",
            "84/84 [==============================] - 2s 20ms/step - loss: 0.6822 - accuracy: 0.7229 - val_loss: 0.5662 - val_accuracy: 0.7669\n",
            "Epoch 3/50\n",
            "84/84 [==============================] - 2s 20ms/step - loss: 0.4240 - accuracy: 0.8386 - val_loss: 0.4742 - val_accuracy: 0.8235\n",
            "Epoch 4/50\n",
            "84/84 [==============================] - 2s 20ms/step - loss: 0.2870 - accuracy: 0.9001 - val_loss: 0.4471 - val_accuracy: 0.8378\n",
            "Epoch 5/50\n",
            "84/84 [==============================] - 2s 20ms/step - loss: 0.2160 - accuracy: 0.9208 - val_loss: 0.4601 - val_accuracy: 0.8378\n",
            "Epoch 6/50\n",
            "84/84 [==============================] - 2s 20ms/step - loss: 0.1750 - accuracy: 0.9321 - val_loss: 0.4579 - val_accuracy: 0.8477\n",
            "Epoch 7/50\n",
            "84/84 [==============================] - 2s 20ms/step - loss: 0.1489 - accuracy: 0.9402 - val_loss: 0.4790 - val_accuracy: 0.8434\n",
            "Epoch 8/50\n",
            "84/84 [==============================] - 2s 19ms/step - loss: 0.1348 - accuracy: 0.9432 - val_loss: 0.5158 - val_accuracy: 0.8496\n",
            "Epoch 9/50\n",
            "84/84 [==============================] - 2s 20ms/step - loss: 0.1194 - accuracy: 0.9493 - val_loss: 0.5381 - val_accuracy: 0.8459\n",
            "Epoch 10/50\n",
            "84/84 [==============================] - 2s 19ms/step - loss: 0.1156 - accuracy: 0.9448 - val_loss: 0.5321 - val_accuracy: 0.8521\n",
            "Epoch 11/50\n",
            "84/84 [==============================] - 2s 20ms/step - loss: 0.1079 - accuracy: 0.9439 - val_loss: 0.5371 - val_accuracy: 0.8446\n",
            "Epoch 12/50\n",
            "84/84 [==============================] - 2s 21ms/step - loss: 0.1004 - accuracy: 0.9498 - val_loss: 0.5795 - val_accuracy: 0.8477\n",
            "Epoch 13/50\n",
            "84/84 [==============================] - 2s 23ms/step - loss: 0.1069 - accuracy: 0.9467 - val_loss: 0.5654 - val_accuracy: 0.8502\n",
            "Epoch 14/50\n",
            "84/84 [==============================] - 2s 20ms/step - loss: 0.0845 - accuracy: 0.9560 - val_loss: 0.5804 - val_accuracy: 0.8546\n",
            "84/84 [==============================] - 1s 6ms/step - loss: 1.5446 - accuracy: 0.6433\n",
            "Epoch 1/50\n",
            "84/84 [==============================] - 5s 27ms/step - loss: 0.8587 - accuracy: 0.5937 - val_loss: 0.7039 - val_accuracy: 0.6911\n",
            "Epoch 2/50\n",
            "84/84 [==============================] - 2s 19ms/step - loss: 0.6508 - accuracy: 0.7167 - val_loss: 0.5662 - val_accuracy: 0.7576\n",
            "Epoch 3/50\n",
            "84/84 [==============================] - 2s 19ms/step - loss: 0.4720 - accuracy: 0.8083 - val_loss: 0.4972 - val_accuracy: 0.7812\n",
            "Epoch 4/50\n",
            "84/84 [==============================] - 2s 20ms/step - loss: 0.3854 - accuracy: 0.8417 - val_loss: 0.4799 - val_accuracy: 0.8086\n",
            "Epoch 5/50\n",
            "84/84 [==============================] - 2s 23ms/step - loss: 0.3289 - accuracy: 0.8717 - val_loss: 0.5101 - val_accuracy: 0.7831\n",
            "Epoch 6/50\n",
            "84/84 [==============================] - 2s 19ms/step - loss: 0.2742 - accuracy: 0.8930 - val_loss: 0.4318 - val_accuracy: 0.8397\n",
            "Epoch 7/50\n",
            "84/84 [==============================] - 2s 19ms/step - loss: 0.2290 - accuracy: 0.9099 - val_loss: 0.4416 - val_accuracy: 0.8260\n",
            "Epoch 8/50\n",
            "84/84 [==============================] - 2s 19ms/step - loss: 0.2188 - accuracy: 0.9127 - val_loss: 0.4376 - val_accuracy: 0.8452\n",
            "Epoch 9/50\n",
            "84/84 [==============================] - 2s 19ms/step - loss: 0.1929 - accuracy: 0.9200 - val_loss: 0.4328 - val_accuracy: 0.8508\n",
            "Epoch 10/50\n",
            "84/84 [==============================] - 2s 19ms/step - loss: 0.1740 - accuracy: 0.9305 - val_loss: 0.4645 - val_accuracy: 0.8452\n",
            "Epoch 11/50\n",
            "84/84 [==============================] - 2s 19ms/step - loss: 0.1645 - accuracy: 0.9392 - val_loss: 0.4414 - val_accuracy: 0.8471\n",
            "Epoch 12/50\n",
            "84/84 [==============================] - 2s 19ms/step - loss: 0.1483 - accuracy: 0.9463 - val_loss: 0.4520 - val_accuracy: 0.8558\n",
            "Epoch 13/50\n",
            "84/84 [==============================] - 2s 19ms/step - loss: 0.1310 - accuracy: 0.9468 - val_loss: 0.5433 - val_accuracy: 0.8378\n",
            "Epoch 14/50\n",
            "84/84 [==============================] - 2s 19ms/step - loss: 0.1292 - accuracy: 0.9423 - val_loss: 0.5102 - val_accuracy: 0.8490\n",
            "Epoch 15/50\n",
            "84/84 [==============================] - 2s 20ms/step - loss: 0.1317 - accuracy: 0.9437 - val_loss: 0.4715 - val_accuracy: 0.8477\n",
            "Epoch 16/50\n",
            "84/84 [==============================] - 2s 19ms/step - loss: 0.1077 - accuracy: 0.9511 - val_loss: 0.5357 - val_accuracy: 0.8608\n",
            "84/84 [==============================] - 1s 7ms/step - loss: 1.5048 - accuracy: 0.6550\n",
            "Epoch 1/50\n",
            "84/84 [==============================] - 6s 32ms/step - loss: 0.8761 - accuracy: 0.5783 - val_loss: 0.7303 - val_accuracy: 0.6650\n",
            "Epoch 2/50\n",
            "84/84 [==============================] - 2s 20ms/step - loss: 0.6969 - accuracy: 0.6760 - val_loss: 0.5866 - val_accuracy: 0.7539\n",
            "Epoch 3/50\n",
            "84/84 [==============================] - 2s 21ms/step - loss: 0.5218 - accuracy: 0.7888 - val_loss: 0.5211 - val_accuracy: 0.7899\n",
            "Epoch 4/50\n",
            "84/84 [==============================] - 2s 20ms/step - loss: 0.4048 - accuracy: 0.8457 - val_loss: 0.5116 - val_accuracy: 0.7893\n",
            "Epoch 5/50\n",
            "84/84 [==============================] - 2s 20ms/step - loss: 0.3158 - accuracy: 0.8789 - val_loss: 0.4450 - val_accuracy: 0.8372\n",
            "Epoch 6/50\n",
            "84/84 [==============================] - 2s 20ms/step - loss: 0.2867 - accuracy: 0.8943 - val_loss: 0.4504 - val_accuracy: 0.8384\n",
            "Epoch 7/50\n",
            "84/84 [==============================] - 2s 20ms/step - loss: 0.2414 - accuracy: 0.9112 - val_loss: 0.4398 - val_accuracy: 0.8546\n",
            "Epoch 8/50\n",
            "84/84 [==============================] - 2s 20ms/step - loss: 0.2221 - accuracy: 0.9173 - val_loss: 0.4737 - val_accuracy: 0.8527\n",
            "Epoch 9/50\n",
            "84/84 [==============================] - 2s 20ms/step - loss: 0.1926 - accuracy: 0.9286 - val_loss: 0.4543 - val_accuracy: 0.8521\n",
            "Epoch 10/50\n",
            "84/84 [==============================] - 2s 20ms/step - loss: 0.1763 - accuracy: 0.9292 - val_loss: 0.4662 - val_accuracy: 0.8577\n",
            "Epoch 11/50\n",
            "84/84 [==============================] - 2s 20ms/step - loss: 0.1583 - accuracy: 0.9391 - val_loss: 0.5694 - val_accuracy: 0.8459\n",
            "Epoch 12/50\n",
            "84/84 [==============================] - 2s 19ms/step - loss: 0.1434 - accuracy: 0.9429 - val_loss: 0.4559 - val_accuracy: 0.8595\n",
            "Epoch 13/50\n",
            "84/84 [==============================] - 2s 20ms/step - loss: 0.1265 - accuracy: 0.9447 - val_loss: 0.5296 - val_accuracy: 0.8695\n",
            "Epoch 14/50\n",
            "84/84 [==============================] - 2s 20ms/step - loss: 0.1123 - accuracy: 0.9513 - val_loss: 0.4985 - val_accuracy: 0.8707\n",
            "Epoch 15/50\n",
            "84/84 [==============================] - 2s 19ms/step - loss: 0.1177 - accuracy: 0.9466 - val_loss: 0.5235 - val_accuracy: 0.8595\n",
            "Epoch 16/50\n",
            "84/84 [==============================] - 2s 20ms/step - loss: 0.1085 - accuracy: 0.9510 - val_loss: 0.5604 - val_accuracy: 0.8564\n",
            "Epoch 17/50\n",
            "84/84 [==============================] - 2s 20ms/step - loss: 0.1067 - accuracy: 0.9535 - val_loss: 0.5449 - val_accuracy: 0.8689\n",
            "84/84 [==============================] - 1s 6ms/step - loss: 1.4194 - accuracy: 0.6703\n",
            "Epoch 1/50\n",
            "84/84 [==============================] - 5s 28ms/step - loss: 0.8586 - accuracy: 0.6099 - val_loss: 0.7207 - val_accuracy: 0.6861\n",
            "Epoch 2/50\n",
            "84/84 [==============================] - 2s 20ms/step - loss: 0.6574 - accuracy: 0.7100 - val_loss: 0.6021 - val_accuracy: 0.7589\n",
            "Epoch 3/50\n",
            "84/84 [==============================] - 2s 19ms/step - loss: 0.5050 - accuracy: 0.7953 - val_loss: 0.5302 - val_accuracy: 0.7955\n",
            "Epoch 4/50\n",
            "84/84 [==============================] - 2s 19ms/step - loss: 0.3880 - accuracy: 0.8537 - val_loss: 0.5129 - val_accuracy: 0.8160\n",
            "Epoch 5/50\n",
            "84/84 [==============================] - 2s 19ms/step - loss: 0.3351 - accuracy: 0.8694 - val_loss: 0.5107 - val_accuracy: 0.8080\n",
            "Epoch 6/50\n",
            "84/84 [==============================] - 2s 19ms/step - loss: 0.2934 - accuracy: 0.8969 - val_loss: 0.4715 - val_accuracy: 0.8316\n",
            "Epoch 7/50\n",
            "84/84 [==============================] - 2s 18ms/step - loss: 0.2392 - accuracy: 0.9119 - val_loss: 0.4605 - val_accuracy: 0.8384\n",
            "Epoch 8/50\n",
            "84/84 [==============================] - 2s 20ms/step - loss: 0.2179 - accuracy: 0.9143 - val_loss: 0.4797 - val_accuracy: 0.8409\n",
            "Epoch 9/50\n",
            "84/84 [==============================] - 2s 19ms/step - loss: 0.1833 - accuracy: 0.9243 - val_loss: 0.5006 - val_accuracy: 0.8446\n",
            "Epoch 10/50\n",
            "84/84 [==============================] - 2s 20ms/step - loss: 0.1713 - accuracy: 0.9311 - val_loss: 0.5181 - val_accuracy: 0.8446\n",
            "Epoch 11/50\n",
            "84/84 [==============================] - 2s 19ms/step - loss: 0.1618 - accuracy: 0.9318 - val_loss: 0.4799 - val_accuracy: 0.8415\n",
            "Epoch 12/50\n",
            "84/84 [==============================] - 2s 19ms/step - loss: 0.1484 - accuracy: 0.9428 - val_loss: 0.4862 - val_accuracy: 0.8502\n",
            "Epoch 13/50\n",
            "84/84 [==============================] - 2s 19ms/step - loss: 0.1345 - accuracy: 0.9460 - val_loss: 0.4908 - val_accuracy: 0.8490\n",
            "Epoch 14/50\n",
            "84/84 [==============================] - 2s 22ms/step - loss: 0.1302 - accuracy: 0.9422 - val_loss: 0.4840 - val_accuracy: 0.8459\n",
            "Epoch 15/50\n",
            "84/84 [==============================] - 2s 21ms/step - loss: 0.1194 - accuracy: 0.9548 - val_loss: 0.5213 - val_accuracy: 0.8490\n",
            "Epoch 16/50\n",
            "84/84 [==============================] - 2s 20ms/step - loss: 0.1135 - accuracy: 0.9470 - val_loss: 0.5641 - val_accuracy: 0.8508\n",
            "Epoch 17/50\n",
            "84/84 [==============================] - 2s 21ms/step - loss: 0.1163 - accuracy: 0.9519 - val_loss: 0.6049 - val_accuracy: 0.8515\n",
            "84/84 [==============================] - 1s 7ms/step - loss: 1.6080 - accuracy: 0.6377\n",
            "Epoch 1/50\n",
            "84/84 [==============================] - 6s 36ms/step - loss: 0.8779 - accuracy: 0.5992 - val_loss: 0.7107 - val_accuracy: 0.6706\n",
            "Epoch 2/50\n",
            "84/84 [==============================] - 2s 28ms/step - loss: 0.6202 - accuracy: 0.7278 - val_loss: 0.5181 - val_accuracy: 0.7856\n",
            "Epoch 3/50\n",
            "84/84 [==============================] - 2s 29ms/step - loss: 0.3839 - accuracy: 0.8553 - val_loss: 0.4435 - val_accuracy: 0.8285\n",
            "Epoch 4/50\n",
            "84/84 [==============================] - 2s 29ms/step - loss: 0.2604 - accuracy: 0.8978 - val_loss: 0.4401 - val_accuracy: 0.8397\n",
            "Epoch 5/50\n",
            "84/84 [==============================] - 2s 29ms/step - loss: 0.2131 - accuracy: 0.9171 - val_loss: 0.4358 - val_accuracy: 0.8539\n",
            "Epoch 6/50\n",
            "84/84 [==============================] - 3s 33ms/step - loss: 0.1715 - accuracy: 0.9347 - val_loss: 0.4336 - val_accuracy: 0.8521\n",
            "Epoch 7/50\n",
            "84/84 [==============================] - 2s 29ms/step - loss: 0.1428 - accuracy: 0.9426 - val_loss: 0.4697 - val_accuracy: 0.8620\n",
            "Epoch 8/50\n",
            "84/84 [==============================] - 2s 28ms/step - loss: 0.1252 - accuracy: 0.9457 - val_loss: 0.4840 - val_accuracy: 0.8577\n",
            "Epoch 9/50\n",
            "84/84 [==============================] - 2s 29ms/step - loss: 0.1109 - accuracy: 0.9499 - val_loss: 0.4906 - val_accuracy: 0.8589\n",
            "Epoch 10/50\n",
            "84/84 [==============================] - 2s 29ms/step - loss: 0.1060 - accuracy: 0.9488 - val_loss: 0.5584 - val_accuracy: 0.8620\n",
            "Epoch 11/50\n",
            "84/84 [==============================] - 2s 29ms/step - loss: 0.0985 - accuracy: 0.9544 - val_loss: 0.5422 - val_accuracy: 0.8626\n",
            "Epoch 12/50\n",
            "84/84 [==============================] - 2s 29ms/step - loss: 0.0821 - accuracy: 0.9590 - val_loss: 0.5628 - val_accuracy: 0.8658\n",
            "Epoch 13/50\n",
            "84/84 [==============================] - 2s 29ms/step - loss: 0.0854 - accuracy: 0.9556 - val_loss: 0.5725 - val_accuracy: 0.8589\n",
            "Epoch 14/50\n",
            "84/84 [==============================] - 2s 29ms/step - loss: 0.0952 - accuracy: 0.9554 - val_loss: 0.5899 - val_accuracy: 0.8589\n",
            "Epoch 15/50\n",
            "84/84 [==============================] - 2s 29ms/step - loss: 0.0768 - accuracy: 0.9610 - val_loss: 0.6017 - val_accuracy: 0.8651\n",
            "Epoch 16/50\n",
            "84/84 [==============================] - 2s 29ms/step - loss: 0.0726 - accuracy: 0.9607 - val_loss: 0.5911 - val_accuracy: 0.8496\n",
            "84/84 [==============================] - 1s 6ms/step - loss: 1.6878 - accuracy: 0.6304\n",
            "Epoch 1/50\n",
            "84/84 [==============================] - 6s 41ms/step - loss: 0.8927 - accuracy: 0.5694 - val_loss: 0.7257 - val_accuracy: 0.6849\n",
            "Epoch 2/50\n",
            "84/84 [==============================] - 2s 29ms/step - loss: 0.6617 - accuracy: 0.7194 - val_loss: 0.5089 - val_accuracy: 0.7955\n",
            "Epoch 3/50\n",
            "84/84 [==============================] - 2s 29ms/step - loss: 0.3716 - accuracy: 0.8586 - val_loss: 0.4400 - val_accuracy: 0.8378\n",
            "Epoch 4/50\n",
            "84/84 [==============================] - 2s 29ms/step - loss: 0.2472 - accuracy: 0.9098 - val_loss: 0.4320 - val_accuracy: 0.8446\n",
            "Epoch 5/50\n",
            "84/84 [==============================] - 2s 29ms/step - loss: 0.1876 - accuracy: 0.9277 - val_loss: 0.4732 - val_accuracy: 0.8446\n",
            "Epoch 6/50\n",
            "84/84 [==============================] - 2s 29ms/step - loss: 0.1782 - accuracy: 0.9239 - val_loss: 0.4780 - val_accuracy: 0.8602\n",
            "Epoch 7/50\n",
            "84/84 [==============================] - 2s 28ms/step - loss: 0.1243 - accuracy: 0.9503 - val_loss: 0.5222 - val_accuracy: 0.8633\n",
            "Epoch 8/50\n",
            "84/84 [==============================] - 2s 28ms/step - loss: 0.1171 - accuracy: 0.9496 - val_loss: 0.5032 - val_accuracy: 0.8651\n",
            "Epoch 9/50\n",
            "84/84 [==============================] - 2s 29ms/step - loss: 0.1057 - accuracy: 0.9533 - val_loss: 0.5528 - val_accuracy: 0.8626\n",
            "Epoch 10/50\n",
            "84/84 [==============================] - 2s 28ms/step - loss: 0.0894 - accuracy: 0.9579 - val_loss: 0.5453 - val_accuracy: 0.8645\n",
            "Epoch 11/50\n",
            "84/84 [==============================] - 2s 28ms/step - loss: 0.0863 - accuracy: 0.9586 - val_loss: 0.6348 - val_accuracy: 0.8595\n",
            "Epoch 12/50\n",
            "84/84 [==============================] - 2s 28ms/step - loss: 0.0890 - accuracy: 0.9558 - val_loss: 0.6111 - val_accuracy: 0.8651\n",
            "Epoch 13/50\n",
            "84/84 [==============================] - 2s 28ms/step - loss: 0.1028 - accuracy: 0.9514 - val_loss: 0.6143 - val_accuracy: 0.8577\n",
            "Epoch 14/50\n",
            "84/84 [==============================] - 2s 28ms/step - loss: 0.0838 - accuracy: 0.9574 - val_loss: 0.6380 - val_accuracy: 0.8614\n",
            "84/84 [==============================] - 1s 6ms/step - loss: 1.7306 - accuracy: 0.6591\n",
            "Epoch 1/50\n",
            "84/84 [==============================] - 6s 36ms/step - loss: 0.8807 - accuracy: 0.5781 - val_loss: 0.6972 - val_accuracy: 0.7048\n",
            "Epoch 2/50\n",
            "84/84 [==============================] - 2s 28ms/step - loss: 0.6106 - accuracy: 0.7416 - val_loss: 0.5126 - val_accuracy: 0.8005\n",
            "Epoch 3/50\n",
            "84/84 [==============================] - 2s 28ms/step - loss: 0.3518 - accuracy: 0.8615 - val_loss: 0.4518 - val_accuracy: 0.8359\n",
            "Epoch 4/50\n",
            "84/84 [==============================] - 2s 28ms/step - loss: 0.2539 - accuracy: 0.9032 - val_loss: 0.5268 - val_accuracy: 0.8005\n",
            "Epoch 5/50\n",
            "84/84 [==============================] - 2s 27ms/step - loss: 0.1984 - accuracy: 0.9243 - val_loss: 0.4744 - val_accuracy: 0.8546\n",
            "Epoch 6/50\n",
            "84/84 [==============================] - 2s 28ms/step - loss: 0.1586 - accuracy: 0.9401 - val_loss: 0.4779 - val_accuracy: 0.8403\n",
            "Epoch 7/50\n",
            "84/84 [==============================] - 2s 28ms/step - loss: 0.1383 - accuracy: 0.9432 - val_loss: 0.5227 - val_accuracy: 0.8539\n",
            "Epoch 8/50\n",
            "84/84 [==============================] - 2s 28ms/step - loss: 0.1273 - accuracy: 0.9402 - val_loss: 0.5031 - val_accuracy: 0.8527\n",
            "Epoch 9/50\n",
            "84/84 [==============================] - 2s 28ms/step - loss: 0.1113 - accuracy: 0.9481 - val_loss: 0.5234 - val_accuracy: 0.8521\n",
            "Epoch 10/50\n",
            "84/84 [==============================] - 2s 28ms/step - loss: 0.1215 - accuracy: 0.9447 - val_loss: 0.5999 - val_accuracy: 0.8502\n",
            "Epoch 11/50\n",
            "84/84 [==============================] - 2s 27ms/step - loss: 0.0940 - accuracy: 0.9547 - val_loss: 0.5883 - val_accuracy: 0.8546\n",
            "Epoch 12/50\n",
            "84/84 [==============================] - 2s 27ms/step - loss: 0.0866 - accuracy: 0.9564 - val_loss: 0.5974 - val_accuracy: 0.8564\n",
            "Epoch 13/50\n",
            "84/84 [==============================] - 2s 28ms/step - loss: 0.1018 - accuracy: 0.9479 - val_loss: 0.6164 - val_accuracy: 0.8527\n",
            "84/84 [==============================] - 1s 6ms/step - loss: 1.5755 - accuracy: 0.6582\n",
            "Epoch 1/50\n",
            "84/84 [==============================] - 6s 34ms/step - loss: 0.8668 - accuracy: 0.5965 - val_loss: 0.6951 - val_accuracy: 0.7017\n",
            "Epoch 2/50\n",
            "84/84 [==============================] - 2s 26ms/step - loss: 0.6713 - accuracy: 0.7101 - val_loss: 0.6171 - val_accuracy: 0.7328\n",
            "Epoch 3/50\n",
            "84/84 [==============================] - 2s 26ms/step - loss: 0.4904 - accuracy: 0.7989 - val_loss: 0.4874 - val_accuracy: 0.7955\n",
            "Epoch 4/50\n",
            "84/84 [==============================] - 2s 25ms/step - loss: 0.3680 - accuracy: 0.8509 - val_loss: 0.4335 - val_accuracy: 0.8310\n",
            "Epoch 5/50\n",
            "84/84 [==============================] - 2s 26ms/step - loss: 0.2934 - accuracy: 0.8844 - val_loss: 0.4318 - val_accuracy: 0.8254\n",
            "Epoch 6/50\n",
            "84/84 [==============================] - 2s 25ms/step - loss: 0.2309 - accuracy: 0.9101 - val_loss: 0.4480 - val_accuracy: 0.8210\n",
            "Epoch 7/50\n",
            "84/84 [==============================] - 2s 26ms/step - loss: 0.2220 - accuracy: 0.9136 - val_loss: 0.4580 - val_accuracy: 0.8434\n",
            "Epoch 8/50\n",
            "84/84 [==============================] - 2s 26ms/step - loss: 0.1854 - accuracy: 0.9237 - val_loss: 0.4352 - val_accuracy: 0.8378\n",
            "Epoch 9/50\n",
            "84/84 [==============================] - 2s 26ms/step - loss: 0.1831 - accuracy: 0.9285 - val_loss: 0.4453 - val_accuracy: 0.8459\n",
            "Epoch 10/50\n",
            "84/84 [==============================] - 2s 27ms/step - loss: 0.1591 - accuracy: 0.9308 - val_loss: 0.4539 - val_accuracy: 0.8571\n",
            "Epoch 11/50\n",
            "84/84 [==============================] - 2s 26ms/step - loss: 0.1434 - accuracy: 0.9407 - val_loss: 0.4703 - val_accuracy: 0.8539\n",
            "Epoch 12/50\n",
            "84/84 [==============================] - 2s 25ms/step - loss: 0.1284 - accuracy: 0.9457 - val_loss: 0.4793 - val_accuracy: 0.8508\n",
            "Epoch 13/50\n",
            "84/84 [==============================] - 2s 26ms/step - loss: 0.1212 - accuracy: 0.9451 - val_loss: 0.5321 - val_accuracy: 0.8403\n",
            "Epoch 14/50\n",
            "84/84 [==============================] - 2s 27ms/step - loss: 0.1119 - accuracy: 0.9484 - val_loss: 0.5216 - val_accuracy: 0.8633\n",
            "Epoch 15/50\n",
            "84/84 [==============================] - 2s 27ms/step - loss: 0.1024 - accuracy: 0.9529 - val_loss: 0.5264 - val_accuracy: 0.8602\n",
            "84/84 [==============================] - 1s 6ms/step - loss: 1.4776 - accuracy: 0.6609\n",
            "Epoch 1/50\n",
            "84/84 [==============================] - 6s 36ms/step - loss: 0.8648 - accuracy: 0.5498 - val_loss: 0.6822 - val_accuracy: 0.7091\n",
            "Epoch 2/50\n",
            "84/84 [==============================] - 2s 26ms/step - loss: 0.6471 - accuracy: 0.7204 - val_loss: 0.5454 - val_accuracy: 0.7756\n",
            "Epoch 3/50\n",
            "84/84 [==============================] - 3s 32ms/step - loss: 0.4701 - accuracy: 0.8136 - val_loss: 0.5215 - val_accuracy: 0.7899\n",
            "Epoch 4/50\n",
            "84/84 [==============================] - 2s 28ms/step - loss: 0.3411 - accuracy: 0.8658 - val_loss: 0.4649 - val_accuracy: 0.8328\n",
            "Epoch 5/50\n",
            "84/84 [==============================] - 2s 28ms/step - loss: 0.2892 - accuracy: 0.8850 - val_loss: 0.4514 - val_accuracy: 0.8372\n",
            "Epoch 6/50\n",
            "84/84 [==============================] - 2s 28ms/step - loss: 0.2485 - accuracy: 0.9050 - val_loss: 0.4610 - val_accuracy: 0.8490\n",
            "Epoch 7/50\n",
            "84/84 [==============================] - 2s 28ms/step - loss: 0.2065 - accuracy: 0.9219 - val_loss: 0.4743 - val_accuracy: 0.8496\n",
            "Epoch 8/50\n",
            "84/84 [==============================] - 2s 28ms/step - loss: 0.1886 - accuracy: 0.9232 - val_loss: 0.5636 - val_accuracy: 0.8459\n",
            "Epoch 9/50\n",
            "84/84 [==============================] - 2s 27ms/step - loss: 0.1664 - accuracy: 0.9346 - val_loss: 0.5008 - val_accuracy: 0.8465\n",
            "Epoch 10/50\n",
            "84/84 [==============================] - 2s 28ms/step - loss: 0.1448 - accuracy: 0.9397 - val_loss: 0.5020 - val_accuracy: 0.8558\n",
            "Epoch 11/50\n",
            "84/84 [==============================] - 2s 27ms/step - loss: 0.1485 - accuracy: 0.9406 - val_loss: 0.6368 - val_accuracy: 0.8390\n",
            "Epoch 12/50\n",
            "84/84 [==============================] - 2s 27ms/step - loss: 0.1224 - accuracy: 0.9475 - val_loss: 0.5659 - val_accuracy: 0.8564\n",
            "Epoch 13/50\n",
            "84/84 [==============================] - 2s 27ms/step - loss: 0.1100 - accuracy: 0.9539 - val_loss: 0.5848 - val_accuracy: 0.8508\n",
            "Epoch 14/50\n",
            "84/84 [==============================] - 2s 27ms/step - loss: 0.1133 - accuracy: 0.9538 - val_loss: 0.5215 - val_accuracy: 0.8614\n",
            "Epoch 15/50\n",
            "84/84 [==============================] - 2s 28ms/step - loss: 0.1119 - accuracy: 0.9485 - val_loss: 0.6006 - val_accuracy: 0.8639\n",
            "84/84 [==============================] - 1s 6ms/step - loss: 1.5213 - accuracy: 0.6606\n",
            "Epoch 1/50\n",
            "84/84 [==============================] - 6s 36ms/step - loss: 0.8504 - accuracy: 0.5884 - val_loss: 0.7038 - val_accuracy: 0.6837\n",
            "Epoch 2/50\n",
            "84/84 [==============================] - 2s 28ms/step - loss: 0.6376 - accuracy: 0.7180 - val_loss: 0.5899 - val_accuracy: 0.7595\n",
            "Epoch 3/50\n",
            "84/84 [==============================] - 2s 27ms/step - loss: 0.5039 - accuracy: 0.7940 - val_loss: 0.5878 - val_accuracy: 0.7868\n",
            "Epoch 4/50\n",
            "84/84 [==============================] - 2s 28ms/step - loss: 0.3832 - accuracy: 0.8452 - val_loss: 0.5268 - val_accuracy: 0.8024\n",
            "Epoch 5/50\n",
            "84/84 [==============================] - 2s 26ms/step - loss: 0.3205 - accuracy: 0.8749 - val_loss: 0.5205 - val_accuracy: 0.7974\n",
            "Epoch 6/50\n",
            "84/84 [==============================] - 2s 25ms/step - loss: 0.2932 - accuracy: 0.8852 - val_loss: 0.5339 - val_accuracy: 0.8229\n",
            "Epoch 7/50\n",
            "84/84 [==============================] - 2s 26ms/step - loss: 0.2130 - accuracy: 0.9196 - val_loss: 0.4917 - val_accuracy: 0.8372\n",
            "Epoch 8/50\n",
            "84/84 [==============================] - 2s 26ms/step - loss: 0.1973 - accuracy: 0.9219 - val_loss: 0.4687 - val_accuracy: 0.8359\n",
            "Epoch 9/50\n",
            "84/84 [==============================] - 2s 26ms/step - loss: 0.1826 - accuracy: 0.9306 - val_loss: 0.5052 - val_accuracy: 0.8365\n",
            "Epoch 10/50\n",
            "84/84 [==============================] - 2s 26ms/step - loss: 0.1574 - accuracy: 0.9298 - val_loss: 0.4458 - val_accuracy: 0.8496\n",
            "Epoch 11/50\n",
            "84/84 [==============================] - 2s 25ms/step - loss: 0.1565 - accuracy: 0.9351 - val_loss: 0.5638 - val_accuracy: 0.8378\n",
            "Epoch 12/50\n",
            "84/84 [==============================] - 2s 25ms/step - loss: 0.1285 - accuracy: 0.9469 - val_loss: 0.4829 - val_accuracy: 0.8477\n",
            "Epoch 13/50\n",
            "84/84 [==============================] - 2s 26ms/step - loss: 0.1247 - accuracy: 0.9457 - val_loss: 0.4972 - val_accuracy: 0.8484\n",
            "Epoch 14/50\n",
            "84/84 [==============================] - 2s 26ms/step - loss: 0.1155 - accuracy: 0.9450 - val_loss: 0.5510 - val_accuracy: 0.8508\n",
            "Epoch 15/50\n",
            "84/84 [==============================] - 2s 25ms/step - loss: 0.1167 - accuracy: 0.9484 - val_loss: 0.5627 - val_accuracy: 0.8502\n",
            "Epoch 16/50\n",
            "84/84 [==============================] - 2s 26ms/step - loss: 0.1055 - accuracy: 0.9512 - val_loss: 0.5756 - val_accuracy: 0.8446\n",
            "Epoch 17/50\n",
            "84/84 [==============================] - 2s 25ms/step - loss: 0.1085 - accuracy: 0.9518 - val_loss: 0.6148 - val_accuracy: 0.8521\n",
            "Epoch 18/50\n",
            "84/84 [==============================] - 2s 26ms/step - loss: 0.0935 - accuracy: 0.9560 - val_loss: 0.6294 - val_accuracy: 0.8552\n",
            "Epoch 19/50\n",
            "84/84 [==============================] - 2s 26ms/step - loss: 0.0991 - accuracy: 0.9500 - val_loss: 0.6544 - val_accuracy: 0.8577\n",
            "Epoch 20/50\n",
            "84/84 [==============================] - 2s 26ms/step - loss: 0.0889 - accuracy: 0.9543 - val_loss: 0.5931 - val_accuracy: 0.8527\n",
            "84/84 [==============================] - 1s 7ms/step - loss: 1.5548 - accuracy: 0.6504\n",
            "Epoch 1/50\n",
            "84/84 [==============================] - 7s 52ms/step - loss: 0.8586 - accuracy: 0.5942 - val_loss: 0.6855 - val_accuracy: 0.7104\n",
            "Epoch 2/50\n",
            "84/84 [==============================] - 4s 42ms/step - loss: 0.6019 - accuracy: 0.7527 - val_loss: 0.4837 - val_accuracy: 0.8086\n",
            "Epoch 3/50\n",
            "84/84 [==============================] - 4s 42ms/step - loss: 0.3732 - accuracy: 0.8562 - val_loss: 0.4364 - val_accuracy: 0.8359\n",
            "Epoch 4/50\n",
            "84/84 [==============================] - 4s 43ms/step - loss: 0.2500 - accuracy: 0.9075 - val_loss: 0.4294 - val_accuracy: 0.8521\n",
            "Epoch 5/50\n",
            "84/84 [==============================] - 4s 42ms/step - loss: 0.2034 - accuracy: 0.9258 - val_loss: 0.4445 - val_accuracy: 0.8384\n",
            "Epoch 6/50\n",
            "84/84 [==============================] - 4s 43ms/step - loss: 0.1631 - accuracy: 0.9386 - val_loss: 0.4394 - val_accuracy: 0.8595\n",
            "Epoch 7/50\n",
            "84/84 [==============================] - 4s 43ms/step - loss: 0.1477 - accuracy: 0.9406 - val_loss: 0.4727 - val_accuracy: 0.8533\n",
            "Epoch 8/50\n",
            "84/84 [==============================] - 4s 43ms/step - loss: 0.1232 - accuracy: 0.9475 - val_loss: 0.5099 - val_accuracy: 0.8645\n",
            "Epoch 9/50\n",
            "84/84 [==============================] - 4s 43ms/step - loss: 0.1151 - accuracy: 0.9465 - val_loss: 0.4898 - val_accuracy: 0.8602\n",
            "Epoch 10/50\n",
            "84/84 [==============================] - 4s 43ms/step - loss: 0.1032 - accuracy: 0.9518 - val_loss: 0.5460 - val_accuracy: 0.8589\n",
            "Epoch 11/50\n",
            "84/84 [==============================] - 4s 42ms/step - loss: 0.0918 - accuracy: 0.9525 - val_loss: 0.5684 - val_accuracy: 0.8651\n",
            "Epoch 12/50\n",
            "84/84 [==============================] - 4s 46ms/step - loss: 0.0994 - accuracy: 0.9560 - val_loss: 0.5864 - val_accuracy: 0.8452\n",
            "Epoch 13/50\n",
            "84/84 [==============================] - 4s 44ms/step - loss: 0.0837 - accuracy: 0.9538 - val_loss: 0.6206 - val_accuracy: 0.8639\n",
            "Epoch 14/50\n",
            "84/84 [==============================] - 4s 45ms/step - loss: 0.0852 - accuracy: 0.9568 - val_loss: 0.6123 - val_accuracy: 0.8558\n",
            "84/84 [==============================] - 1s 6ms/step - loss: 1.7174 - accuracy: 0.6416\n",
            "Epoch 1/50\n",
            "84/84 [==============================] - 7s 51ms/step - loss: 0.8550 - accuracy: 0.5908 - val_loss: 0.6757 - val_accuracy: 0.6911\n",
            "Epoch 2/50\n",
            "84/84 [==============================] - 4s 43ms/step - loss: 0.6338 - accuracy: 0.7291 - val_loss: 0.4940 - val_accuracy: 0.8067\n",
            "Epoch 3/50\n",
            "84/84 [==============================] - 4s 43ms/step - loss: 0.3680 - accuracy: 0.8591 - val_loss: 0.4734 - val_accuracy: 0.8365\n",
            "Epoch 4/50\n",
            "84/84 [==============================] - 4s 43ms/step - loss: 0.2511 - accuracy: 0.9045 - val_loss: 0.4648 - val_accuracy: 0.8297\n",
            "Epoch 5/50\n",
            "84/84 [==============================] - 4s 48ms/step - loss: 0.2002 - accuracy: 0.9278 - val_loss: 0.4487 - val_accuracy: 0.8539\n",
            "Epoch 6/50\n",
            "84/84 [==============================] - 4s 43ms/step - loss: 0.1556 - accuracy: 0.9404 - val_loss: 0.4682 - val_accuracy: 0.8515\n",
            "Epoch 7/50\n",
            "84/84 [==============================] - 4s 44ms/step - loss: 0.1423 - accuracy: 0.9414 - val_loss: 0.4900 - val_accuracy: 0.8558\n",
            "Epoch 8/50\n",
            "84/84 [==============================] - 4s 44ms/step - loss: 0.1316 - accuracy: 0.9386 - val_loss: 0.5149 - val_accuracy: 0.8651\n",
            "Epoch 9/50\n",
            "84/84 [==============================] - 4s 44ms/step - loss: 0.1159 - accuracy: 0.9479 - val_loss: 0.5523 - val_accuracy: 0.8546\n",
            "Epoch 10/50\n",
            "84/84 [==============================] - 4s 43ms/step - loss: 0.1122 - accuracy: 0.9483 - val_loss: 0.5577 - val_accuracy: 0.8608\n",
            "Epoch 11/50\n",
            "84/84 [==============================] - 4s 44ms/step - loss: 0.1002 - accuracy: 0.9533 - val_loss: 0.5975 - val_accuracy: 0.8583\n",
            "Epoch 12/50\n",
            "84/84 [==============================] - 4s 44ms/step - loss: 0.0841 - accuracy: 0.9594 - val_loss: 0.6350 - val_accuracy: 0.8577\n",
            "Epoch 13/50\n",
            "84/84 [==============================] - 4s 43ms/step - loss: 0.0772 - accuracy: 0.9621 - val_loss: 0.6892 - val_accuracy: 0.8676\n",
            "Epoch 14/50\n",
            "84/84 [==============================] - 4s 44ms/step - loss: 0.0735 - accuracy: 0.9601 - val_loss: 0.6945 - val_accuracy: 0.8695\n",
            "Epoch 15/50\n",
            "84/84 [==============================] - 4s 43ms/step - loss: 0.0761 - accuracy: 0.9570 - val_loss: 0.7057 - val_accuracy: 0.8645\n",
            "84/84 [==============================] - 1s 6ms/step - loss: 1.8826 - accuracy: 0.6755\n",
            "Epoch 1/50\n",
            "84/84 [==============================] - 7s 56ms/step - loss: 0.8512 - accuracy: 0.6032 - val_loss: 0.6704 - val_accuracy: 0.7141\n",
            "Epoch 2/50\n",
            "84/84 [==============================] - 4s 43ms/step - loss: 0.5648 - accuracy: 0.7704 - val_loss: 0.5227 - val_accuracy: 0.7819\n",
            "Epoch 3/50\n",
            "84/84 [==============================] - 4s 43ms/step - loss: 0.3563 - accuracy: 0.8627 - val_loss: 0.4655 - val_accuracy: 0.8334\n",
            "Epoch 4/50\n",
            "84/84 [==============================] - 4s 44ms/step - loss: 0.2452 - accuracy: 0.9098 - val_loss: 0.4534 - val_accuracy: 0.8409\n",
            "Epoch 5/50\n",
            "84/84 [==============================] - 4s 44ms/step - loss: 0.1936 - accuracy: 0.9233 - val_loss: 0.4635 - val_accuracy: 0.8403\n",
            "Epoch 6/50\n",
            "84/84 [==============================] - 4s 44ms/step - loss: 0.1608 - accuracy: 0.9331 - val_loss: 0.4855 - val_accuracy: 0.8421\n",
            "Epoch 7/50\n",
            "84/84 [==============================] - 4s 45ms/step - loss: 0.1393 - accuracy: 0.9441 - val_loss: 0.4962 - val_accuracy: 0.8515\n",
            "Epoch 8/50\n",
            "84/84 [==============================] - 4s 44ms/step - loss: 0.1241 - accuracy: 0.9387 - val_loss: 0.5423 - val_accuracy: 0.8496\n",
            "Epoch 9/50\n",
            "84/84 [==============================] - 4s 45ms/step - loss: 0.1132 - accuracy: 0.9542 - val_loss: 0.5577 - val_accuracy: 0.8533\n",
            "Epoch 10/50\n",
            "84/84 [==============================] - 4s 45ms/step - loss: 0.1106 - accuracy: 0.9515 - val_loss: 0.5810 - val_accuracy: 0.8595\n",
            "Epoch 11/50\n",
            "84/84 [==============================] - 4s 44ms/step - loss: 0.0994 - accuracy: 0.9547 - val_loss: 0.5802 - val_accuracy: 0.8502\n",
            "Epoch 12/50\n",
            "84/84 [==============================] - 4s 44ms/step - loss: 0.0864 - accuracy: 0.9560 - val_loss: 0.6239 - val_accuracy: 0.8577\n",
            "Epoch 13/50\n",
            "84/84 [==============================] - 4s 44ms/step - loss: 0.0888 - accuracy: 0.9547 - val_loss: 0.7135 - val_accuracy: 0.8564\n",
            "Epoch 14/50\n",
            "84/84 [==============================] - 4s 44ms/step - loss: 0.0950 - accuracy: 0.9503 - val_loss: 0.6347 - val_accuracy: 0.8421\n",
            "84/84 [==============================] - 1s 7ms/step - loss: 1.7449 - accuracy: 0.6425\n",
            "Epoch 1/50\n",
            "126/126 [==============================] - 6s 27ms/step - loss: 0.9102 - accuracy: 0.5891 - val_loss: 0.7006 - val_accuracy: 0.6874\n",
            "Epoch 2/50\n",
            "126/126 [==============================] - 3s 21ms/step - loss: 0.6889 - accuracy: 0.7024 - val_loss: 0.5607 - val_accuracy: 0.7700\n",
            "Epoch 3/50\n",
            "126/126 [==============================] - 3s 21ms/step - loss: 0.5661 - accuracy: 0.7761 - val_loss: 0.4331 - val_accuracy: 0.8353\n",
            "Epoch 4/50\n",
            "126/126 [==============================] - 3s 21ms/step - loss: 0.4086 - accuracy: 0.8464 - val_loss: 0.3134 - val_accuracy: 0.8832\n",
            "Epoch 5/50\n",
            "126/126 [==============================] - 3s 21ms/step - loss: 0.2992 - accuracy: 0.8848 - val_loss: 0.2325 - val_accuracy: 0.9074\n",
            "Epoch 6/50\n",
            "126/126 [==============================] - 3s 21ms/step - loss: 0.2362 - accuracy: 0.9122 - val_loss: 0.2049 - val_accuracy: 0.9204\n",
            "Epoch 7/50\n",
            "126/126 [==============================] - 3s 21ms/step - loss: 0.2105 - accuracy: 0.9170 - val_loss: 0.1998 - val_accuracy: 0.9310\n",
            "Epoch 8/50\n",
            "126/126 [==============================] - 3s 21ms/step - loss: 0.1925 - accuracy: 0.9172 - val_loss: 0.1843 - val_accuracy: 0.9217\n",
            "Epoch 9/50\n",
            "126/126 [==============================] - 3s 20ms/step - loss: 0.1659 - accuracy: 0.9264 - val_loss: 0.1471 - val_accuracy: 0.9273\n",
            "Epoch 10/50\n",
            "126/126 [==============================] - 3s 21ms/step - loss: 0.1628 - accuracy: 0.9284 - val_loss: 0.1364 - val_accuracy: 0.9329\n",
            "Epoch 11/50\n",
            "126/126 [==============================] - 3s 21ms/step - loss: 0.1493 - accuracy: 0.9266 - val_loss: 0.1516 - val_accuracy: 0.9323\n",
            "Epoch 12/50\n",
            "126/126 [==============================] - 3s 21ms/step - loss: 0.1434 - accuracy: 0.9283 - val_loss: 0.1235 - val_accuracy: 0.9378\n",
            "Epoch 13/50\n",
            "126/126 [==============================] - 3s 21ms/step - loss: 0.1328 - accuracy: 0.9352 - val_loss: 0.1227 - val_accuracy: 0.9372\n",
            "Epoch 14/50\n",
            "126/126 [==============================] - 3s 21ms/step - loss: 0.1322 - accuracy: 0.9326 - val_loss: 0.1143 - val_accuracy: 0.9416\n",
            "Epoch 15/50\n",
            "126/126 [==============================] - 3s 21ms/step - loss: 0.1325 - accuracy: 0.9343 - val_loss: 0.1098 - val_accuracy: 0.9434\n",
            "Epoch 16/50\n",
            "126/126 [==============================] - 3s 21ms/step - loss: 0.1189 - accuracy: 0.9404 - val_loss: 0.1081 - val_accuracy: 0.9434\n",
            "Epoch 17/50\n",
            "126/126 [==============================] - 3s 21ms/step - loss: 0.1139 - accuracy: 0.9397 - val_loss: 0.1007 - val_accuracy: 0.9478\n",
            "Epoch 18/50\n",
            "126/126 [==============================] - 3s 21ms/step - loss: 0.1083 - accuracy: 0.9460 - val_loss: 0.1039 - val_accuracy: 0.9459\n",
            "Epoch 19/50\n",
            "126/126 [==============================] - 3s 21ms/step - loss: 0.1012 - accuracy: 0.9488 - val_loss: 0.0920 - val_accuracy: 0.9528\n",
            "Epoch 20/50\n",
            "126/126 [==============================] - 3s 21ms/step - loss: 0.0985 - accuracy: 0.9504 - val_loss: 0.0998 - val_accuracy: 0.9503\n",
            "Epoch 21/50\n",
            "126/126 [==============================] - 3s 22ms/step - loss: 0.1018 - accuracy: 0.9515 - val_loss: 0.1171 - val_accuracy: 0.9466\n",
            "Epoch 22/50\n",
            "126/126 [==============================] - 3s 21ms/step - loss: 0.0970 - accuracy: 0.9542 - val_loss: 0.0979 - val_accuracy: 0.9497\n",
            "Epoch 23/50\n",
            "126/126 [==============================] - 3s 21ms/step - loss: 0.0938 - accuracy: 0.9503 - val_loss: 0.0875 - val_accuracy: 0.9553\n",
            "Epoch 24/50\n",
            "126/126 [==============================] - 3s 21ms/step - loss: 0.0759 - accuracy: 0.9636 - val_loss: 0.0777 - val_accuracy: 0.9615\n",
            "Epoch 25/50\n",
            "126/126 [==============================] - 3s 21ms/step - loss: 0.0858 - accuracy: 0.9582 - val_loss: 0.0791 - val_accuracy: 0.9621\n",
            "Epoch 26/50\n",
            "126/126 [==============================] - 3s 21ms/step - loss: 0.0870 - accuracy: 0.9640 - val_loss: 0.0686 - val_accuracy: 0.9733\n",
            "Epoch 27/50\n",
            "126/126 [==============================] - 3s 21ms/step - loss: 0.0751 - accuracy: 0.9665 - val_loss: 0.0734 - val_accuracy: 0.9640\n",
            "Epoch 28/50\n",
            "126/126 [==============================] - 3s 21ms/step - loss: 0.0692 - accuracy: 0.9683 - val_loss: 0.0718 - val_accuracy: 0.9708\n",
            "Epoch 29/50\n",
            "126/126 [==============================] - 3s 21ms/step - loss: 0.0724 - accuracy: 0.9672 - val_loss: 0.0612 - val_accuracy: 0.9727\n",
            "Epoch 30/50\n",
            "126/126 [==============================] - 3s 21ms/step - loss: 0.0660 - accuracy: 0.9695 - val_loss: 0.0613 - val_accuracy: 0.9739\n",
            "Epoch 31/50\n",
            "126/126 [==============================] - 3s 21ms/step - loss: 0.0649 - accuracy: 0.9722 - val_loss: 0.0516 - val_accuracy: 0.9776\n",
            "Epoch 32/50\n",
            "126/126 [==============================] - 3s 21ms/step - loss: 0.0601 - accuracy: 0.9750 - val_loss: 0.0488 - val_accuracy: 0.9845\n",
            "Epoch 33/50\n",
            "126/126 [==============================] - 3s 21ms/step - loss: 0.0547 - accuracy: 0.9766 - val_loss: 0.0500 - val_accuracy: 0.9782\n",
            "Epoch 34/50\n",
            "126/126 [==============================] - 3s 21ms/step - loss: 0.0471 - accuracy: 0.9830 - val_loss: 0.0451 - val_accuracy: 0.9807\n",
            "Epoch 35/50\n",
            "126/126 [==============================] - 3s 21ms/step - loss: 0.0444 - accuracy: 0.9811 - val_loss: 0.0489 - val_accuracy: 0.9826\n",
            "Epoch 36/50\n",
            "126/126 [==============================] - 3s 21ms/step - loss: 0.0608 - accuracy: 0.9784 - val_loss: 0.0512 - val_accuracy: 0.9782\n",
            "Epoch 37/50\n",
            "126/126 [==============================] - 3s 21ms/step - loss: 0.0605 - accuracy: 0.9790 - val_loss: 0.0444 - val_accuracy: 0.9820\n",
            "Epoch 38/50\n",
            "126/126 [==============================] - 3s 20ms/step - loss: 0.0481 - accuracy: 0.9794 - val_loss: 0.0430 - val_accuracy: 0.9820\n",
            "Epoch 39/50\n",
            "126/126 [==============================] - 3s 21ms/step - loss: 0.0407 - accuracy: 0.9838 - val_loss: 0.0387 - val_accuracy: 0.9845\n",
            "Epoch 40/50\n",
            "126/126 [==============================] - 3s 21ms/step - loss: 0.0408 - accuracy: 0.9814 - val_loss: 0.0390 - val_accuracy: 0.9826\n",
            "Epoch 41/50\n",
            "126/126 [==============================] - 3s 20ms/step - loss: 0.0324 - accuracy: 0.9857 - val_loss: 0.0678 - val_accuracy: 0.9733\n",
            "Epoch 42/50\n",
            "126/126 [==============================] - 3s 21ms/step - loss: 0.0459 - accuracy: 0.9803 - val_loss: 0.0366 - val_accuracy: 0.9851\n",
            "Epoch 43/50\n",
            "126/126 [==============================] - 3s 21ms/step - loss: 0.0337 - accuracy: 0.9852 - val_loss: 0.1272 - val_accuracy: 0.9627\n",
            "Epoch 44/50\n",
            "126/126 [==============================] - 3s 21ms/step - loss: 0.0490 - accuracy: 0.9812 - val_loss: 0.0358 - val_accuracy: 0.9863\n",
            "Epoch 45/50\n",
            "126/126 [==============================] - 3s 21ms/step - loss: 0.0319 - accuracy: 0.9861 - val_loss: 0.0301 - val_accuracy: 0.9882\n",
            "Epoch 46/50\n",
            "126/126 [==============================] - 3s 21ms/step - loss: 0.0386 - accuracy: 0.9846 - val_loss: 0.0397 - val_accuracy: 0.9845\n",
            "Epoch 47/50\n",
            "126/126 [==============================] - 3s 21ms/step - loss: 0.0384 - accuracy: 0.9844 - val_loss: 0.0281 - val_accuracy: 0.9863\n",
            "Epoch 48/50\n",
            "126/126 [==============================] - 3s 21ms/step - loss: 0.0277 - accuracy: 0.9887 - val_loss: 0.0280 - val_accuracy: 0.9882\n",
            "Epoch 49/50\n",
            "126/126 [==============================] - 3s 21ms/step - loss: 0.0330 - accuracy: 0.9860 - val_loss: 0.0352 - val_accuracy: 0.9869\n",
            "Epoch 50/50\n",
            "126/126 [==============================] - 3s 21ms/step - loss: 0.0385 - accuracy: 0.9871 - val_loss: 0.0334 - val_accuracy: 0.9838\n"
          ],
          "name": "stdout"
        }
      ]
    },
    {
      "cell_type": "code",
      "metadata": {
        "id": "5Ul9B7a33Llr"
      },
      "source": [
        "grid.best_estimator_.model.save('model.h5')"
      ],
      "execution_count": null,
      "outputs": []
    },
    {
      "cell_type": "markdown",
      "metadata": {
        "id": "ZVgOXc4bpEzV"
      },
      "source": [
        "### Retraining Best Model from Gridsearch"
      ]
    },
    {
      "cell_type": "code",
      "metadata": {
        "id": "SQ3Ioc7xJtNQ"
      },
      "source": [
        "model = models.load_model('model.h5')"
      ],
      "execution_count": null,
      "outputs": []
    },
    {
      "cell_type": "code",
      "metadata": {
        "colab": {
          "base_uri": "https://localhost:8080/"
        },
        "id": "lGHxbJKQLTgw",
        "outputId": "c033302e-5b05-4d3e-981e-fe130a4ecdae"
      },
      "source": [
        "model.evaluate(X_test, y_test, batch_size=64)"
      ],
      "execution_count": null,
      "outputs": [
        {
          "output_type": "stream",
          "text": [
            "14/14 [==============================] - 1s 5ms/step - loss: 2.4165 - accuracy: 0.6566\n"
          ],
          "name": "stdout"
        },
        {
          "output_type": "execute_result",
          "data": {
            "text/plain": [
              "[2.4164624214172363, 0.6565995812416077]"
            ]
          },
          "metadata": {
            "tags": []
          },
          "execution_count": 15
        }
      ]
    },
    {
      "cell_type": "code",
      "metadata": {
        "colab": {
          "base_uri": "https://localhost:8080/"
        },
        "id": "nbEAJFJ8L-pw",
        "outputId": "f5fa05d2-a7ef-4ecd-a2ee-84d33e5b5833"
      },
      "source": [
        "model.evaluate(X_train, y_train, batch_size=64)"
      ],
      "execution_count": null,
      "outputs": [
        {
          "output_type": "stream",
          "text": [
            "126/126 [==============================] - 1s 5ms/step - loss: 0.0343 - accuracy: 0.9856\n"
          ],
          "name": "stdout"
        },
        {
          "output_type": "execute_result",
          "data": {
            "text/plain": [
              "[0.0342552550137043, 0.9855757355690002]"
            ]
          },
          "metadata": {
            "tags": []
          },
          "execution_count": 16
        }
      ]
    },
    {
      "cell_type": "code",
      "metadata": {
        "colab": {
          "base_uri": "https://localhost:8080/"
        },
        "id": "NokLVRBMECq_",
        "outputId": "af6c40bf-17c9-4963-ff86-94ee50563f6a"
      },
      "source": [
        "history = model.fit(X_train, y_train, epochs=50, batch_size=64, validation_split=0.2)"
      ],
      "execution_count": null,
      "outputs": [
        {
          "output_type": "stream",
          "text": [
            "Epoch 1/50\n",
            "101/101 [==============================] - 3s 17ms/step - loss: 0.0367 - accuracy: 0.9849 - val_loss: 0.0318 - val_accuracy: 0.9894\n",
            "Epoch 2/50\n",
            "101/101 [==============================] - 2s 17ms/step - loss: 0.0303 - accuracy: 0.9868 - val_loss: 0.0370 - val_accuracy: 0.9869\n",
            "Epoch 3/50\n",
            "101/101 [==============================] - 2s 17ms/step - loss: 0.0278 - accuracy: 0.9874 - val_loss: 0.0462 - val_accuracy: 0.9851\n",
            "Epoch 4/50\n",
            "101/101 [==============================] - 2s 17ms/step - loss: 0.0272 - accuracy: 0.9887 - val_loss: 0.0533 - val_accuracy: 0.9807\n",
            "Epoch 5/50\n",
            "101/101 [==============================] - 2s 17ms/step - loss: 0.0245 - accuracy: 0.9891 - val_loss: 0.0439 - val_accuracy: 0.9845\n",
            "Epoch 6/50\n",
            "101/101 [==============================] - 2s 17ms/step - loss: 0.0232 - accuracy: 0.9894 - val_loss: 0.0560 - val_accuracy: 0.9826\n",
            "Epoch 7/50\n",
            "101/101 [==============================] - 2s 17ms/step - loss: 0.0210 - accuracy: 0.9902 - val_loss: 0.0536 - val_accuracy: 0.9782\n",
            "Epoch 8/50\n",
            "101/101 [==============================] - 2s 17ms/step - loss: 0.0224 - accuracy: 0.9894 - val_loss: 0.0569 - val_accuracy: 0.9832\n",
            "Epoch 9/50\n",
            "101/101 [==============================] - 2s 17ms/step - loss: 0.0212 - accuracy: 0.9904 - val_loss: 0.0638 - val_accuracy: 0.9776\n",
            "Epoch 10/50\n",
            "101/101 [==============================] - 2s 17ms/step - loss: 0.0251 - accuracy: 0.9901 - val_loss: 0.0616 - val_accuracy: 0.9807\n",
            "Epoch 11/50\n",
            "101/101 [==============================] - 2s 17ms/step - loss: 0.0329 - accuracy: 0.9877 - val_loss: 0.1153 - val_accuracy: 0.9664\n",
            "Epoch 12/50\n",
            "101/101 [==============================] - 2s 17ms/step - loss: 0.0345 - accuracy: 0.9880 - val_loss: 0.0766 - val_accuracy: 0.9745\n",
            "Epoch 13/50\n",
            "101/101 [==============================] - 2s 17ms/step - loss: 0.0299 - accuracy: 0.9887 - val_loss: 0.0894 - val_accuracy: 0.9733\n",
            "Epoch 14/50\n",
            "101/101 [==============================] - 2s 17ms/step - loss: 0.0278 - accuracy: 0.9904 - val_loss: 0.0875 - val_accuracy: 0.9714\n",
            "Epoch 15/50\n",
            "101/101 [==============================] - 2s 17ms/step - loss: 0.0274 - accuracy: 0.9897 - val_loss: 0.1128 - val_accuracy: 0.9689\n",
            "Epoch 16/50\n",
            "101/101 [==============================] - 2s 17ms/step - loss: 0.0271 - accuracy: 0.9904 - val_loss: 0.0875 - val_accuracy: 0.9702\n",
            "Epoch 17/50\n",
            "101/101 [==============================] - 2s 17ms/step - loss: 0.0257 - accuracy: 0.9904 - val_loss: 0.1050 - val_accuracy: 0.9683\n",
            "Epoch 18/50\n",
            "101/101 [==============================] - 2s 17ms/step - loss: 0.0270 - accuracy: 0.9883 - val_loss: 0.1035 - val_accuracy: 0.9652\n",
            "Epoch 19/50\n",
            "101/101 [==============================] - 2s 17ms/step - loss: 0.0279 - accuracy: 0.9888 - val_loss: 0.1422 - val_accuracy: 0.9590\n",
            "Epoch 20/50\n",
            "101/101 [==============================] - 2s 17ms/step - loss: 0.0411 - accuracy: 0.9866 - val_loss: 0.1479 - val_accuracy: 0.9615\n",
            "Epoch 21/50\n",
            "101/101 [==============================] - 2s 17ms/step - loss: 0.0341 - accuracy: 0.9883 - val_loss: 0.1303 - val_accuracy: 0.9621\n",
            "Epoch 22/50\n",
            "101/101 [==============================] - 2s 17ms/step - loss: 0.0343 - accuracy: 0.9869 - val_loss: 0.1306 - val_accuracy: 0.9590\n",
            "Epoch 23/50\n",
            "101/101 [==============================] - 2s 17ms/step - loss: 0.0225 - accuracy: 0.9905 - val_loss: 0.1549 - val_accuracy: 0.9559\n",
            "Epoch 24/50\n",
            "101/101 [==============================] - 2s 17ms/step - loss: 0.0192 - accuracy: 0.9915 - val_loss: 0.1803 - val_accuracy: 0.9509\n",
            "Epoch 25/50\n",
            "101/101 [==============================] - 2s 17ms/step - loss: 0.0178 - accuracy: 0.9918 - val_loss: 0.1700 - val_accuracy: 0.9571\n",
            "Epoch 26/50\n",
            "101/101 [==============================] - 2s 17ms/step - loss: 0.0187 - accuracy: 0.9919 - val_loss: 0.1732 - val_accuracy: 0.9553\n",
            "Epoch 27/50\n",
            "101/101 [==============================] - 2s 17ms/step - loss: 0.0197 - accuracy: 0.9924 - val_loss: 0.1718 - val_accuracy: 0.9596\n",
            "Epoch 28/50\n",
            "101/101 [==============================] - 2s 17ms/step - loss: 0.0155 - accuracy: 0.9936 - val_loss: 0.1824 - val_accuracy: 0.9559\n",
            "Epoch 29/50\n",
            "101/101 [==============================] - 2s 17ms/step - loss: 0.0163 - accuracy: 0.9925 - val_loss: 0.1757 - val_accuracy: 0.9584\n",
            "Epoch 30/50\n",
            "101/101 [==============================] - 2s 17ms/step - loss: 0.0149 - accuracy: 0.9932 - val_loss: 0.2094 - val_accuracy: 0.9534\n",
            "Epoch 31/50\n",
            "101/101 [==============================] - 2s 17ms/step - loss: 0.0278 - accuracy: 0.9885 - val_loss: 0.1854 - val_accuracy: 0.9521\n",
            "Epoch 32/50\n",
            "101/101 [==============================] - 2s 17ms/step - loss: 0.0295 - accuracy: 0.9894 - val_loss: 0.1710 - val_accuracy: 0.9472\n",
            "Epoch 33/50\n",
            "101/101 [==============================] - 2s 17ms/step - loss: 0.0344 - accuracy: 0.9874 - val_loss: 0.2125 - val_accuracy: 0.9422\n",
            "Epoch 34/50\n",
            "101/101 [==============================] - 2s 17ms/step - loss: 0.0191 - accuracy: 0.9919 - val_loss: 0.2060 - val_accuracy: 0.9447\n",
            "Epoch 35/50\n",
            "101/101 [==============================] - 2s 18ms/step - loss: 0.0162 - accuracy: 0.9925 - val_loss: 0.1963 - val_accuracy: 0.9441\n",
            "Epoch 36/50\n",
            "101/101 [==============================] - 2s 19ms/step - loss: 0.0141 - accuracy: 0.9930 - val_loss: 0.2049 - val_accuracy: 0.9466\n",
            "Epoch 37/50\n",
            "101/101 [==============================] - 2s 17ms/step - loss: 0.0148 - accuracy: 0.9924 - val_loss: 0.2400 - val_accuracy: 0.9447\n",
            "Epoch 38/50\n",
            "101/101 [==============================] - 2s 17ms/step - loss: 0.0126 - accuracy: 0.9936 - val_loss: 0.2328 - val_accuracy: 0.9403\n",
            "Epoch 39/50\n",
            "101/101 [==============================] - 2s 17ms/step - loss: 0.0158 - accuracy: 0.9933 - val_loss: 0.2370 - val_accuracy: 0.9441\n",
            "Epoch 40/50\n",
            "101/101 [==============================] - 2s 17ms/step - loss: 0.0159 - accuracy: 0.9941 - val_loss: 0.2343 - val_accuracy: 0.9410\n",
            "Epoch 41/50\n",
            "101/101 [==============================] - 2s 17ms/step - loss: 0.0134 - accuracy: 0.9936 - val_loss: 0.2615 - val_accuracy: 0.9403\n",
            "Epoch 42/50\n",
            "101/101 [==============================] - 2s 18ms/step - loss: 0.0146 - accuracy: 0.9935 - val_loss: 0.2308 - val_accuracy: 0.9472\n",
            "Epoch 43/50\n",
            "101/101 [==============================] - 2s 17ms/step - loss: 0.0132 - accuracy: 0.9936 - val_loss: 0.2645 - val_accuracy: 0.9447\n",
            "Epoch 44/50\n",
            "101/101 [==============================] - 2s 17ms/step - loss: 0.0127 - accuracy: 0.9936 - val_loss: 0.2750 - val_accuracy: 0.9385\n",
            "Epoch 45/50\n",
            "101/101 [==============================] - 2s 17ms/step - loss: 0.0149 - accuracy: 0.9928 - val_loss: 0.2668 - val_accuracy: 0.9434\n",
            "Epoch 46/50\n",
            "101/101 [==============================] - 2s 17ms/step - loss: 0.0116 - accuracy: 0.9939 - val_loss: 0.3140 - val_accuracy: 0.9298\n",
            "Epoch 47/50\n",
            "101/101 [==============================] - 2s 17ms/step - loss: 0.0143 - accuracy: 0.9930 - val_loss: 0.3343 - val_accuracy: 0.9372\n",
            "Epoch 48/50\n",
            "101/101 [==============================] - 2s 17ms/step - loss: 0.0365 - accuracy: 0.9855 - val_loss: 0.2635 - val_accuracy: 0.9335\n",
            "Epoch 49/50\n",
            "101/101 [==============================] - 2s 18ms/step - loss: 0.0262 - accuracy: 0.9897 - val_loss: 0.3147 - val_accuracy: 0.9285\n",
            "Epoch 50/50\n",
            "101/101 [==============================] - 2s 17ms/step - loss: 0.0288 - accuracy: 0.9894 - val_loss: 0.3269 - val_accuracy: 0.9211\n"
          ],
          "name": "stdout"
        }
      ]
    },
    {
      "cell_type": "markdown",
      "metadata": {
        "id": "p1ZrdMQuE-PX"
      },
      "source": [
        "It is important to keep in mind that these histories ar showing the results of a model that was already trained."
      ]
    },
    {
      "cell_type": "code",
      "metadata": {
        "colab": {
          "base_uri": "https://localhost:8080/",
          "height": 279
        },
        "id": "2J8wBZfoLgG9",
        "outputId": "56bf944e-675b-4551-e9f9-e7f31ba5d506"
      },
      "source": [
        "dh.ViewAccuracy(history, 50)"
      ],
      "execution_count": null,
      "outputs": [
        {
          "output_type": "display_data",
          "data": {
            "image/png": "[encoded data removed]",
            "text/plain": [
              "<Figure size 432x288 with 1 Axes>"
            ]
          },
          "metadata": {
            "tags": [],
            "needs_background": "light"
          }
        }
      ]
    },
    {
      "cell_type": "code",
      "metadata": {
        "colab": {
          "base_uri": "https://localhost:8080/",
          "height": 283
        },
        "id": "5hZxxux4L0PY",
        "outputId": "34ebbb6a-88dc-4039-d899-df4108e8da0d"
      },
      "source": [
        "dh.ViewLoss(history, 50)"
      ],
      "execution_count": null,
      "outputs": [
        {
          "output_type": "display_data",
          "data": {
            "image/png": "[encoded data removed]",
            "text/plain": [
              "<Figure size 432x288 with 1 Axes>"
            ]
          },
          "metadata": {
            "tags": [],
            "needs_background": "light"
          }
        }
      ]
    },
    {
      "cell_type": "code",
      "metadata": {
        "colab": {
          "base_uri": "https://localhost:8080/",
          "height": 296
        },
        "id": "eHdE7H-6EpiT",
        "outputId": "85131e43-459c-49c6-e2be-4d56719a9674"
      },
      "source": [
        "BuildConfusionDL(model, X_train, y_train, cmap='magma')"
      ],
      "execution_count": null,
      "outputs": [
        {
          "output_type": "execute_result",
          "data": {
            "text/plain": [
              "<matplotlib.axes._subplots.AxesSubplot at 0x7f78f96a0550>"
            ]
          },
          "metadata": {
            "tags": []
          },
          "execution_count": 22
        },
        {
          "output_type": "display_data",
          "data": {
            "image/png": "[encoded data removed]",
            "text/plain": [
              "<Figure size 432x288 with 2 Axes>"
            ]
          },
          "metadata": {
            "tags": [],
            "needs_background": "light"
          }
        }
      ]
    },
    {
      "cell_type": "markdown",
      "metadata": {
        "id": "FoUIIA9brwem"
      },
      "source": [
        "## Dealing with Class Imbalance"
      ]
    },
    {
      "cell_type": "markdown",
      "metadata": {
        "id": "-2NkRKsDHqzD"
      },
      "source": [
        "I was planning on doing another gridsearch on my RNN building function to test out LSTM's and GRU's of varying sizes. However I'm going to do something about class imbalances first. Although I deleted these cells for some reason, I realized that the only way to stop the model from overfitting was to use l1 regularization. However, train and validation accuracy just stay around 60% which is interesting because ~60% of the data is of one class."
      ]
    },
    {
      "cell_type": "code",
      "metadata": {
        "colab": {
          "base_uri": "https://localhost:8080/"
        },
        "id": "aNV59msdIxTz",
        "outputId": "9ac523af-3c4b-480a-f416-964b1a95c1ad"
      },
      "source": [
        "df['is_there_an_emotion_directed_at_a_brand_or_product'].value_counts()"
      ],
      "execution_count": null,
      "outputs": [
        {
          "output_type": "execute_result",
          "data": {
            "text/plain": [
              "No emotion toward brand or product    5388\n",
              "Positive emotion                      2978\n",
              "Negative emotion                       570\n",
              "Name: is_there_an_emotion_directed_at_a_brand_or_product, dtype: int64"
            ]
          },
          "metadata": {
            "tags": []
          },
          "execution_count": 20
        }
      ]
    },
    {
      "cell_type": "markdown",
      "metadata": {
        "id": "A2EdTV_nr0X-"
      },
      "source": [
        "### Using class_weights"
      ]
    },
    {
      "cell_type": "markdown",
      "metadata": {
        "id": "ww5x8HJQI8j4"
      },
      "source": [
        "I went back into my network building functions to parameritize metrics. if you look at the code it's already fixed but just note that accuracy was originally hardcoded as the metric for the models."
      ]
    },
    {
      "cell_type": "code",
      "metadata": {
        "colab": {
          "base_uri": "https://localhost:8080/"
        },
        "id": "PBfp4-E9a5k4",
        "outputId": "2ba7a221-b76d-4380-b4fc-da56c24363fa"
      },
      "source": [
        "from sklearn.utils.class_weight import compute_class_weight\r\n",
        "\r\n",
        "weights = compute_class_weight('balanced',\r\n",
        "                                np.unique(df['is_there_an_emotion_directed_at_a_brand_or_product']),\r\n",
        "                                df['is_there_an_emotion_directed_at_a_brand_or_product'])\r\n",
        "\r\n",
        "weights_dict = dict(zip(range(3), weights))\r\n",
        "weights_dict"
      ],
      "execution_count": null,
      "outputs": [
        {
          "output_type": "execute_result",
          "data": {
            "text/plain": [
              "{0: 5.2257309941520464, 1: 0.5528334570650829, 2: 1.0002238638907543}"
            ]
          },
          "metadata": {
            "tags": []
          },
          "execution_count": 21
        }
      ]
    },
    {
      "cell_type": "code",
      "metadata": {
        "colab": {
          "base_uri": "https://localhost:8080/"
        },
        "id": "gVbYrURGFRGP",
        "outputId": "ab8f7ee1-642b-4d45-8906-d624c520aa41"
      },
      "source": [
        "grid.best_params_"
      ],
      "execution_count": null,
      "outputs": [
        {
          "output_type": "execute_result",
          "data": {
            "text/plain": [
              "{'activation': 'tanh',\n",
              " 'metrics': 'accuracy',\n",
              " 'nodes': 128,\n",
              " 'optimizer': 'rmsprop',\n",
              " 'output': 3,\n",
              " 'vocab': 12500}"
            ]
          },
          "metadata": {
            "tags": []
          },
          "execution_count": 22
        }
      ]
    },
    {
      "cell_type": "code",
      "metadata": {
        "colab": {
          "base_uri": "https://localhost:8080/"
        },
        "id": "I6_vD43dI63k",
        "outputId": "bb14738f-c3ab-4310-8f3f-ae77bdaf4e22"
      },
      "source": [
        "from keras.metrics import Recall, Precision\r\n",
        "\r\n",
        "model2 = models.Sequential()\r\n",
        "model2.add(layers.Embedding(12500, 128))\r\n",
        "model2.add(layers.Bidirectional(layers.LSTM(128)))\r\n",
        "model2.add(layers.Dense(64, activation='relu'))\r\n",
        "model2.add(layers.Dense(32, activation='relu'))\r\n",
        "model2.add(layers.Dense(3, activation='softmax'))\r\n",
        "\r\n",
        "model2.compile(optimizer='adam', loss='categorical_crossentropy', metrics=['accuracy'])\r\n",
        "history = model2.fit(X_train, y_train, epochs=50, batch_size=64, validation_split=0.2, callbacks=early_stopping, class_weight=weights_dict)"
      ],
      "execution_count": null,
      "outputs": [
        {
          "output_type": "stream",
          "text": [
            "Epoch 1/50\n",
            "101/101 [==============================] - 6s 31ms/step - loss: 1.0901 - accuracy: 0.3763 - val_loss: 0.8557 - val_accuracy: 0.5768\n",
            "Epoch 2/50\n",
            "101/101 [==============================] - 3s 26ms/step - loss: 0.8207 - accuracy: 0.5963 - val_loss: 0.8710 - val_accuracy: 0.5519\n",
            "Epoch 3/50\n",
            "101/101 [==============================] - 3s 26ms/step - loss: 0.5165 - accuracy: 0.7419 - val_loss: 1.0674 - val_accuracy: 0.5264\n",
            "Epoch 4/50\n",
            "101/101 [==============================] - 3s 26ms/step - loss: 0.3060 - accuracy: 0.8381 - val_loss: 1.0949 - val_accuracy: 0.5823\n",
            "Epoch 5/50\n",
            "101/101 [==============================] - 3s 26ms/step - loss: 0.2387 - accuracy: 0.8810 - val_loss: 1.0378 - val_accuracy: 0.5923\n",
            "Epoch 6/50\n",
            "101/101 [==============================] - 3s 26ms/step - loss: 0.1722 - accuracy: 0.9067 - val_loss: 1.0787 - val_accuracy: 0.6333\n",
            "Epoch 7/50\n",
            "101/101 [==============================] - 3s 26ms/step - loss: 0.1479 - accuracy: 0.9263 - val_loss: 1.0287 - val_accuracy: 0.6271\n",
            "Epoch 8/50\n",
            "101/101 [==============================] - 3s 26ms/step - loss: 0.1358 - accuracy: 0.9286 - val_loss: 1.2900 - val_accuracy: 0.6389\n",
            "Epoch 9/50\n",
            "101/101 [==============================] - 3s 26ms/step - loss: 0.1276 - accuracy: 0.9239 - val_loss: 1.4375 - val_accuracy: 0.6476\n",
            "Epoch 10/50\n",
            "101/101 [==============================] - 3s 26ms/step - loss: 0.1194 - accuracy: 0.9356 - val_loss: 1.2843 - val_accuracy: 0.6414\n",
            "Epoch 11/50\n",
            "101/101 [==============================] - 3s 26ms/step - loss: 0.0993 - accuracy: 0.9426 - val_loss: 1.5566 - val_accuracy: 0.6122\n"
          ],
          "name": "stdout"
        }
      ]
    },
    {
      "cell_type": "markdown",
      "metadata": {
        "id": "yOT4jHzwFs2i"
      },
      "source": [
        "Interesting, The model actually did worse! Training and testing accuracies are vastly different which is a sign of overfitting"
      ]
    },
    {
      "cell_type": "code",
      "metadata": {
        "colab": {
          "base_uri": "https://localhost:8080/",
          "height": 279
        },
        "id": "RF_76Njde8KO",
        "outputId": "4e4de26d-de18-485a-aeb1-24781cc9a3cc"
      },
      "source": [
        "dh.ViewAccuracy(history, 11)"
      ],
      "execution_count": null,
      "outputs": [
        {
          "output_type": "display_data",
          "data": {
            "image/png": "[encoded data removed]",
            "text/plain": [
              "<Figure size 432x288 with 1 Axes>"
            ]
          },
          "metadata": {
            "tags": [],
            "needs_background": "light"
          }
        }
      ]
    },
    {
      "cell_type": "code",
      "metadata": {
        "colab": {
          "base_uri": "https://localhost:8080/",
          "height": 279
        },
        "id": "rW149xv7fFL0",
        "outputId": "26c0f86f-4dcf-4a8e-b015-2adbce9bed42"
      },
      "source": [
        "dh.ViewLoss(history, 11)"
      ],
      "execution_count": null,
      "outputs": [
        {
          "output_type": "display_data",
          "data": {
            "image/png": "[encoded data removed]",
            "text/plain": [
              "<Figure size 432x288 with 1 Axes>"
            ]
          },
          "metadata": {
            "tags": [],
            "needs_background": "light"
          }
        }
      ]
    },
    {
      "cell_type": "code",
      "metadata": {
        "colab": {
          "base_uri": "https://localhost:8080/",
          "height": 282
        },
        "id": "cIjPnz0-FYSc",
        "outputId": "bfdc82a0-5dd0-4a1b-86e6-a81bdc0e01f1"
      },
      "source": [
        "BuildConfusionDL(model2, X_test, y_test)"
      ],
      "execution_count": null,
      "outputs": [
        {
          "output_type": "execute_result",
          "data": {
            "text/plain": [
              "<matplotlib.axes._subplots.AxesSubplot at 0x7f58e076aba8>"
            ]
          },
          "metadata": {
            "tags": []
          },
          "execution_count": 26
        },
        {
          "output_type": "display_data",
          "data": {
            "image/png": "[encoded data removed]",
            "text/plain": [
              "<Figure size 432x288 with 2 Axes>"
            ]
          },
          "metadata": {
            "tags": [],
            "needs_background": "light"
          }
        }
      ]
    },
    {
      "cell_type": "markdown",
      "metadata": {
        "id": "rSaHVGOwdyNi"
      },
      "source": [
        "I would do an exaustive gridsearch on my RNN building function to test out LSTM's and GRU's of varying parameters and sizes. however fixing class imbalances didn't help and I don't want to waste compute. I will instead use glove embeddings rather than creating my own embedding layer. I will also try a traditional machine learning approach later on."
      ]
    },
    {
      "cell_type": "code",
      "metadata": {
        "id": "rUFOQvyoovhk"
      },
      "source": [
        "tokens = []\r\n",
        "for num in ix:\r\n",
        "  tokens.append(df['tweet'][num].split(' '))"
      ],
      "execution_count": null,
      "outputs": []
    },
    {
      "cell_type": "code",
      "metadata": {
        "id": "Q0QWQIxxembK"
      },
      "source": [
        "from gensim.models import Word2Vec, keyedvectors\r\n",
        "\r\n",
        "W = Word2Vec(tokens, size=33, window=3, min_count=1, workers=4)\r\n",
        "W.train(sentences=tokens, total_examples=W.corpus_count, epochs=10)\r\n",
        "wv = W.wv"
      ],
      "execution_count": null,
      "outputs": []
    },
    {
      "cell_type": "code",
      "metadata": {
        "id": "H75VStkbnITT"
      },
      "source": [
        "e = W.wv.get_keras_embedding(train_embeddings=False)"
      ],
      "execution_count": null,
      "outputs": []
    },
    {
      "cell_type": "code",
      "metadata": {
        "colab": {
          "base_uri": "https://localhost:8080/"
        },
        "id": "nC_6eCEkoYnW",
        "outputId": "a101b08f-7951-4504-93c3-7aaad20d3617"
      },
      "source": [
        "from keras.metrics import Recall #the model did better with accuracy in my experiance but feel free to try with recall or precision\r\n",
        "from keras.metrics import  Precision\r\n",
        "\r\n",
        "model3 = models.Sequential()\r\n",
        "model3.add(e)\r\n",
        "model3.add(layers.Bidirectional(layers.LSTM(128)))\r\n",
        "model3.add(layers.Dense(64, activation='relu'))\r\n",
        "model3.add(layers.Dense(32, activation='relu'))\r\n",
        "model3.add(layers.Dense(3, activation='softmax'))\r\n",
        "\r\n",
        "model3.compile(optimizer='adam', loss='categorical_crossentropy', metrics=['accuracy'])\r\n",
        "\r\n",
        "early_stopping = [EarlyStopping(patience=10), ModelCheckpoint(filepath='model.{epoch:02d}-{val_loss:.2f}.h5')]\r\n",
        "\r\n",
        "history = model3.fit(X_train, y_train, epochs=50, batch_size=64, validation_split=0.2, callbacks=early_stopping, class_weight=weights_dict)"
      ],
      "execution_count": null,
      "outputs": [
        {
          "output_type": "stream",
          "text": [
            "Epoch 1/50\n",
            "101/101 [==============================] - 4s 17ms/step - loss: 1.0700 - accuracy: 0.4574 - val_loss: 1.0391 - val_accuracy: 0.4462\n",
            "Epoch 2/50\n",
            "101/101 [==============================] - 1s 10ms/step - loss: 1.0466 - accuracy: 0.4412 - val_loss: 1.0213 - val_accuracy: 0.4792\n",
            "Epoch 3/50\n",
            "101/101 [==============================] - 1s 10ms/step - loss: 1.0439 - accuracy: 0.4244 - val_loss: 0.9904 - val_accuracy: 0.4823\n",
            "Epoch 4/50\n",
            "101/101 [==============================] - 1s 10ms/step - loss: 1.0042 - accuracy: 0.4441 - val_loss: 1.0287 - val_accuracy: 0.4363\n",
            "Epoch 5/50\n",
            "101/101 [==============================] - 1s 10ms/step - loss: 0.9863 - accuracy: 0.4535 - val_loss: 0.8852 - val_accuracy: 0.5469\n",
            "Epoch 6/50\n",
            "101/101 [==============================] - 1s 10ms/step - loss: 0.9708 - accuracy: 0.4926 - val_loss: 0.9453 - val_accuracy: 0.5047\n",
            "Epoch 7/50\n",
            "101/101 [==============================] - 1s 10ms/step - loss: 0.9138 - accuracy: 0.5089 - val_loss: 1.1151 - val_accuracy: 0.3971\n",
            "Epoch 8/50\n",
            "101/101 [==============================] - 1s 10ms/step - loss: 0.8463 - accuracy: 0.5202 - val_loss: 1.1227 - val_accuracy: 0.4089\n",
            "Epoch 9/50\n",
            "101/101 [==============================] - 1s 10ms/step - loss: 0.7889 - accuracy: 0.5374 - val_loss: 1.1329 - val_accuracy: 0.3978\n",
            "Epoch 10/50\n",
            "101/101 [==============================] - 1s 10ms/step - loss: 0.7629 - accuracy: 0.5430 - val_loss: 0.9454 - val_accuracy: 0.4984\n",
            "Epoch 11/50\n",
            "101/101 [==============================] - 1s 10ms/step - loss: 0.6775 - accuracy: 0.6020 - val_loss: 1.0837 - val_accuracy: 0.4058\n",
            "Epoch 12/50\n",
            "101/101 [==============================] - 1s 10ms/step - loss: 0.6231 - accuracy: 0.6032 - val_loss: 0.9599 - val_accuracy: 0.5090\n",
            "Epoch 13/50\n",
            "101/101 [==============================] - 1s 10ms/step - loss: 0.5762 - accuracy: 0.6321 - val_loss: 1.0211 - val_accuracy: 0.5252\n",
            "Epoch 14/50\n",
            "101/101 [==============================] - 1s 10ms/step - loss: 0.5546 - accuracy: 0.6409 - val_loss: 1.0096 - val_accuracy: 0.4885\n",
            "Epoch 15/50\n",
            "101/101 [==============================] - 1s 10ms/step - loss: 0.5310 - accuracy: 0.6669 - val_loss: 0.9875 - val_accuracy: 0.5351\n"
          ],
          "name": "stdout"
        }
      ]
    },
    {
      "cell_type": "markdown",
      "metadata": {
        "id": "dii7iIY8Gc38"
      },
      "source": [
        "This model was trained on the word embeddings created by Gensim rather than the one I made. The model preformed poorly but in it's defense it did start with a lower accuracy in the mid 30's."
      ]
    },
    {
      "cell_type": "code",
      "metadata": {
        "colab": {
          "base_uri": "https://localhost:8080/",
          "height": 279
        },
        "id": "WSUAw3zLGVUr",
        "outputId": "50474c94-f6ff-45ac-d44b-b25483012d0b"
      },
      "source": [
        "dh.ViewAccuracy(history, 15)"
      ],
      "execution_count": null,
      "outputs": [
        {
          "output_type": "display_data",
          "data": {
            "image/png": "[encoded data removed]",
            "text/plain": [
              "<Figure size 432x288 with 1 Axes>"
            ]
          },
          "metadata": {
            "tags": [],
            "needs_background": "light"
          }
        }
      ]
    },
    {
      "cell_type": "code",
      "metadata": {
        "colab": {
          "base_uri": "https://localhost:8080/",
          "height": 279
        },
        "id": "HciryiwiGVc5",
        "outputId": "a53e12a1-0f14-42bb-e80e-0cc27bbd46ea"
      },
      "source": [
        "dh.ViewLoss(history, 15)"
      ],
      "execution_count": null,
      "outputs": [
        {
          "output_type": "display_data",
          "data": {
            "image/png": "[encoded data removed]",
            "text/plain": [
              "<Figure size 432x288 with 1 Axes>"
            ]
          },
          "metadata": {
            "tags": [],
            "needs_background": "light"
          }
        }
      ]
    },
    {
      "cell_type": "code",
      "metadata": {
        "colab": {
          "base_uri": "https://localhost:8080/",
          "height": 282
        },
        "id": "YvQZylLnGBtx",
        "outputId": "310313ea-7855-4d88-b8c2-e6255488b05d"
      },
      "source": [
        "BuildConfusionDL(model3, X_test, y_test)"
      ],
      "execution_count": null,
      "outputs": [
        {
          "output_type": "execute_result",
          "data": {
            "text/plain": [
              "<matplotlib.axes._subplots.AxesSubplot at 0x7f58d119f7b8>"
            ]
          },
          "metadata": {
            "tags": []
          },
          "execution_count": 33
        },
        {
          "output_type": "display_data",
          "data": {
            "image/png": "[encoded data removed]",
            "text/plain": [
              "<Figure size 432x288 with 2 Axes>"
            ]
          },
          "metadata": {
            "tags": [],
            "needs_background": "light"
          }
        }
      ]
    },
    {
      "cell_type": "code",
      "metadata": {
        "colab": {
          "base_uri": "https://localhost:8080/"
        },
        "id": "K79F7g6VQkAh",
        "outputId": "0b4e365a-ff99-4890-d838-5944896025d6"
      },
      "source": [
        "import nltk\r\n",
        "nltk.download('stopwords')\r\n",
        "stopwords_list = nltk.corpus.stopwords.words('english')"
      ],
      "execution_count": null,
      "outputs": [
        {
          "output_type": "stream",
          "text": [
            "[nltk_data] Downloading package stopwords to /root/nltk_data...\n",
            "[nltk_data]   Unzipping corpora/stopwords.zip.\n"
          ],
          "name": "stdout"
        }
      ]
    },
    {
      "cell_type": "code",
      "metadata": {
        "colab": {
          "base_uri": "https://localhost:8080/"
        },
        "id": "HCDjM4HkHOnh",
        "outputId": "f4a4501c-1be5-4dd2-dbcb-1dafe0bbe2d6"
      },
      "source": [
        "# feel free to play around with the most_similar() method that returns words most or least similar to the selected word\r\n",
        "# for most similar use 'positive=', for least similar use 'negative='\r\n",
        "wv.most_similar(positive='google')"
      ],
      "execution_count": null,
      "outputs": [
        {
          "output_type": "execute_result",
          "data": {
            "text/plain": [
              "[('integrates', 0.8167288899421692),\n",
              " (\"google's\", 0.8088352084159851),\n",
              " ('socialflow', 0.7747348546981812),\n",
              " ('increase', 0.7565466165542603),\n",
              " ('#google', 0.7444072961807251),\n",
              " ('killers', 0.7395412921905518),\n",
              " ('crop', 0.7388477921485901),\n",
              " ('competing', 0.7381601333618164),\n",
              " ('possibility', 0.7344657182693481),\n",
              " ('reactions', 0.7315320372581482)]"
            ]
          },
          "metadata": {
            "tags": []
          },
          "execution_count": 35
        }
      ]
    },
    {
      "cell_type": "markdown",
      "metadata": {
        "id": "Fednv9Af-29n"
      },
      "source": [
        "Trying a different approach! I one hot encoded each tweet for all of the words in the corpus. I will use PCA to compress the very sparse data"
      ]
    },
    {
      "cell_type": "code",
      "metadata": {
        "id": "ajS6ZqIl8G7i"
      },
      "source": [
        "X_oh, y_oh = dh.ModelReadyText2(df, 'tweet', 'is_there_an_emotion_directed_at_a_brand_or_product', 12500)"
      ],
      "execution_count": null,
      "outputs": []
    },
    {
      "cell_type": "code",
      "metadata": {
        "id": "R8peGEsO8yKX"
      },
      "source": [
        "classes = []\r\n",
        "for arr in y_oh:\r\n",
        "  classes.append(arr.argmax())"
      ],
      "execution_count": null,
      "outputs": []
    },
    {
      "cell_type": "code",
      "metadata": {
        "colab": {
          "base_uri": "https://localhost:8080/",
          "height": 422
        },
        "id": "ZXLgid4n9MI7",
        "outputId": "744fec02-3358-44dc-c314-4ed20a5e6b30"
      },
      "source": [
        "df2 = pd.DataFrame(X_oh)\r\n",
        "df2['target'] = classes\r\n",
        "df2"
      ],
      "execution_count": null,
      "outputs": [
        {
          "output_type": "execute_result",
          "data": {
            "text/html": [
              "<div>\n",
              "<style scoped>\n",
              "    .dataframe tbody tr th:only-of-type {\n",
              "        vertical-align: middle;\n",
              "    }\n",
              "\n",
              "    .dataframe tbody tr th {\n",
              "        vertical-align: top;\n",
              "    }\n",
              "\n",
              "    .dataframe thead th {\n",
              "        text-align: right;\n",
              "    }\n",
              "</style>\n",
              "<table border=\"1\" class=\"dataframe\">\n",
              "  <thead>\n",
              "    <tr style=\"text-align: right;\">\n",
              "      <th></th>\n",
              "      <th>0</th>\n",
              "      <th>1</th>\n",
              "      <th>2</th>\n",
              "      <th>3</th>\n",
              "      <th>4</th>\n",
              "      <th>5</th>\n",
              "      <th>6</th>\n",
              "      <th>7</th>\n",
              "      <th>8</th>\n",
              "      <th>9</th>\n",
              "      <th>10</th>\n",
              "      <th>11</th>\n",
              "      <th>12</th>\n",
              "      <th>13</th>\n",
              "      <th>14</th>\n",
              "      <th>15</th>\n",
              "      <th>16</th>\n",
              "      <th>17</th>\n",
              "      <th>18</th>\n",
              "      <th>19</th>\n",
              "      <th>20</th>\n",
              "      <th>21</th>\n",
              "      <th>22</th>\n",
              "      <th>23</th>\n",
              "      <th>24</th>\n",
              "      <th>25</th>\n",
              "      <th>26</th>\n",
              "      <th>27</th>\n",
              "      <th>28</th>\n",
              "      <th>29</th>\n",
              "      <th>30</th>\n",
              "      <th>31</th>\n",
              "      <th>32</th>\n",
              "      <th>33</th>\n",
              "      <th>34</th>\n",
              "      <th>35</th>\n",
              "      <th>36</th>\n",
              "      <th>37</th>\n",
              "      <th>38</th>\n",
              "      <th>39</th>\n",
              "      <th>...</th>\n",
              "      <th>12461</th>\n",
              "      <th>12462</th>\n",
              "      <th>12463</th>\n",
              "      <th>12464</th>\n",
              "      <th>12465</th>\n",
              "      <th>12466</th>\n",
              "      <th>12467</th>\n",
              "      <th>12468</th>\n",
              "      <th>12469</th>\n",
              "      <th>12470</th>\n",
              "      <th>12471</th>\n",
              "      <th>12472</th>\n",
              "      <th>12473</th>\n",
              "      <th>12474</th>\n",
              "      <th>12475</th>\n",
              "      <th>12476</th>\n",
              "      <th>12477</th>\n",
              "      <th>12478</th>\n",
              "      <th>12479</th>\n",
              "      <th>12480</th>\n",
              "      <th>12481</th>\n",
              "      <th>12482</th>\n",
              "      <th>12483</th>\n",
              "      <th>12484</th>\n",
              "      <th>12485</th>\n",
              "      <th>12486</th>\n",
              "      <th>12487</th>\n",
              "      <th>12488</th>\n",
              "      <th>12489</th>\n",
              "      <th>12490</th>\n",
              "      <th>12491</th>\n",
              "      <th>12492</th>\n",
              "      <th>12493</th>\n",
              "      <th>12494</th>\n",
              "      <th>12495</th>\n",
              "      <th>12496</th>\n",
              "      <th>12497</th>\n",
              "      <th>12498</th>\n",
              "      <th>12499</th>\n",
              "      <th>target</th>\n",
              "    </tr>\n",
              "  </thead>\n",
              "  <tbody>\n",
              "    <tr>\n",
              "      <th>0</th>\n",
              "      <td>0.0</td>\n",
              "      <td>1.0</td>\n",
              "      <td>0.0</td>\n",
              "      <td>0.0</td>\n",
              "      <td>0.0</td>\n",
              "      <td>1.0</td>\n",
              "      <td>1.0</td>\n",
              "      <td>0.0</td>\n",
              "      <td>0.0</td>\n",
              "      <td>0.0</td>\n",
              "      <td>0.0</td>\n",
              "      <td>1.0</td>\n",
              "      <td>0.0</td>\n",
              "      <td>0.0</td>\n",
              "      <td>0.0</td>\n",
              "      <td>0.0</td>\n",
              "      <td>0.0</td>\n",
              "      <td>1.0</td>\n",
              "      <td>0.0</td>\n",
              "      <td>0.0</td>\n",
              "      <td>0.0</td>\n",
              "      <td>0.0</td>\n",
              "      <td>0.0</td>\n",
              "      <td>1.0</td>\n",
              "      <td>1.0</td>\n",
              "      <td>0.0</td>\n",
              "      <td>0.0</td>\n",
              "      <td>0.0</td>\n",
              "      <td>0.0</td>\n",
              "      <td>0.0</td>\n",
              "      <td>0.0</td>\n",
              "      <td>1.0</td>\n",
              "      <td>0.0</td>\n",
              "      <td>0.0</td>\n",
              "      <td>0.0</td>\n",
              "      <td>0.0</td>\n",
              "      <td>0.0</td>\n",
              "      <td>0.0</td>\n",
              "      <td>0.0</td>\n",
              "      <td>0.0</td>\n",
              "      <td>...</td>\n",
              "      <td>0.0</td>\n",
              "      <td>0.0</td>\n",
              "      <td>0.0</td>\n",
              "      <td>0.0</td>\n",
              "      <td>0.0</td>\n",
              "      <td>0.0</td>\n",
              "      <td>0.0</td>\n",
              "      <td>0.0</td>\n",
              "      <td>0.0</td>\n",
              "      <td>0.0</td>\n",
              "      <td>0.0</td>\n",
              "      <td>0.0</td>\n",
              "      <td>0.0</td>\n",
              "      <td>0.0</td>\n",
              "      <td>0.0</td>\n",
              "      <td>0.0</td>\n",
              "      <td>0.0</td>\n",
              "      <td>0.0</td>\n",
              "      <td>0.0</td>\n",
              "      <td>0.0</td>\n",
              "      <td>0.0</td>\n",
              "      <td>0.0</td>\n",
              "      <td>0.0</td>\n",
              "      <td>0.0</td>\n",
              "      <td>0.0</td>\n",
              "      <td>0.0</td>\n",
              "      <td>0.0</td>\n",
              "      <td>0.0</td>\n",
              "      <td>0.0</td>\n",
              "      <td>0.0</td>\n",
              "      <td>0.0</td>\n",
              "      <td>0.0</td>\n",
              "      <td>0.0</td>\n",
              "      <td>0.0</td>\n",
              "      <td>0.0</td>\n",
              "      <td>0.0</td>\n",
              "      <td>0.0</td>\n",
              "      <td>0.0</td>\n",
              "      <td>0.0</td>\n",
              "      <td>0</td>\n",
              "    </tr>\n",
              "    <tr>\n",
              "      <th>1</th>\n",
              "      <td>0.0</td>\n",
              "      <td>1.0</td>\n",
              "      <td>0.0</td>\n",
              "      <td>0.0</td>\n",
              "      <td>0.0</td>\n",
              "      <td>0.0</td>\n",
              "      <td>1.0</td>\n",
              "      <td>0.0</td>\n",
              "      <td>1.0</td>\n",
              "      <td>1.0</td>\n",
              "      <td>0.0</td>\n",
              "      <td>0.0</td>\n",
              "      <td>0.0</td>\n",
              "      <td>0.0</td>\n",
              "      <td>0.0</td>\n",
              "      <td>0.0</td>\n",
              "      <td>0.0</td>\n",
              "      <td>1.0</td>\n",
              "      <td>0.0</td>\n",
              "      <td>0.0</td>\n",
              "      <td>0.0</td>\n",
              "      <td>0.0</td>\n",
              "      <td>0.0</td>\n",
              "      <td>0.0</td>\n",
              "      <td>0.0</td>\n",
              "      <td>0.0</td>\n",
              "      <td>0.0</td>\n",
              "      <td>0.0</td>\n",
              "      <td>0.0</td>\n",
              "      <td>1.0</td>\n",
              "      <td>0.0</td>\n",
              "      <td>0.0</td>\n",
              "      <td>0.0</td>\n",
              "      <td>0.0</td>\n",
              "      <td>0.0</td>\n",
              "      <td>0.0</td>\n",
              "      <td>0.0</td>\n",
              "      <td>0.0</td>\n",
              "      <td>0.0</td>\n",
              "      <td>0.0</td>\n",
              "      <td>...</td>\n",
              "      <td>0.0</td>\n",
              "      <td>0.0</td>\n",
              "      <td>0.0</td>\n",
              "      <td>0.0</td>\n",
              "      <td>0.0</td>\n",
              "      <td>0.0</td>\n",
              "      <td>0.0</td>\n",
              "      <td>0.0</td>\n",
              "      <td>0.0</td>\n",
              "      <td>0.0</td>\n",
              "      <td>0.0</td>\n",
              "      <td>0.0</td>\n",
              "      <td>0.0</td>\n",
              "      <td>0.0</td>\n",
              "      <td>0.0</td>\n",
              "      <td>0.0</td>\n",
              "      <td>0.0</td>\n",
              "      <td>0.0</td>\n",
              "      <td>0.0</td>\n",
              "      <td>0.0</td>\n",
              "      <td>0.0</td>\n",
              "      <td>0.0</td>\n",
              "      <td>0.0</td>\n",
              "      <td>0.0</td>\n",
              "      <td>0.0</td>\n",
              "      <td>0.0</td>\n",
              "      <td>0.0</td>\n",
              "      <td>0.0</td>\n",
              "      <td>0.0</td>\n",
              "      <td>0.0</td>\n",
              "      <td>0.0</td>\n",
              "      <td>0.0</td>\n",
              "      <td>0.0</td>\n",
              "      <td>0.0</td>\n",
              "      <td>0.0</td>\n",
              "      <td>0.0</td>\n",
              "      <td>0.0</td>\n",
              "      <td>0.0</td>\n",
              "      <td>0.0</td>\n",
              "      <td>2</td>\n",
              "    </tr>\n",
              "    <tr>\n",
              "      <th>2</th>\n",
              "      <td>0.0</td>\n",
              "      <td>1.0</td>\n",
              "      <td>0.0</td>\n",
              "      <td>0.0</td>\n",
              "      <td>0.0</td>\n",
              "      <td>0.0</td>\n",
              "      <td>1.0</td>\n",
              "      <td>0.0</td>\n",
              "      <td>1.0</td>\n",
              "      <td>1.0</td>\n",
              "      <td>0.0</td>\n",
              "      <td>0.0</td>\n",
              "      <td>0.0</td>\n",
              "      <td>0.0</td>\n",
              "      <td>0.0</td>\n",
              "      <td>0.0</td>\n",
              "      <td>0.0</td>\n",
              "      <td>0.0</td>\n",
              "      <td>0.0</td>\n",
              "      <td>0.0</td>\n",
              "      <td>0.0</td>\n",
              "      <td>1.0</td>\n",
              "      <td>0.0</td>\n",
              "      <td>0.0</td>\n",
              "      <td>0.0</td>\n",
              "      <td>0.0</td>\n",
              "      <td>0.0</td>\n",
              "      <td>0.0</td>\n",
              "      <td>0.0</td>\n",
              "      <td>0.0</td>\n",
              "      <td>0.0</td>\n",
              "      <td>0.0</td>\n",
              "      <td>0.0</td>\n",
              "      <td>0.0</td>\n",
              "      <td>0.0</td>\n",
              "      <td>0.0</td>\n",
              "      <td>0.0</td>\n",
              "      <td>0.0</td>\n",
              "      <td>0.0</td>\n",
              "      <td>0.0</td>\n",
              "      <td>...</td>\n",
              "      <td>0.0</td>\n",
              "      <td>0.0</td>\n",
              "      <td>0.0</td>\n",
              "      <td>0.0</td>\n",
              "      <td>0.0</td>\n",
              "      <td>0.0</td>\n",
              "      <td>0.0</td>\n",
              "      <td>0.0</td>\n",
              "      <td>0.0</td>\n",
              "      <td>0.0</td>\n",
              "      <td>0.0</td>\n",
              "      <td>0.0</td>\n",
              "      <td>0.0</td>\n",
              "      <td>0.0</td>\n",
              "      <td>0.0</td>\n",
              "      <td>0.0</td>\n",
              "      <td>0.0</td>\n",
              "      <td>0.0</td>\n",
              "      <td>0.0</td>\n",
              "      <td>0.0</td>\n",
              "      <td>0.0</td>\n",
              "      <td>0.0</td>\n",
              "      <td>0.0</td>\n",
              "      <td>0.0</td>\n",
              "      <td>0.0</td>\n",
              "      <td>0.0</td>\n",
              "      <td>0.0</td>\n",
              "      <td>0.0</td>\n",
              "      <td>0.0</td>\n",
              "      <td>0.0</td>\n",
              "      <td>0.0</td>\n",
              "      <td>0.0</td>\n",
              "      <td>0.0</td>\n",
              "      <td>0.0</td>\n",
              "      <td>0.0</td>\n",
              "      <td>0.0</td>\n",
              "      <td>0.0</td>\n",
              "      <td>0.0</td>\n",
              "      <td>0.0</td>\n",
              "      <td>2</td>\n",
              "    </tr>\n",
              "    <tr>\n",
              "      <th>3</th>\n",
              "      <td>0.0</td>\n",
              "      <td>1.0</td>\n",
              "      <td>0.0</td>\n",
              "      <td>0.0</td>\n",
              "      <td>0.0</td>\n",
              "      <td>0.0</td>\n",
              "      <td>0.0</td>\n",
              "      <td>0.0</td>\n",
              "      <td>0.0</td>\n",
              "      <td>0.0</td>\n",
              "      <td>0.0</td>\n",
              "      <td>0.0</td>\n",
              "      <td>0.0</td>\n",
              "      <td>0.0</td>\n",
              "      <td>0.0</td>\n",
              "      <td>0.0</td>\n",
              "      <td>0.0</td>\n",
              "      <td>1.0</td>\n",
              "      <td>0.0</td>\n",
              "      <td>0.0</td>\n",
              "      <td>0.0</td>\n",
              "      <td>0.0</td>\n",
              "      <td>0.0</td>\n",
              "      <td>1.0</td>\n",
              "      <td>0.0</td>\n",
              "      <td>0.0</td>\n",
              "      <td>0.0</td>\n",
              "      <td>0.0</td>\n",
              "      <td>0.0</td>\n",
              "      <td>1.0</td>\n",
              "      <td>0.0</td>\n",
              "      <td>0.0</td>\n",
              "      <td>0.0</td>\n",
              "      <td>0.0</td>\n",
              "      <td>0.0</td>\n",
              "      <td>0.0</td>\n",
              "      <td>1.0</td>\n",
              "      <td>0.0</td>\n",
              "      <td>0.0</td>\n",
              "      <td>0.0</td>\n",
              "      <td>...</td>\n",
              "      <td>0.0</td>\n",
              "      <td>0.0</td>\n",
              "      <td>0.0</td>\n",
              "      <td>0.0</td>\n",
              "      <td>0.0</td>\n",
              "      <td>0.0</td>\n",
              "      <td>0.0</td>\n",
              "      <td>0.0</td>\n",
              "      <td>0.0</td>\n",
              "      <td>0.0</td>\n",
              "      <td>0.0</td>\n",
              "      <td>0.0</td>\n",
              "      <td>0.0</td>\n",
              "      <td>0.0</td>\n",
              "      <td>0.0</td>\n",
              "      <td>0.0</td>\n",
              "      <td>0.0</td>\n",
              "      <td>0.0</td>\n",
              "      <td>0.0</td>\n",
              "      <td>0.0</td>\n",
              "      <td>0.0</td>\n",
              "      <td>0.0</td>\n",
              "      <td>0.0</td>\n",
              "      <td>0.0</td>\n",
              "      <td>0.0</td>\n",
              "      <td>0.0</td>\n",
              "      <td>0.0</td>\n",
              "      <td>0.0</td>\n",
              "      <td>0.0</td>\n",
              "      <td>0.0</td>\n",
              "      <td>0.0</td>\n",
              "      <td>0.0</td>\n",
              "      <td>0.0</td>\n",
              "      <td>0.0</td>\n",
              "      <td>0.0</td>\n",
              "      <td>0.0</td>\n",
              "      <td>0.0</td>\n",
              "      <td>0.0</td>\n",
              "      <td>0.0</td>\n",
              "      <td>0</td>\n",
              "    </tr>\n",
              "    <tr>\n",
              "      <th>4</th>\n",
              "      <td>0.0</td>\n",
              "      <td>1.0</td>\n",
              "      <td>0.0</td>\n",
              "      <td>0.0</td>\n",
              "      <td>0.0</td>\n",
              "      <td>0.0</td>\n",
              "      <td>0.0</td>\n",
              "      <td>0.0</td>\n",
              "      <td>0.0</td>\n",
              "      <td>0.0</td>\n",
              "      <td>1.0</td>\n",
              "      <td>0.0</td>\n",
              "      <td>0.0</td>\n",
              "      <td>0.0</td>\n",
              "      <td>0.0</td>\n",
              "      <td>0.0</td>\n",
              "      <td>0.0</td>\n",
              "      <td>0.0</td>\n",
              "      <td>0.0</td>\n",
              "      <td>1.0</td>\n",
              "      <td>0.0</td>\n",
              "      <td>0.0</td>\n",
              "      <td>0.0</td>\n",
              "      <td>0.0</td>\n",
              "      <td>0.0</td>\n",
              "      <td>0.0</td>\n",
              "      <td>0.0</td>\n",
              "      <td>0.0</td>\n",
              "      <td>0.0</td>\n",
              "      <td>0.0</td>\n",
              "      <td>0.0</td>\n",
              "      <td>0.0</td>\n",
              "      <td>1.0</td>\n",
              "      <td>0.0</td>\n",
              "      <td>0.0</td>\n",
              "      <td>0.0</td>\n",
              "      <td>0.0</td>\n",
              "      <td>0.0</td>\n",
              "      <td>0.0</td>\n",
              "      <td>0.0</td>\n",
              "      <td>...</td>\n",
              "      <td>0.0</td>\n",
              "      <td>0.0</td>\n",
              "      <td>0.0</td>\n",
              "      <td>0.0</td>\n",
              "      <td>0.0</td>\n",
              "      <td>0.0</td>\n",
              "      <td>0.0</td>\n",
              "      <td>0.0</td>\n",
              "      <td>0.0</td>\n",
              "      <td>0.0</td>\n",
              "      <td>0.0</td>\n",
              "      <td>0.0</td>\n",
              "      <td>0.0</td>\n",
              "      <td>0.0</td>\n",
              "      <td>0.0</td>\n",
              "      <td>0.0</td>\n",
              "      <td>0.0</td>\n",
              "      <td>0.0</td>\n",
              "      <td>0.0</td>\n",
              "      <td>0.0</td>\n",
              "      <td>0.0</td>\n",
              "      <td>0.0</td>\n",
              "      <td>0.0</td>\n",
              "      <td>0.0</td>\n",
              "      <td>0.0</td>\n",
              "      <td>0.0</td>\n",
              "      <td>0.0</td>\n",
              "      <td>0.0</td>\n",
              "      <td>0.0</td>\n",
              "      <td>0.0</td>\n",
              "      <td>0.0</td>\n",
              "      <td>0.0</td>\n",
              "      <td>0.0</td>\n",
              "      <td>0.0</td>\n",
              "      <td>0.0</td>\n",
              "      <td>0.0</td>\n",
              "      <td>0.0</td>\n",
              "      <td>0.0</td>\n",
              "      <td>0.0</td>\n",
              "      <td>2</td>\n",
              "    </tr>\n",
              "    <tr>\n",
              "      <th>...</th>\n",
              "      <td>...</td>\n",
              "      <td>...</td>\n",
              "      <td>...</td>\n",
              "      <td>...</td>\n",
              "      <td>...</td>\n",
              "      <td>...</td>\n",
              "      <td>...</td>\n",
              "      <td>...</td>\n",
              "      <td>...</td>\n",
              "      <td>...</td>\n",
              "      <td>...</td>\n",
              "      <td>...</td>\n",
              "      <td>...</td>\n",
              "      <td>...</td>\n",
              "      <td>...</td>\n",
              "      <td>...</td>\n",
              "      <td>...</td>\n",
              "      <td>...</td>\n",
              "      <td>...</td>\n",
              "      <td>...</td>\n",
              "      <td>...</td>\n",
              "      <td>...</td>\n",
              "      <td>...</td>\n",
              "      <td>...</td>\n",
              "      <td>...</td>\n",
              "      <td>...</td>\n",
              "      <td>...</td>\n",
              "      <td>...</td>\n",
              "      <td>...</td>\n",
              "      <td>...</td>\n",
              "      <td>...</td>\n",
              "      <td>...</td>\n",
              "      <td>...</td>\n",
              "      <td>...</td>\n",
              "      <td>...</td>\n",
              "      <td>...</td>\n",
              "      <td>...</td>\n",
              "      <td>...</td>\n",
              "      <td>...</td>\n",
              "      <td>...</td>\n",
              "      <td>...</td>\n",
              "      <td>...</td>\n",
              "      <td>...</td>\n",
              "      <td>...</td>\n",
              "      <td>...</td>\n",
              "      <td>...</td>\n",
              "      <td>...</td>\n",
              "      <td>...</td>\n",
              "      <td>...</td>\n",
              "      <td>...</td>\n",
              "      <td>...</td>\n",
              "      <td>...</td>\n",
              "      <td>...</td>\n",
              "      <td>...</td>\n",
              "      <td>...</td>\n",
              "      <td>...</td>\n",
              "      <td>...</td>\n",
              "      <td>...</td>\n",
              "      <td>...</td>\n",
              "      <td>...</td>\n",
              "      <td>...</td>\n",
              "      <td>...</td>\n",
              "      <td>...</td>\n",
              "      <td>...</td>\n",
              "      <td>...</td>\n",
              "      <td>...</td>\n",
              "      <td>...</td>\n",
              "      <td>...</td>\n",
              "      <td>...</td>\n",
              "      <td>...</td>\n",
              "      <td>...</td>\n",
              "      <td>...</td>\n",
              "      <td>...</td>\n",
              "      <td>...</td>\n",
              "      <td>...</td>\n",
              "      <td>...</td>\n",
              "      <td>...</td>\n",
              "      <td>...</td>\n",
              "      <td>...</td>\n",
              "      <td>...</td>\n",
              "      <td>...</td>\n",
              "    </tr>\n",
              "    <tr>\n",
              "      <th>8931</th>\n",
              "      <td>0.0</td>\n",
              "      <td>1.0</td>\n",
              "      <td>0.0</td>\n",
              "      <td>0.0</td>\n",
              "      <td>1.0</td>\n",
              "      <td>0.0</td>\n",
              "      <td>0.0</td>\n",
              "      <td>0.0</td>\n",
              "      <td>0.0</td>\n",
              "      <td>1.0</td>\n",
              "      <td>0.0</td>\n",
              "      <td>0.0</td>\n",
              "      <td>0.0</td>\n",
              "      <td>0.0</td>\n",
              "      <td>0.0</td>\n",
              "      <td>0.0</td>\n",
              "      <td>0.0</td>\n",
              "      <td>0.0</td>\n",
              "      <td>0.0</td>\n",
              "      <td>0.0</td>\n",
              "      <td>0.0</td>\n",
              "      <td>0.0</td>\n",
              "      <td>0.0</td>\n",
              "      <td>0.0</td>\n",
              "      <td>0.0</td>\n",
              "      <td>0.0</td>\n",
              "      <td>0.0</td>\n",
              "      <td>0.0</td>\n",
              "      <td>0.0</td>\n",
              "      <td>0.0</td>\n",
              "      <td>0.0</td>\n",
              "      <td>0.0</td>\n",
              "      <td>0.0</td>\n",
              "      <td>0.0</td>\n",
              "      <td>0.0</td>\n",
              "      <td>0.0</td>\n",
              "      <td>0.0</td>\n",
              "      <td>0.0</td>\n",
              "      <td>0.0</td>\n",
              "      <td>0.0</td>\n",
              "      <td>...</td>\n",
              "      <td>0.0</td>\n",
              "      <td>0.0</td>\n",
              "      <td>0.0</td>\n",
              "      <td>0.0</td>\n",
              "      <td>0.0</td>\n",
              "      <td>0.0</td>\n",
              "      <td>0.0</td>\n",
              "      <td>0.0</td>\n",
              "      <td>0.0</td>\n",
              "      <td>0.0</td>\n",
              "      <td>0.0</td>\n",
              "      <td>0.0</td>\n",
              "      <td>0.0</td>\n",
              "      <td>0.0</td>\n",
              "      <td>0.0</td>\n",
              "      <td>0.0</td>\n",
              "      <td>0.0</td>\n",
              "      <td>0.0</td>\n",
              "      <td>0.0</td>\n",
              "      <td>0.0</td>\n",
              "      <td>0.0</td>\n",
              "      <td>0.0</td>\n",
              "      <td>0.0</td>\n",
              "      <td>0.0</td>\n",
              "      <td>0.0</td>\n",
              "      <td>0.0</td>\n",
              "      <td>0.0</td>\n",
              "      <td>0.0</td>\n",
              "      <td>0.0</td>\n",
              "      <td>0.0</td>\n",
              "      <td>0.0</td>\n",
              "      <td>0.0</td>\n",
              "      <td>0.0</td>\n",
              "      <td>0.0</td>\n",
              "      <td>0.0</td>\n",
              "      <td>0.0</td>\n",
              "      <td>0.0</td>\n",
              "      <td>0.0</td>\n",
              "      <td>0.0</td>\n",
              "      <td>2</td>\n",
              "    </tr>\n",
              "    <tr>\n",
              "      <th>8932</th>\n",
              "      <td>0.0</td>\n",
              "      <td>1.0</td>\n",
              "      <td>1.0</td>\n",
              "      <td>0.0</td>\n",
              "      <td>1.0</td>\n",
              "      <td>0.0</td>\n",
              "      <td>0.0</td>\n",
              "      <td>1.0</td>\n",
              "      <td>0.0</td>\n",
              "      <td>0.0</td>\n",
              "      <td>1.0</td>\n",
              "      <td>0.0</td>\n",
              "      <td>0.0</td>\n",
              "      <td>0.0</td>\n",
              "      <td>0.0</td>\n",
              "      <td>0.0</td>\n",
              "      <td>0.0</td>\n",
              "      <td>0.0</td>\n",
              "      <td>0.0</td>\n",
              "      <td>0.0</td>\n",
              "      <td>0.0</td>\n",
              "      <td>0.0</td>\n",
              "      <td>0.0</td>\n",
              "      <td>0.0</td>\n",
              "      <td>0.0</td>\n",
              "      <td>0.0</td>\n",
              "      <td>0.0</td>\n",
              "      <td>1.0</td>\n",
              "      <td>0.0</td>\n",
              "      <td>0.0</td>\n",
              "      <td>0.0</td>\n",
              "      <td>0.0</td>\n",
              "      <td>0.0</td>\n",
              "      <td>0.0</td>\n",
              "      <td>0.0</td>\n",
              "      <td>1.0</td>\n",
              "      <td>0.0</td>\n",
              "      <td>0.0</td>\n",
              "      <td>0.0</td>\n",
              "      <td>0.0</td>\n",
              "      <td>...</td>\n",
              "      <td>0.0</td>\n",
              "      <td>0.0</td>\n",
              "      <td>0.0</td>\n",
              "      <td>0.0</td>\n",
              "      <td>0.0</td>\n",
              "      <td>0.0</td>\n",
              "      <td>0.0</td>\n",
              "      <td>0.0</td>\n",
              "      <td>0.0</td>\n",
              "      <td>0.0</td>\n",
              "      <td>0.0</td>\n",
              "      <td>0.0</td>\n",
              "      <td>0.0</td>\n",
              "      <td>0.0</td>\n",
              "      <td>0.0</td>\n",
              "      <td>0.0</td>\n",
              "      <td>0.0</td>\n",
              "      <td>0.0</td>\n",
              "      <td>0.0</td>\n",
              "      <td>0.0</td>\n",
              "      <td>0.0</td>\n",
              "      <td>0.0</td>\n",
              "      <td>0.0</td>\n",
              "      <td>0.0</td>\n",
              "      <td>0.0</td>\n",
              "      <td>0.0</td>\n",
              "      <td>0.0</td>\n",
              "      <td>0.0</td>\n",
              "      <td>0.0</td>\n",
              "      <td>0.0</td>\n",
              "      <td>0.0</td>\n",
              "      <td>0.0</td>\n",
              "      <td>0.0</td>\n",
              "      <td>0.0</td>\n",
              "      <td>0.0</td>\n",
              "      <td>0.0</td>\n",
              "      <td>0.0</td>\n",
              "      <td>0.0</td>\n",
              "      <td>0.0</td>\n",
              "      <td>1</td>\n",
              "    </tr>\n",
              "    <tr>\n",
              "      <th>8933</th>\n",
              "      <td>0.0</td>\n",
              "      <td>1.0</td>\n",
              "      <td>0.0</td>\n",
              "      <td>0.0</td>\n",
              "      <td>0.0</td>\n",
              "      <td>0.0</td>\n",
              "      <td>0.0</td>\n",
              "      <td>0.0</td>\n",
              "      <td>0.0</td>\n",
              "      <td>0.0</td>\n",
              "      <td>0.0</td>\n",
              "      <td>1.0</td>\n",
              "      <td>0.0</td>\n",
              "      <td>0.0</td>\n",
              "      <td>0.0</td>\n",
              "      <td>0.0</td>\n",
              "      <td>0.0</td>\n",
              "      <td>0.0</td>\n",
              "      <td>0.0</td>\n",
              "      <td>1.0</td>\n",
              "      <td>0.0</td>\n",
              "      <td>0.0</td>\n",
              "      <td>0.0</td>\n",
              "      <td>0.0</td>\n",
              "      <td>0.0</td>\n",
              "      <td>0.0</td>\n",
              "      <td>0.0</td>\n",
              "      <td>0.0</td>\n",
              "      <td>1.0</td>\n",
              "      <td>0.0</td>\n",
              "      <td>0.0</td>\n",
              "      <td>0.0</td>\n",
              "      <td>0.0</td>\n",
              "      <td>0.0</td>\n",
              "      <td>0.0</td>\n",
              "      <td>0.0</td>\n",
              "      <td>0.0</td>\n",
              "      <td>0.0</td>\n",
              "      <td>0.0</td>\n",
              "      <td>0.0</td>\n",
              "      <td>...</td>\n",
              "      <td>0.0</td>\n",
              "      <td>0.0</td>\n",
              "      <td>0.0</td>\n",
              "      <td>0.0</td>\n",
              "      <td>0.0</td>\n",
              "      <td>0.0</td>\n",
              "      <td>0.0</td>\n",
              "      <td>0.0</td>\n",
              "      <td>0.0</td>\n",
              "      <td>0.0</td>\n",
              "      <td>0.0</td>\n",
              "      <td>0.0</td>\n",
              "      <td>0.0</td>\n",
              "      <td>0.0</td>\n",
              "      <td>0.0</td>\n",
              "      <td>0.0</td>\n",
              "      <td>0.0</td>\n",
              "      <td>0.0</td>\n",
              "      <td>0.0</td>\n",
              "      <td>0.0</td>\n",
              "      <td>0.0</td>\n",
              "      <td>0.0</td>\n",
              "      <td>0.0</td>\n",
              "      <td>0.0</td>\n",
              "      <td>0.0</td>\n",
              "      <td>0.0</td>\n",
              "      <td>0.0</td>\n",
              "      <td>0.0</td>\n",
              "      <td>0.0</td>\n",
              "      <td>0.0</td>\n",
              "      <td>0.0</td>\n",
              "      <td>0.0</td>\n",
              "      <td>0.0</td>\n",
              "      <td>0.0</td>\n",
              "      <td>0.0</td>\n",
              "      <td>0.0</td>\n",
              "      <td>0.0</td>\n",
              "      <td>0.0</td>\n",
              "      <td>0.0</td>\n",
              "      <td>1</td>\n",
              "    </tr>\n",
              "    <tr>\n",
              "      <th>8934</th>\n",
              "      <td>0.0</td>\n",
              "      <td>1.0</td>\n",
              "      <td>0.0</td>\n",
              "      <td>1.0</td>\n",
              "      <td>0.0</td>\n",
              "      <td>0.0</td>\n",
              "      <td>0.0</td>\n",
              "      <td>0.0</td>\n",
              "      <td>0.0</td>\n",
              "      <td>0.0</td>\n",
              "      <td>0.0</td>\n",
              "      <td>0.0</td>\n",
              "      <td>0.0</td>\n",
              "      <td>0.0</td>\n",
              "      <td>1.0</td>\n",
              "      <td>0.0</td>\n",
              "      <td>0.0</td>\n",
              "      <td>1.0</td>\n",
              "      <td>0.0</td>\n",
              "      <td>0.0</td>\n",
              "      <td>0.0</td>\n",
              "      <td>0.0</td>\n",
              "      <td>1.0</td>\n",
              "      <td>0.0</td>\n",
              "      <td>0.0</td>\n",
              "      <td>0.0</td>\n",
              "      <td>1.0</td>\n",
              "      <td>0.0</td>\n",
              "      <td>0.0</td>\n",
              "      <td>0.0</td>\n",
              "      <td>0.0</td>\n",
              "      <td>0.0</td>\n",
              "      <td>0.0</td>\n",
              "      <td>0.0</td>\n",
              "      <td>0.0</td>\n",
              "      <td>0.0</td>\n",
              "      <td>1.0</td>\n",
              "      <td>0.0</td>\n",
              "      <td>0.0</td>\n",
              "      <td>0.0</td>\n",
              "      <td>...</td>\n",
              "      <td>0.0</td>\n",
              "      <td>0.0</td>\n",
              "      <td>0.0</td>\n",
              "      <td>0.0</td>\n",
              "      <td>0.0</td>\n",
              "      <td>0.0</td>\n",
              "      <td>0.0</td>\n",
              "      <td>0.0</td>\n",
              "      <td>0.0</td>\n",
              "      <td>0.0</td>\n",
              "      <td>0.0</td>\n",
              "      <td>0.0</td>\n",
              "      <td>0.0</td>\n",
              "      <td>0.0</td>\n",
              "      <td>0.0</td>\n",
              "      <td>0.0</td>\n",
              "      <td>0.0</td>\n",
              "      <td>0.0</td>\n",
              "      <td>0.0</td>\n",
              "      <td>0.0</td>\n",
              "      <td>0.0</td>\n",
              "      <td>0.0</td>\n",
              "      <td>0.0</td>\n",
              "      <td>0.0</td>\n",
              "      <td>0.0</td>\n",
              "      <td>0.0</td>\n",
              "      <td>0.0</td>\n",
              "      <td>0.0</td>\n",
              "      <td>0.0</td>\n",
              "      <td>0.0</td>\n",
              "      <td>0.0</td>\n",
              "      <td>0.0</td>\n",
              "      <td>0.0</td>\n",
              "      <td>0.0</td>\n",
              "      <td>0.0</td>\n",
              "      <td>0.0</td>\n",
              "      <td>0.0</td>\n",
              "      <td>0.0</td>\n",
              "      <td>0.0</td>\n",
              "      <td>1</td>\n",
              "    </tr>\n",
              "    <tr>\n",
              "      <th>8935</th>\n",
              "      <td>0.0</td>\n",
              "      <td>1.0</td>\n",
              "      <td>1.0</td>\n",
              "      <td>0.0</td>\n",
              "      <td>1.0</td>\n",
              "      <td>0.0</td>\n",
              "      <td>1.0</td>\n",
              "      <td>0.0</td>\n",
              "      <td>0.0</td>\n",
              "      <td>0.0</td>\n",
              "      <td>1.0</td>\n",
              "      <td>0.0</td>\n",
              "      <td>0.0</td>\n",
              "      <td>1.0</td>\n",
              "      <td>0.0</td>\n",
              "      <td>0.0</td>\n",
              "      <td>0.0</td>\n",
              "      <td>0.0</td>\n",
              "      <td>0.0</td>\n",
              "      <td>0.0</td>\n",
              "      <td>0.0</td>\n",
              "      <td>0.0</td>\n",
              "      <td>0.0</td>\n",
              "      <td>0.0</td>\n",
              "      <td>0.0</td>\n",
              "      <td>0.0</td>\n",
              "      <td>0.0</td>\n",
              "      <td>0.0</td>\n",
              "      <td>0.0</td>\n",
              "      <td>0.0</td>\n",
              "      <td>0.0</td>\n",
              "      <td>0.0</td>\n",
              "      <td>0.0</td>\n",
              "      <td>0.0</td>\n",
              "      <td>0.0</td>\n",
              "      <td>0.0</td>\n",
              "      <td>0.0</td>\n",
              "      <td>0.0</td>\n",
              "      <td>0.0</td>\n",
              "      <td>0.0</td>\n",
              "      <td>...</td>\n",
              "      <td>0.0</td>\n",
              "      <td>0.0</td>\n",
              "      <td>0.0</td>\n",
              "      <td>0.0</td>\n",
              "      <td>0.0</td>\n",
              "      <td>0.0</td>\n",
              "      <td>0.0</td>\n",
              "      <td>0.0</td>\n",
              "      <td>0.0</td>\n",
              "      <td>0.0</td>\n",
              "      <td>0.0</td>\n",
              "      <td>0.0</td>\n",
              "      <td>0.0</td>\n",
              "      <td>0.0</td>\n",
              "      <td>0.0</td>\n",
              "      <td>0.0</td>\n",
              "      <td>0.0</td>\n",
              "      <td>0.0</td>\n",
              "      <td>0.0</td>\n",
              "      <td>0.0</td>\n",
              "      <td>0.0</td>\n",
              "      <td>0.0</td>\n",
              "      <td>0.0</td>\n",
              "      <td>0.0</td>\n",
              "      <td>0.0</td>\n",
              "      <td>0.0</td>\n",
              "      <td>0.0</td>\n",
              "      <td>0.0</td>\n",
              "      <td>0.0</td>\n",
              "      <td>0.0</td>\n",
              "      <td>0.0</td>\n",
              "      <td>0.0</td>\n",
              "      <td>0.0</td>\n",
              "      <td>0.0</td>\n",
              "      <td>0.0</td>\n",
              "      <td>0.0</td>\n",
              "      <td>0.0</td>\n",
              "      <td>0.0</td>\n",
              "      <td>0.0</td>\n",
              "      <td>1</td>\n",
              "    </tr>\n",
              "  </tbody>\n",
              "</table>\n",
              "<p>8936 rows × 12501 columns</p>\n",
              "</div>"
            ],
            "text/plain": [
              "        0    1    2    3    4    5  ...  12495  12496  12497  12498  12499  target\n",
              "0     0.0  1.0  0.0  0.0  0.0  1.0  ...    0.0    0.0    0.0    0.0    0.0       0\n",
              "1     0.0  1.0  0.0  0.0  0.0  0.0  ...    0.0    0.0    0.0    0.0    0.0       2\n",
              "2     0.0  1.0  0.0  0.0  0.0  0.0  ...    0.0    0.0    0.0    0.0    0.0       2\n",
              "3     0.0  1.0  0.0  0.0  0.0  0.0  ...    0.0    0.0    0.0    0.0    0.0       0\n",
              "4     0.0  1.0  0.0  0.0  0.0  0.0  ...    0.0    0.0    0.0    0.0    0.0       2\n",
              "...   ...  ...  ...  ...  ...  ...  ...    ...    ...    ...    ...    ...     ...\n",
              "8931  0.0  1.0  0.0  0.0  1.0  0.0  ...    0.0    0.0    0.0    0.0    0.0       2\n",
              "8932  0.0  1.0  1.0  0.0  1.0  0.0  ...    0.0    0.0    0.0    0.0    0.0       1\n",
              "8933  0.0  1.0  0.0  0.0  0.0  0.0  ...    0.0    0.0    0.0    0.0    0.0       1\n",
              "8934  0.0  1.0  0.0  1.0  0.0  0.0  ...    0.0    0.0    0.0    0.0    0.0       1\n",
              "8935  0.0  1.0  1.0  0.0  1.0  0.0  ...    0.0    0.0    0.0    0.0    0.0       1\n",
              "\n",
              "[8936 rows x 12501 columns]"
            ]
          },
          "metadata": {
            "tags": []
          },
          "execution_count": 38
        }
      ]
    },
    {
      "cell_type": "code",
      "metadata": {
        "id": "mDhgJjR4_QgU"
      },
      "source": [
        "from sklearn.decomposition import PCA\r\n",
        "\r\n",
        "pca = PCA(n_components=290)\r\n",
        "\r\n",
        "X = df2.drop(['target'], axis='columns')\r\n",
        "\r\n",
        "df3 = pd.DataFrame(pca.fit_transform(X))"
      ],
      "execution_count": null,
      "outputs": []
    },
    {
      "cell_type": "code",
      "metadata": {
        "id": "kLes4KIBSKPU"
      },
      "source": [
        "df3['target'] = classes"
      ],
      "execution_count": null,
      "outputs": []
    },
    {
      "cell_type": "code",
      "metadata": {
        "id": "qYwS-HyaBDrd"
      },
      "source": [
        "X_train = dh.HoldOut(df3)[0].drop(['target'], axis='columns')\r\n",
        "y_train = dh.HoldOut(df3)[0]['target']\r\n",
        "X_test = dh.HoldOut(df3)[1].drop(['target'], axis='columns')\r\n",
        "y_test = dh.HoldOut(df3)[1]['target']"
      ],
      "execution_count": null,
      "outputs": []
    },
    {
      "cell_type": "code",
      "metadata": {
        "colab": {
          "base_uri": "https://localhost:8080/"
        },
        "id": "9yRcuEfOExUm",
        "outputId": "5888b61a-14b7-4f1c-d12b-aa0989e9f636"
      },
      "source": [
        "model4 = XGBClassifier()\r\n",
        "\r\n",
        "model4.fit(X_train, y_train)"
      ],
      "execution_count": null,
      "outputs": [
        {
          "output_type": "execute_result",
          "data": {
            "text/plain": [
              "XGBClassifier(base_score=0.5, booster='gbtree', colsample_bylevel=1,\n",
              "              colsample_bynode=1, colsample_bytree=1, gamma=0,\n",
              "              learning_rate=0.1, max_delta_step=0, max_depth=3,\n",
              "              min_child_weight=1, missing=None, n_estimators=100, n_jobs=1,\n",
              "              nthread=None, objective='multi:softprob', random_state=0,\n",
              "              reg_alpha=0, reg_lambda=1, scale_pos_weight=1, seed=None,\n",
              "              silent=None, subsample=1, verbosity=1)"
            ]
          },
          "metadata": {
            "tags": []
          },
          "execution_count": 42
        }
      ]
    },
    {
      "cell_type": "code",
      "metadata": {
        "colab": {
          "base_uri": "https://localhost:8080/"
        },
        "id": "eEnMV5-UTx8c",
        "outputId": "fb8699e6-d021-4705-caea-89f7918515d4"
      },
      "source": [
        "model4.score(X_test, y_test)"
      ],
      "execution_count": null,
      "outputs": [
        {
          "output_type": "execute_result",
          "data": {
            "text/plain": [
              "0.6017897091722595"
            ]
          },
          "metadata": {
            "tags": []
          },
          "execution_count": 43
        }
      ]
    },
    {
      "cell_type": "code",
      "metadata": {
        "colab": {
          "base_uri": "https://localhost:8080/"
        },
        "id": "FnfzoIalUTsw",
        "outputId": "f22e1802-b198-48e8-e9ab-4fc253c5c0ae"
      },
      "source": [
        "model4.score(X_train, y_train)"
      ],
      "execution_count": null,
      "outputs": [
        {
          "output_type": "execute_result",
          "data": {
            "text/plain": [
              "0.6349166873911962"
            ]
          },
          "metadata": {
            "tags": []
          },
          "execution_count": 44
        }
      ]
    },
    {
      "cell_type": "code",
      "metadata": {
        "colab": {
          "base_uri": "https://localhost:8080/",
          "height": 296
        },
        "id": "q4gC2ld8UbYF",
        "outputId": "0cf641b7-bdb9-4e1b-dea3-6d2bf480c13f"
      },
      "source": [
        "ev.BuildConfusion(model4, X_test, y_test)"
      ],
      "execution_count": null,
      "outputs": [
        {
          "output_type": "execute_result",
          "data": {
            "text/plain": [
              "<sklearn.metrics._plot.confusion_matrix.ConfusionMatrixDisplay at 0x7f58cd1f4f98>"
            ]
          },
          "metadata": {
            "tags": []
          },
          "execution_count": 45
        },
        {
          "output_type": "display_data",
          "data": {
            "image/png": "[encoded data removed]",
            "text/plain": [
              "<Figure size 432x288 with 2 Axes>"
            ]
          },
          "metadata": {
            "tags": [],
            "needs_background": "light"
          }
        }
      ]
    },
    {
      "cell_type": "markdown",
      "metadata": {
        "id": "nKDbqNI7r8na"
      },
      "source": [
        "### Using SMOTE to resample"
      ]
    },
    {
      "cell_type": "markdown",
      "metadata": {
        "id": "qAOl4GcDJ7oc"
      },
      "source": [
        "using Smote, synthetic minority oversampling, to fix class imbalance issues. As it lables everything as neutral."
      ]
    },
    {
      "cell_type": "code",
      "metadata": {
        "colab": {
          "base_uri": "https://localhost:8080/"
        },
        "id": "oVsz_tAoVMok",
        "outputId": "b3ff5869-583b-4fdf-dc87-172d0a156981"
      },
      "source": [
        "from imblearn.over_sampling import SMOTE\r\n",
        "sm = SMOTE()\r\n",
        "X_res, y_res = sm.fit_resample(X_train, y_train)"
      ],
      "execution_count": null,
      "outputs": [
        {
          "output_type": "stream",
          "text": [
            "/usr/local/lib/python3.6/dist-packages/sklearn/utils/deprecation.py:87: FutureWarning: Function safe_indexing is deprecated; safe_indexing is deprecated in version 0.22 and will be removed in version 0.24.\n",
            "  warnings.warn(msg, category=FutureWarning)\n",
            "/usr/local/lib/python3.6/dist-packages/sklearn/utils/deprecation.py:87: FutureWarning: Function safe_indexing is deprecated; safe_indexing is deprecated in version 0.22 and will be removed in version 0.24.\n",
            "  warnings.warn(msg, category=FutureWarning)\n"
          ],
          "name": "stderr"
        }
      ]
    },
    {
      "cell_type": "code",
      "metadata": {
        "colab": {
          "base_uri": "https://localhost:8080/"
        },
        "id": "zsFoifwiWgY7",
        "outputId": "d6f4dd6c-ee03-45cd-ca14-43fa58f86b25"
      },
      "source": [
        "xgb = XGBClassifier()\r\n",
        "xgb.fit(X_res, y_res)"
      ],
      "execution_count": null,
      "outputs": [
        {
          "output_type": "execute_result",
          "data": {
            "text/plain": [
              "XGBClassifier(base_score=0.5, booster='gbtree', colsample_bylevel=1,\n",
              "              colsample_bynode=1, colsample_bytree=1, gamma=0,\n",
              "              learning_rate=0.1, max_delta_step=0, max_depth=3,\n",
              "              min_child_weight=1, missing=None, n_estimators=100, n_jobs=1,\n",
              "              nthread=None, objective='multi:softprob', random_state=0,\n",
              "              reg_alpha=0, reg_lambda=1, scale_pos_weight=1, seed=None,\n",
              "              silent=None, subsample=1, verbosity=1)"
            ]
          },
          "metadata": {
            "tags": []
          },
          "execution_count": 47
        }
      ]
    },
    {
      "cell_type": "code",
      "metadata": {
        "colab": {
          "base_uri": "https://localhost:8080/"
        },
        "id": "FKWNuaMXXifj",
        "outputId": "bc5d7d7a-c97b-4b32-dc26-3ce7a2871adf"
      },
      "source": [
        "xgb.score(X_res, y_res)"
      ],
      "execution_count": null,
      "outputs": [
        {
          "output_type": "execute_result",
          "data": {
            "text/plain": [
              "0.7024396929824561"
            ]
          },
          "metadata": {
            "tags": []
          },
          "execution_count": 48
        }
      ]
    },
    {
      "cell_type": "code",
      "metadata": {
        "colab": {
          "base_uri": "https://localhost:8080/"
        },
        "id": "MRUNhC42XsAa",
        "outputId": "a8d3bbdb-6a5a-45e3-e554-0f44f2ad95d3"
      },
      "source": [
        "xgb.score(np.array(X_test), np.array(y_test))"
      ],
      "execution_count": null,
      "outputs": [
        {
          "output_type": "execute_result",
          "data": {
            "text/plain": [
              "0.4373601789709172"
            ]
          },
          "metadata": {
            "tags": []
          },
          "execution_count": 49
        }
      ]
    },
    {
      "cell_type": "code",
      "metadata": {
        "colab": {
          "base_uri": "https://localhost:8080/",
          "height": 298
        },
        "id": "8YYzRvf_YN0J",
        "outputId": "1794f0da-5148-4608-ae95-708d0a77173e"
      },
      "source": [
        "ev.BuildConfusion(xgb, np.array(X_test), np.array(y_test))"
      ],
      "execution_count": null,
      "outputs": [
        {
          "output_type": "execute_result",
          "data": {
            "text/plain": [
              "<sklearn.metrics._plot.confusion_matrix.ConfusionMatrixDisplay at 0x7f58cd0bfe80>"
            ]
          },
          "metadata": {
            "tags": []
          },
          "execution_count": 50
        },
        {
          "output_type": "display_data",
          "data": {
            "image/png": "[encoded data removed]",
            "text/plain": [
              "<Figure size 432x288 with 2 Axes>"
            ]
          },
          "metadata": {
            "tags": [],
            "needs_background": "light"
          }
        }
      ]
    },
    {
      "cell_type": "markdown",
      "metadata": {
        "id": "-8dzlsNel17n"
      },
      "source": [
        "After trying various RNN's and gradient boosted forests trained on word embeddings, and trained on a PCA transformed one hot encoded vectors. I've concluded that the RNN saved as 'bid.h5' was the best. Although it was overfit it got 94% accuracy. I will now access random tweets outside of the dataset via the twitter API and see how the model classifies the tweets"
      ]
    },
    {
      "cell_type": "code",
      "metadata": {
        "colab": {
          "resources": {
            "http://localhost:8080/nbextensions/google.colab/files.js": {
              "data": "Ly8gQ29weXJpZ2h0IDIwMTcgR29vZ2xlIExMQwovLwovLyBMaWNlbnNlZCB1bmRlciB0aGUgQXBhY2hlIExpY2Vuc2UsIFZlcnNpb24gMi4wICh0aGUgIkxpY2Vuc2UiKTsKLy8geW91IG1heSBub3QgdXNlIHRoaXMgZmlsZSBleGNlcHQgaW4gY29tcGxpYW5jZSB3aXRoIHRoZSBMaWNlbnNlLgovLyBZb3UgbWF5IG9idGFpbiBhIGNvcHkgb2YgdGhlIExpY2Vuc2UgYXQKLy8KLy8gICAgICBodHRwOi8vd3d3LmFwYWNoZS5vcmcvbGljZW5zZXMvTElDRU5TRS0yLjAKLy8KLy8gVW5sZXNzIHJlcXVpcmVkIGJ5IGFwcGxpY2FibGUgbGF3IG9yIGFncmVlZCB0byBpbiB3cml0aW5nLCBzb2Z0d2FyZQovLyBkaXN0cmlidXRlZCB1bmRlciB0aGUgTGljZW5zZSBpcyBkaXN0cmlidXRlZCBvbiBhbiAiQVMgSVMiIEJBU0lTLAovLyBXSVRIT1VUIFdBUlJBTlRJRVMgT1IgQ09ORElUSU9OUyBPRiBBTlkgS0lORCwgZWl0aGVyIGV4cHJlc3Mgb3IgaW1wbGllZC4KLy8gU2VlIHRoZSBMaWNlbnNlIGZvciB0aGUgc3BlY2lmaWMgbGFuZ3VhZ2UgZ292ZXJuaW5nIHBlcm1pc3Npb25zIGFuZAovLyBsaW1pdGF0aW9ucyB1bmRlciB0aGUgTGljZW5zZS4KCi8qKgogKiBAZmlsZW92ZXJ2aWV3IEhlbHBlcnMgZm9yIGdvb2dsZS5jb2xhYiBQeXRob24gbW9kdWxlLgogKi8KKGZ1bmN0aW9uKHNjb3BlKSB7CmZ1bmN0aW9uIHNwYW4odGV4dCwgc3R5bGVBdHRyaWJ1dGVzID0ge30pIHsKICBjb25zdCBlbGVtZW50ID0gZG9jdW1lbnQuY3JlYXRlRWxlbWVudCgnc3BhbicpOwogIGVsZW1lbnQudGV4dENvbnRlbnQgPSB0ZXh0OwogIGZvciAoY29uc3Qga2V5IG9mIE9iamVjdC5rZXlzKHN0eWxlQXR0cmlidXRlcykpIHsKICAgIGVsZW1lbnQuc3R5bGVba2V5XSA9IHN0eWxlQXR0cmlidXRlc1trZXldOwogIH0KICByZXR1cm4gZWxlbWVudDsKfQoKLy8gTWF4IG51bWJlciBvZiBieXRlcyB3aGljaCB3aWxsIGJlIHVwbG9hZGVkIGF0IGEgdGltZS4KY29uc3QgTUFYX1BBWUxPQURfU0laRSA9IDEwMCAqIDEwMjQ7CgpmdW5jdGlvbiBfdXBsb2FkRmlsZXMoaW5wdXRJZCwgb3V0cHV0SWQpIHsKICBjb25zdCBzdGVwcyA9IHVwbG9hZEZpbGVzU3RlcChpbnB1dElkLCBvdXRwdXRJZCk7CiAgY29uc3Qgb3V0cHV0RWxlbWVudCA9IGRvY3VtZW50LmdldEVsZW1lbnRCeUlkKG91dHB1dElkKTsKICAvLyBDYWNoZSBzdGVwcyBvbiB0aGUgb3V0cHV0RWxlbWVudCB0byBtYWtlIGl0IGF2YWlsYWJsZSBmb3IgdGhlIG5leHQgY2FsbAogIC8vIHRvIHVwbG9hZEZpbGVzQ29udGludWUgZnJvbSBQeXRob24uCiAgb3V0cHV0RWxlbWVudC5zdGVwcyA9IHN0ZXBzOwoKICByZXR1cm4gX3VwbG9hZEZpbGVzQ29udGludWUob3V0cHV0SWQpOwp9CgovLyBUaGlzIGlzIHJvdWdobHkgYW4gYXN5bmMgZ2VuZXJhdG9yIChub3Qgc3VwcG9ydGVkIGluIHRoZSBicm93c2VyIHlldCksCi8vIHdoZXJlIHRoZXJlIGFyZSBtdWx0aXBsZSBhc3luY2hyb25vdXMgc3RlcHMgYW5kIHRoZSBQeXRob24gc2lkZSBpcyBnb2luZwovLyB0byBwb2xsIGZvciBjb21wbGV0aW9uIG9mIGVhY2ggc3RlcC4KLy8gVGhpcyB1c2VzIGEgUHJvbWlzZSB0byBibG9jayB0aGUgcHl0aG9uIHNpZGUgb24gY29tcGxldGlvbiBvZiBlYWNoIHN0ZXAsCi8vIHRoZW4gcGFzc2VzIHRoZSByZXN1bHQgb2YgdGhlIHByZXZpb3VzIHN0ZXAgYXMgdGhlIGlucHV0IHRvIHRoZSBuZXh0IHN0ZXAuCmZ1bmN0aW9uIF91cGxvYWRGaWxlc0NvbnRpbnVlKG91dHB1dElkKSB7CiAgY29uc3Qgb3V0cHV0RWxlbWVudCA9IGRvY3VtZW50LmdldEVsZW1lbnRCeUlkKG91dHB1dElkKTsKICBjb25zdCBzdGVwcyA9IG91dHB1dEVsZW1lbnQuc3RlcHM7CgogIGNvbnN0IG5leHQgPSBzdGVwcy5uZXh0KG91dHB1dEVsZW1lbnQubGFzdFByb21pc2VWYWx1ZSk7CiAgcmV0dXJuIFByb21pc2UucmVzb2x2ZShuZXh0LnZhbHVlLnByb21pc2UpLnRoZW4oKHZhbHVlKSA9PiB7CiAgICAvLyBDYWNoZSB0aGUgbGFzdCBwcm9taXNlIHZhbHVlIHRvIG1ha2UgaXQgYXZhaWxhYmxlIHRvIHRoZSBuZXh0CiAgICAvLyBzdGVwIG9mIHRoZSBnZW5lcmF0b3IuCiAgICBvdXRwdXRFbGVtZW50Lmxhc3RQcm9taXNlVmFsdWUgPSB2YWx1ZTsKICAgIHJldHVybiBuZXh0LnZhbHVlLnJlc3BvbnNlOwogIH0pOwp9CgovKioKICogR2VuZXJhdG9yIGZ1bmN0aW9uIHdoaWNoIGlzIGNhbGxlZCBiZXR3ZWVuIGVhY2ggYXN5bmMgc3RlcCBvZiB0aGUgdXBsb2FkCiAqIHByb2Nlc3MuCiAqIEBwYXJhbSB7c3RyaW5nfSBpbnB1dElkIEVsZW1lbnQgSUQgb2YgdGhlIGlucHV0IGZpbGUgcGlja2VyIGVsZW1lbnQuCiAqIEBwYXJhbSB7c3RyaW5nfSBvdXRwdXRJZCBFbGVtZW50IElEIG9mIHRoZSBvdXRwdXQgZGlzcGxheS4KICogQHJldHVybiB7IUl0ZXJhYmxlPCFPYmplY3Q+fSBJdGVyYWJsZSBvZiBuZXh0IHN0ZXBzLgogKi8KZnVuY3Rpb24qIHVwbG9hZEZpbGVzU3RlcChpbnB1dElkLCBvdXRwdXRJZCkgewogIGNvbnN0IGlucHV0RWxlbWVudCA9IGRvY3VtZW50LmdldEVsZW1lbnRCeUlkKGlucHV0SWQpOwogIGlucHV0RWxlbWVudC5kaXNhYmxlZCA9IGZhbHNlOwoKICBjb25zdCBvdXRwdXRFbGVtZW50ID0gZG9jdW1lbnQuZ2V0RWxlbWVudEJ5SWQob3V0cHV0SWQpOwogIG91dHB1dEVsZW1lbnQuaW5uZXJIVE1MID0gJyc7CgogIGNvbnN0IHBpY2tlZFByb21pc2UgPSBuZXcgUHJvbWlzZSgocmVzb2x2ZSkgPT4gewogICAgaW5wdXRFbGVtZW50LmFkZEV2ZW50TGlzdGVuZXIoJ2NoYW5nZScsIChlKSA9PiB7CiAgICAgIHJlc29sdmUoZS50YXJnZXQuZmlsZXMpOwogICAgfSk7CiAgfSk7CgogIGNvbnN0IGNhbmNlbCA9IGRvY3VtZW50LmNyZWF0ZUVsZW1lbnQoJ2J1dHRvbicpOwogIGlucHV0RWxlbWVudC5wYXJlbnRFbGVtZW50LmFwcGVuZENoaWxkKGNhbmNlbCk7CiAgY2FuY2VsLnRleHRDb250ZW50ID0gJ0NhbmNlbCB1cGxvYWQnOwogIGNvbnN0IGNhbmNlbFByb21pc2UgPSBuZXcgUHJvbWlzZSgocmVzb2x2ZSkgPT4gewogICAgY2FuY2VsLm9uY2xpY2sgPSAoKSA9PiB7CiAgICAgIHJlc29sdmUobnVsbCk7CiAgICB9OwogIH0pOwoKICAvLyBXYWl0IGZvciB0aGUgdXNlciB0byBwaWNrIHRoZSBmaWxlcy4KICBjb25zdCBmaWxlcyA9IHlpZWxkIHsKICAgIHByb21pc2U6IFByb21pc2UucmFjZShbcGlja2VkUHJvbWlzZSwgY2FuY2VsUHJvbWlzZV0pLAogICAgcmVzcG9uc2U6IHsKICAgICAgYWN0aW9uOiAnc3RhcnRpbmcnLAogICAgfQogIH07CgogIGNhbmNlbC5yZW1vdmUoKTsKCiAgLy8gRGlzYWJsZSB0aGUgaW5wdXQgZWxlbWVudCBzaW5jZSBmdXJ0aGVyIHBpY2tzIGFyZSBub3QgYWxsb3dlZC4KICBpbnB1dEVsZW1lbnQuZGlzYWJsZWQgPSB0cnVlOwoKICBpZiAoIWZpbGVzKSB7CiAgICByZXR1cm4gewogICAgICByZXNwb25zZTogewogICAgICAgIGFjdGlvbjogJ2NvbXBsZXRlJywKICAgICAgfQogICAgfTsKICB9CgogIGZvciAoY29uc3QgZmlsZSBvZiBmaWxlcykgewogICAgY29uc3QgbGkgPSBkb2N1bWVudC5jcmVhdGVFbGVtZW50KCdsaScpOwogICAgbGkuYXBwZW5kKHNwYW4oZmlsZS5uYW1lLCB7Zm9udFdlaWdodDogJ2JvbGQnfSkpOwogICAgbGkuYXBwZW5kKHNwYW4oCiAgICAgICAgYCgke2ZpbGUudHlwZSB8fCAnbi9hJ30pIC0gJHtmaWxlLnNpemV9IGJ5dGVzLCBgICsKICAgICAgICBgbGFzdCBtb2RpZmllZDogJHsKICAgICAgICAgICAgZmlsZS5sYXN0TW9kaWZpZWREYXRlID8gZmlsZS5sYXN0TW9kaWZpZWREYXRlLnRvTG9jYWxlRGF0ZVN0cmluZygpIDoKICAgICAgICAgICAgICAgICAgICAgICAgICAgICAgICAgICAgJ24vYSd9IC0gYCkpOwogICAgY29uc3QgcGVyY2VudCA9IHNwYW4oJzAlIGRvbmUnKTsKICAgIGxpLmFwcGVuZENoaWxkKHBlcmNlbnQpOwoKICAgIG91dHB1dEVsZW1lbnQuYXBwZW5kQ2hpbGQobGkpOwoKICAgIGNvbnN0IGZpbGVEYXRhUHJvbWlzZSA9IG5ldyBQcm9taXNlKChyZXNvbHZlKSA9PiB7CiAgICAgIGNvbnN0IHJlYWRlciA9IG5ldyBGaWxlUmVhZGVyKCk7CiAgICAgIHJlYWRlci5vbmxvYWQgPSAoZSkgPT4gewogICAgICAgIHJlc29sdmUoZS50YXJnZXQucmVzdWx0KTsKICAgICAgfTsKICAgICAgcmVhZGVyLnJlYWRBc0FycmF5QnVmZmVyKGZpbGUpOwogICAgfSk7CiAgICAvLyBXYWl0IGZvciB0aGUgZGF0YSB0byBiZSByZWFkeS4KICAgIGxldCBmaWxlRGF0YSA9IHlpZWxkIHsKICAgICAgcHJvbWlzZTogZmlsZURhdGFQcm9taXNlLAogICAgICByZXNwb25zZTogewogICAgICAgIGFjdGlvbjogJ2NvbnRpbnVlJywKICAgICAgfQogICAgfTsKCiAgICAvLyBVc2UgYSBjaHVua2VkIHNlbmRpbmcgdG8gYXZvaWQgbWVzc2FnZSBzaXplIGxpbWl0cy4gU2VlIGIvNjIxMTU2NjAuCiAgICBsZXQgcG9zaXRpb24gPSAwOwogICAgd2hpbGUgKHBvc2l0aW9uIDwgZmlsZURhdGEuYnl0ZUxlbmd0aCkgewogICAgICBjb25zdCBsZW5ndGggPSBNYXRoLm1pbihmaWxlRGF0YS5ieXRlTGVuZ3RoIC0gcG9zaXRpb24sIE1BWF9QQVlMT0FEX1NJWkUpOwogICAgICBjb25zdCBjaHVuayA9IG5ldyBVaW50OEFycmF5KGZpbGVEYXRhLCBwb3NpdGlvbiwgbGVuZ3RoKTsKICAgICAgcG9zaXRpb24gKz0gbGVuZ3RoOwoKICAgICAgY29uc3QgYmFzZTY0ID0gYnRvYShTdHJpbmcuZnJvbUNoYXJDb2RlLmFwcGx5KG51bGwsIGNodW5rKSk7CiAgICAgIHlpZWxkIHsKICAgICAgICByZXNwb25zZTogewogICAgICAgICAgYWN0aW9uOiAnYXBwZW5kJywKICAgICAgICAgIGZpbGU6IGZpbGUubmFtZSwKICAgICAgICAgIGRhdGE6IGJhc2U2NCwKICAgICAgICB9LAogICAgICB9OwogICAgICBwZXJjZW50LnRleHRDb250ZW50ID0KICAgICAgICAgIGAke01hdGgucm91bmQoKHBvc2l0aW9uIC8gZmlsZURhdGEuYnl0ZUxlbmd0aCkgKiAxMDApfSUgZG9uZWA7CiAgICB9CiAgfQoKICAvLyBBbGwgZG9uZS4KICB5aWVsZCB7CiAgICByZXNwb25zZTogewogICAgICBhY3Rpb246ICdjb21wbGV0ZScsCiAgICB9CiAgfTsKfQoKc2NvcGUuZ29vZ2xlID0gc2NvcGUuZ29vZ2xlIHx8IHt9OwpzY29wZS5nb29nbGUuY29sYWIgPSBzY29wZS5nb29nbGUuY29sYWIgfHwge307CnNjb3BlLmdvb2dsZS5jb2xhYi5fZmlsZXMgPSB7CiAgX3VwbG9hZEZpbGVzLAogIF91cGxvYWRGaWxlc0NvbnRpbnVlLAp9Owp9KShzZWxmKTsK",
              "ok": true,
              "headers": [
                [
                  "content-type",
                  "application/javascript"
                ]
              ],
              "status": 200,
              "status_text": ""
            }
          },
          "base_uri": "https://localhost:8080/",
          "height": 73
        },
        "id": "tdd_Xj6gsGP2",
        "outputId": "df126b96-ae48-4d21-f9eb-c582ed232820"
      },
      "source": [
        "from google.colab import files\r\n",
        "path_to_file = list(files.upload().keys())[0]"
      ],
      "execution_count": null,
      "outputs": [
        {
          "output_type": "display_data",
          "data": {
            "text/html": [
              "\n",
              "     <input type=\"file\" id=\"files-7c6cc50c-7520-47a0-acda-c141555dd6cd\" name=\"files[]\" multiple disabled\n",
              "        style=\"border:none\" />\n",
              "     <output id=\"result-7c6cc50c-7520-47a0-acda-c141555dd6cd\">\n",
              "      Upload widget is only available when the cell has been executed in the\n",
              "      current browser session. Please rerun this cell to enable.\n",
              "      </output>\n",
              "      <script src=\"/nbextensions/google.colab/files.js\"></script> "
            ],
            "text/plain": [
              "<IPython.core.display.HTML object>"
            ]
          },
          "metadata": {
            "tags": []
          }
        },
        {
          "output_type": "stream",
          "text": [
            "Saving ssh-twitter.txt to ssh-twitter.txt\n"
          ],
          "name": "stdout"
        }
      ]
    },
    {
      "cell_type": "code",
      "metadata": {
        "id": "lsM_rvzOntRe"
      },
      "source": [
        "import tweepy\r\n",
        "\r\n",
        "c1 = open('ssh-twitter.txt').readlines()[2].split(':')[1].replace('\\n', '').replace(' ', '')\r\n",
        "c2 = open('ssh-twitter.txt').readlines()[3].split(':')[1].replace('\\n', '').replace(' ', '')\r\n",
        "a1 = open('ssh-twitter.txt').readlines()[0].split(':')[1].replace('\\n', '').replace(' ', '')\r\n",
        "a2 = open('ssh-twitter.txt').readlines()[1].split(':')[1].replace('\\n', '').replace(' ', '')\r\n",
        "\r\n",
        "auth = tweepy.OAuthHandler(c1, c2)\r\n",
        "auth.set_access_token(a1, a2)\r\n",
        "\r\n",
        "def GetTweets(Topic):\r\n",
        "  api = tweepy.API(auth)\r\n",
        "  topic = api.search(Topic)\r\n",
        "  tweets = []\r\n",
        "  time = []\r\n",
        "  for i in range(len(topic)):\r\n",
        "    tweets.append(topic[i]._json['text'].replace('\\n', '').replace('.@', '').replace('.', '').replace('!', '').replace('@', '')\r\n",
        "    .replace('?', '').replace(':', '').replace(',', '').replace(';', '').lower())\r\n",
        "    time.append(topic[i]._json['created_at'])\r\n",
        "    res = pd.DataFrame(tweets)\r\n",
        "  res.columns = ['text']\r\n",
        "  res['time'] = time \r\n",
        "  X = dh.ModelReadyText1(res, 'text', 'time', 33)[0]\r\n",
        "  backup_dim = len(X), len(res)\r\n",
        "  sent = []\r\n",
        "  for arr in X:\r\n",
        "    sentiment = int(round(model.predict(arr).argmax()/len(arr)-1))\r\n",
        "    if sentiment == 0:\r\n",
        "      sent.append('Negative')\r\n",
        "    if sentiment == 1:\r\n",
        "      sent.append('Neutral')\r\n",
        "    if sentiment == 2:\r\n",
        "      sent.append('Positive')\r\n",
        "  res['sentiment'] = sent \r\n",
        "  results = res.drop(['time'], axis='columns')\r\n",
        "  return results"
      ],
      "execution_count": null,
      "outputs": []
    },
    {
      "cell_type": "markdown",
      "metadata": {
        "id": "weLIf7FHBdtf"
      },
      "source": [
        "With this GetTweets function all you have to do is enter a topic and you'll get a dataframe with tweets selected by the tweepy module and the sentiment that the model predicts!"
      ]
    },
    {
      "cell_type": "code",
      "metadata": {
        "colab": {
          "base_uri": "https://localhost:8080/",
          "height": 491
        },
        "id": "4tcAwDW0BWrP",
        "outputId": "55ee4218-70d1-46fc-c1d5-cfadce4e0249"
      },
      "source": [
        "GetTweets('google')"
      ],
      "execution_count": null,
      "outputs": [
        {
          "output_type": "execute_result",
          "data": {
            "text/html": [
              "<div>\n",
              "<style scoped>\n",
              "    .dataframe tbody tr th:only-of-type {\n",
              "        vertical-align: middle;\n",
              "    }\n",
              "\n",
              "    .dataframe tbody tr th {\n",
              "        vertical-align: top;\n",
              "    }\n",
              "\n",
              "    .dataframe thead th {\n",
              "        text-align: right;\n",
              "    }\n",
              "</style>\n",
              "<table border=\"1\" class=\"dataframe\">\n",
              "  <thead>\n",
              "    <tr style=\"text-align: right;\">\n",
              "      <th></th>\n",
              "      <th>text</th>\n",
              "      <th>sentiment</th>\n",
              "    </tr>\n",
              "  </thead>\n",
              "  <tbody>\n",
              "    <tr>\n",
              "      <th>0</th>\n",
              "      <td>rt keuangannews_id menindak lanjuti enail goog...</td>\n",
              "      <td>Positive</td>\n",
              "    </tr>\n",
              "    <tr>\n",
              "      <th>1</th>\n",
              "      <td>rt pewpewpablet en estados unidos dos gemelas ...</td>\n",
              "      <td>Negative</td>\n",
              "    </tr>\n",
              "    <tr>\n",
              "      <th>2</th>\n",
              "      <td>rt twiceusofficial once🍭we have reached our do...</td>\n",
              "      <td>Positive</td>\n",
              "    </tr>\n",
              "    <tr>\n",
              "      <th>3</th>\n",
              "      <td>rt kpoppinph0920 💥please help rt❤line bt21 win...</td>\n",
              "      <td>Positive</td>\n",
              "    </tr>\n",
              "    <tr>\n",
              "      <th>4</th>\n",
              "      <td>rt freefireth free fire heroes x มูลนิธิกระจกเ...</td>\n",
              "      <td>Neutral</td>\n",
              "    </tr>\n",
              "    <tr>\n",
              "      <th>5</th>\n",
              "      <td>rt bpsms_ รีทวิต #แจก โฟโต้บุคเปล่า🔥[pre] #bla...</td>\n",
              "      <td>Neutral</td>\n",
              "    </tr>\n",
              "    <tr>\n",
              "      <th>6</th>\n",
              "      <td>rt twiceusofficial once🍭we have reached our do...</td>\n",
              "      <td>Positive</td>\n",
              "    </tr>\n",
              "    <tr>\n",
              "      <th>7</th>\n",
              "      <td>rt layzhangbr #sorteio | xingmis em parceria c...</td>\n",
              "      <td>Neutral</td>\n",
              "    </tr>\n",
              "    <tr>\n",
              "      <th>8</th>\n",
              "      <td>「38州のグループが、反競争的行為や契約に関与し、インターネット検索エンジン市場を独占したと...</td>\n",
              "      <td>Positive</td>\n",
              "    </tr>\n",
              "    <tr>\n",
              "      <th>9</th>\n",
              "      <td>rt _smromero hey folks just did a minor update...</td>\n",
              "      <td>Positive</td>\n",
              "    </tr>\n",
              "    <tr>\n",
              "      <th>10</th>\n",
              "      <td>rt vantegifs 🤏https//tco/heiz16otkr#태형 #뷔 #v #...</td>\n",
              "      <td>Neutral</td>\n",
              "    </tr>\n",
              "    <tr>\n",
              "      <th>11</th>\n",
              "      <td>rt tobaccovanillou how can anyone dislike loui...</td>\n",
              "      <td>Neutral</td>\n",
              "    </tr>\n",
              "    <tr>\n",
              "      <th>12</th>\n",
              "      <td>san jose dwebble 1000% (15/15/15) cp454 (l13) ...</td>\n",
              "      <td>Negative</td>\n",
              "    </tr>\n",
              "    <tr>\n",
              "      <th>13</th>\n",
              "      <td>rt blueberry0515 201114접속 무비월드올겨울 신작서복컷ts ⬇️📌 ...</td>\n",
              "      <td>Neutral</td>\n",
              "    </tr>\n",
              "    <tr>\n",
              "      <th>14</th>\n",
              "      <td>rt kimseokjingifs 💾 https//tco/dghnkmpfww#bts ...</td>\n",
              "      <td>Neutral</td>\n",
              "    </tr>\n",
              "  </tbody>\n",
              "</table>\n",
              "</div>"
            ],
            "text/plain": [
              "                                                 text sentiment\n",
              "0   rt keuangannews_id menindak lanjuti enail goog...  Positive\n",
              "1   rt pewpewpablet en estados unidos dos gemelas ...  Negative\n",
              "2   rt twiceusofficial once🍭we have reached our do...  Positive\n",
              "3   rt kpoppinph0920 💥please help rt❤line bt21 win...  Positive\n",
              "4   rt freefireth free fire heroes x มูลนิธิกระจกเ...   Neutral\n",
              "5   rt bpsms_ รีทวิต #แจก โฟโต้บุคเปล่า🔥[pre] #bla...   Neutral\n",
              "6   rt twiceusofficial once🍭we have reached our do...  Positive\n",
              "7   rt layzhangbr #sorteio | xingmis em parceria c...   Neutral\n",
              "8   「38州のグループが、反競争的行為や契約に関与し、インターネット検索エンジン市場を独占したと...  Positive\n",
              "9   rt _smromero hey folks just did a minor update...  Positive\n",
              "10  rt vantegifs 🤏https//tco/heiz16otkr#태형 #뷔 #v #...   Neutral\n",
              "11  rt tobaccovanillou how can anyone dislike loui...   Neutral\n",
              "12  san jose dwebble 1000% (15/15/15) cp454 (l13) ...  Negative\n",
              "13  rt blueberry0515 201114접속 무비월드올겨울 신작서복컷ts ⬇️📌 ...   Neutral\n",
              "14  rt kimseokjingifs 💾 https//tco/dghnkmpfww#bts ...   Neutral"
            ]
          },
          "metadata": {
            "tags": []
          },
          "execution_count": 53
        }
      ]
    },
    {
      "cell_type": "code",
      "metadata": {
        "colab": {
          "base_uri": "https://localhost:8080/"
        },
        "id": "u1CvBFpnLGeG",
        "outputId": "1d149d06-1e79-4459-87df-a3e92605c401"
      },
      "source": [
        "model.summary()"
      ],
      "execution_count": null,
      "outputs": [
        {
          "output_type": "stream",
          "text": [
            "Model: \"sequential_49\"\n",
            "_________________________________________________________________\n",
            "Layer (type)                 Output Shape              Param #   \n",
            "=================================================================\n",
            "embedding_49 (Embedding)     (None, None, 128)         1600000   \n",
            "_________________________________________________________________\n",
            "bidirectional_49 (Bidirectio (None, 256)               263168    \n",
            "_________________________________________________________________\n",
            "dense_147 (Dense)            (None, 64)                16448     \n",
            "_________________________________________________________________\n",
            "dense_148 (Dense)            (None, 32)                2080      \n",
            "_________________________________________________________________\n",
            "dense_149 (Dense)            (None, 3)                 99        \n",
            "=================================================================\n",
            "Total params: 1,881,795\n",
            "Trainable params: 1,881,795\n",
            "Non-trainable params: 0\n",
            "_________________________________________________________________\n"
          ],
          "name": "stdout"
        }
      ]
    },
    {
      "cell_type": "markdown",
      "metadata": {
        "id": "E-wvvvtnxYd7"
      },
      "source": [
        "EDA Questions...\r\n",
        "1. according to the model how do the sentiment percentage breakdowns for ipad and iphone compare?\r\n",
        "2. what are the top 5 most common words for tweets of negative, positive, and neutral sentiment?\r\n",
        "3. how long is the average tweet of each sentiment?\r\n",
        "4. what are the most used hashtags throughout the dataset?"
      ]
    },
    {
      "cell_type": "code",
      "metadata": {
        "colab": {
          "base_uri": "https://localhost:8080/",
          "height": 318
        },
        "id": "e3k-OKswy8dN",
        "outputId": "a61a2326-4b04-4978-98cb-a7fc5ae70fbf"
      },
      "source": [
        "import seaborn as sns\r\n",
        "\r\n",
        "X = GetTweets('ipad')\r\n",
        "y = ['Positive', 'Neutral', 'Negative']\r\n",
        "pos = len(X.loc[X['sentiment'] == 'Positive'])\r\n",
        "neu = len(X.loc[X['sentiment'] == 'Neutral'])\r\n",
        "neg = len(X.loc[X['sentiment'] == 'Negative'])\r\n",
        "\r\n",
        "sns.barplot(y, [pos, neu, neg]);\r\n",
        "plt.show()"
      ],
      "execution_count": null,
      "outputs": [
        {
          "output_type": "stream",
          "text": [
            "/usr/local/lib/python3.6/dist-packages/seaborn/_decorators.py:43: FutureWarning: Pass the following variables as keyword args: x, y. From version 0.12, the only valid positional argument will be `data`, and passing other arguments without an explicit keyword will result in an error or misinterpretation.\n",
            "  FutureWarning\n"
          ],
          "name": "stderr"
        },
        {
          "output_type": "display_data",
          "data": {
            "image/png": "[encoded data removed]",
            "text/plain": [
              "<Figure size 432x288 with 1 Axes>"
            ]
          },
          "metadata": {
            "tags": [],
            "needs_background": "light"
          }
        }
      ]
    },
    {
      "cell_type": "code",
      "metadata": {
        "colab": {
          "base_uri": "https://localhost:8080/",
          "height": 318
        },
        "id": "qDpzbqUr3csf",
        "outputId": "6ceef4f6-f510-49a8-f2dd-0c3b221dcb11"
      },
      "source": [
        "X = GetTweets('iphone')\r\n",
        "y = ['Positive', 'Neutral', 'Negative']\r\n",
        "pos = len(X.loc[X['sentiment'] == 'Positive'])\r\n",
        "neu = len(X.loc[X['sentiment'] == 'Neutral'])\r\n",
        "neg = len(X.loc[X['sentiment'] == 'Negative'])\r\n",
        "\r\n",
        "sns.barplot(y, [pos, neu, neg]);\r\n",
        "plt.show()"
      ],
      "execution_count": null,
      "outputs": [
        {
          "output_type": "stream",
          "text": [
            "/usr/local/lib/python3.6/dist-packages/seaborn/_decorators.py:43: FutureWarning: Pass the following variables as keyword args: x, y. From version 0.12, the only valid positional argument will be `data`, and passing other arguments without an explicit keyword will result in an error or misinterpretation.\n",
            "  FutureWarning\n"
          ],
          "name": "stderr"
        },
        {
          "output_type": "display_data",
          "data": {
            "image/png": "[encoded data removed]",
            "text/plain": [
              "<Figure size 432x288 with 1 Axes>"
            ]
          },
          "metadata": {
            "tags": [],
            "needs_background": "light"
          }
        }
      ]
    },
    {
      "cell_type": "markdown",
      "metadata": {
        "id": "V89j8mFX30FW"
      },
      "source": [
        "Question 1: The iphone tweets were all labled as neutral or positive whereas some ipad tweets were labled as negative."
      ]
    },
    {
      "cell_type": "code",
      "metadata": {
        "id": "w_D1Pdeq3va3"
      },
      "source": [
        "def Top5(df, X, yvar, y, stopwords_list=stopwords_list):\r\n",
        "  stopwords_list = stopwords_list + ['mention', 'link', 'it', '-', ':)', '', 'it']\r\n",
        "  data = df.loc[df[yvar] == y]\r\n",
        "  ix = list(data.index)\r\n",
        "  corpus = []\r\n",
        "  for num in ix:\r\n",
        "    tweet = list(data[X][num].split(' '))\r\n",
        "    corpus += tweet\r\n",
        "  final = []\r\n",
        "  for word in corpus:\r\n",
        "    if not word in stopwords_list:\r\n",
        "      Word = word.lower().replace('@', '').replace('{', '').replace('}', '').replace('.', '').replace('!', '').replace(\"'\", \"\")\r\n",
        "      if Word not in stopwords_list:\r\n",
        "        final.append(Word)\r\n",
        "  res = pd.Series(final)\r\n",
        "  counts = pd.DataFrame(res.value_counts()[:5])\r\n",
        "  counts.columns = ['num']\r\n",
        "  count = []\r\n",
        "  words = list(counts.index)\r\n",
        "  for i in range(5):\r\n",
        "    count.append(counts['num'][i])\r\n",
        "  return sns.barplot(words, count, palette='plasma');"
      ],
      "execution_count": null,
      "outputs": []
    },
    {
      "cell_type": "code",
      "metadata": {
        "colab": {
          "base_uri": "https://localhost:8080/",
          "height": 335
        },
        "id": "mIhtq06h4rhu",
        "outputId": "8c70cfb1-49bb-4b27-c4c5-5bc143f6980f"
      },
      "source": [
        "Top5(df, 'tweet_text', 'is_there_an_emotion_directed_at_a_brand_or_product', 'Positive emotion')"
      ],
      "execution_count": null,
      "outputs": [
        {
          "output_type": "stream",
          "text": [
            "/usr/local/lib/python3.6/dist-packages/seaborn/_decorators.py:43: FutureWarning: Pass the following variables as keyword args: x, y. From version 0.12, the only valid positional argument will be `data`, and passing other arguments without an explicit keyword will result in an error or misinterpretation.\n",
            "  FutureWarning\n"
          ],
          "name": "stderr"
        },
        {
          "output_type": "execute_result",
          "data": {
            "text/plain": [
              "<matplotlib.axes._subplots.AxesSubplot at 0x7f58d0fe2d30>"
            ]
          },
          "metadata": {
            "tags": []
          },
          "execution_count": 58
        },
        {
          "output_type": "display_data",
          "data": {
            "image/png": "[encoded data removed]",
            "text/plain": [
              "<Figure size 432x288 with 1 Axes>"
            ]
          },
          "metadata": {
            "tags": [],
            "needs_background": "light"
          }
        }
      ]
    },
    {
      "cell_type": "code",
      "metadata": {
        "colab": {
          "base_uri": "https://localhost:8080/",
          "height": 335
        },
        "id": "w18viyvN9_Uu",
        "outputId": "ea5f5f18-a89e-4eb6-da71-85ef0fcbab71"
      },
      "source": [
        "Top5(df, 'tweet_text', 'is_there_an_emotion_directed_at_a_brand_or_product', 'Negative emotion')"
      ],
      "execution_count": null,
      "outputs": [
        {
          "output_type": "stream",
          "text": [
            "/usr/local/lib/python3.6/dist-packages/seaborn/_decorators.py:43: FutureWarning: Pass the following variables as keyword args: x, y. From version 0.12, the only valid positional argument will be `data`, and passing other arguments without an explicit keyword will result in an error or misinterpretation.\n",
            "  FutureWarning\n"
          ],
          "name": "stderr"
        },
        {
          "output_type": "execute_result",
          "data": {
            "text/plain": [
              "<matplotlib.axes._subplots.AxesSubplot at 0x7f58d253b6d8>"
            ]
          },
          "metadata": {
            "tags": []
          },
          "execution_count": 59
        },
        {
          "output_type": "display_data",
          "data": {
            "image/png": "[encoded data removed]",
            "text/plain": [
              "<Figure size 432x288 with 1 Axes>"
            ]
          },
          "metadata": {
            "tags": [],
            "needs_background": "light"
          }
        }
      ]
    },
    {
      "cell_type": "code",
      "metadata": {
        "colab": {
          "base_uri": "https://localhost:8080/",
          "height": 335
        },
        "id": "WGXJ0Ud59_kk",
        "outputId": "de471e6c-f6ba-4fc6-f4bc-6446f642ba6f"
      },
      "source": [
        "Top5(df, 'tweet_text', 'is_there_an_emotion_directed_at_a_brand_or_product', 'No emotion toward brand or product')"
      ],
      "execution_count": null,
      "outputs": [
        {
          "output_type": "stream",
          "text": [
            "/usr/local/lib/python3.6/dist-packages/seaborn/_decorators.py:43: FutureWarning: Pass the following variables as keyword args: x, y. From version 0.12, the only valid positional argument will be `data`, and passing other arguments without an explicit keyword will result in an error or misinterpretation.\n",
            "  FutureWarning\n"
          ],
          "name": "stderr"
        },
        {
          "output_type": "execute_result",
          "data": {
            "text/plain": [
              "<matplotlib.axes._subplots.AxesSubplot at 0x7f58ccf18e10>"
            ]
          },
          "metadata": {
            "tags": []
          },
          "execution_count": 60
        },
        {
          "output_type": "display_data",
          "data": {
            "image/png": "[encoded data removed]",
            "text/plain": [
              "<Figure size 432x288 with 1 Axes>"
            ]
          },
          "metadata": {
            "tags": [],
            "needs_background": "light"
          }
        }
      ]
    },
    {
      "cell_type": "markdown",
      "metadata": {
        "id": "B2xj67v-3ttO"
      },
      "source": [
        "Question 2: #sxsw was a very popular term throughout the dataset, among them google, apple, and ipad were very popular words."
      ]
    },
    {
      "cell_type": "code",
      "metadata": {
        "id": "UwP-dLNCHeS6"
      },
      "source": [
        "def GetLengths(df, X, yvar, y):\r\n",
        "  data = df.loc[df[yvar] == y]\r\n",
        "  lens = []\r\n",
        "  ix = list(data.index)\r\n",
        "  for num in ix:\r\n",
        "    tweet = list(data[X][num].split(' '))\r\n",
        "    lens.append(len(tweet))\r\n",
        "  return int(np.mean(lens))"
      ],
      "execution_count": null,
      "outputs": []
    },
    {
      "cell_type": "code",
      "metadata": {
        "colab": {
          "base_uri": "https://localhost:8080/",
          "height": 318
        },
        "id": "uWN46hyeHnXf",
        "outputId": "491356e2-7068-4546-8840-6afaecf744a6"
      },
      "source": [
        "pos = GetLengths(df, 'tweet_text', 'is_there_an_emotion_directed_at_a_brand_or_product', 'Positive emotion')\r\n",
        "neg = GetLengths(df, 'tweet_text', 'is_there_an_emotion_directed_at_a_brand_or_product', 'Negative emotion')\r\n",
        "neu = GetLengths(df, 'tweet_text', 'is_there_an_emotion_directed_at_a_brand_or_product', 'No emotion toward brand or product')\r\n",
        "x = ['Positive', 'Negative', 'Neutral']\r\n",
        "y = [pos, neg, neu]\r\n",
        "sns.barplot(x, y);"
      ],
      "execution_count": null,
      "outputs": [
        {
          "output_type": "stream",
          "text": [
            "/usr/local/lib/python3.6/dist-packages/seaborn/_decorators.py:43: FutureWarning: Pass the following variables as keyword args: x, y. From version 0.12, the only valid positional argument will be `data`, and passing other arguments without an explicit keyword will result in an error or misinterpretation.\n",
            "  FutureWarning\n"
          ],
          "name": "stderr"
        },
        {
          "output_type": "display_data",
          "data": {
            "image/png": "[encoded data removed]",
            "text/plain": [
              "<Figure size 432x288 with 1 Axes>"
            ]
          },
          "metadata": {
            "tags": [],
            "needs_background": "light"
          }
        }
      ]
    },
    {
      "cell_type": "markdown",
      "metadata": {
        "id": "RPwXMCCuN4km"
      },
      "source": [
        "Question3: The Tweets remain about 18-20 characters long regardless of sentiment."
      ]
    },
    {
      "cell_type": "code",
      "metadata": {
        "id": "w0O7RQgwOb1k"
      },
      "source": [
        "def Hashtags(df, X):\r\n",
        "  tweets = []\r\n",
        "  ix = list(df.index)\r\n",
        "  for num in ix: \r\n",
        "    text = df[X][num].split(' ')\r\n",
        "    tweets += text\r\n",
        "  hashtags = []\r\n",
        "  words = []\r\n",
        "  for word in tweets:\r\n",
        "    words.append(word.lower().replace('?', '').replace('.', '').replace(',', '').replace(':', '').replace('!', ''))\r\n",
        "  for word in words:\r\n",
        "    if word.startswith('#'):\r\n",
        "      hashtags.append(word)\r\n",
        "  ht = pd.Series(hashtags)\r\n",
        "  counts = pd.DataFrame(ht.value_counts())\r\n",
        "  counts.columns = ['num']\r\n",
        "  return counts"
      ],
      "execution_count": null,
      "outputs": []
    },
    {
      "cell_type": "code",
      "metadata": {
        "colab": {
          "base_uri": "https://localhost:8080/",
          "height": 357
        },
        "id": "fJENvFqOO5y9",
        "outputId": "b5524f18-99f8-46f7-c333-7f9bf1e8b666"
      },
      "source": [
        "import matplotlib.pyplot as plt\r\n",
        "\r\n",
        "X = Hashtags(df, 'tweet_text')[:10]\r\n",
        "x = list(X.index)\r\n",
        "y = list(X['num'])\r\n",
        "sns.barplot(x, y, palette='rocket');\r\n",
        "plt.xticks(rotation=75)\r\n",
        "plt.show()"
      ],
      "execution_count": null,
      "outputs": [
        {
          "output_type": "stream",
          "text": [
            "/usr/local/lib/python3.6/dist-packages/seaborn/_decorators.py:43: FutureWarning: Pass the following variables as keyword args: x, y. From version 0.12, the only valid positional argument will be `data`, and passing other arguments without an explicit keyword will result in an error or misinterpretation.\n",
            "  FutureWarning\n"
          ],
          "name": "stderr"
        },
        {
          "output_type": "display_data",
          "data": {
            "image/png": "[encoded data removed]",
            "text/plain": [
              "<Figure size 432x288 with 1 Axes>"
            ]
          },
          "metadata": {
            "tags": [],
            "needs_background": "light"
          }
        }
      ]
    },
    {
      "cell_type": "markdown",
      "metadata": {
        "id": "EhlwT-ivNsHm"
      },
      "source": [
        "'#sxsw' and it's variants; '#sxsw!', '#sxsw?', '#sxsw.', and '#sxsw:', was by far the most popular hashtag and it was used over 8,000 times throughout the dataset. most of the other hashtags refered to tech companies and tech products. '#austin' was also popular as the sxsw film festival is hosted in Austin, TX."
      ]
    },
    {
      "cell_type": "code",
      "metadata": {
        "colab": {
          "base_uri": "https://localhost:8080/",
          "height": 462
        },
        "id": "XA1S7fDHPDKG",
        "outputId": "7b36aeef-c2c7-4241-a8b2-601cb5fe27d4"
      },
      "source": [
        "GetTweets('Covid')"
      ],
      "execution_count": null,
      "outputs": [
        {
          "output_type": "execute_result",
          "data": {
            "text/html": [
              "<div>\n",
              "<style scoped>\n",
              "    .dataframe tbody tr th:only-of-type {\n",
              "        vertical-align: middle;\n",
              "    }\n",
              "\n",
              "    .dataframe tbody tr th {\n",
              "        vertical-align: top;\n",
              "    }\n",
              "\n",
              "    .dataframe thead th {\n",
              "        text-align: right;\n",
              "    }\n",
              "</style>\n",
              "<table border=\"1\" class=\"dataframe\">\n",
              "  <thead>\n",
              "    <tr style=\"text-align: right;\">\n",
              "      <th></th>\n",
              "      <th>text</th>\n",
              "      <th>sentiment</th>\n",
              "    </tr>\n",
              "  </thead>\n",
              "  <tbody>\n",
              "    <tr>\n",
              "      <th>0</th>\n",
              "      <td>rt cctssab stephenking what about this for a s...</td>\n",
              "      <td>Neutral</td>\n",
              "    </tr>\n",
              "    <tr>\n",
              "      <th>1</th>\n",
              "      <td>rt brazilfight urgente-stf tem maioria contra ...</td>\n",
              "      <td>Neutral</td>\n",
              "    </tr>\n",
              "    <tr>\n",
              "      <th>2</th>\n",
              "      <td>rt danielriolo le nombre de gens à la télé qui...</td>\n",
              "      <td>Negative</td>\n",
              "    </tr>\n",
              "    <tr>\n",
              "      <th>3</th>\n",
              "      <td>rt honeybadger10 you get to snitch on covid pa...</td>\n",
              "      <td>Positive</td>\n",
              "    </tr>\n",
              "    <tr>\n",
              "      <th>4</th>\n",
              "      <td>if you missed kontrolenergy biocloud launch ch...</td>\n",
              "      <td>Neutral</td>\n",
              "    </tr>\n",
              "    <tr>\n",
              "      <th>5</th>\n",
              "      <td>rt drdavidsamadi i’m a doctor not a politician...</td>\n",
              "      <td>Positive</td>\n",
              "    </tr>\n",
              "    <tr>\n",
              "      <th>6</th>\n",
              "      <td>colorado counties can apply to set up a new \"5...</td>\n",
              "      <td>Neutral</td>\n",
              "    </tr>\n",
              "    <tr>\n",
              "      <th>7</th>\n",
              "      <td>seruisatw pues covid-20</td>\n",
              "      <td>Positive</td>\n",
              "    </tr>\n",
              "    <tr>\n",
              "      <th>8</th>\n",
              "      <td>rt robdenbleyker you've heard of elf on a shel...</td>\n",
              "      <td>Negative</td>\n",
              "    </tr>\n",
              "    <tr>\n",
              "      <th>9</th>\n",
              "      <td>rt bobscartoons to be clear the 'risk' of you ...</td>\n",
              "      <td>Neutral</td>\n",
              "    </tr>\n",
              "    <tr>\n",
              "      <th>10</th>\n",
              "      <td>eu nunca vou conseguir entender qm n qr tomar ...</td>\n",
              "      <td>Positive</td>\n",
              "    </tr>\n",
              "    <tr>\n",
              "      <th>11</th>\n",
              "      <td>e a clairelhoooooon que passou covid p todo mu...</td>\n",
              "      <td>Neutral</td>\n",
              "    </tr>\n",
              "    <tr>\n",
              "      <th>12</th>\n",
              "      <td>rt presidencialve 😷💦🧼 ¡el covid-19 no se ha id...</td>\n",
              "      <td>Positive</td>\n",
              "    </tr>\n",
              "    <tr>\n",
              "      <th>13</th>\n",
              "      <td>total covid-19 tests performed in malaysia 300...</td>\n",
              "      <td>Neutral</td>\n",
              "    </tr>\n",
              "  </tbody>\n",
              "</table>\n",
              "</div>"
            ],
            "text/plain": [
              "                                                 text sentiment\n",
              "0   rt cctssab stephenking what about this for a s...   Neutral\n",
              "1   rt brazilfight urgente-stf tem maioria contra ...   Neutral\n",
              "2   rt danielriolo le nombre de gens à la télé qui...  Negative\n",
              "3   rt honeybadger10 you get to snitch on covid pa...  Positive\n",
              "4   if you missed kontrolenergy biocloud launch ch...   Neutral\n",
              "5   rt drdavidsamadi i’m a doctor not a politician...  Positive\n",
              "6   colorado counties can apply to set up a new \"5...   Neutral\n",
              "7                             seruisatw pues covid-20  Positive\n",
              "8   rt robdenbleyker you've heard of elf on a shel...  Negative\n",
              "9   rt bobscartoons to be clear the 'risk' of you ...   Neutral\n",
              "10  eu nunca vou conseguir entender qm n qr tomar ...  Positive\n",
              "11  e a clairelhoooooon que passou covid p todo mu...   Neutral\n",
              "12  rt presidencialve 😷💦🧼 ¡el covid-19 no se ha id...  Positive\n",
              "13  total covid-19 tests performed in malaysia 300...   Neutral"
            ]
          },
          "metadata": {
            "tags": []
          },
          "execution_count": 65
        }
      ]
    },
    {
      "cell_type": "markdown",
      "metadata": {
        "id": "67jJLpaypc0Y"
      },
      "source": [
        "# Key Takeaways"
      ]
    },
    {
      "cell_type": "markdown",
      "metadata": {
        "id": "QMNKqKeVKVe3"
      },
      "source": [
        "* A Bidirectional LSTM was the highest preforming model\r\n",
        "* The SXSW film festival in Austin, Texas is very poplular\r\n",
        "* the majority of tweets are of neutral sentiment"
      ]
    },
    {
      "cell_type": "markdown",
      "metadata": {
        "id": "xu1KXMpRe4aN"
      },
      "source": [
        "## Model Training Reccomendations"
      ]
    },
    {
      "cell_type": "markdown",
      "metadata": {
        "id": "OLFFR3ElfBvx"
      },
      "source": [
        "1. using a grid search to test out various hyperparameter combinations.\r\n",
        "2. experiment with the number of nodes in each layer \r\n",
        "3. for activation test between relu and tanh \r\n",
        "4. for optimization test between adam and rmsprop"
      ]
    }
  ]
}